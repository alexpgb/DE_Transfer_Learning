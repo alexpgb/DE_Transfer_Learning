{
 "cells": [
  {
   "cell_type": "code",
   "execution_count": null,
   "metadata": {},
   "outputs": [],
   "source": [
    "# Используя разработанный на семинаре код нами код, проиллюстрируйте разброс классов, присутствующих в ImageNet."
   ]
  },
  {
   "cell_type": "code",
   "execution_count": 29,
   "metadata": {},
   "outputs": [],
   "source": [
    "import os\n",
    "import sys\n",
    "import json\n",
    "import torch\n",
    "import pandas as pd"
   ]
  },
  {
   "cell_type": "code",
   "execution_count": 2,
   "metadata": {},
   "outputs": [],
   "source": [
    "from deeppavlov.core.common.file import read_json\n",
    "from deeppavlov import build_model, configs"
   ]
  },
  {
   "cell_type": "code",
   "execution_count": 9,
   "metadata": {},
   "outputs": [],
   "source": [
    "# В штатной поставке модели cased_L-12_H-768_A-12 скачанной отсюда http://files.deeppavlov.ai/deeppavlov_data/bert/cased_L-12_H-768_A-12.zip.\n",
    "# нет файла pytorch_model.bin \n",
    "# без файла pytorch_model.bin возникает исключение в строке\n",
    "# model = build_model( bert_config )\n",
    "# Его нужно сформировать командой \n",
    "# transformers-cli convert --model_type bert \\\n",
    "#   --tf_checkpoint $BERT_BASE_DIR/model.ckpt \\\n",
    "#   --config $BERT_BASE_DIR/config.json \\\n",
    "#   --pytorch_dump_output $BERT_BASE_DIR/pytorch_model.bin\n",
    "# как указано здесь: https://stackoverflow.com/questions/62961627/oserror-error-no-file-named-pytorch-model-bin-tf-model-h5-model-ckpt-in\n",
    "\n",
    "bert_config = read_json( configs.embedder.bert_embedder )\n",
    "bert_config['metadata']['variables']['BERT_PATH'] = './cased_L-12_H-768_A-12'\n",
    "model = build_model( bert_config )"
   ]
  },
  {
   "cell_type": "code",
   "execution_count": 10,
   "metadata": {},
   "outputs": [
    {
     "name": "stdout",
     "output_type": "stream",
     "text": [
      "tokens: [['Publish', 'news', 'about', 'the', 'product', '.']]\n",
      "token_embs: (6, 768)\n",
      "subtokens: [['[CLS]', 'Pub', '##lish', 'news', 'about', 'the', 'product', '.', '[SEP]']]\n",
      "subtoken_embs: (9, 768)\n",
      "sent_max_embs: (1, 768)\n",
      "sent_mean_embs: (1, 768)\n",
      "bert_pooler_outputs: (1, 768)\n"
     ]
    }
   ],
   "source": [
    "tokens, token_embs, subtokens, \\\n",
    "    subtoken_embs, sent_max_embs, \\\n",
    "    sent_mean_embs, bert_pooler_outputs = model(['Publish news about the product.'])\n",
    "\n",
    "print('tokens:', tokens)\n",
    "print('token_embs:', token_embs[0].shape)\n",
    "print('subtokens:', subtokens)\n",
    "print('subtoken_embs:', subtoken_embs[0].shape)\n",
    "print('sent_max_embs:', sent_max_embs.shape)\n",
    "print('sent_mean_embs:', sent_mean_embs.shape)\n",
    "print('bert_pooler_outputs:', bert_pooler_outputs.shape)"
   ]
  },
  {
   "cell_type": "code",
   "execution_count": 26,
   "metadata": {},
   "outputs": [
    {
     "data": {
      "text/plain": [
       "'tench, Tinca tinca'"
      ]
     },
     "execution_count": 26,
     "metadata": {},
     "output_type": "execute_result"
    }
   ],
   "source": [
    "imagenet_labels_file = './imagenet_labels.json'\n",
    "if not (\"IMAGENET_LABELS\" in locals() and len(IMAGENET_LABELS) == 1000):\n",
    "    with open(imagenet_labels_file, 'r') as f:\n",
    "        IMAGENET_LABELS = json.load(f)\n",
    "IMAGENET_LABELS_list = list(IMAGENET_LABELS.values())\n",
    "IMAGENET_LABELS_list[0]"
   ]
  },
  {
   "cell_type": "code",
   "execution_count": 13,
   "metadata": {},
   "outputs": [],
   "source": [
    "import torch\n",
    "from scipy import spatial\n",
    "import numpy as np\n",
    "import matplotlib.pyplot as plt\n",
    "from matplotlib import cm\n",
    "\n",
    "def get_sentence_embedding( sentence ):\n",
    "    bert_answer = model([sentence])\n",
    "    embedding = bert_answer[4]\n",
    "    return embedding\n"
   ]
  },
  {
   "cell_type": "code",
   "execution_count": 21,
   "metadata": {},
   "outputs": [
    {
     "data": {
      "image/png": "[encoded data removed]",
      "text/plain": [
       "<Figure size 640x480 with 1 Axes>"
      ]
     },
     "metadata": {},
     "output_type": "display_data"
    }
   ],
   "source": [
    "# отобразим ембеддинг для первого элемента словаря IMAGENET_LABELS\n",
    "sentence = IMAGENET_LABELS_list[0]\n",
    "plt.imshow(get_sentence_embedding(sentence).reshape(12,-1), \\\n",
    "           cm.PiYG, clim=(-2, 2) ); plt.xticks(color='w'); plt.yticks(color='w');"
   ]
  },
  {
   "cell_type": "code",
   "execution_count": 27,
   "metadata": {},
   "outputs": [
    {
     "data": {
      "image/png": "[encoded data removed]",
      "text/plain": [
       "<Figure size 640x480 with 1 Axes>"
      ]
     },
     "metadata": {},
     "output_type": "display_data"
    }
   ],
   "source": [
    "sentence = IMAGENET_LABELS_list[1]\n",
    "plt.imshow(get_sentence_embedding(sentence).reshape(12,-1), \\\n",
    "           cm.PiYG, clim=(-2, 2) ); plt.xticks(color='w'); plt.yticks(color='w');"
   ]
  },
  {
   "cell_type": "code",
   "execution_count": 30,
   "metadata": {},
   "outputs": [],
   "source": [
    "# Создайте матрицу эмбеддингов, где будут значения для каждого названия класса.\n",
    "# Поместите в переменную `embeddings_imagenet`\n",
    "embeddings_imagenet = np.concatenate([ np.array(get_sentence_embedding(s)) for s in IMAGENET_LABELS_list], axis=0 )"
   ]
  },
  {
   "cell_type": "code",
   "execution_count": 34,
   "metadata": {},
   "outputs": [],
   "source": [
    "from sklearn.decomposition import PCA\n",
    "pca = PCA( n_components=15, random_state=42 )\n",
    "emb_15d = pca.fit_transform( embeddings_imagenet )"
   ]
  },
  {
   "cell_type": "code",
   "execution_count": 35,
   "metadata": {},
   "outputs": [],
   "source": [
    "from sklearn.cluster import AgglomerativeClustering\n",
    "clustering = AgglomerativeClustering( n_clusters=len(IMAGENET_LABELS_list), distance_threshold=None,\n",
    "                                      affinity='cosine', linkage='average').fit(emb_15d)"
   ]
  },
  {
   "cell_type": "code",
   "execution_count": 36,
   "metadata": {},
   "outputs": [],
   "source": [
    "# Создайте еще одно разбиение `emb_2d` (полностью по аналогии с прошлыми действиями), но теперь для матрицы `embeddings_imagenet`.\n",
    "pca = PCA( n_components=2, random_state=42 )\n",
    "emb_2d = pd.DataFrame( pca.fit_transform(embeddings_imagenet), columns=['x1', 'x2'])\n",
    "emb_2d['color'] = list(map(int, IMAGENET_LABELS.keys()))\n",
    "emb_2d['label'] = IMAGENET_LABELS_list"
   ]
  },
  {
   "cell_type": "code",
   "execution_count": 37,
   "metadata": {},
   "outputs": [
    {
     "data": {
      "application/vnd.plotly.v1+json": {
       "config": {
        "plotlyServerURL": "https://plot.ly"
       },
       "data": [
        {
         "hovertemplate": "<b>%{hovertext}</b><br><br>x1=%{x}<br>x2=%{y}<br>color=%{marker.color}<extra></extra>",
         "hovertext": [
          "tench, Tinca tinca",
          "goldfish, Carassius auratus",
          "great white shark, white shark, man-eater, man-eating shark, Carcharodon carcharias",
          "tiger shark, Galeocerdo cuvieri",
          "hammerhead, hammerhead shark",
          "electric ray, crampfish, numbfish, torpedo",
          "stingray",
          "cock",
          "hen",
          "ostrich, Struthio camelus",
          "brambling, Fringilla montifringilla",
          "goldfinch, Carduelis carduelis",
          "house finch, linnet, Carpodacus mexicanus",
          "junco, snowbird",
          "indigo bunting, indigo finch, indigo bird, Passerina cyanea",
          "robin, American robin, Turdus migratorius",
          "bulbul",
          "jay",
          "magpie",
          "chickadee",
          "water ouzel, dipper",
          "kite",
          "bald eagle, American eagle, Haliaeetus leucocephalus",
          "vulture",
          "great grey owl, great gray owl, Strix nebulosa",
          "European fire salamander, Salamandra salamandra",
          "common newt, Triturus vulgaris",
          "eft",
          "spotted salamander, Ambystoma maculatum",
          "axolotl, mud puppy, Ambystoma mexicanum",
          "bullfrog, Rana catesbeiana",
          "tree frog, tree-frog",
          "tailed frog, bell toad, ribbed toad, tailed toad, Ascaphus trui",
          "loggerhead, loggerhead turtle, Caretta caretta",
          "leatherback turtle, leatherback, leathery turtle, Dermochelys coriacea",
          "mud turtle",
          "terrapin",
          "box turtle, box tortoise",
          "banded gecko",
          "common iguana, iguana, Iguana iguana",
          "American chameleon, anole, Anolis carolinensis",
          "whiptail, whiptail lizard",
          "agama",
          "frilled lizard, Chlamydosaurus kingi",
          "alligator lizard",
          "Gila monster, Heloderma suspectum",
          "green lizard, Lacerta viridis",
          "African chameleon, Chamaeleo chamaeleon",
          "Komodo dragon, Komodo lizard, dragon lizard, giant lizard, Varanus komodoensis",
          "African crocodile, Nile crocodile, Crocodylus niloticus",
          "American alligator, Alligator mississipiensis",
          "triceratops",
          "thunder snake, worm snake, Carphophis amoenus",
          "ringneck snake, ring-necked snake, ring snake",
          "hognose snake, puff adder, sand viper",
          "green snake, grass snake",
          "king snake, kingsnake",
          "garter snake, grass snake",
          "water snake",
          "vine snake",
          "night snake, Hypsiglena torquata",
          "boa constrictor, Constrictor constrictor",
          "rock python, rock snake, Python sebae",
          "Indian cobra, Naja naja",
          "green mamba",
          "sea snake",
          "horned viper, cerastes, sand viper, horned asp, Cerastes cornutus",
          "diamondback, diamondback rattlesnake, Crotalus adamanteus",
          "sidewinder, horned rattlesnake, Crotalus cerastes",
          "trilobite",
          "harvestman, daddy longlegs, Phalangium opilio",
          "scorpion",
          "black and gold garden spider, Argiope aurantia",
          "barn spider, Araneus cavaticus",
          "garden spider, Aranea diademata",
          "black widow, Latrodectus mactans",
          "tarantula",
          "wolf spider, hunting spider",
          "tick",
          "centipede",
          "black grouse",
          "ptarmigan",
          "ruffed grouse, partridge, Bonasa umbellus",
          "prairie chicken, prairie grouse, prairie fowl",
          "peacock",
          "quail",
          "partridge",
          "African grey, African gray, Psittacus erithacus",
          "macaw",
          "sulphur-crested cockatoo, Kakatoe galerita, Cacatua galerita",
          "lorikeet",
          "coucal",
          "bee eater",
          "hornbill",
          "hummingbird",
          "jacamar",
          "toucan",
          "drake",
          "red-breasted merganser, Mergus serrator",
          "goose",
          "black swan, Cygnus atratus",
          "tusker",
          "echidna, spiny anteater, anteater",
          "platypus, duckbill, duckbilled platypus, duck-billed platypus, Ornithorhynchus anatinus",
          "wallaby, brush kangaroo",
          "koala, koala bear, kangaroo bear, native bear, Phascolarctos cinereus",
          "wombat",
          "jellyfish",
          "sea anemone, anemone",
          "brain coral",
          "flatworm, platyhelminth",
          "nematode, nematode worm, roundworm",
          "conch",
          "snail",
          "slug",
          "sea slug, nudibranch",
          "chiton, coat-of-mail shell, sea cradle, polyplacophore",
          "chambered nautilus, pearly nautilus, nautilus",
          "Dungeness crab, Cancer magister",
          "rock crab, Cancer irroratus",
          "fiddler crab",
          "king crab, Alaska crab, Alaskan king crab, Alaska king crab, Paralithodes camtschatica",
          "American lobster, Northern lobster, Maine lobster, Homarus americanus",
          "spiny lobster, langouste, rock lobster, crawfish, crayfish, sea crawfish",
          "crayfish, crawfish, crawdad, crawdaddy",
          "hermit crab",
          "isopod",
          "white stork, Ciconia ciconia",
          "black stork, Ciconia nigra",
          "spoonbill",
          "flamingo",
          "little blue heron, Egretta caerulea",
          "American egret, great white heron, Egretta albus",
          "bittern",
          "crane",
          "limpkin, Aramus pictus",
          "European gallinule, Porphyrio porphyrio",
          "American coot, marsh hen, mud hen, water hen, Fulica americana",
          "bustard",
          "ruddy turnstone, Arenaria interpres",
          "red-backed sandpiper, dunlin, Erolia alpina",
          "redshank, Tringa totanus",
          "dowitcher",
          "oystercatcher, oyster catcher",
          "pelican",
          "king penguin, Aptenodytes patagonica",
          "albatross, mollymawk",
          "grey whale, gray whale, devilfish, Eschrichtius gibbosus, Eschrichtius robustus",
          "killer whale, killer, orca, grampus, sea wolf, Orcinus orca",
          "dugong, Dugong dugon",
          "sea lion",
          "Chihuahua",
          "Japanese spaniel",
          "Maltese dog, Maltese terrier, Maltese",
          "Pekinese, Pekingese, Peke",
          "Shih-Tzu",
          "Blenheim spaniel",
          "papillon",
          "toy terrier",
          "Rhodesian ridgeback",
          "Afghan hound, Afghan",
          "basset, basset hound",
          "beagle",
          "bloodhound, sleuthhound",
          "bluetick",
          "black-and-tan coonhound",
          "Walker hound, Walker foxhound",
          "English foxhound",
          "redbone",
          "borzoi, Russian wolfhound",
          "Irish wolfhound",
          "Italian greyhound",
          "whippet",
          "Ibizan hound, Ibizan Podenco",
          "Norwegian elkhound, elkhound",
          "otterhound, otter hound",
          "Saluki, gazelle hound",
          "Scottish deerhound, deerhound",
          "Weimaraner",
          "Staffordshire bullterrier, Staffordshire bull terrier",
          "American Staffordshire terrier, Staffordshire terrier, American pit bull terrier, pit bull terrier",
          "Bedlington terrier",
          "Border terrier",
          "Kerry blue terrier",
          "Irish terrier",
          "Norfolk terrier",
          "Norwich terrier",
          "Yorkshire terrier",
          "wire-haired fox terrier",
          "Lakeland terrier",
          "Sealyham terrier, Sealyham",
          "Airedale, Airedale terrier",
          "cairn, cairn terrier",
          "Australian terrier",
          "Dandie Dinmont, Dandie Dinmont terrier",
          "Boston bull, Boston terrier",
          "miniature schnauzer",
          "giant schnauzer",
          "standard schnauzer",
          "Scotch terrier, Scottish terrier, Scottie",
          "Tibetan terrier, chrysanthemum dog",
          "silky terrier, Sydney silky",
          "soft-coated wheaten terrier",
          "West Highland white terrier",
          "Lhasa, Lhasa apso",
          "flat-coated retriever",
          "curly-coated retriever",
          "golden retriever",
          "Labrador retriever",
          "Chesapeake Bay retriever",
          "German short-haired pointer",
          "vizsla, Hungarian pointer",
          "English setter",
          "Irish setter, red setter",
          "Gordon setter",
          "Brittany spaniel",
          "clumber, clumber spaniel",
          "English springer, English springer spaniel",
          "Welsh springer spaniel",
          "cocker spaniel, English cocker spaniel, cocker",
          "Sussex spaniel",
          "Irish water spaniel",
          "kuvasz",
          "schipperke",
          "groenendael",
          "malinois",
          "briard",
          "kelpie",
          "komondor",
          "Old English sheepdog, bobtail",
          "Shetland sheepdog, Shetland sheep dog, Shetland",
          "collie",
          "Border collie",
          "Bouvier des Flandres, Bouviers des Flandres",
          "Rottweiler",
          "German shepherd, German shepherd dog, German police dog, alsatian",
          "Doberman, Doberman pinscher",
          "miniature pinscher",
          "Greater Swiss Mountain dog",
          "Bernese mountain dog",
          "Appenzeller",
          "EntleBucher",
          "boxer",
          "bull mastiff",
          "Tibetan mastiff",
          "French bulldog",
          "Great Dane",
          "Saint Bernard, St Bernard",
          "Eskimo dog, husky",
          "malamute, malemute, Alaskan malamute",
          "Siberian husky",
          "dalmatian, coach dog, carriage dog",
          "affenpinscher, monkey pinscher, monkey dog",
          "basenji",
          "pug, pug-dog",
          "Leonberg",
          "Newfoundland, Newfoundland dog",
          "Great Pyrenees",
          "Samoyed, Samoyede",
          "Pomeranian",
          "chow, chow chow",
          "keeshond",
          "Brabancon griffon",
          "Pembroke, Pembroke Welsh corgi",
          "Cardigan, Cardigan Welsh corgi",
          "toy poodle",
          "miniature poodle",
          "standard poodle",
          "Mexican hairless",
          "timber wolf, grey wolf, gray wolf, Canis lupus",
          "white wolf, Arctic wolf, Canis lupus tundrarum",
          "red wolf, maned wolf, Canis rufus, Canis niger",
          "coyote, prairie wolf, brush wolf, Canis latrans",
          "dingo, warrigal, warragal, Canis dingo",
          "dhole, Cuon alpinus",
          "African hunting dog, hyena dog, Cape hunting dog, Lycaon pictus",
          "hyena, hyaena",
          "red fox, Vulpes vulpes",
          "kit fox, Vulpes macrotis",
          "Arctic fox, white fox, Alopex lagopus",
          "grey fox, gray fox, Urocyon cinereoargenteus",
          "tabby, tabby cat",
          "tiger cat",
          "Persian cat",
          "Siamese cat, Siamese",
          "Egyptian cat",
          "cougar, puma, catamount, mountain lion, painter, panther, Felis concolor",
          "lynx, catamount",
          "leopard, Panthera pardus",
          "snow leopard, ounce, Panthera uncia",
          "jaguar, panther, Panthera onca, Felis onca",
          "lion, king of beasts, Panthera leo",
          "tiger, Panthera tigris",
          "cheetah, chetah, Acinonyx jubatus",
          "brown bear, bruin, Ursus arctos",
          "American black bear, black bear, Ursus americanus, Euarctos americanus",
          "ice bear, polar bear, Ursus Maritimus, Thalarctos maritimus",
          "sloth bear, Melursus ursinus, Ursus ursinus",
          "mongoose",
          "meerkat, mierkat",
          "tiger beetle",
          "ladybug, ladybeetle, lady beetle, ladybird, ladybird beetle",
          "ground beetle, carabid beetle",
          "long-horned beetle, longicorn, longicorn beetle",
          "leaf beetle, chrysomelid",
          "dung beetle",
          "rhinoceros beetle",
          "weevil",
          "fly",
          "bee",
          "ant, emmet, pismire",
          "grasshopper, hopper",
          "cricket",
          "walking stick, walkingstick, stick insect",
          "cockroach, roach",
          "mantis, mantid",
          "cicada, cicala",
          "leafhopper",
          "lacewing, lacewing fly",
          "dragonfly, darning needle, devil's darning needle, sewing needle, snake feeder, snake doctor, mosquito hawk, skeeter hawk",
          "damselfly",
          "admiral",
          "ringlet, ringlet butterfly",
          "monarch, monarch butterfly, milkweed butterfly, Danaus plexippus",
          "cabbage butterfly",
          "sulphur butterfly, sulfur butterfly",
          "lycaenid, lycaenid butterfly",
          "starfish, sea star",
          "sea urchin",
          "sea cucumber, holothurian",
          "wood rabbit, cottontail, cottontail rabbit",
          "hare",
          "Angora, Angora rabbit",
          "hamster",
          "porcupine, hedgehog",
          "fox squirrel, eastern fox squirrel, Sciurus niger",
          "marmot",
          "beaver",
          "guinea pig, Cavia cobaya",
          "sorrel",
          "zebra",
          "hog, pig, grunter, squealer, Sus scrofa",
          "wild boar, boar, Sus scrofa",
          "warthog",
          "hippopotamus, hippo, river horse, Hippopotamus amphibius",
          "ox",
          "water buffalo, water ox, Asiatic buffalo, Bubalus bubalis",
          "bison",
          "ram, tup",
          "bighorn, bighorn sheep, cimarron, Rocky Mountain bighorn, Rocky Mountain sheep, Ovis canadensis",
          "ibex, Capra ibex",
          "hartebeest",
          "impala, Aepyceros melampus",
          "gazelle",
          "Arabian camel, dromedary, Camelus dromedarius",
          "llama",
          "weasel",
          "mink",
          "polecat, fitch, foulmart, foumart, Mustela putorius",
          "black-footed ferret, ferret, Mustela nigripes",
          "otter",
          "skunk, polecat, wood pussy",
          "badger",
          "armadillo",
          "three-toed sloth, ai, Bradypus tridactylus",
          "orangutan, orang, orangutang, Pongo pygmaeus",
          "gorilla, Gorilla gorilla",
          "chimpanzee, chimp, Pan troglodytes",
          "gibbon, Hylobates lar",
          "siamang, Hylobates syndactylus, Symphalangus syndactylus",
          "guenon, guenon monkey",
          "patas, hussar monkey, Erythrocebus patas",
          "baboon",
          "macaque",
          "langur",
          "colobus, colobus monkey",
          "proboscis monkey, Nasalis larvatus",
          "marmoset",
          "capuchin, ringtail, Cebus capucinus",
          "howler monkey, howler",
          "titi, titi monkey",
          "spider monkey, Ateles geoffroyi",
          "squirrel monkey, Saimiri sciureus",
          "Madagascar cat, ring-tailed lemur, Lemur catta",
          "indri, indris, Indri indri, Indri brevicaudatus",
          "Indian elephant, Elephas maximus",
          "African elephant, Loxodonta africana",
          "lesser panda, red panda, panda, bear cat, cat bear, Ailurus fulgens",
          "giant panda, panda, panda bear, coon bear, Ailuropoda melanoleuca",
          "barracouta, snoek",
          "eel",
          "coho, cohoe, coho salmon, blue jack, silver salmon, Oncorhynchus kisutch",
          "rock beauty, Holocanthus tricolor",
          "anemone fish",
          "sturgeon",
          "gar, garfish, garpike, billfish, Lepisosteus osseus",
          "lionfish",
          "puffer, pufferfish, blowfish, globefish",
          "abacus",
          "abaya",
          "academic gown, academic robe, judge's robe",
          "accordion, piano accordion, squeeze box",
          "acoustic guitar",
          "aircraft carrier, carrier, flattop, attack aircraft carrier",
          "airliner",
          "airship, dirigible",
          "altar",
          "ambulance",
          "amphibian, amphibious vehicle",
          "analog clock",
          "apiary, bee house",
          "apron",
          "ashcan, trash can, garbage can, wastebin, ash bin, ash-bin, ashbin, dustbin, trash barrel, trash bin",
          "assault rifle, assault gun",
          "backpack, back pack, knapsack, packsack, rucksack, haversack",
          "bakery, bakeshop, bakehouse",
          "balance beam, beam",
          "balloon",
          "ballpoint, ballpoint pen, ballpen, Biro",
          "Band Aid",
          "banjo",
          "bannister, banister, balustrade, balusters, handrail",
          "barbell",
          "barber chair",
          "barbershop",
          "barn",
          "barometer",
          "barrel, cask",
          "barrow, garden cart, lawn cart, wheelbarrow",
          "baseball",
          "basketball",
          "bassinet",
          "bassoon",
          "bathing cap, swimming cap",
          "bath towel",
          "bathtub, bathing tub, bath, tub",
          "beach wagon, station wagon, wagon, estate car, beach waggon, station waggon, waggon",
          "beacon, lighthouse, beacon light, pharos",
          "beaker",
          "bearskin, busby, shako",
          "beer bottle",
          "beer glass",
          "bell cote, bell cot",
          "bib",
          "bicycle-built-for-two, tandem bicycle, tandem",
          "bikini, two-piece",
          "binder, ring-binder",
          "binoculars, field glasses, opera glasses",
          "birdhouse",
          "boathouse",
          "bobsled, bobsleigh, bob",
          "bolo tie, bolo, bola tie, bola",
          "bonnet, poke bonnet",
          "bookcase",
          "bookshop, bookstore, bookstall",
          "bottlecap",
          "bow",
          "bow tie, bow-tie, bowtie",
          "brass, memorial tablet, plaque",
          "brassiere, bra, bandeau",
          "breakwater, groin, groyne, mole, bulwark, seawall, jetty",
          "breastplate, aegis, egis",
          "broom",
          "bucket, pail",
          "buckle",
          "bulletproof vest",
          "bullet train, bullet",
          "butcher shop, meat market",
          "cab, hack, taxi, taxicab",
          "caldron, cauldron",
          "candle, taper, wax light",
          "cannon",
          "canoe",
          "can opener, tin opener",
          "cardigan",
          "car mirror",
          "carousel, carrousel, merry-go-round, roundabout, whirligig",
          "carpenter's kit, tool kit",
          "carton",
          "car wheel",
          "cash machine, cash dispenser, automated teller machine, automatic teller machine, automated teller, automatic teller, ATM",
          "cassette",
          "cassette player",
          "castle",
          "catamaran",
          "CD player",
          "cello, violoncello",
          "cellular telephone, cellular phone, cellphone, cell, mobile phone",
          "chain",
          "chainlink fence",
          "chain mail, ring mail, mail, chain armor, chain armour, ring armor, ring armour",
          "chain saw, chainsaw",
          "chest",
          "chiffonier, commode",
          "chime, bell, gong",
          "china cabinet, china closet",
          "Christmas stocking",
          "church, church building",
          "cinema, movie theater, movie theatre, movie house, picture palace",
          "cleaver, meat cleaver, chopper",
          "cliff dwelling",
          "cloak",
          "clog, geta, patten, sabot",
          "cocktail shaker",
          "coffee mug",
          "coffeepot",
          "coil, spiral, volute, whorl, helix",
          "combination lock",
          "computer keyboard, keypad",
          "confectionery, confectionary, candy store",
          "container ship, containership, container vessel",
          "convertible",
          "corkscrew, bottle screw",
          "cornet, horn, trumpet, trump",
          "cowboy boot",
          "cowboy hat, ten-gallon hat",
          "cradle",
          "crane",
          "crash helmet",
          "crate",
          "crib, cot",
          "Crock Pot",
          "croquet ball",
          "crutch",
          "cuirass",
          "dam, dike, dyke",
          "desk",
          "desktop computer",
          "dial telephone, dial phone",
          "diaper, nappy, napkin",
          "digital clock",
          "digital watch",
          "dining table, board",
          "dishrag, dishcloth",
          "dishwasher, dish washer, dishwashing machine",
          "disk brake, disc brake",
          "dock, dockage, docking facility",
          "dogsled, dog sled, dog sleigh",
          "dome",
          "doormat, welcome mat",
          "drilling platform, offshore rig",
          "drum, membranophone, tympan",
          "drumstick",
          "dumbbell",
          "Dutch oven",
          "electric fan, blower",
          "electric guitar",
          "electric locomotive",
          "entertainment center",
          "envelope",
          "espresso maker",
          "face powder",
          "feather boa, boa",
          "file, file cabinet, filing cabinet",
          "fireboat",
          "fire engine, fire truck",
          "fire screen, fireguard",
          "flagpole, flagstaff",
          "flute, transverse flute",
          "folding chair",
          "football helmet",
          "forklift",
          "fountain",
          "fountain pen",
          "four-poster",
          "freight car",
          "French horn, horn",
          "frying pan, frypan, skillet",
          "fur coat",
          "garbage truck, dustcart",
          "gasmask, respirator, gas helmet",
          "gas pump, gasoline pump, petrol pump, island dispenser",
          "goblet",
          "go-kart",
          "golf ball",
          "golfcart, golf cart",
          "gondola",
          "gong, tam-tam",
          "gown",
          "grand piano, grand",
          "greenhouse, nursery, glasshouse",
          "grille, radiator grille",
          "grocery store, grocery, food market, market",
          "guillotine",
          "hair slide",
          "hair spray",
          "half track",
          "hammer",
          "hamper",
          "hand blower, blow dryer, blow drier, hair dryer, hair drier",
          "hand-held computer, hand-held microcomputer",
          "handkerchief, hankie, hanky, hankey",
          "hard disc, hard disk, fixed disk",
          "harmonica, mouth organ, harp, mouth harp",
          "harp",
          "harvester, reaper",
          "hatchet",
          "holster",
          "home theater, home theatre",
          "honeycomb",
          "hook, claw",
          "hoopskirt, crinoline",
          "horizontal bar, high bar",
          "horse cart, horse-cart",
          "hourglass",
          "iPod",
          "iron, smoothing iron",
          "jack-o'-lantern",
          "jean, blue jean, denim",
          "jeep, landrover",
          "jersey, T-shirt, tee shirt",
          "jigsaw puzzle",
          "jinrikisha, ricksha, rickshaw",
          "joystick",
          "kimono",
          "knee pad",
          "knot",
          "lab coat, laboratory coat",
          "ladle",
          "lampshade, lamp shade",
          "laptop, laptop computer",
          "lawn mower, mower",
          "lens cap, lens cover",
          "letter opener, paper knife, paperknife",
          "library",
          "lifeboat",
          "lighter, light, igniter, ignitor",
          "limousine, limo",
          "liner, ocean liner",
          "lipstick, lip rouge",
          "Loafer",
          "lotion",
          "loudspeaker, speaker, speaker unit, loudspeaker system, speaker system",
          "loupe, jeweler's loupe",
          "lumbermill, sawmill",
          "magnetic compass",
          "mailbag, postbag",
          "mailbox, letter box",
          "maillot",
          "maillot, tank suit",
          "manhole cover",
          "maraca",
          "marimba, xylophone",
          "mask",
          "matchstick",
          "maypole",
          "maze, labyrinth",
          "measuring cup",
          "medicine chest, medicine cabinet",
          "megalith, megalithic structure",
          "microphone, mike",
          "microwave, microwave oven",
          "military uniform",
          "milk can",
          "minibus",
          "miniskirt, mini",
          "minivan",
          "missile",
          "mitten",
          "mixing bowl",
          "mobile home, manufactured home",
          "Model T",
          "modem",
          "monastery",
          "monitor",
          "moped",
          "mortar",
          "mortarboard",
          "mosque",
          "mosquito net",
          "motor scooter, scooter",
          "mountain bike, all-terrain bike, off-roader",
          "mountain tent",
          "mouse, computer mouse",
          "mousetrap",
          "moving van",
          "muzzle",
          "nail",
          "neck brace",
          "necklace",
          "nipple",
          "notebook, notebook computer",
          "obelisk",
          "oboe, hautboy, hautbois",
          "ocarina, sweet potato",
          "odometer, hodometer, mileometer, milometer",
          "oil filter",
          "organ, pipe organ",
          "oscilloscope, scope, cathode-ray oscilloscope, CRO",
          "overskirt",
          "oxcart",
          "oxygen mask",
          "packet",
          "paddle, boat paddle",
          "paddlewheel, paddle wheel",
          "padlock",
          "paintbrush",
          "pajama, pyjama, pj's, jammies",
          "palace",
          "panpipe, pandean pipe, syrinx",
          "paper towel",
          "parachute, chute",
          "parallel bars, bars",
          "park bench",
          "parking meter",
          "passenger car, coach, carriage",
          "patio, terrace",
          "pay-phone, pay-station",
          "pedestal, plinth, footstall",
          "pencil box, pencil case",
          "pencil sharpener",
          "perfume, essence",
          "Petri dish",
          "photocopier",
          "pick, plectrum, plectron",
          "pickelhaube",
          "picket fence, paling",
          "pickup, pickup truck",
          "pier",
          "piggy bank, penny bank",
          "pill bottle",
          "pillow",
          "ping-pong ball",
          "pinwheel",
          "pirate, pirate ship",
          "pitcher, ewer",
          "plane, carpenter's plane, woodworking plane",
          "planetarium",
          "plastic bag",
          "plate rack",
          "plow, plough",
          "plunger, plumber's helper",
          "Polaroid camera, Polaroid Land camera",
          "pole",
          "police van, police wagon, paddy wagon, patrol wagon, wagon, black Maria",
          "poncho",
          "pool table, billiard table, snooker table",
          "pop bottle, soda bottle",
          "pot, flowerpot",
          "potter's wheel",
          "power drill",
          "prayer rug, prayer mat",
          "printer",
          "prison, prison house",
          "projectile, missile",
          "projector",
          "puck, hockey puck",
          "punching bag, punch bag, punching ball, punchball",
          "purse",
          "quill, quill pen",
          "quilt, comforter, comfort, puff",
          "racer, race car, racing car",
          "racket, racquet",
          "radiator",
          "radio, wireless",
          "radio telescope, radio reflector",
          "rain barrel",
          "recreational vehicle, RV, R.V.",
          "reel",
          "reflex camera",
          "refrigerator, icebox",
          "remote control, remote",
          "restaurant, eating house, eating place, eatery",
          "revolver, six-gun, six-shooter",
          "rifle",
          "rocking chair, rocker",
          "rotisserie",
          "rubber eraser, rubber, pencil eraser",
          "rugby ball",
          "rule, ruler",
          "running shoe",
          "safe",
          "safety pin",
          "saltshaker, salt shaker",
          "sandal",
          "sarong",
          "sax, saxophone",
          "scabbard",
          "scale, weighing machine",
          "school bus",
          "schooner",
          "scoreboard",
          "screen, CRT screen",
          "screw",
          "screwdriver",
          "seat belt, seatbelt",
          "sewing machine",
          "shield, buckler",
          "shoe shop, shoe-shop, shoe store",
          "shoji",
          "shopping basket",
          "shopping cart",
          "shovel",
          "shower cap",
          "shower curtain",
          "ski",
          "ski mask",
          "sleeping bag",
          "slide rule, slipstick",
          "sliding door",
          "slot, one-armed bandit",
          "snorkel",
          "snowmobile",
          "snowplow, snowplough",
          "soap dispenser",
          "soccer ball",
          "sock",
          "solar dish, solar collector, solar furnace",
          "sombrero",
          "soup bowl",
          "space bar",
          "space heater",
          "space shuttle",
          "spatula",
          "speedboat",
          "spider web, spider's web",
          "spindle",
          "sports car, sport car",
          "spotlight, spot",
          "stage",
          "steam locomotive",
          "steel arch bridge",
          "steel drum",
          "stethoscope",
          "stole",
          "stone wall",
          "stopwatch, stop watch",
          "stove",
          "strainer",
          "streetcar, tram, tramcar, trolley, trolley car",
          "stretcher",
          "studio couch, day bed",
          "stupa, tope",
          "submarine, pigboat, sub, U-boat",
          "suit, suit of clothes",
          "sundial",
          "sunglass",
          "sunglasses, dark glasses, shades",
          "sunscreen, sunblock, sun blocker",
          "suspension bridge",
          "swab, swob, mop",
          "sweatshirt",
          "swimming trunks, bathing trunks",
          "swing",
          "switch, electric switch, electrical switch",
          "syringe",
          "table lamp",
          "tank, army tank, armored combat vehicle, armoured combat vehicle",
          "tape player",
          "teapot",
          "teddy, teddy bear",
          "television, television system",
          "tennis ball",
          "thatch, thatched roof",
          "theater curtain, theatre curtain",
          "thimble",
          "thresher, thrasher, threshing machine",
          "throne",
          "tile roof",
          "toaster",
          "tobacco shop, tobacconist shop, tobacconist",
          "toilet seat",
          "torch",
          "totem pole",
          "tow truck, tow car, wrecker",
          "toyshop",
          "tractor",
          "trailer truck, tractor trailer, trucking rig, rig, articulated lorry, semi",
          "tray",
          "trench coat",
          "tricycle, trike, velocipede",
          "trimaran",
          "tripod",
          "triumphal arch",
          "trolleybus, trolley coach, trackless trolley",
          "trombone",
          "tub, vat",
          "turnstile",
          "typewriter keyboard",
          "umbrella",
          "unicycle, monocycle",
          "upright, upright piano",
          "vacuum, vacuum cleaner",
          "vase",
          "vault",
          "velvet",
          "vending machine",
          "vestment",
          "viaduct",
          "violin, fiddle",
          "volleyball",
          "waffle iron",
          "wall clock",
          "wallet, billfold, notecase, pocketbook",
          "wardrobe, closet, press",
          "warplane, military plane",
          "washbasin, handbasin, washbowl, lavabo, wash-hand basin",
          "washer, automatic washer, washing machine",
          "water bottle",
          "water jug",
          "water tower",
          "whiskey jug",
          "whistle",
          "wig",
          "window screen",
          "window shade",
          "Windsor tie",
          "wine bottle",
          "wing",
          "wok",
          "wooden spoon",
          "wool, woolen, woollen",
          "worm fence, snake fence, snake-rail fence, Virginia fence",
          "wreck",
          "yawl",
          "yurt",
          "web site, website, internet site, site",
          "comic book",
          "crossword puzzle, crossword",
          "street sign",
          "traffic light, traffic signal, stoplight",
          "book jacket, dust cover, dust jacket, dust wrapper",
          "menu",
          "plate",
          "guacamole",
          "consomme",
          "hot pot, hotpot",
          "trifle",
          "ice cream, icecream",
          "ice lolly, lolly, lollipop, popsicle",
          "French loaf",
          "bagel, beigel",
          "pretzel",
          "cheeseburger",
          "hotdog, hot dog, red hot",
          "mashed potato",
          "head cabbage",
          "broccoli",
          "cauliflower",
          "zucchini, courgette",
          "spaghetti squash",
          "acorn squash",
          "butternut squash",
          "cucumber, cuke",
          "artichoke, globe artichoke",
          "bell pepper",
          "cardoon",
          "mushroom",
          "Granny Smith",
          "strawberry",
          "orange",
          "lemon",
          "fig",
          "pineapple, ananas",
          "banana",
          "jackfruit, jak, jack",
          "custard apple",
          "pomegranate",
          "hay",
          "carbonara",
          "chocolate sauce, chocolate syrup",
          "dough",
          "meat loaf, meatloaf",
          "pizza, pizza pie",
          "potpie",
          "burrito",
          "red wine",
          "espresso",
          "cup",
          "eggnog",
          "alp",
          "bubble",
          "cliff, drop, drop-off",
          "coral reef",
          "geyser",
          "lakeside, lakeshore",
          "promontory, headland, head, foreland",
          "sandbar, sand bar",
          "seashore, coast, seacoast, sea-coast",
          "valley, vale",
          "volcano",
          "ballplayer, baseball player",
          "groom, bridegroom",
          "scuba diver",
          "rapeseed",
          "daisy",
          "yellow lady's slipper, yellow lady-slipper, Cypripedium calceolus, Cypripedium parviflorum",
          "corn",
          "acorn",
          "hip, rose hip, rosehip",
          "buckeye, horse chestnut, conker",
          "coral fungus",
          "agaric",
          "gyromitra",
          "stinkhorn, carrion fungus",
          "earthstar",
          "hen-of-the-woods, hen of the woods, Polyporus frondosus, Grifola frondosa",
          "bolete",
          "ear, spike, capitulum",
          "toilet tissue, toilet paper, bathroom tissue"
         ],
         "legendgroup": "",
         "marker": {
          "color": [
           0,
           1,
           2,
           3,
           4,
           5,
           6,
           7,
           8,
           9,
           10,
           11,
           12,
           13,
           14,
           15,
           16,
           17,
           18,
           19,
           20,
           21,
           22,
           23,
           24,
           25,
           26,
           27,
           28,
           29,
           30,
           31,
           32,
           33,
           34,
           35,
           36,
           37,
           38,
           39,
           40,
           41,
           42,
           43,
           44,
           45,
           46,
           47,
           48,
           49,
           50,
           51,
           52,
           53,
           54,
           55,
           56,
           57,
           58,
           59,
           60,
           61,
           62,
           63,
           64,
           65,
           66,
           67,
           68,
           69,
           70,
           71,
           72,
           73,
           74,
           75,
           76,
           77,
           78,
           79,
           80,
           81,
           82,
           83,
           84,
           85,
           86,
           87,
           88,
           89,
           90,
           91,
           92,
           93,
           94,
           95,
           96,
           97,
           98,
           99,
           100,
           101,
           102,
           103,
           104,
           105,
           106,
           107,
           108,
           109,
           110,
           111,
           112,
           113,
           114,
           115,
           116,
           117,
           118,
           119,
           120,
           121,
           122,
           123,
           124,
           125,
           126,
           127,
           128,
           129,
           130,
           131,
           132,
           133,
           134,
           135,
           136,
           137,
           138,
           139,
           140,
           141,
           142,
           143,
           144,
           145,
           146,
           147,
           148,
           149,
           150,
           151,
           152,
           153,
           154,
           155,
           156,
           157,
           158,
           159,
           160,
           161,
           162,
           163,
           164,
           165,
           166,
           167,
           168,
           169,
           170,
           171,
           172,
           173,
           174,
           175,
           176,
           177,
           178,
           179,
           180,
           181,
           182,
           183,
           184,
           185,
           186,
           187,
           188,
           189,
           190,
           191,
           192,
           193,
           194,
           195,
           196,
           197,
           198,
           199,
           200,
           201,
           202,
           203,
           204,
           205,
           206,
           207,
           208,
           209,
           210,
           211,
           212,
           213,
           214,
           215,
           216,
           217,
           218,
           219,
           220,
           221,
           222,
           223,
           224,
           225,
           226,
           227,
           228,
           229,
           230,
           231,
           232,
           233,
           234,
           235,
           236,
           237,
           238,
           239,
           240,
           241,
           242,
           243,
           244,
           245,
           246,
           247,
           248,
           249,
           250,
           251,
           252,
           253,
           254,
           255,
           256,
           257,
           258,
           259,
           260,
           261,
           262,
           263,
           264,
           265,
           266,
           267,
           268,
           269,
           270,
           271,
           272,
           273,
           274,
           275,
           276,
           277,
           278,
           279,
           280,
           281,
           282,
           283,
           284,
           285,
           286,
           287,
           288,
           289,
           290,
           291,
           292,
           293,
           294,
           295,
           296,
           297,
           298,
           299,
           300,
           301,
           302,
           303,
           304,
           305,
           306,
           307,
           308,
           309,
           310,
           311,
           312,
           313,
           314,
           315,
           316,
           317,
           318,
           319,
           320,
           321,
           322,
           323,
           324,
           325,
           326,
           327,
           328,
           329,
           330,
           331,
           332,
           333,
           334,
           335,
           336,
           337,
           338,
           339,
           340,
           341,
           342,
           343,
           344,
           345,
           346,
           347,
           348,
           349,
           350,
           351,
           352,
           353,
           354,
           355,
           356,
           357,
           358,
           359,
           360,
           361,
           362,
           363,
           364,
           365,
           366,
           367,
           368,
           369,
           370,
           371,
           372,
           373,
           374,
           375,
           376,
           377,
           378,
           379,
           380,
           381,
           382,
           383,
           384,
           385,
           386,
           387,
           388,
           389,
           390,
           391,
           392,
           393,
           394,
           395,
           396,
           397,
           398,
           399,
           400,
           401,
           402,
           403,
           404,
           405,
           406,
           407,
           408,
           409,
           410,
           411,
           412,
           413,
           414,
           415,
           416,
           417,
           418,
           419,
           420,
           421,
           422,
           423,
           424,
           425,
           426,
           427,
           428,
           429,
           430,
           431,
           432,
           433,
           434,
           435,
           436,
           437,
           438,
           439,
           440,
           441,
           442,
           443,
           444,
           445,
           446,
           447,
           448,
           449,
           450,
           451,
           452,
           453,
           454,
           455,
           456,
           457,
           458,
           459,
           460,
           461,
           462,
           463,
           464,
           465,
           466,
           467,
           468,
           469,
           470,
           471,
           472,
           473,
           474,
           475,
           476,
           477,
           478,
           479,
           480,
           481,
           482,
           483,
           484,
           485,
           486,
           487,
           488,
           489,
           490,
           491,
           492,
           493,
           494,
           495,
           496,
           497,
           498,
           499,
           500,
           501,
           502,
           503,
           504,
           505,
           506,
           507,
           508,
           509,
           510,
           511,
           512,
           513,
           514,
           515,
           516,
           517,
           518,
           519,
           520,
           521,
           522,
           523,
           524,
           525,
           526,
           527,
           528,
           529,
           530,
           531,
           532,
           533,
           534,
           535,
           536,
           537,
           538,
           539,
           540,
           541,
           542,
           543,
           544,
           545,
           546,
           547,
           548,
           549,
           550,
           551,
           552,
           553,
           554,
           555,
           556,
           557,
           558,
           559,
           560,
           561,
           562,
           563,
           564,
           565,
           566,
           567,
           568,
           569,
           570,
           571,
           572,
           573,
           574,
           575,
           576,
           577,
           578,
           579,
           580,
           581,
           582,
           583,
           584,
           585,
           586,
           587,
           588,
           589,
           590,
           591,
           592,
           593,
           594,
           595,
           596,
           597,
           598,
           599,
           600,
           601,
           602,
           603,
           604,
           605,
           606,
           607,
           608,
           609,
           610,
           611,
           612,
           613,
           614,
           615,
           616,
           617,
           618,
           619,
           620,
           621,
           622,
           623,
           624,
           625,
           626,
           627,
           628,
           629,
           630,
           631,
           632,
           633,
           634,
           635,
           636,
           637,
           638,
           639,
           640,
           641,
           642,
           643,
           644,
           645,
           646,
           647,
           648,
           649,
           650,
           651,
           652,
           653,
           654,
           655,
           656,
           657,
           658,
           659,
           660,
           661,
           662,
           663,
           664,
           665,
           666,
           667,
           668,
           669,
           670,
           671,
           672,
           673,
           674,
           675,
           676,
           677,
           678,
           679,
           680,
           681,
           682,
           683,
           684,
           685,
           686,
           687,
           688,
           689,
           690,
           691,
           692,
           693,
           694,
           695,
           696,
           697,
           698,
           699,
           700,
           701,
           702,
           703,
           704,
           705,
           706,
           707,
           708,
           709,
           710,
           711,
           712,
           713,
           714,
           715,
           716,
           717,
           718,
           719,
           720,
           721,
           722,
           723,
           724,
           725,
           726,
           727,
           728,
           729,
           730,
           731,
           732,
           733,
           734,
           735,
           736,
           737,
           738,
           739,
           740,
           741,
           742,
           743,
           744,
           745,
           746,
           747,
           748,
           749,
           750,
           751,
           752,
           753,
           754,
           755,
           756,
           757,
           758,
           759,
           760,
           761,
           762,
           763,
           764,
           765,
           766,
           767,
           768,
           769,
           770,
           771,
           772,
           773,
           774,
           775,
           776,
           777,
           778,
           779,
           780,
           781,
           782,
           783,
           784,
           785,
           786,
           787,
           788,
           789,
           790,
           791,
           792,
           793,
           794,
           795,
           796,
           797,
           798,
           799,
           800,
           801,
           802,
           803,
           804,
           805,
           806,
           807,
           808,
           809,
           810,
           811,
           812,
           813,
           814,
           815,
           816,
           817,
           818,
           819,
           820,
           821,
           822,
           823,
           824,
           825,
           826,
           827,
           828,
           829,
           830,
           831,
           832,
           833,
           834,
           835,
           836,
           837,
           838,
           839,
           840,
           841,
           842,
           843,
           844,
           845,
           846,
           847,
           848,
           849,
           850,
           851,
           852,
           853,
           854,
           855,
           856,
           857,
           858,
           859,
           860,
           861,
           862,
           863,
           864,
           865,
           866,
           867,
           868,
           869,
           870,
           871,
           872,
           873,
           874,
           875,
           876,
           877,
           878,
           879,
           880,
           881,
           882,
           883,
           884,
           885,
           886,
           887,
           888,
           889,
           890,
           891,
           892,
           893,
           894,
           895,
           896,
           897,
           898,
           899,
           900,
           901,
           902,
           903,
           904,
           905,
           906,
           907,
           908,
           909,
           910,
           911,
           912,
           913,
           914,
           915,
           916,
           917,
           918,
           919,
           920,
           921,
           922,
           923,
           924,
           925,
           926,
           927,
           928,
           929,
           930,
           931,
           932,
           933,
           934,
           935,
           936,
           937,
           938,
           939,
           940,
           941,
           942,
           943,
           944,
           945,
           946,
           947,
           948,
           949,
           950,
           951,
           952,
           953,
           954,
           955,
           956,
           957,
           958,
           959,
           960,
           961,
           962,
           963,
           964,
           965,
           966,
           967,
           968,
           969,
           970,
           971,
           972,
           973,
           974,
           975,
           976,
           977,
           978,
           979,
           980,
           981,
           982,
           983,
           984,
           985,
           986,
           987,
           988,
           989,
           990,
           991,
           992,
           993,
           994,
           995,
           996,
           997,
           998,
           999
          ],
          "coloraxis": "coloraxis",
          "symbol": "circle"
         },
         "mode": "markers",
         "name": "",
         "orientation": "v",
         "showlegend": false,
         "type": "scatter",
         "x": [
          2.3137474060058594,
          4.1746907234191895,
          8.515654563903809,
          4.332142353057861,
          -0.4990934729576111,
          3.9996867179870605,
          -3.1604177951812744,
          -6.81293249130249,
          -2.8793845176696777,
          5.319265365600586,
          5.887844085693359,
          4.7986016273498535,
          9.065475463867188,
          1.1330031156539917,
          8.320767402648926,
          6.323700428009033,
          -2.2775192260742188,
          -3.606628179550171,
          -0.030089356005191803,
          -1.1375141143798828,
          -0.3584454357624054,
          -4.856136798858643,
          8.424040794372559,
          -2.1528379917144775,
          4.898036479949951,
          7.50383186340332,
          7.365288734436035,
          -2.3538739681243896,
          9.284719467163086,
          9.89961051940918,
          5.288839340209961,
          1.211225152015686,
          8.534782409667969,
          6.4471611976623535,
          9.014492988586426,
          -3.104038953781128,
          -0.07814592123031616,
          4.826077461242676,
          2.4039828777313232,
          5.435610294342041,
          5.909906387329102,
          0.7819703817367554,
          -0.6089164614677429,
          8.49740219116211,
          2.915562868118286,
          5.141429901123047,
          6.838354587554932,
          5.591519832611084,
          8.4993896484375,
          9.137221336364746,
          7.284490585327148,
          3.1685585975646973,
          7.287724494934082,
          3.9353697299957275,
          6.176817417144775,
          -0.14580513536930084,
          1.9890590906143188,
          3.6986441612243652,
          -3.2395806312561035,
          -3.2691609859466553,
          8.597895622253418,
          6.603958606719971,
          6.868859767913818,
          4.25512170791626,
          -0.43060657382011414,
          -2.1324679851531982,
          10.17583179473877,
          10.679183006286621,
          10.7347412109375,
          2.194117546081543,
          6.49053430557251,
          -1.009798526763916,
          8.041505813598633,
          5.695312023162842,
          4.755699157714844,
          4.993409633636475,
          1.4018070697784424,
          -0.610011875629425,
          -3.695366144180298,
          0.609585702419281,
          -0.3875345289707184,
          2.3327064514160156,
          6.348456859588623,
          5.427363872528076,
          0.15342842042446136,
          0.814307689666748,
          -3.853712797164917,
          7.506298542022705,
          -4.437033176422119,
          11.412184715270996,
          -0.055092599242925644,
          0.6127156615257263,
          -1.4517911672592163,
          -1.8982021808624268,
          -3.517364740371704,
          -1.541263461112976,
          -0.9669137001037598,
          -1.5549741983413696,
          7.526538372039795,
          -6.430375099182129,
          6.560874938964844,
          -1.3928855657577515,
          7.2594194412231445,
          12.566193580627441,
          4.746922492980957,
          9.827391624450684,
          -0.11616436392068863,
          0.6994401812553406,
          2.342466115951538,
          -4.57174825668335,
          5.473845958709717,
          4.933116436004639,
          -2.228302001953125,
          -6.465761661529541,
          -4.985971450805664,
          6.272496223449707,
          9.04080867767334,
          4.591228008270264,
          5.3280558586120605,
          4.976821422576904,
          -3.0364651679992676,
          9.252706527709961,
          10.030464172363281,
          9.15796184539795,
          4.928267002105713,
          -3.371857166290283,
          0.7645939588546753,
          6.502397060394287,
          7.071250915527344,
          -4.365818023681641,
          -4.388742923736572,
          8.562444686889648,
          8.379863739013672,
          -4.308192253112793,
          -7.418814182281494,
          2.7564098834991455,
          8.649871826171875,
          9.839067459106445,
          -4.12549352645874,
          5.976808547973633,
          8.464189529418945,
          5.124375343322754,
          -2.594756603240967,
          3.781818389892578,
          1.0080639123916626,
          8.997416496276855,
          6.045553684234619,
          9.063310623168945,
          6.292288780212402,
          0.7577995657920837,
          -3.912858724594116,
          1.14444899559021,
          -2.045513153076172,
          2.4103362560272217,
          3.3690006732940674,
          4.672580242156982,
          2.0524048805236816,
          0.544731855392456,
          -1.403822422027588,
          0.9437409043312073,
          0.5478972792625427,
          0.992743730545044,
          -0.8541660904884338,
          3.032249927520752,
          -5.862934589385986,
          2.586000680923462,
          2.7843756675720215,
          -1.5298672914505005,
          -4.597906589508057,
          2.5997543334960938,
          -1.425492286682129,
          -1.8683637380599976,
          -5.419365882873535,
          4.688752174377441,
          3.853121042251587,
          4.017844200134277,
          3.8223204612731934,
          0.5344411134719849,
          -0.8725216388702393,
          3.694133996963501,
          5.679271697998047,
          2.07820200920105,
          -0.7050133943557739,
          0.8650640249252319,
          -0.6927516460418701,
          -0.5308233499526978,
          -0.4993916451931,
          -0.46460312604904175,
          2.368852376937866,
          1.2727292776107788,
          3.7530674934387207,
          5.386691093444824,
          2.7201027870178223,
          -0.41144052147865295,
          5.330048561096191,
          2.1582446098327637,
          2.588003158569336,
          3.3264663219451904,
          3.5202202796936035,
          2.881157636642456,
          6.066137313842773,
          1.1594305038452148,
          2.3044791221618652,
          2.940891981124878,
          2.725689172744751,
          0.7165043354034424,
          1.0092960596084595,
          -1.5327024459838867,
          -1.285598635673523,
          -0.5669618248939514,
          0.43651559948921204,
          1.5753146409988403,
          -0.9874130487442017,
          0.4343881905078888,
          -3.3046464920043945,
          -1.4242173433303833,
          1.6196227073669434,
          1.6063376665115356,
          -0.5936872959136963,
          3.9859042167663574,
          -1.33822762966156,
          -2.008852243423462,
          -0.9242379665374756,
          -0.09921816736459732,
          2.1583664417266846,
          -0.6569557785987854,
          -4.882566452026367,
          -0.23587815463542938,
          1.1422650814056396,
          2.703528642654419,
          3.7738351821899414,
          -4.439138889312744,
          -1.358341932296753,
          8.645955085754395,
          1.2179204225540161,
          6.418416976928711,
          2.3074707984924316,
          -2.3843679428100586,
          -1.9597764015197754,
          -1.2843927145004272,
          3.7416176795959473,
          1.2851512432098389,
          -7.488868236541748,
          -1.1159484386444092,
          -1.267475962638855,
          -1.792015790939331,
          -4.174561023712158,
          -0.48273125290870667,
          1.1829087734222412,
          5.916781425476074,
          -3.9934704303741455,
          1.368417501449585,
          3.9132096767425537,
          -4.579639434814453,
          1.8308383226394653,
          -2.8079750537872314,
          -2.21048903465271,
          1.8899338245391846,
          1.0035533905029297,
          -5.065865993499756,
          3.2400450706481934,
          -0.40491312742233276,
          3.013897180557251,
          2.307063579559326,
          3.912973403930664,
          0.36892169713974,
          -0.3798544108867645,
          0.08959492295980453,
          -2.992300510406494,
          5.531834125518799,
          7.4017839431762695,
          7.306523323059082,
          6.485287666320801,
          4.34442663192749,
          3.975867986679077,
          8.676551818847656,
          2.5618746280670166,
          3.939406156539917,
          5.42478084564209,
          5.862741470336914,
          7.217140197753906,
          0.763031005859375,
          -4.403836250305176,
          -3.252150535583496,
          2.7743396759033203,
          -3.1619269847869873,
          7.97095251083374,
          2.612788200378418,
          2.131789207458496,
          2.0075669288635254,
          7.027759075164795,
          2.86946177482605,
          3.923319101333618,
          7.734399318695068,
          5.032776832580566,
          9.518585205078125,
          9.26419448852539,
          8.470327377319336,
          0.16422335803508759,
          2.191413640975952,
          -4.13649845123291,
          6.306698322296143,
          2.9683637619018555,
          4.062729358673096,
          3.9858617782592773,
          -0.16965951025485992,
          3.511101484298706,
          -0.11897781491279602,
          -7.7883124351501465,
          -6.528885841369629,
          1.4607425928115845,
          1.5541330575942993,
          -5.941871643066406,
          0.6617593765258789,
          3.778977632522583,
          2.4282302856445312,
          2.5266273021698,
          0.6907152533531189,
          0.5856453776359558,
          10.431595802307129,
          -0.9979709386825562,
          -6.978122711181641,
          1.1714563369750977,
          6.505974292755127,
          -1.2637238502502441,
          3.9095265865325928,
          6.892841815948486,
          0.15997931361198425,
          1.961442232131958,
          5.550242900848389,
          2.0123283863067627,
          -3.9401652812957764,
          0.022730259224772453,
          -1.7416048049926758,
          3.7945523262023926,
          5.658823490142822,
          -0.5794194936752319,
          -3.313532590866089,
          4.8776021003723145,
          -4.569181442260742,
          -0.19230474531650543,
          6.45057487487793,
          4.397443771362305,
          -1.0766760110855103,
          7.094488143920898,
          -4.0339226722717285,
          7.198679447174072,
          -3.2291555404663086,
          -2.124603509902954,
          8.792008399963379,
          4.112721920013428,
          1.7977392673492432,
          6.1429877281188965,
          -4.008952617645264,
          6.82712459564209,
          -4.06653356552124,
          -1.0959062576293945,
          -3.579087734222412,
          6.113245487213135,
          9.589493751525879,
          -3.512723684310913,
          3.8914008140563965,
          -4.307863235473633,
          1.521510362625122,
          8.387334823608398,
          9.023977279663086,
          1.1117061376571655,
          9.424118041992188,
          5.177646160125732,
          11.23066234588623,
          3.3855202198028564,
          8.806536674499512,
          -1.6585216522216797,
          -4.2019944190979,
          -0.44060978293418884,
          4.170147895812988,
          5.953876972198486,
          1.1838051080703735,
          5.5644330978393555,
          1.9887956380844116,
          1.1051114797592163,
          7.563337802886963,
          4.138638019561768,
          7.678241729736328,
          7.762536525726318,
          6.10744047164917,
          8.554961204528809,
          7.916214942932129,
          9.69853687286377,
          1.2782288789749146,
          -4.005502223968506,
          8.525321960449219,
          7.940020561218262,
          0.13861367106437683,
          -1.2135621309280396,
          8.41700267791748,
          -2.2537319660186768,
          2.9329652786254883,
          0.5327456593513489,
          -1.4206311702728271,
          3.3840742111206055,
          0.29118430614471436,
          -2.701263427734375,
          2.621567726135254,
          -4.491703510284424,
          1.8297761678695679,
          -6.739413738250732,
          -7.0037031173706055,
          2.3642075061798096,
          -4.713000774383545,
          1.0908010005950928,
          -7.093998908996582,
          5.560937881469727,
          -0.012379095889627934,
          7.652336597442627,
          2.7193026542663574,
          -0.24713055789470673,
          -6.921911239624023,
          2.0064172744750977,
          -3.8265981674194336,
          -6.528897285461426,
          7.652720928192139,
          -4.599105358123779,
          -1.3817781209945679,
          -0.6798154711723328,
          -7.753572940826416,
          -4.341083526611328,
          -0.8951350450515747,
          3.6065330505371094,
          -5.902758598327637,
          -5.804261684417725,
          -4.372869491577148,
          -3.782400608062744,
          -1.5672950744628906,
          -4.114497661590576,
          1.3214128017425537,
          6.590994358062744,
          2.3059117794036865,
          -3.9063515663146973,
          1.861343502998352,
          -5.710508823394775,
          -5.261472702026367,
          1.41428804397583,
          -3.213998317718506,
          3.8165390491485596,
          2.1107125282287598,
          0.23226286470890045,
          4.161332130432129,
          -4.461803913116455,
          -3.911069631576538,
          5.477059364318848,
          3.519721269607544,
          3.713315010070801,
          -4.246492385864258,
          2.27358078956604,
          -5.081712245941162,
          -5.937161922454834,
          1.9222925901412964,
          -0.3663075268268585,
          1.0616097450256348,
          6.4405364990234375,
          4.321855068206787,
          -2.9745054244995117,
          -0.1788666546344757,
          -3.9952821731567383,
          -2.654972791671753,
          -1.9552048444747925,
          0.14623992145061493,
          3.0277698040008545,
          3.0010030269622803,
          0.4756481945514679,
          -6.992715358734131,
          -5.711887836456299,
          -1.2764686346054077,
          -4.234969139099121,
          -4.561182022094727,
          10.215004920959473,
          0.24751487374305725,
          -4.675099849700928,
          -5.499098300933838,
          7.9193925857543945,
          -7.139375686645508,
          -4.37515926361084,
          -6.641872882843018,
          -0.061407383531332016,
          -3.746821880340576,
          3.262779712677002,
          2.699260711669922,
          -6.794429302215576,
          -2.5186569690704346,
          3.0391058921813965,
          -1.0191073417663574,
          -6.6500935554504395,
          2.4955737590789795,
          2.0800812244415283,
          2.664116144180298,
          -2.1532230377197266,
          -1.9107822179794312,
          3.2824785709381104,
          5.504604339599609,
          -3.797222137451172,
          -6.668073654174805,
          2.7211663722991943,
          -2.2472214698791504,
          -4.5694499015808105,
          -4.540285110473633,
          6.078420639038086,
          -4.889735698699951,
          -0.3150702118873596,
          3.734649658203125,
          0.8800946474075317,
          -5.851193904876709,
          2.200474262237549,
          2.1114327907562256,
          -4.543023109436035,
          4.303873062133789,
          -6.791710376739502,
          -7.418814182281494,
          -4.900832653045654,
          -4.782415390014648,
          2.2399191856384277,
          0.613620400428772,
          1.763284683227539,
          0.6601397395133972,
          0.14061874151229858,
          1.46333646774292,
          -6.389186382293701,
          -4.411066055297852,
          -1.7399190664291382,
          0.5954825282096863,
          -3.7843284606933594,
          -2.7036356925964355,
          -1.5997973680496216,
          0.5390518307685852,
          3.181330680847168,
          -0.9242509007453918,
          1.3725372552871704,
          2.163588047027588,
          -7.237555027008057,
          -1.137787103652954,
          -1.8846608400344849,
          5.209115028381348,
          -5.2469072341918945,
          -3.990190267562866,
          -4.572273254394531,
          -0.37955233454704285,
          -2.372114658355713,
          -3.638918399810791,
          -3.6529898643493652,
          -6.84161901473999,
          -0.5620362162590027,
          -4.8226847648620605,
          0.5175004601478577,
          0.03746161237359047,
          -4.627078056335449,
          -0.8194717168807983,
          -1.506481647491455,
          2.6619532108306885,
          -1.5240081548690796,
          -4.590475082397461,
          -4.8768157958984375,
          -4.281762599945068,
          -7.110758304595947,
          -4.719821453094482,
          -2.0627665519714355,
          -4.973477363586426,
          -2.5994815826416016,
          5.092512607574463,
          -3.6412665843963623,
          1.6352365016937256,
          4.236417770385742,
          3.2358407974243164,
          -0.2366359382867813,
          1.9189903736114502,
          -4.8442816734313965,
          0.6946172118186951,
          -0.9216083288192749,
          2.3430330753326416,
          -6.9391655921936035,
          -1.746342420578003,
          -0.27210789918899536,
          4.3213582038879395,
          0.7472843527793884,
          2.248706340789795,
          -4.271019458770752,
          -4.448328495025635,
          -4.862467288970947,
          -6.9995832443237305,
          -5.088947296142578,
          6.466145992279053,
          6.3576340675354,
          4.4049153327941895,
          0.5715999603271484,
          1.2668027877807617,
          -6.437007904052734,
          -0.4557611346244812,
          -4.480238437652588,
          0.2880040109157562,
          -2.424795389175415,
          -3.7864177227020264,
          -1.6848177909851074,
          2.998929262161255,
          -0.6747021675109863,
          0.04958344250917435,
          -4.147193908691406,
          1.0197175741195679,
          -1.9263986349105835,
          2.1513025760650635,
          4.728643417358398,
          -0.02464752085506916,
          2.8929781913757324,
          0.10982275009155273,
          4.556586742401123,
          -4.497646808624268,
          1.0528889894485474,
          -4.332475662231445,
          -7.2406535148620605,
          -1.4560233354568481,
          -4.848834991455078,
          0.8537096381187439,
          -1.665581226348877,
          3.051433563232422,
          -0.7812325358390808,
          4.330608367919922,
          -6.452132701873779,
          -3.904452323913574,
          3.031303644180298,
          2.3232250213623047,
          -2.352705478668213,
          2.911717176437378,
          -0.28984934091567993,
          -3.8849074840545654,
          6.5378828048706055,
          3.2342123985290527,
          -0.03536469489336014,
          -4.324652194976807,
          -1.5906257629394531,
          -0.6225525736808777,
          -4.7329230308532715,
          -1.8118200302124023,
          -2.449845790863037,
          -0.3868338465690613,
          4.523427486419678,
          -7.214034080505371,
          -4.659891128540039,
          -4.245938301086426,
          -1.2364405393600464,
          -5.321261405944824,
          -1.9041295051574707,
          3.682781219482422,
          -0.2591250538825989,
          -2.3293657302856445,
          -4.430428504943848,
          -5.136874198913574,
          -3.6225173473358154,
          0.8565546870231628,
          -3.5252320766448975,
          -6.234182834625244,
          -5.049492835998535,
          -5.148468494415283,
          -1.6503053903579712,
          -3.102954387664795,
          -4.104995250701904,
          -6.213207721710205,
          -6.962846279144287,
          -4.977363109588623,
          -7.287040710449219,
          -4.581063747406006,
          -6.329168796539307,
          1.1798087358474731,
          2.9249258041381836,
          4.336671829223633,
          -5.566599369049072,
          -1.3651009798049927,
          1.5848034620285034,
          -5.432162761688232,
          -6.328222274780273,
          -7.390078067779541,
          -4.296533107757568,
          -6.7765655517578125,
          -7.2328410148620605,
          -2.515657424926758,
          2.079447031021118,
          4.726065635681152,
          1.6956883668899536,
          4.479635238647461,
          -4.805525779724121,
          -1.6499277353286743,
          10.301789283752441,
          0.10241272300481796,
          0.0974620059132576,
          -4.86104679107666,
          -6.939206123352051,
          -3.0972955226898193,
          -1.3740885257720947,
          -4.250646114349365,
          -3.71661376953125,
          5.85725212097168,
          -6.6523003578186035,
          5.076812744140625,
          -4.841114044189453,
          -1.5954833030700684,
          -1.165222406387329,
          -4.5501251220703125,
          -4.621150016784668,
          -0.6995071768760681,
          -3.51945161819458,
          0.9384592771530151,
          3.6352028846740723,
          -1.2356128692626953,
          -2.2313036918640137,
          -3.466156005859375,
          -1.0815333127975464,
          0.9470979571342468,
          3.0313310623168945,
          0.21981754899024963,
          2.1539857387542725,
          -2.2379536628723145,
          -6.72204065322876,
          -0.6833721399307251,
          -5.379092216491699,
          -6.2761969566345215,
          4.996695041656494,
          -4.626357555389404,
          -2.626105785369873,
          -2.4677586555480957,
          2.899738073348999,
          -3.2597391605377197,
          -5.5873003005981445,
          -4.832754135131836,
          0.34744054079055786,
          3.085543155670166,
          1.2138404846191406,
          -4.089979648590088,
          3.6828575134277344,
          -0.17165619134902954,
          5.968489646911621,
          -1.3177310228347778,
          -1.5351248979568481,
          -0.005795792676508427,
          -4.705709934234619,
          -1.1609575748443604,
          -8.37987232208252,
          -2.971895694732666,
          -1.893776535987854,
          -5.271126747131348,
          0.32029545307159424,
          2.0153088569641113,
          -7.488259315490723,
          2.503023862838745,
          2.773576259613037,
          -0.10986553877592087,
          1.6656603813171387,
          -0.3409369885921478,
          -3.73225474357605,
          0.20850273966789246,
          -5.522172451019287,
          1.744014859199524,
          -7.19110631942749,
          -4.886055946350098,
          -1.1369093656539917,
          -2.269335985183716,
          1.8116130828857422,
          2.246290683746338,
          -5.843691825866699,
          1.1193745136260986,
          -1.2326037883758545,
          2.0527610778808594,
          -3.7517991065979004,
          -2.5547549724578857,
          -4.872499465942383,
          -6.591738700866699,
          -4.825379848480225,
          0.8090640902519226,
          -4.801548004150391,
          -3.0871598720550537,
          0.4284711480140686,
          2.1191139221191406,
          -2.8949742317199707,
          -3.686358690261841,
          -6.9857683181762695,
          -1.6147016286849976,
          -0.6003278493881226,
          -7.561928749084473,
          -0.25991877913475037,
          0.5487762689590454,
          -5.137528419494629,
          0.6655842661857605,
          1.589392900466919,
          -0.4932660758495331,
          -4.807436943054199,
          -4.107337474822998,
          -4.824637413024902,
          -4.552104949951172,
          -4.701598644256592,
          -6.158478260040283,
          -4.974054336547852,
          -4.120386123657227,
          -2.1674351692199707,
          -4.027860641479492,
          1.7219257354736328,
          -1.6981923580169678,
          -4.395118236541748,
          1.749060869216919,
          -0.4203701615333557,
          -5.000619411468506,
          -5.376598358154297,
          0.28092706203460693,
          -0.5763672590255737,
          -5.112748622894287,
          -4.705963611602783,
          -2.4037322998046875,
          -4.019643783569336,
          -2.966921329498291,
          -2.6935577392578125,
          2.1225156784057617,
          -3.453781843185425,
          -1.0752620697021484,
          -3.9358057975769043,
          -5.117160320281982,
          -3.9611713886260986,
          -2.393427848815918,
          -5.072445869445801,
          2.9351108074188232,
          -7.7573418617248535,
          -4.25060510635376,
          -0.9919636249542236,
          -7.279691696166992,
          -5.3224568367004395,
          2.055732250213623,
          -4.154688358306885,
          -1.7094289064407349,
          0.31135573983192444,
          3.533238172531128,
          0.20062440633773804,
          -3.0875959396362305,
          -4.247632026672363,
          -0.4263007342815399,
          2.018693685531616,
          -3.3801815509796143,
          3.7221872806549072,
          -5.78419828414917,
          -0.5782955288887024,
          -7.095405578613281,
          -0.10908789932727814,
          -0.4305543005466461,
          -4.464139461517334,
          1.9178624153137207,
          -4.8598761558532715,
          -4.817901134490967,
          1.5267634391784668,
          -2.8419878482818604,
          -4.318915367126465,
          1.6872577667236328,
          -2.0626864433288574,
          -1.3997777700424194,
          4.267264366149902,
          -6.471940040588379,
          -3.9378793239593506,
          -4.490952014923096,
          1.4005296230316162,
          -4.275200843811035,
          -6.244987964630127,
          -2.360027551651001,
          0.23304034769535065,
          -4.951287269592285,
          -7.644392967224121,
          3.9623491764068604,
          -7.303467273712158,
          -5.178980827331543,
          5.2878642082214355,
          -5.03623104095459,
          -4.1410112380981445,
          -1.810375690460205,
          1.728056788444519,
          -6.646816253662109,
          -0.6056299805641174,
          -3.262111186981201,
          -1.504094123840332,
          -6.756825923919678,
          2.5890567302703857,
          -2.0330684185028076,
          -2.676269054412842,
          -7.68047571182251,
          -5.3381428718566895,
          -7.027742385864258,
          -0.3020468056201935,
          -3.9631547927856445,
          -2.7858760356903076,
          -2.193199634552002,
          -4.695872783660889,
          -1.439133882522583,
          -4.283544540405273,
          2.4638988971710205,
          -1.300047516822815,
          -1.3764348030090332,
          6.223770618438721,
          1.8979551792144775,
          -4.809582710266113,
          -1.8141969442367554,
          -3.9794936180114746,
          -2.588827610015869,
          -6.6781229972839355,
          -4.641153812408447,
          -4.601360321044922,
          -4.006130695343018,
          -3.094413995742798,
          -5.4837493896484375,
          -5.279382228851318,
          -4.36202335357666,
          -3.958998203277588,
          -0.2269904911518097,
          2.4290266036987305,
          -7.213293075561523,
          -2.921109914779663,
          -3.924008369445801,
          2.7950215339660645,
          -4.280022144317627,
          0.14192746579647064,
          -3.9714932441711426,
          2.2183377742767334,
          3.3340535163879395,
          -6.1140618324279785,
          -7.4644856452941895,
          2.3430001735687256,
          -1.5995465517044067,
          -1.0733108520507812,
          0.007695712149143219,
          2.0845558643341064,
          7.017679691314697,
          0.059040918946266174,
          0.7145455479621887,
          0.605400800704956,
          -0.7034623622894287,
          2.7096800804138184,
          -2.2520740032196045,
          -1.6854827404022217,
          1.3258641958236694,
          0.39312943816185,
          2.5664548873901367,
          2.4281506538391113,
          -1.0864213705062866,
          -1.4738798141479492,
          1.3919861316680908,
          3.654877185821533,
          -3.79180908203125,
          -4.031700611114502,
          -6.949381351470947,
          -3.255756139755249,
          -3.4855873584747314,
          -7.382232189178467,
          -6.821940898895264,
          -2.244276285171509,
          2.8363876342773438,
          -7.087294101715088,
          3.7709991931915283,
          1.0910167694091797,
          1.8874359130859375,
          -7.433017730712891,
          -2.6719446182250977,
          -0.6008395552635193,
          -6.031728267669678,
          3.318918466567993,
          -1.7057926654815674,
          -4.8750319480896,
          -0.17643123865127563,
          -4.261662483215332,
          -0.8403550982475281,
          -6.873385906219482,
          -0.015020385384559631,
          -3.2710039615631104,
          -7.161451816558838,
          0.44260674715042114,
          -2.748478412628174,
          -0.04832185059785843,
          -0.5786643028259277,
          5.3952436447143555,
          -0.603710949420929,
          3.6375961303710938,
          -1.259472370147705,
          -6.642632007598877,
          2.232264995574951,
          2.7458672523498535,
          1.3398725986480713,
          -0.6114409565925598,
          0.105940081179142,
          12.745677947998047,
          -6.762938976287842,
          -5.175473690032959,
          0.4252977669239044,
          2.747300148010254,
          -4.799745082855225,
          -1.1764624118804932,
          0.34494805335998535,
          3.955043315887451,
          -4.468829154968262,
          10.894830703735352,
          -0.05490667745471001,
          3.285153865814209,
          0.9670833349227905
         ],
         "xaxis": "x",
         "y": [
          1.353508472442627,
          1.3127665519714355,
          -0.4308820366859436,
          1.3102608919143677,
          -0.3910962641239166,
          -0.00993666984140873,
          3.147771120071411,
          -0.5594770312309265,
          1.538733720779419,
          -0.3891371786594391,
          0.8189955949783325,
          1.8299649953842163,
          1.2828967571258545,
          0.4213963449001312,
          0.4027484655380249,
          1.4722450971603394,
          1.2792413234710693,
          3.8035128116607666,
          2.1110732555389404,
          3.3496720790863037,
          -0.7336177229881287,
          -0.05319072678685188,
          -0.45036646723747253,
          4.468268394470215,
          1.2701373100280762,
          1.256290078163147,
          1.7172870635986328,
          -0.04638715833425522,
          1.5936098098754883,
          0.8147707581520081,
          0.8774669170379639,
          0.2670486867427826,
          0.012273904867470264,
          0.18190576136112213,
          -0.9860053658485413,
          3.1069014072418213,
          3.0126407146453857,
          1.8768500089645386,
          4.147984981536865,
          0.0868692621588707,
          0.6830968260765076,
          0.7065724730491638,
          -0.03626778721809387,
          0.8923296928405762,
          3.02874755859375,
          0.10977473109960556,
          2.4323108196258545,
          0.9065101146697998,
          -1.134584665298462,
          0.6794158220291138,
          1.465528130531311,
          3.1116690635681152,
          -0.5595220923423767,
          -0.4631815552711487,
          -0.4993162751197815,
          1.9169647693634033,
          2.12788987159729,
          0.16922320425510406,
          2.7656517028808594,
          3.4488492012023926,
          0.4244203269481659,
          -0.5306532979011536,
          0.33867186307907104,
          0.582837700843811,
          4.512346267700195,
          4.037283420562744,
          -0.88017338514328,
          -0.4428282678127289,
          0.7854936122894287,
          1.741360068321228,
          -0.32298335433006287,
          3.5639593601226807,
          1.667385220527649,
          2.3410754203796387,
          1.8745437860488892,
          1.2241137027740479,
          3.082815408706665,
          1.8471864461898804,
          -0.1308683604001999,
          2.7756292819976807,
          5.124053955078125,
          1.2915637493133545,
          1.626922845840454,
          0.3456258773803711,
          4.5329813957214355,
          4.103654384613037,
          -0.6842883229255676,
          1.2924072742462158,
          1.719753623008728,
          -0.967008113861084,
          1.5129570960998535,
          3.412714958190918,
          3.2959301471710205,
          1.1824214458465576,
          4.450523376464844,
          3.8379032611846924,
          3.242598533630371,
          1.7705116271972656,
          1.1168853044509888,
          -1.3283534049987793,
          1.6041210889816284,
          2.749741315841675,
          0.18894577026367188,
          -0.3427690267562866,
          2.143921136856079,
          -0.705238401889801,
          3.374082326889038,
          2.720139503479004,
          1.8053032159805298,
          3.933062791824341,
          1.2249654531478882,
          -0.811889111995697,
          1.7653522491455078,
          0.32391557097435,
          -0.9725306034088135,
          1.2643439769744873,
          -1.127058982849121,
          -0.886634111404419,
          1.1759811639785767,
          1.6747188568115234,
          0.12981729209423065,
          -0.6096936464309692,
          0.6348267197608948,
          -1.3161731958389282,
          -1.4109045267105103,
          -0.13643236458301544,
          2.4415154457092285,
          2.647789716720581,
          2.5145349502563477,
          0.10438012331724167,
          -0.2740260362625122,
          1.1193221807479858,
          1.1367876529693604,
          2.482283592224121,
          0.8880905508995056,
          1.6517397165298462,
          0.9594303369522095,
          0.4770623445510864,
          1.9868723154067993,
          0.7621561288833618,
          0.46472471952438354,
          2.3167152404785156,
          1.4218538999557495,
          -1.4046190977096558,
          2.907553195953369,
          1.7132797241210938,
          1.1695038080215454,
          -1.1148583889007568,
          0.11234799027442932,
          0.8412700295448303,
          1.8943253755569458,
          1.5362234115600586,
          0.8700885772705078,
          -0.10797732323408127,
          -2.662580728530884,
          0.6301856637001038,
          0.6434485912322998,
          2.7147722244262695,
          4.7200422286987305,
          1.6759032011032104,
          0.8688892722129822,
          -2.6511144638061523,
          2.3438968658447266,
          0.49943649768829346,
          0.40027764439582825,
          1.0904358625411987,
          1.3577057123184204,
          2.2097554206848145,
          1.8090651035308838,
          1.3132312297821045,
          2.468074321746826,
          0.6856082081794739,
          0.3609062731266022,
          0.08278526365756989,
          1.0968732833862305,
          -0.21225576102733612,
          0.6446591019630432,
          0.8213479518890381,
          0.17108900845050812,
          0.7213261723518372,
          -0.02711559645831585,
          3.082040786743164,
          2.9474122524261475,
          3.8469743728637695,
          2.9803547859191895,
          4.3272271156311035,
          4.314681053161621,
          4.027312278747559,
          3.4581427574157715,
          3.0947558879852295,
          1.553328275680542,
          0.47810548543930054,
          2.1897976398468018,
          3.0718438625335693,
          0.1625601351261139,
          1.307592511177063,
          1.0152132511138916,
          1.7892385721206665,
          0.7046555876731873,
          -0.008049380034208298,
          0.009987225756049156,
          2.2046074867248535,
          2.512587547302246,
          3.1674675941467285,
          -0.1866445690393448,
          0.8229888081550598,
          0.7586406469345093,
          2.199422836303711,
          1.1536041498184204,
          -0.7736552357673645,
          -0.24392080307006836,
          -1.5119678974151611,
          0.996120274066925,
          -0.7441008687019348,
          0.541752815246582,
          1.8506492376327515,
          -0.06982539594173431,
          -0.4434988796710968,
          1.8296343088150024,
          -1.458596110343933,
          3.4942026138305664,
          0.31334686279296875,
          0.9479058384895325,
          1.6749557256698608,
          1.3970378637313843,
          3.8416621685028076,
          1.71628999710083,
          1.9703325033187866,
          1.4532161951065063,
          0.029336601495742798,
          0.3773670494556427,
          1.9008228778839111,
          1.9514342546463013,
          -0.28398048877716064,
          -0.09832605719566345,
          0.3059661388397217,
          -0.8144572377204895,
          0.36992979049682617,
          1.1120078563690186,
          0.5751684904098511,
          0.8041236400604248,
          0.21862979233264923,
          1.501802921295166,
          2.9442338943481445,
          1.3861112594604492,
          2.1561577320098877,
          -0.6397107839584351,
          -0.68662029504776,
          0.22962023317813873,
          -0.6451789140701294,
          -1.0609486103057861,
          -0.9934626817703247,
          -1.6129015684127808,
          0.09636742621660233,
          -1.3454502820968628,
          0.09151381254196167,
          -0.24251390993595123,
          3.0627057552337646,
          -0.567913293838501,
          0.3464338779449463,
          -0.49387887120246887,
          1.1121399402618408,
          1.86589515209198,
          1.0496209859848022,
          0.20456936955451965,
          2.5757436752319336,
          2.6814615726470947,
          2.7560534477233887,
          0.7439577579498291,
          0.6432278156280518,
          0.9418713450431824,
          1.1937100887298584,
          0.27987009286880493,
          -0.21842128038406372,
          1.8815938234329224,
          -0.4167715311050415,
          -0.0007655899971723557,
          2.8946964740753174,
          3.1108996868133545,
          0.335893452167511,
          0.9025614857673645,
          -0.10579374432563782,
          1.5845576524734497,
          2.9492809772491455,
          -0.6637786626815796,
          2.6682894229888916,
          -1.4094820022583008,
          1.206606149673462,
          2.214539051055908,
          -0.2818053364753723,
          0.1469610631465912,
          -0.16341546177864075,
          2.2116689682006836,
          -0.24987080693244934,
          0.8235683441162109,
          0.7823561429977417,
          -0.6788577437400818,
          0.8965611457824707,
          3.6260628700256348,
          -1.1519711017608643,
          2.472028970718384,
          -0.8520529866218567,
          0.5343185067176819,
          0.7255316972732544,
          -0.20786595344543457,
          4.615503311157227,
          2.504775047302246,
          2.167250394821167,
          1.2365880012512207,
          0.8450040817260742,
          -0.06201115995645523,
          1.0159099102020264,
          0.08113809674978256,
          -2.5441627502441406,
          0.6745803952217102,
          1.822078824043274,
          0.7334123253822327,
          4.21859073638916,
          0.38792499899864197,
          -2.750869035720825,
          2.5532193183898926,
          0.7689015865325928,
          1.7246577739715576,
          0.49164411425590515,
          3.895622730255127,
          1.1140906810760498,
          -0.3673740327358246,
          -0.25987014174461365,
          3.663778305053711,
          1.054653525352478,
          -0.4255780577659607,
          1.7327674627304077,
          -0.2540093660354614,
          1.5627648830413818,
          1.705069899559021,
          1.5870400667190552,
          2.240978956222534,
          1.7318700551986694,
          0.8773107528686523,
          0.01209774799644947,
          3.773942232131958,
          -1.8033769130706787,
          -0.23630909621715546,
          2.9092891216278076,
          0.37666818499565125,
          1.5099027156829834,
          0.2793649137020111,
          3.9704039096832275,
          0.6469994783401489,
          -0.5882840156555176,
          1.0209096670150757,
          3.6356570720672607,
          0.7868810296058655,
          0.478209912776947,
          0.09446115791797638,
          2.360482692718506,
          1.4942196607589722,
          2.036837339401245,
          -0.3167549669742584,
          0.7021112442016602,
          1.0548412799835205,
          -1.0419542789459229,
          1.3427304029464722,
          3.8511269092559814,
          1.0347100496292114,
          -0.34370389580726624,
          2.9380571842193604,
          -1.0145539045333862,
          1.009526252746582,
          -0.04171929508447647,
          -0.9602453708648682,
          -0.12428800016641617,
          2.0779268741607666,
          3.081063747406006,
          4.125147819519043,
          -0.30452537536621094,
          1.1724814176559448,
          4.2804274559021,
          -0.03154323250055313,
          -0.24408984184265137,
          -0.5991557240486145,
          0.629707932472229,
          1.9598671197891235,
          0.4377777874469757,
          -0.6318272948265076,
          1.5911874771118164,
          0.9607565999031067,
          0.5859732627868652,
          0.4472709596157074,
          0.48588868975639343,
          -1.2413429021835327,
          -0.7209896445274353,
          1.5353668928146362,
          3.662370204925537,
          3.0289371013641357,
          -1.15754234790802,
          2.9991352558135986,
          -1.693748116493225,
          3.106339931488037,
          2.8753368854522705,
          -0.8450685739517212,
          -2.925506353378296,
          -0.9747287631034851,
          -1.9737969636917114,
          -0.6699806451797485,
          -0.764662504196167,
          -2.2651185989379883,
          0.1453171670436859,
          -0.052377913147211075,
          -0.7555031776428223,
          -0.11589006334543228,
          -0.45603951811790466,
          -3.6959927082061768,
          -2.231053352355957,
          -2.111299991607666,
          -1.6307331323623657,
          -1.9094583988189697,
          -0.9259912371635437,
          -2.843740940093994,
          -2.7265772819519043,
          -2.4134016036987305,
          -2.713498115539551,
          0.5756477117538452,
          0.647936224937439,
          0.6793688535690308,
          -0.010490840300917625,
          1.3921239376068115,
          -1.5892306566238403,
          -1.7859618663787842,
          -0.9822528958320618,
          0.07989010214805603,
          -3.208617687225342,
          -1.8186578750610352,
          -2.0390281677246094,
          1.0555778741836548,
          -2.0945749282836914,
          -2.1237757205963135,
          -1.464539885520935,
          -1.3235342502593994,
          -1.4046119451522827,
          -1.2094124555587769,
          0.8021999001502991,
          -0.8527908325195312,
          0.6790997385978699,
          -2.5525400638580322,
          -0.054460085928440094,
          -1.5899745225906372,
          -1.9039031267166138,
          1.735986590385437,
          0.3077394366264343,
          -2.3802220821380615,
          -1.3342077732086182,
          0.6592868566513062,
          -2.5002260208129883,
          -2.1675846576690674,
          -0.533200740814209,
          -0.28316593170166016,
          -2.9760780334472656,
          -1.8528224229812622,
          -2.499804735183716,
          -2.4200873374938965,
          -0.44137653708457947,
          2.269562005996704,
          -0.744659960269928,
          0.481173038482666,
          1.0652148723602295,
          -2.0141286849975586,
          -1.27097487449646,
          -1.5973775386810303,
          -1.3872357606887817,
          -3.179758071899414,
          -0.23435796797275543,
          -0.9345296621322632,
          -1.6480004787445068,
          -0.42915013432502747,
          -2.712493896484375,
          -2.511201858520508,
          -2.0486106872558594,
          -0.0792730376124382,
          -1.9008525609970093,
          -3.577881336212158,
          -1.7125523090362549,
          -1.9262549877166748,
          1.625401496887207,
          2.0311224460601807,
          -1.5496015548706055,
          -2.8324365615844727,
          -2.20981502532959,
          -0.25408998131752014,
          0.8983941078186035,
          -2.3867716789245605,
          -1.177147388458252,
          -0.8315641283988953,
          -1.4244240522384644,
          -2.6301963329315186,
          -3.015836477279663,
          -0.6309954524040222,
          0.1942470669746399,
          -2.9518566131591797,
          -2.807988166809082,
          2.5051114559173584,
          -1.1460843086242676,
          -1.429139256477356,
          0.33092978596687317,
          -1.5831592082977295,
          -1.856109380722046,
          -1.0745065212249756,
          -0.7946785688400269,
          -3.64658260345459,
          -2.6166162490844727,
          -0.5876762270927429,
          -1.981830358505249,
          -1.2353018522262573,
          -2.0570340156555176,
          1.0196138620376587,
          -1.3261841535568237,
          -1.8009170293807983,
          0.8880905508995056,
          -1.5550450086593628,
          0.6131051182746887,
          -2.0891318321228027,
          -0.01443274412304163,
          1.0776273012161255,
          0.5330542325973511,
          2.6897835731506348,
          -0.230530247092247,
          -0.2510793209075928,
          -1.6881581544876099,
          -0.8987005949020386,
          -3.2944729328155518,
          -0.5294831991195679,
          0.03463177755475044,
          -2.8987507820129395,
          -3.2943263053894043,
          -4.2361159324646,
          -3.193746566772461,
          -2.069312572479248,
          -2.3184921741485596,
          -0.7322946786880493,
          -2.8405063152313232,
          -1.69681715965271,
          -1.8906186819076538,
          -3.0406863689422607,
          2.181762218475342,
          -0.05424236133694649,
          -2.6875014305114746,
          -1.4208301305770874,
          0.9168751835823059,
          0.29274997115135193,
          -1.6815776824951172,
          -1.4332904815673828,
          -0.4414040744304657,
          0.5858666300773621,
          -2.5701704025268555,
          -1.18519127368927,
          -3.4597644805908203,
          -2.3924052715301514,
          0.6538991332054138,
          -3.398128032684326,
          2.049013137817383,
          -0.28962764143943787,
          -2.083977222442627,
          0.046109993010759354,
          -0.2475244551897049,
          -1.2596182823181152,
          0.9067797660827637,
          -1.5480968952178955,
          -2.68347430229187,
          0.3373304009437561,
          -1.2220338582992554,
          -2.66178297996521,
          -2.876370429992676,
          2.792734146118164,
          -0.05687129870057106,
          0.6833362579345703,
          -2.2681260108947754,
          2.9444222450256348,
          -0.1525435447692871,
          -1.1220721006393433,
          -2.6815576553344727,
          -1.5176653861999512,
          -1.9716240167617798,
          -3.110443353652954,
          2.2192025184631348,
          -0.4899945557117462,
          -2.4345717430114746,
          -1.0735106468200684,
          0.25342968106269836,
          1.643060326576233,
          -3.3983304500579834,
          -0.9421661496162415,
          -1.3758444786071777,
          -2.815387487411499,
          -3.9639642238616943,
          -2.4866585731506348,
          -1.1771535873413086,
          1.071161150932312,
          0.8232461810112,
          -0.6900624632835388,
          2.023200273513794,
          -0.6414828300476074,
          -1.08083975315094,
          -0.8544276356697083,
          1.2259347438812256,
          -0.42530396580696106,
          -0.7547878623008728,
          -0.2588759958744049,
          1.224149465560913,
          -1.2465174198150635,
          -1.6873434782028198,
          -1.8446917533874512,
          -1.4845340251922607,
          -0.8817901611328125,
          -2.115846633911133,
          0.9288407564163208,
          -0.38094866275787354,
          -1.6893495321273804,
          -1.3712000846862793,
          0.08152259141206741,
          -3.207490921020508,
          -2.8991482257843018,
          -0.7893673181533813,
          -3.3796751499176025,
          -1.5340077877044678,
          0.32505831122398376,
          -0.9168495535850525,
          -2.6699419021606445,
          -1.9140827655792236,
          -0.10744794458150864,
          -0.3824843168258667,
          0.8120739459991455,
          -1.5872188806533813,
          -4.240978717803955,
          -0.37077102065086365,
          -0.49651962518692017,
          -0.11041729152202606,
          -0.3488830327987671,
          -2.1968111991882324,
          0.9138370156288147,
          -0.6144957542419434,
          -0.7782573699951172,
          4.370567798614502,
          -1.4539422988891602,
          -1.0301094055175781,
          -1.1967157125473022,
          0.032289277762174606,
          0.543803334236145,
          2.744713306427002,
          -2.8670568466186523,
          0.3247525095939636,
          -1.854156732559204,
          -2.6271941661834717,
          -0.8140828013420105,
          -0.7317795753479004,
          0.9146764874458313,
          -1.6246089935302734,
          -0.29413920640945435,
          -0.45307737588882446,
          -0.2007090002298355,
          0.18240080773830414,
          -1.9931206703186035,
          -1.3576500415802002,
          0.14259803295135498,
          0.19097357988357544,
          0.20860916376113892,
          -0.12051838636398315,
          -1.4034024477005005,
          -0.026369556784629822,
          0.006929091177880764,
          1.7324583530426025,
          0.3192169964313507,
          -2.815965175628662,
          1.2700765132904053,
          -2.2949044704437256,
          0.3975670337677002,
          -0.5781568288803101,
          -0.6266605257987976,
          -0.431650847196579,
          -2.1651909351348877,
          0.36523231863975525,
          -0.20956750214099884,
          -2.980909824371338,
          1.6764971017837524,
          -2.5874063968658447,
          0.6632174849510193,
          -3.2707064151763916,
          0.28892040252685547,
          -4.278564929962158,
          -2.0026376247406006,
          -0.26552337408065796,
          1.3378318548202515,
          -1.8812532424926758,
          -0.33242377638816833,
          -1.3539087772369385,
          -2.4386487007141113,
          0.42845484614372253,
          -1.9690520763397217,
          -2.320812225341797,
          1.018433928489685,
          -3.1242148876190186,
          0.04161563888192177,
          -1.3894176483154297,
          -2.3418426513671875,
          -2.314460277557373,
          -2.0293588638305664,
          -2.3334569931030273,
          -1.0483044385910034,
          -1.401878833770752,
          -1.7460957765579224,
          -3.451444149017334,
          -1.5540443658828735,
          -0.5390552878379822,
          1.0832010507583618,
          0.16959509253501892,
          0.0706789642572403,
          1.7258853912353516,
          -0.5673243403434753,
          -1.3576953411102295,
          0.07268350571393967,
          -0.792414128780365,
          0.18142075836658478,
          -1.4740445613861084,
          0.34627673029899597,
          0.13330447673797607,
          -0.4949469566345215,
          -0.4260808527469635,
          -1.9139795303344727,
          1.1707390546798706,
          0.08557706326246262,
          -0.7587377429008484,
          0.5152838826179504,
          -1.3902723789215088,
          -1.8808835744857788,
          -2.660599946975708,
          -1.72703218460083,
          2.420388698577881,
          -1.956538438796997,
          -3.310330867767334,
          -1.0900311470031738,
          0.6963279247283936,
          -0.6683705449104309,
          -0.49450287222862244,
          -1.424689531326294,
          -0.1919887363910675,
          -2.2474544048309326,
          -1.6312941312789917,
          -1.6079235076904297,
          -3.163039445877075,
          -0.9154074788093567,
          -2.5197882652282715,
          -1.7113430500030518,
          -2.1332526206970215,
          -0.09916392713785172,
          0.10132863372564316,
          -3.066079616546631,
          -2.3878817558288574,
          -0.8796462416648865,
          -2.0974643230438232,
          -1.3307636976242065,
          -0.8122550845146179,
          -3.6376137733459473,
          -3.4776527881622314,
          -1.679017186164856,
          -2.082881212234497,
          -0.8023965954780579,
          -2.530144214630127,
          1.5192548036575317,
          -2.641925811767578,
          1.1723803281784058,
          -0.08347652107477188,
          0.7367561459541321,
          -1.9099857807159424,
          -1.8268325328826904,
          -2.1729965209960938,
          0.7165820598602295,
          1.958842396736145,
          -2.8036022186279297,
          2.197411298751831,
          -1.4959598779678345,
          0.44099143147468567,
          -0.14921529591083527,
          -1.784517765045166,
          -1.07594633102417,
          -0.542869508266449,
          0.8722248673439026,
          -1.9087883234024048,
          0.1333177536725998,
          -0.35068458318710327,
          -2.8953328132629395,
          1.2281177043914795,
          -0.44150882959365845,
          -0.43701618909835815,
          -0.703259289264679,
          -1.666045904159546,
          -1.1992100477218628,
          -1.295986294746399,
          -1.3242210149765015,
          0.7193742990493774,
          -2.755934953689575,
          -0.1984262615442276,
          0.6536785364151001,
          0.7332730889320374,
          -0.9680695533752441,
          -0.9863186478614807,
          1.0254878997802734,
          1.2500145435333252,
          0.9582270383834839,
          -2.3705365657806396,
          2.980938196182251,
          -0.2421162873506546,
          0.7135676741600037,
          0.48052507638931274,
          3.889526128768921,
          3.0678272247314453,
          -0.8624644875526428,
          0.6333566904067993,
          1.1236296892166138,
          -0.5640408992767334,
          -1.691535234451294,
          -0.44319429993629456,
          1.685099482536316,
          1.4353275299072266,
          -1.6571630239486694,
          0.9823316931724548,
          0.6776140928268433,
          1.9976820945739746,
          -2.314192295074463,
          -1.7577155828475952,
          -0.6392568349838257,
          -2.6411550045013428,
          -1.3043161630630493,
          -1.9427660703659058,
          -0.5653756260871887,
          -1.4850934743881226,
          -1.7658158540725708,
          -0.7747510075569153,
          -0.6099746823310852,
          -3.7164907455444336,
          -1.488937497138977,
          1.3869928121566772,
          -0.7614147067070007,
          -2.496865749359131,
          -2.004176616668701,
          0.795204222202301,
          -2.080350875854492,
          0.33981913328170776,
          -1.3790557384490967,
          -1.0697942972183228,
          -1.4187668561935425,
          -0.212066188454628,
          -0.20192670822143555,
          -2.7577028274536133,
          -0.6922967433929443,
          -1.1608142852783203,
          -1.154624342918396,
          1.9114726781845093,
          -2.445214033126831,
          0.8908766508102417,
          -0.701525092124939,
          -2.2594070434570312,
          -2.1558914184570312,
          -1.662146806716919,
          -0.42210519313812256,
          0.6952089071273804,
          -2.3389618396759033,
          -1.7549041509628296,
          -0.3995089530944824,
          -2.920419931411743,
          -0.10813587158918381,
          -0.3384466767311096,
          -1.398652195930481,
          -0.45290854573249817,
          -0.06662607938051224,
          1.454742670059204,
          -1.5930688381195068,
          -2.18701171875,
          -1.5983288288116455,
          -2.3429811000823975,
          -2.220231056213379,
          -0.8531693816184998,
          -1.1001229286193848,
          -3.552644729614258,
          -1.4835442304611206,
          -1.3193881511688232,
          -1.287287712097168,
          -1.8001916408538818,
          1.638710856437683,
          -1.8864613771438599,
          1.347139596939087,
          -3.3718481063842773,
          -0.2331143617630005,
          -0.17258015275001526,
          -1.3098058700561523,
          -3.3083441257476807,
          -3.139787435531616,
          -0.3762734532356262,
          -3.8527748584747314,
          -3.6962344646453857,
          -2.654341697692871,
          0.19074779748916626,
          -0.5850366353988647,
          0.6263822317123413,
          -0.7696946263313293,
          0.6392661333084106,
          -0.136970654129982,
          -1.1720972061157227,
          -0.0858386754989624,
          -0.965843915939331,
          0.9991666674613953,
          0.39613625407218933,
          -0.598538875579834,
          -1.638480544090271,
          -0.31678593158721924,
          -1.1991041898727417,
          1.7238510847091675,
          0.5911040306091309,
          -2.567929983139038,
          -0.6469200253486633,
          -1.2223656177520752,
          0.4937945604324341,
          -2.059272527694702,
          -3.2102577686309814,
          -1.1379183530807495,
          0.3407208323478699,
          1.7880580425262451,
          1.2337790727615356,
          -2.281240463256836,
          1.113875150680542,
          -1.338865041732788,
          0.2332778424024582,
          1.1229259967803955,
          0.6544176340103149,
          0.867569088935852,
          0.8276069760322571,
          -1.1374828815460205,
          -1.4357584714889526,
          3.708005428314209,
          2.4485397338867188,
          2.4141814708709717,
          -0.3458613157272339,
          1.2749967575073242,
          1.3278394937515259,
          1.3535254001617432,
          0.6199033260345459,
          1.1165770292282104,
          -0.723601222038269,
          -0.6140854954719543,
          1.0583773851394653,
          0.6114948987960815,
          2.70139741897583,
          0.4085129201412201,
          0.4327993392944336,
          -0.6601995825767517,
          0.12225892394781113,
          2.38258695602417,
          -0.7516428232192993,
          1.4228276014328003,
          3.7012670040130615,
          0.004953496158123016,
          2.864861249923706,
          -0.4627005159854889,
          -0.7006086707115173,
          -0.9598100185394287,
          -0.6904593110084534,
          -0.37310606241226196,
          2.6979732513427734,
          1.6784472465515137,
          0.7165464758872986,
          0.21512803435325623,
          0.9689821600914001,
          0.6240825057029724,
          0.06868144124746323,
          -0.7623195648193359,
          1.5450433492660522,
          2.500426769256592,
          -1.51222825050354,
          -0.6195539236068726,
          -0.1895597279071808,
          -1.185044527053833,
          1.503235101699829,
          1.057844638824463,
          -2.4189445972442627,
          -0.8321429491043091,
          2.597569227218628,
          2.6363425254821777,
          2.462308168411255,
          -0.8690320253372192,
          0.670381486415863,
          -0.27198153734207153,
          -0.5872735977172852,
          -0.0005915649235248566,
          2.1633949279785156,
          2.078812837600708,
          1.8843317031860352,
          0.450479120016098,
          0.0030452206265181303,
          -1.092664122581482,
          3.45815110206604,
          0.7272176742553711,
          -2.9956116676330566
         ],
         "yaxis": "y"
        }
       ],
       "layout": {
        "coloraxis": {
         "colorbar": {
          "title": {
           "text": "color"
          }
         },
         "colorscale": [
          [
           0,
           "rgb(255,0,0)"
          ],
          [
           1,
           "rgb(0,0,255)"
          ]
         ]
        },
        "height": 600,
        "legend": {
         "tracegroupgap": 0
        },
        "margin": {
         "t": 60
        },
        "template": {
         "data": {
          "bar": [
           {
            "error_x": {
             "color": "#2a3f5f"
            },
            "error_y": {
             "color": "#2a3f5f"
            },
            "marker": {
             "line": {
              "color": "#E5ECF6",
              "width": 0.5
             },
             "pattern": {
              "fillmode": "overlay",
              "size": 10,
              "solidity": 0.2
             }
            },
            "type": "bar"
           }
          ],
          "barpolar": [
           {
            "marker": {
             "line": {
              "color": "#E5ECF6",
              "width": 0.5
             },
             "pattern": {
              "fillmode": "overlay",
              "size": 10,
              "solidity": 0.2
             }
            },
            "type": "barpolar"
           }
          ],
          "carpet": [
           {
            "aaxis": {
             "endlinecolor": "#2a3f5f",
             "gridcolor": "white",
             "linecolor": "white",
             "minorgridcolor": "white",
             "startlinecolor": "#2a3f5f"
            },
            "baxis": {
             "endlinecolor": "#2a3f5f",
             "gridcolor": "white",
             "linecolor": "white",
             "minorgridcolor": "white",
             "startlinecolor": "#2a3f5f"
            },
            "type": "carpet"
           }
          ],
          "choropleth": [
           {
            "colorbar": {
             "outlinewidth": 0,
             "ticks": ""
            },
            "type": "choropleth"
           }
          ],
          "contour": [
           {
            "colorbar": {
             "outlinewidth": 0,
             "ticks": ""
            },
            "colorscale": [
             [
              0,
              "#0d0887"
             ],
             [
              0.1111111111111111,
              "#46039f"
             ],
             [
              0.2222222222222222,
              "#7201a8"
             ],
             [
              0.3333333333333333,
              "#9c179e"
             ],
             [
              0.4444444444444444,
              "#bd3786"
             ],
             [
              0.5555555555555556,
              "#d8576b"
             ],
             [
              0.6666666666666666,
              "#ed7953"
             ],
             [
              0.7777777777777778,
              "#fb9f3a"
             ],
             [
              0.8888888888888888,
              "#fdca26"
             ],
             [
              1,
              "#f0f921"
             ]
            ],
            "type": "contour"
           }
          ],
          "contourcarpet": [
           {
            "colorbar": {
             "outlinewidth": 0,
             "ticks": ""
            },
            "type": "contourcarpet"
           }
          ],
          "heatmap": [
           {
            "colorbar": {
             "outlinewidth": 0,
             "ticks": ""
            },
            "colorscale": [
             [
              0,
              "#0d0887"
             ],
             [
              0.1111111111111111,
              "#46039f"
             ],
             [
              0.2222222222222222,
              "#7201a8"
             ],
             [
              0.3333333333333333,
              "#9c179e"
             ],
             [
              0.4444444444444444,
              "#bd3786"
             ],
             [
              0.5555555555555556,
              "#d8576b"
             ],
             [
              0.6666666666666666,
              "#ed7953"
             ],
             [
              0.7777777777777778,
              "#fb9f3a"
             ],
             [
              0.8888888888888888,
              "#fdca26"
             ],
             [
              1,
              "#f0f921"
             ]
            ],
            "type": "heatmap"
           }
          ],
          "heatmapgl": [
           {
            "colorbar": {
             "outlinewidth": 0,
             "ticks": ""
            },
            "colorscale": [
             [
              0,
              "#0d0887"
             ],
             [
              0.1111111111111111,
              "#46039f"
             ],
             [
              0.2222222222222222,
              "#7201a8"
             ],
             [
              0.3333333333333333,
              "#9c179e"
             ],
             [
              0.4444444444444444,
              "#bd3786"
             ],
             [
              0.5555555555555556,
              "#d8576b"
             ],
             [
              0.6666666666666666,
              "#ed7953"
             ],
             [
              0.7777777777777778,
              "#fb9f3a"
             ],
             [
              0.8888888888888888,
              "#fdca26"
             ],
             [
              1,
              "#f0f921"
             ]
            ],
            "type": "heatmapgl"
           }
          ],
          "histogram": [
           {
            "marker": {
             "pattern": {
              "fillmode": "overlay",
              "size": 10,
              "solidity": 0.2
             }
            },
            "type": "histogram"
           }
          ],
          "histogram2d": [
           {
            "colorbar": {
             "outlinewidth": 0,
             "ticks": ""
            },
            "colorscale": [
             [
              0,
              "#0d0887"
             ],
             [
              0.1111111111111111,
              "#46039f"
             ],
             [
              0.2222222222222222,
              "#7201a8"
             ],
             [
              0.3333333333333333,
              "#9c179e"
             ],
             [
              0.4444444444444444,
              "#bd3786"
             ],
             [
              0.5555555555555556,
              "#d8576b"
             ],
             [
              0.6666666666666666,
              "#ed7953"
             ],
             [
              0.7777777777777778,
              "#fb9f3a"
             ],
             [
              0.8888888888888888,
              "#fdca26"
             ],
             [
              1,
              "#f0f921"
             ]
            ],
            "type": "histogram2d"
           }
          ],
          "histogram2dcontour": [
           {
            "colorbar": {
             "outlinewidth": 0,
             "ticks": ""
            },
            "colorscale": [
             [
              0,
              "#0d0887"
             ],
             [
              0.1111111111111111,
              "#46039f"
             ],
             [
              0.2222222222222222,
              "#7201a8"
             ],
             [
              0.3333333333333333,
              "#9c179e"
             ],
             [
              0.4444444444444444,
              "#bd3786"
             ],
             [
              0.5555555555555556,
              "#d8576b"
             ],
             [
              0.6666666666666666,
              "#ed7953"
             ],
             [
              0.7777777777777778,
              "#fb9f3a"
             ],
             [
              0.8888888888888888,
              "#fdca26"
             ],
             [
              1,
              "#f0f921"
             ]
            ],
            "type": "histogram2dcontour"
           }
          ],
          "mesh3d": [
           {
            "colorbar": {
             "outlinewidth": 0,
             "ticks": ""
            },
            "type": "mesh3d"
           }
          ],
          "parcoords": [
           {
            "line": {
             "colorbar": {
              "outlinewidth": 0,
              "ticks": ""
             }
            },
            "type": "parcoords"
           }
          ],
          "pie": [
           {
            "automargin": true,
            "type": "pie"
           }
          ],
          "scatter": [
           {
            "fillpattern": {
             "fillmode": "overlay",
             "size": 10,
             "solidity": 0.2
            },
            "type": "scatter"
           }
          ],
          "scatter3d": [
           {
            "line": {
             "colorbar": {
              "outlinewidth": 0,
              "ticks": ""
             }
            },
            "marker": {
             "colorbar": {
              "outlinewidth": 0,
              "ticks": ""
             }
            },
            "type": "scatter3d"
           }
          ],
          "scattercarpet": [
           {
            "marker": {
             "colorbar": {
              "outlinewidth": 0,
              "ticks": ""
             }
            },
            "type": "scattercarpet"
           }
          ],
          "scattergeo": [
           {
            "marker": {
             "colorbar": {
              "outlinewidth": 0,
              "ticks": ""
             }
            },
            "type": "scattergeo"
           }
          ],
          "scattergl": [
           {
            "marker": {
             "colorbar": {
              "outlinewidth": 0,
              "ticks": ""
             }
            },
            "type": "scattergl"
           }
          ],
          "scattermapbox": [
           {
            "marker": {
             "colorbar": {
              "outlinewidth": 0,
              "ticks": ""
             }
            },
            "type": "scattermapbox"
           }
          ],
          "scatterpolar": [
           {
            "marker": {
             "colorbar": {
              "outlinewidth": 0,
              "ticks": ""
             }
            },
            "type": "scatterpolar"
           }
          ],
          "scatterpolargl": [
           {
            "marker": {
             "colorbar": {
              "outlinewidth": 0,
              "ticks": ""
             }
            },
            "type": "scatterpolargl"
           }
          ],
          "scatterternary": [
           {
            "marker": {
             "colorbar": {
              "outlinewidth": 0,
              "ticks": ""
             }
            },
            "type": "scatterternary"
           }
          ],
          "surface": [
           {
            "colorbar": {
             "outlinewidth": 0,
             "ticks": ""
            },
            "colorscale": [
             [
              0,
              "#0d0887"
             ],
             [
              0.1111111111111111,
              "#46039f"
             ],
             [
              0.2222222222222222,
              "#7201a8"
             ],
             [
              0.3333333333333333,
              "#9c179e"
             ],
             [
              0.4444444444444444,
              "#bd3786"
             ],
             [
              0.5555555555555556,
              "#d8576b"
             ],
             [
              0.6666666666666666,
              "#ed7953"
             ],
             [
              0.7777777777777778,
              "#fb9f3a"
             ],
             [
              0.8888888888888888,
              "#fdca26"
             ],
             [
              1,
              "#f0f921"
             ]
            ],
            "type": "surface"
           }
          ],
          "table": [
           {
            "cells": {
             "fill": {
              "color": "#EBF0F8"
             },
             "line": {
              "color": "white"
             }
            },
            "header": {
             "fill": {
              "color": "#C8D4E3"
             },
             "line": {
              "color": "white"
             }
            },
            "type": "table"
           }
          ]
         },
         "layout": {
          "annotationdefaults": {
           "arrowcolor": "#2a3f5f",
           "arrowhead": 0,
           "arrowwidth": 1
          },
          "autotypenumbers": "strict",
          "coloraxis": {
           "colorbar": {
            "outlinewidth": 0,
            "ticks": ""
           }
          },
          "colorscale": {
           "diverging": [
            [
             0,
             "#8e0152"
            ],
            [
             0.1,
             "#c51b7d"
            ],
            [
             0.2,
             "#de77ae"
            ],
            [
             0.3,
             "#f1b6da"
            ],
            [
             0.4,
             "#fde0ef"
            ],
            [
             0.5,
             "#f7f7f7"
            ],
            [
             0.6,
             "#e6f5d0"
            ],
            [
             0.7,
             "#b8e186"
            ],
            [
             0.8,
             "#7fbc41"
            ],
            [
             0.9,
             "#4d9221"
            ],
            [
             1,
             "#276419"
            ]
           ],
           "sequential": [
            [
             0,
             "#0d0887"
            ],
            [
             0.1111111111111111,
             "#46039f"
            ],
            [
             0.2222222222222222,
             "#7201a8"
            ],
            [
             0.3333333333333333,
             "#9c179e"
            ],
            [
             0.4444444444444444,
             "#bd3786"
            ],
            [
             0.5555555555555556,
             "#d8576b"
            ],
            [
             0.6666666666666666,
             "#ed7953"
            ],
            [
             0.7777777777777778,
             "#fb9f3a"
            ],
            [
             0.8888888888888888,
             "#fdca26"
            ],
            [
             1,
             "#f0f921"
            ]
           ],
           "sequentialminus": [
            [
             0,
             "#0d0887"
            ],
            [
             0.1111111111111111,
             "#46039f"
            ],
            [
             0.2222222222222222,
             "#7201a8"
            ],
            [
             0.3333333333333333,
             "#9c179e"
            ],
            [
             0.4444444444444444,
             "#bd3786"
            ],
            [
             0.5555555555555556,
             "#d8576b"
            ],
            [
             0.6666666666666666,
             "#ed7953"
            ],
            [
             0.7777777777777778,
             "#fb9f3a"
            ],
            [
             0.8888888888888888,
             "#fdca26"
            ],
            [
             1,
             "#f0f921"
            ]
           ]
          },
          "colorway": [
           "#636efa",
           "#EF553B",
           "#00cc96",
           "#ab63fa",
           "#FFA15A",
           "#19d3f3",
           "#FF6692",
           "#B6E880",
           "#FF97FF",
           "#FECB52"
          ],
          "font": {
           "color": "#2a3f5f"
          },
          "geo": {
           "bgcolor": "white",
           "lakecolor": "white",
           "landcolor": "#E5ECF6",
           "showlakes": true,
           "showland": true,
           "subunitcolor": "white"
          },
          "hoverlabel": {
           "align": "left"
          },
          "hovermode": "closest",
          "mapbox": {
           "style": "light"
          },
          "paper_bgcolor": "white",
          "plot_bgcolor": "#E5ECF6",
          "polar": {
           "angularaxis": {
            "gridcolor": "white",
            "linecolor": "white",
            "ticks": ""
           },
           "bgcolor": "#E5ECF6",
           "radialaxis": {
            "gridcolor": "white",
            "linecolor": "white",
            "ticks": ""
           }
          },
          "scene": {
           "xaxis": {
            "backgroundcolor": "#E5ECF6",
            "gridcolor": "white",
            "gridwidth": 2,
            "linecolor": "white",
            "showbackground": true,
            "ticks": "",
            "zerolinecolor": "white"
           },
           "yaxis": {
            "backgroundcolor": "#E5ECF6",
            "gridcolor": "white",
            "gridwidth": 2,
            "linecolor": "white",
            "showbackground": true,
            "ticks": "",
            "zerolinecolor": "white"
           },
           "zaxis": {
            "backgroundcolor": "#E5ECF6",
            "gridcolor": "white",
            "gridwidth": 2,
            "linecolor": "white",
            "showbackground": true,
            "ticks": "",
            "zerolinecolor": "white"
           }
          },
          "shapedefaults": {
           "line": {
            "color": "#2a3f5f"
           }
          },
          "ternary": {
           "aaxis": {
            "gridcolor": "white",
            "linecolor": "white",
            "ticks": ""
           },
           "baxis": {
            "gridcolor": "white",
            "linecolor": "white",
            "ticks": ""
           },
           "bgcolor": "#E5ECF6",
           "caxis": {
            "gridcolor": "white",
            "linecolor": "white",
            "ticks": ""
           }
          },
          "title": {
           "x": 0.05
          },
          "xaxis": {
           "automargin": true,
           "gridcolor": "white",
           "linecolor": "white",
           "ticks": "",
           "title": {
            "standoff": 15
           },
           "zerolinecolor": "white",
           "zerolinewidth": 2
          },
          "yaxis": {
           "automargin": true,
           "gridcolor": "white",
           "linecolor": "white",
           "ticks": "",
           "title": {
            "standoff": 15
           },
           "zerolinecolor": "white",
           "zerolinewidth": 2
          }
         }
        },
        "width": 800,
        "xaxis": {
         "anchor": "y",
         "domain": [
          0,
          1
         ],
         "title": {
          "text": "x1"
         }
        },
        "yaxis": {
         "anchor": "x",
         "domain": [
          0,
          1
         ],
         "title": {
          "text": "x2"
         }
        }
       }
      }
     },
     "metadata": {},
     "output_type": "display_data"
    }
   ],
   "source": [
    "import plotly.express as px\n",
    "fig = px.scatter( emb_2d, x='x1', y='x2', color='color', width=800, height=600, \\\n",
    "                  color_continuous_scale=\"Bluered_r\", hover_name=\"label\" )\n",
    "fig.show()"
   ]
  },
  {
   "cell_type": "code",
   "execution_count": null,
   "metadata": {},
   "outputs": [],
   "source": [
    "## Выполнить после задания: Получится ли у нас график укрупненных групп Imagenet?\n",
    "# Добавим в нашу Pandas-таблицу несколько столбцов.\n",
    "\n",
    "# - **Короткое название:** _мы его быстро сконструируем из названий в списке_ `IMAGENET_LABELS`_, отрезав все что находится после первой запятой_\n",
    "# - **Класс:** преобразуем отметку кластера `clustering.labels_` в строку (`.astype(str)`), чтобы получить дискретную шкалу\n",
    "\n",
    "# Потом узнаем, сколько классов в нашей модели."
   ]
  },
  {
   "cell_type": "code",
   "execution_count": 38,
   "metadata": {},
   "outputs": [
    {
     "data": {
      "text/plain": [
       "1000"
      ]
     },
     "execution_count": 38,
     "metadata": {},
     "output_type": "execute_result"
    }
   ],
   "source": [
    "emb_2d[\"short_name\"] = [ s.split(\",\")[0] for s in IMAGENET_LABELS_list ]\n",
    "emb_2d['color'] = clustering.labels_.astype(str)\n",
    "emb_2d['color'].nunique()"
   ]
  },
  {
   "cell_type": "code",
   "execution_count": 39,
   "metadata": {},
   "outputs": [
    {
     "data": {
      "application/vnd.plotly.v1+json": {
       "config": {
        "plotlyServerURL": "https://plot.ly"
       },
       "data": [
        {
         "hovertemplate": "<b>%{hovertext}</b><br><br>color=764<br>x1=%{x}<br>x2=%{y}<extra></extra>",
         "hovertext": [
          "tench"
         ],
         "legendgroup": "764",
         "marker": {
          "color": "#636efa",
          "symbol": "circle"
         },
         "mode": "markers",
         "name": "764",
         "orientation": "v",
         "showlegend": true,
         "type": "scatter",
         "x": [
          2.3137474060058594
         ],
         "xaxis": "x",
         "y": [
          1.353508472442627
         ],
         "yaxis": "y"
        },
        {
         "hovertemplate": "<b>%{hovertext}</b><br><br>color=911<br>x1=%{x}<br>x2=%{y}<extra></extra>",
         "hovertext": [
          "goldfish"
         ],
         "legendgroup": "911",
         "marker": {
          "color": "#EF553B",
          "symbol": "circle"
         },
         "mode": "markers",
         "name": "911",
         "orientation": "v",
         "showlegend": true,
         "type": "scatter",
         "x": [
          4.1746907234191895
         ],
         "xaxis": "x",
         "y": [
          1.3127665519714355
         ],
         "yaxis": "y"
        },
        {
         "hovertemplate": "<b>%{hovertext}</b><br><br>color=981<br>x1=%{x}<br>x2=%{y}<extra></extra>",
         "hovertext": [
          "great white shark"
         ],
         "legendgroup": "981",
         "marker": {
          "color": "#00cc96",
          "symbol": "circle"
         },
         "mode": "markers",
         "name": "981",
         "orientation": "v",
         "showlegend": true,
         "type": "scatter",
         "x": [
          8.515654563903809
         ],
         "xaxis": "x",
         "y": [
          -0.4308820366859436
         ],
         "yaxis": "y"
        },
        {
         "hovertemplate": "<b>%{hovertext}</b><br><br>color=832<br>x1=%{x}<br>x2=%{y}<extra></extra>",
         "hovertext": [
          "tiger shark"
         ],
         "legendgroup": "832",
         "marker": {
          "color": "#ab63fa",
          "symbol": "circle"
         },
         "mode": "markers",
         "name": "832",
         "orientation": "v",
         "showlegend": true,
         "type": "scatter",
         "x": [
          4.332142353057861
         ],
         "xaxis": "x",
         "y": [
          1.3102608919143677
         ],
         "yaxis": "y"
        },
        {
         "hovertemplate": "<b>%{hovertext}</b><br><br>color=709<br>x1=%{x}<br>x2=%{y}<extra></extra>",
         "hovertext": [
          "hammerhead"
         ],
         "legendgroup": "709",
         "marker": {
          "color": "#FFA15A",
          "symbol": "circle"
         },
         "mode": "markers",
         "name": "709",
         "orientation": "v",
         "showlegend": true,
         "type": "scatter",
         "x": [
          -0.4990934729576111
         ],
         "xaxis": "x",
         "y": [
          -0.3910962641239166
         ],
         "yaxis": "y"
        },
        {
         "hovertemplate": "<b>%{hovertext}</b><br><br>color=562<br>x1=%{x}<br>x2=%{y}<extra></extra>",
         "hovertext": [
          "electric ray"
         ],
         "legendgroup": "562",
         "marker": {
          "color": "#19d3f3",
          "symbol": "circle"
         },
         "mode": "markers",
         "name": "562",
         "orientation": "v",
         "showlegend": true,
         "type": "scatter",
         "x": [
          3.9996867179870605
         ],
         "xaxis": "x",
         "y": [
          -0.00993666984140873
         ],
         "yaxis": "y"
        },
        {
         "hovertemplate": "<b>%{hovertext}</b><br><br>color=711<br>x1=%{x}<br>x2=%{y}<extra></extra>",
         "hovertext": [
          "stingray"
         ],
         "legendgroup": "711",
         "marker": {
          "color": "#FF6692",
          "symbol": "circle"
         },
         "mode": "markers",
         "name": "711",
         "orientation": "v",
         "showlegend": true,
         "type": "scatter",
         "x": [
          -3.1604177951812744
         ],
         "xaxis": "x",
         "y": [
          3.147771120071411
         ],
         "yaxis": "y"
        },
        {
         "hovertemplate": "<b>%{hovertext}</b><br><br>color=919<br>x1=%{x}<br>x2=%{y}<extra></extra>",
         "hovertext": [
          "cock"
         ],
         "legendgroup": "919",
         "marker": {
          "color": "#B6E880",
          "symbol": "circle"
         },
         "mode": "markers",
         "name": "919",
         "orientation": "v",
         "showlegend": true,
         "type": "scatter",
         "x": [
          -6.81293249130249
         ],
         "xaxis": "x",
         "y": [
          -0.5594770312309265
         ],
         "yaxis": "y"
        },
        {
         "hovertemplate": "<b>%{hovertext}</b><br><br>color=574<br>x1=%{x}<br>x2=%{y}<extra></extra>",
         "hovertext": [
          "hen"
         ],
         "legendgroup": "574",
         "marker": {
          "color": "#FF97FF",
          "symbol": "circle"
         },
         "mode": "markers",
         "name": "574",
         "orientation": "v",
         "showlegend": true,
         "type": "scatter",
         "x": [
          -2.8793845176696777
         ],
         "xaxis": "x",
         "y": [
          1.538733720779419
         ],
         "yaxis": "y"
        },
        {
         "hovertemplate": "<b>%{hovertext}</b><br><br>color=913<br>x1=%{x}<br>x2=%{y}<extra></extra>",
         "hovertext": [
          "ostrich"
         ],
         "legendgroup": "913",
         "marker": {
          "color": "#FECB52",
          "symbol": "circle"
         },
         "mode": "markers",
         "name": "913",
         "orientation": "v",
         "showlegend": true,
         "type": "scatter",
         "x": [
          5.319265365600586
         ],
         "xaxis": "x",
         "y": [
          -0.3891371786594391
         ],
         "yaxis": "y"
        },
        {
         "hovertemplate": "<b>%{hovertext}</b><br><br>color=917<br>x1=%{x}<br>x2=%{y}<extra></extra>",
         "hovertext": [
          "brambling"
         ],
         "legendgroup": "917",
         "marker": {
          "color": "#636efa",
          "symbol": "circle"
         },
         "mode": "markers",
         "name": "917",
         "orientation": "v",
         "showlegend": true,
         "type": "scatter",
         "x": [
          5.887844085693359
         ],
         "xaxis": "x",
         "y": [
          0.8189955949783325
         ],
         "yaxis": "y"
        },
        {
         "hovertemplate": "<b>%{hovertext}</b><br><br>color=899<br>x1=%{x}<br>x2=%{y}<extra></extra>",
         "hovertext": [
          "goldfinch"
         ],
         "legendgroup": "899",
         "marker": {
          "color": "#EF553B",
          "symbol": "circle"
         },
         "mode": "markers",
         "name": "899",
         "orientation": "v",
         "showlegend": true,
         "type": "scatter",
         "x": [
          4.7986016273498535
         ],
         "xaxis": "x",
         "y": [
          1.8299649953842163
         ],
         "yaxis": "y"
        },
        {
         "hovertemplate": "<b>%{hovertext}</b><br><br>color=974<br>x1=%{x}<br>x2=%{y}<extra></extra>",
         "hovertext": [
          "house finch"
         ],
         "legendgroup": "974",
         "marker": {
          "color": "#00cc96",
          "symbol": "circle"
         },
         "mode": "markers",
         "name": "974",
         "orientation": "v",
         "showlegend": true,
         "type": "scatter",
         "x": [
          9.065475463867188
         ],
         "xaxis": "x",
         "y": [
          1.2828967571258545
         ],
         "yaxis": "y"
        },
        {
         "hovertemplate": "<b>%{hovertext}</b><br><br>color=979<br>x1=%{x}<br>x2=%{y}<extra></extra>",
         "hovertext": [
          "junco"
         ],
         "legendgroup": "979",
         "marker": {
          "color": "#ab63fa",
          "symbol": "circle"
         },
         "mode": "markers",
         "name": "979",
         "orientation": "v",
         "showlegend": true,
         "type": "scatter",
         "x": [
          1.1330031156539917
         ],
         "xaxis": "x",
         "y": [
          0.4213963449001312
         ],
         "yaxis": "y"
        },
        {
         "hovertemplate": "<b>%{hovertext}</b><br><br>color=972<br>x1=%{x}<br>x2=%{y}<extra></extra>",
         "hovertext": [
          "indigo bunting"
         ],
         "legendgroup": "972",
         "marker": {
          "color": "#FFA15A",
          "symbol": "circle"
         },
         "mode": "markers",
         "name": "972",
         "orientation": "v",
         "showlegend": true,
         "type": "scatter",
         "x": [
          8.320767402648926
         ],
         "xaxis": "x",
         "y": [
          0.4027484655380249
         ],
         "yaxis": "y"
        },
        {
         "hovertemplate": "<b>%{hovertext}</b><br><br>color=989<br>x1=%{x}<br>x2=%{y}<extra></extra>",
         "hovertext": [
          "robin"
         ],
         "legendgroup": "989",
         "marker": {
          "color": "#19d3f3",
          "symbol": "circle"
         },
         "mode": "markers",
         "name": "989",
         "orientation": "v",
         "showlegend": true,
         "type": "scatter",
         "x": [
          6.323700428009033
         ],
         "xaxis": "x",
         "y": [
          1.4722450971603394
         ],
         "yaxis": "y"
        },
        {
         "hovertemplate": "<b>%{hovertext}</b><br><br>color=634<br>x1=%{x}<br>x2=%{y}<extra></extra>",
         "hovertext": [
          "bulbul"
         ],
         "legendgroup": "634",
         "marker": {
          "color": "#FF6692",
          "symbol": "circle"
         },
         "mode": "markers",
         "name": "634",
         "orientation": "v",
         "showlegend": true,
         "type": "scatter",
         "x": [
          -2.2775192260742188
         ],
         "xaxis": "x",
         "y": [
          1.2792413234710693
         ],
         "yaxis": "y"
        },
        {
         "hovertemplate": "<b>%{hovertext}</b><br><br>color=509<br>x1=%{x}<br>x2=%{y}<extra></extra>",
         "hovertext": [
          "jay"
         ],
         "legendgroup": "509",
         "marker": {
          "color": "#B6E880",
          "symbol": "circle"
         },
         "mode": "markers",
         "name": "509",
         "orientation": "v",
         "showlegend": true,
         "type": "scatter",
         "x": [
          -3.606628179550171
         ],
         "xaxis": "x",
         "y": [
          3.8035128116607666
         ],
         "yaxis": "y"
        },
        {
         "hovertemplate": "<b>%{hovertext}</b><br><br>color=861<br>x1=%{x}<br>x2=%{y}<extra></extra>",
         "hovertext": [
          "magpie"
         ],
         "legendgroup": "861",
         "marker": {
          "color": "#FF97FF",
          "symbol": "circle"
         },
         "mode": "markers",
         "name": "861",
         "orientation": "v",
         "showlegend": true,
         "type": "scatter",
         "x": [
          -0.030089356005191803
         ],
         "xaxis": "x",
         "y": [
          2.1110732555389404
         ],
         "yaxis": "y"
        },
        {
         "hovertemplate": "<b>%{hovertext}</b><br><br>color=757<br>x1=%{x}<br>x2=%{y}<extra></extra>",
         "hovertext": [
          "chickadee"
         ],
         "legendgroup": "757",
         "marker": {
          "color": "#FECB52",
          "symbol": "circle"
         },
         "mode": "markers",
         "name": "757",
         "orientation": "v",
         "showlegend": true,
         "type": "scatter",
         "x": [
          -1.1375141143798828
         ],
         "xaxis": "x",
         "y": [
          3.3496720790863037
         ],
         "yaxis": "y"
        },
        {
         "hovertemplate": "<b>%{hovertext}</b><br><br>color=871<br>x1=%{x}<br>x2=%{y}<extra></extra>",
         "hovertext": [
          "water ouzel"
         ],
         "legendgroup": "871",
         "marker": {
          "color": "#636efa",
          "symbol": "circle"
         },
         "mode": "markers",
         "name": "871",
         "orientation": "v",
         "showlegend": true,
         "type": "scatter",
         "x": [
          -0.3584454357624054
         ],
         "xaxis": "x",
         "y": [
          -0.7336177229881287
         ],
         "yaxis": "y"
        },
        {
         "hovertemplate": "<b>%{hovertext}</b><br><br>color=604<br>x1=%{x}<br>x2=%{y}<extra></extra>",
         "hovertext": [
          "kite"
         ],
         "legendgroup": "604",
         "marker": {
          "color": "#EF553B",
          "symbol": "circle"
         },
         "mode": "markers",
         "name": "604",
         "orientation": "v",
         "showlegend": true,
         "type": "scatter",
         "x": [
          -4.856136798858643
         ],
         "xaxis": "x",
         "y": [
          -0.05319072678685188
         ],
         "yaxis": "y"
        },
        {
         "hovertemplate": "<b>%{hovertext}</b><br><br>color=968<br>x1=%{x}<br>x2=%{y}<extra></extra>",
         "hovertext": [
          "bald eagle"
         ],
         "legendgroup": "968",
         "marker": {
          "color": "#00cc96",
          "symbol": "circle"
         },
         "mode": "markers",
         "name": "968",
         "orientation": "v",
         "showlegend": true,
         "type": "scatter",
         "x": [
          8.424040794372559
         ],
         "xaxis": "x",
         "y": [
          -0.45036646723747253
         ],
         "yaxis": "y"
        },
        {
         "hovertemplate": "<b>%{hovertext}</b><br><br>color=804<br>x1=%{x}<br>x2=%{y}<extra></extra>",
         "hovertext": [
          "vulture"
         ],
         "legendgroup": "804",
         "marker": {
          "color": "#ab63fa",
          "symbol": "circle"
         },
         "mode": "markers",
         "name": "804",
         "orientation": "v",
         "showlegend": true,
         "type": "scatter",
         "x": [
          -2.1528379917144775
         ],
         "xaxis": "x",
         "y": [
          4.468268394470215
         ],
         "yaxis": "y"
        },
        {
         "hovertemplate": "<b>%{hovertext}</b><br><br>color=912<br>x1=%{x}<br>x2=%{y}<extra></extra>",
         "hovertext": [
          "great grey owl"
         ],
         "legendgroup": "912",
         "marker": {
          "color": "#FFA15A",
          "symbol": "circle"
         },
         "mode": "markers",
         "name": "912",
         "orientation": "v",
         "showlegend": true,
         "type": "scatter",
         "x": [
          4.898036479949951
         ],
         "xaxis": "x",
         "y": [
          1.2701373100280762
         ],
         "yaxis": "y"
        },
        {
         "hovertemplate": "<b>%{hovertext}</b><br><br>color=956<br>x1=%{x}<br>x2=%{y}<extra></extra>",
         "hovertext": [
          "European fire salamander"
         ],
         "legendgroup": "956",
         "marker": {
          "color": "#19d3f3",
          "symbol": "circle"
         },
         "mode": "markers",
         "name": "956",
         "orientation": "v",
         "showlegend": true,
         "type": "scatter",
         "x": [
          7.50383186340332
         ],
         "xaxis": "x",
         "y": [
          1.256290078163147
         ],
         "yaxis": "y"
        },
        {
         "hovertemplate": "<b>%{hovertext}</b><br><br>color=961<br>x1=%{x}<br>x2=%{y}<extra></extra>",
         "hovertext": [
          "common newt"
         ],
         "legendgroup": "961",
         "marker": {
          "color": "#FF6692",
          "symbol": "circle"
         },
         "mode": "markers",
         "name": "961",
         "orientation": "v",
         "showlegend": true,
         "type": "scatter",
         "x": [
          7.365288734436035
         ],
         "xaxis": "x",
         "y": [
          1.7172870635986328
         ],
         "yaxis": "y"
        },
        {
         "hovertemplate": "<b>%{hovertext}</b><br><br>color=565<br>x1=%{x}<br>x2=%{y}<extra></extra>",
         "hovertext": [
          "eft"
         ],
         "legendgroup": "565",
         "marker": {
          "color": "#B6E880",
          "symbol": "circle"
         },
         "mode": "markers",
         "name": "565",
         "orientation": "v",
         "showlegend": true,
         "type": "scatter",
         "x": [
          -2.3538739681243896
         ],
         "xaxis": "x",
         "y": [
          -0.04638715833425522
         ],
         "yaxis": "y"
        },
        {
         "hovertemplate": "<b>%{hovertext}</b><br><br>color=980<br>x1=%{x}<br>x2=%{y}<extra></extra>",
         "hovertext": [
          "spotted salamander"
         ],
         "legendgroup": "980",
         "marker": {
          "color": "#FF97FF",
          "symbol": "circle"
         },
         "mode": "markers",
         "name": "980",
         "orientation": "v",
         "showlegend": true,
         "type": "scatter",
         "x": [
          9.284719467163086
         ],
         "xaxis": "x",
         "y": [
          1.5936098098754883
         ],
         "yaxis": "y"
        },
        {
         "hovertemplate": "<b>%{hovertext}</b><br><br>color=613<br>x1=%{x}<br>x2=%{y}<extra></extra>",
         "hovertext": [
          "axolotl"
         ],
         "legendgroup": "613",
         "marker": {
          "color": "#FECB52",
          "symbol": "circle"
         },
         "mode": "markers",
         "name": "613",
         "orientation": "v",
         "showlegend": true,
         "type": "scatter",
         "x": [
          9.89961051940918
         ],
         "xaxis": "x",
         "y": [
          0.8147707581520081
         ],
         "yaxis": "y"
        },
        {
         "hovertemplate": "<b>%{hovertext}</b><br><br>color=857<br>x1=%{x}<br>x2=%{y}<extra></extra>",
         "hovertext": [
          "bullfrog"
         ],
         "legendgroup": "857",
         "marker": {
          "color": "#636efa",
          "symbol": "circle"
         },
         "mode": "markers",
         "name": "857",
         "orientation": "v",
         "showlegend": true,
         "type": "scatter",
         "x": [
          5.288839340209961
         ],
         "xaxis": "x",
         "y": [
          0.8774669170379639
         ],
         "yaxis": "y"
        },
        {
         "hovertemplate": "<b>%{hovertext}</b><br><br>color=807<br>x1=%{x}<br>x2=%{y}<extra></extra>",
         "hovertext": [
          "tree frog"
         ],
         "legendgroup": "807",
         "marker": {
          "color": "#EF553B",
          "symbol": "circle"
         },
         "mode": "markers",
         "name": "807",
         "orientation": "v",
         "showlegend": true,
         "type": "scatter",
         "x": [
          1.211225152015686
         ],
         "xaxis": "x",
         "y": [
          0.2670486867427826
         ],
         "yaxis": "y"
        },
        {
         "hovertemplate": "<b>%{hovertext}</b><br><br>color=982<br>x1=%{x}<br>x2=%{y}<extra></extra>",
         "hovertext": [
          "tailed frog"
         ],
         "legendgroup": "982",
         "marker": {
          "color": "#00cc96",
          "symbol": "circle"
         },
         "mode": "markers",
         "name": "982",
         "orientation": "v",
         "showlegend": true,
         "type": "scatter",
         "x": [
          8.534782409667969
         ],
         "xaxis": "x",
         "y": [
          0.012273904867470264
         ],
         "yaxis": "y"
        },
        {
         "hovertemplate": "<b>%{hovertext}</b><br><br>color=955<br>x1=%{x}<br>x2=%{y}<extra></extra>",
         "hovertext": [
          "loggerhead"
         ],
         "legendgroup": "955",
         "marker": {
          "color": "#ab63fa",
          "symbol": "circle"
         },
         "mode": "markers",
         "name": "955",
         "orientation": "v",
         "showlegend": true,
         "type": "scatter",
         "x": [
          6.4471611976623535
         ],
         "xaxis": "x",
         "y": [
          0.18190576136112213
         ],
         "yaxis": "y"
        },
        {
         "hovertemplate": "<b>%{hovertext}</b><br><br>color=962<br>x1=%{x}<br>x2=%{y}<extra></extra>",
         "hovertext": [
          "leatherback turtle"
         ],
         "legendgroup": "962",
         "marker": {
          "color": "#FFA15A",
          "symbol": "circle"
         },
         "mode": "markers",
         "name": "962",
         "orientation": "v",
         "showlegend": true,
         "type": "scatter",
         "x": [
          9.014492988586426
         ],
         "xaxis": "x",
         "y": [
          -0.9860053658485413
         ],
         "yaxis": "y"
        },
        {
         "hovertemplate": "<b>%{hovertext}</b><br><br>color=631<br>x1=%{x}<br>x2=%{y}<extra></extra>",
         "hovertext": [
          "mud turtle"
         ],
         "legendgroup": "631",
         "marker": {
          "color": "#19d3f3",
          "symbol": "circle"
         },
         "mode": "markers",
         "name": "631",
         "orientation": "v",
         "showlegend": true,
         "type": "scatter",
         "x": [
          -3.104038953781128
         ],
         "xaxis": "x",
         "y": [
          3.1069014072418213
         ],
         "yaxis": "y"
        },
        {
         "hovertemplate": "<b>%{hovertext}</b><br><br>color=583<br>x1=%{x}<br>x2=%{y}<extra></extra>",
         "hovertext": [
          "terrapin"
         ],
         "legendgroup": "583",
         "marker": {
          "color": "#FF6692",
          "symbol": "circle"
         },
         "mode": "markers",
         "name": "583",
         "orientation": "v",
         "showlegend": true,
         "type": "scatter",
         "x": [
          -0.07814592123031616
         ],
         "xaxis": "x",
         "y": [
          3.0126407146453857
         ],
         "yaxis": "y"
        },
        {
         "hovertemplate": "<b>%{hovertext}</b><br><br>color=813<br>x1=%{x}<br>x2=%{y}<extra></extra>",
         "hovertext": [
          "box turtle"
         ],
         "legendgroup": "813",
         "marker": {
          "color": "#B6E880",
          "symbol": "circle"
         },
         "mode": "markers",
         "name": "813",
         "orientation": "v",
         "showlegend": true,
         "type": "scatter",
         "x": [
          4.826077461242676
         ],
         "xaxis": "x",
         "y": [
          1.8768500089645386
         ],
         "yaxis": "y"
        },
        {
         "hovertemplate": "<b>%{hovertext}</b><br><br>color=641<br>x1=%{x}<br>x2=%{y}<extra></extra>",
         "hovertext": [
          "banded gecko"
         ],
         "legendgroup": "641",
         "marker": {
          "color": "#FF97FF",
          "symbol": "circle"
         },
         "mode": "markers",
         "name": "641",
         "orientation": "v",
         "showlegend": true,
         "type": "scatter",
         "x": [
          2.4039828777313232
         ],
         "xaxis": "x",
         "y": [
          4.147984981536865
         ],
         "yaxis": "y"
        },
        {
         "hovertemplate": "<b>%{hovertext}</b><br><br>color=589<br>x1=%{x}<br>x2=%{y}<extra></extra>",
         "hovertext": [
          "common iguana"
         ],
         "legendgroup": "589",
         "marker": {
          "color": "#FECB52",
          "symbol": "circle"
         },
         "mode": "markers",
         "name": "589",
         "orientation": "v",
         "showlegend": true,
         "type": "scatter",
         "x": [
          5.435610294342041
         ],
         "xaxis": "x",
         "y": [
          0.0868692621588707
         ],
         "yaxis": "y"
        },
        {
         "hovertemplate": "<b>%{hovertext}</b><br><br>color=929<br>x1=%{x}<br>x2=%{y}<extra></extra>",
         "hovertext": [
          "American chameleon"
         ],
         "legendgroup": "929",
         "marker": {
          "color": "#636efa",
          "symbol": "circle"
         },
         "mode": "markers",
         "name": "929",
         "orientation": "v",
         "showlegend": true,
         "type": "scatter",
         "x": [
          5.909906387329102
         ],
         "xaxis": "x",
         "y": [
          0.6830968260765076
         ],
         "yaxis": "y"
        },
        {
         "hovertemplate": "<b>%{hovertext}</b><br><br>color=991<br>x1=%{x}<br>x2=%{y}<extra></extra>",
         "hovertext": [
          "whiptail"
         ],
         "legendgroup": "991",
         "marker": {
          "color": "#EF553B",
          "symbol": "circle"
         },
         "mode": "markers",
         "name": "991",
         "orientation": "v",
         "showlegend": true,
         "type": "scatter",
         "x": [
          0.7819703817367554
         ],
         "xaxis": "x",
         "y": [
          0.7065724730491638
         ],
         "yaxis": "y"
        },
        {
         "hovertemplate": "<b>%{hovertext}</b><br><br>color=801<br>x1=%{x}<br>x2=%{y}<extra></extra>",
         "hovertext": [
          "agama"
         ],
         "legendgroup": "801",
         "marker": {
          "color": "#00cc96",
          "symbol": "circle"
         },
         "mode": "markers",
         "name": "801",
         "orientation": "v",
         "showlegend": true,
         "type": "scatter",
         "x": [
          -0.6089164614677429
         ],
         "xaxis": "x",
         "y": [
          -0.03626778721809387
         ],
         "yaxis": "y"
        },
        {
         "hovertemplate": "<b>%{hovertext}</b><br><br>color=951<br>x1=%{x}<br>x2=%{y}<extra></extra>",
         "hovertext": [
          "frilled lizard"
         ],
         "legendgroup": "951",
         "marker": {
          "color": "#ab63fa",
          "symbol": "circle"
         },
         "mode": "markers",
         "name": "951",
         "orientation": "v",
         "showlegend": true,
         "type": "scatter",
         "x": [
          8.49740219116211
         ],
         "xaxis": "x",
         "y": [
          0.8923296928405762
         ],
         "yaxis": "y"
        },
        {
         "hovertemplate": "<b>%{hovertext}</b><br><br>color=532<br>x1=%{x}<br>x2=%{y}<extra></extra>",
         "hovertext": [
          "alligator lizard"
         ],
         "legendgroup": "532",
         "marker": {
          "color": "#FFA15A",
          "symbol": "circle"
         },
         "mode": "markers",
         "name": "532",
         "orientation": "v",
         "showlegend": true,
         "type": "scatter",
         "x": [
          2.915562868118286
         ],
         "xaxis": "x",
         "y": [
          3.02874755859375
         ],
         "yaxis": "y"
        },
        {
         "hovertemplate": "<b>%{hovertext}</b><br><br>color=943<br>x1=%{x}<br>x2=%{y}<extra></extra>",
         "hovertext": [
          "Gila monster"
         ],
         "legendgroup": "943",
         "marker": {
          "color": "#19d3f3",
          "symbol": "circle"
         },
         "mode": "markers",
         "name": "943",
         "orientation": "v",
         "showlegend": true,
         "type": "scatter",
         "x": [
          5.141429901123047
         ],
         "xaxis": "x",
         "y": [
          0.10977473109960556
         ],
         "yaxis": "y"
        },
        {
         "hovertemplate": "<b>%{hovertext}</b><br><br>color=834<br>x1=%{x}<br>x2=%{y}<extra></extra>",
         "hovertext": [
          "green lizard"
         ],
         "legendgroup": "834",
         "marker": {
          "color": "#FF6692",
          "symbol": "circle"
         },
         "mode": "markers",
         "name": "834",
         "orientation": "v",
         "showlegend": true,
         "type": "scatter",
         "x": [
          6.838354587554932
         ],
         "xaxis": "x",
         "y": [
          2.4323108196258545
         ],
         "yaxis": "y"
        },
        {
         "hovertemplate": "<b>%{hovertext}</b><br><br>color=756<br>x1=%{x}<br>x2=%{y}<extra></extra>",
         "hovertext": [
          "African chameleon"
         ],
         "legendgroup": "756",
         "marker": {
          "color": "#B6E880",
          "symbol": "circle"
         },
         "mode": "markers",
         "name": "756",
         "orientation": "v",
         "showlegend": true,
         "type": "scatter",
         "x": [
          5.591519832611084
         ],
         "xaxis": "x",
         "y": [
          0.9065101146697998
         ],
         "yaxis": "y"
        },
        {
         "hovertemplate": "<b>%{hovertext}</b><br><br>color=960<br>x1=%{x}<br>x2=%{y}<extra></extra>",
         "hovertext": [
          "Komodo dragon"
         ],
         "legendgroup": "960",
         "marker": {
          "color": "#FF97FF",
          "symbol": "circle"
         },
         "mode": "markers",
         "name": "960",
         "orientation": "v",
         "showlegend": true,
         "type": "scatter",
         "x": [
          8.4993896484375
         ],
         "xaxis": "x",
         "y": [
          -1.134584665298462
         ],
         "yaxis": "y"
        },
        {
         "hovertemplate": "<b>%{hovertext}</b><br><br>color=908<br>x1=%{x}<br>x2=%{y}<extra></extra>",
         "hovertext": [
          "African crocodile"
         ],
         "legendgroup": "908",
         "marker": {
          "color": "#FECB52",
          "symbol": "circle"
         },
         "mode": "markers",
         "name": "908",
         "orientation": "v",
         "showlegend": true,
         "type": "scatter",
         "x": [
          9.137221336364746
         ],
         "xaxis": "x",
         "y": [
          0.6794158220291138
         ],
         "yaxis": "y"
        },
        {
         "hovertemplate": "<b>%{hovertext}</b><br><br>color=928<br>x1=%{x}<br>x2=%{y}<extra></extra>",
         "hovertext": [
          "American alligator"
         ],
         "legendgroup": "928",
         "marker": {
          "color": "#636efa",
          "symbol": "circle"
         },
         "mode": "markers",
         "name": "928",
         "orientation": "v",
         "showlegend": true,
         "type": "scatter",
         "x": [
          7.284490585327148
         ],
         "xaxis": "x",
         "y": [
          1.465528130531311
         ],
         "yaxis": "y"
        },
        {
         "hovertemplate": "<b>%{hovertext}</b><br><br>color=554<br>x1=%{x}<br>x2=%{y}<extra></extra>",
         "hovertext": [
          "triceratops"
         ],
         "legendgroup": "554",
         "marker": {
          "color": "#EF553B",
          "symbol": "circle"
         },
         "mode": "markers",
         "name": "554",
         "orientation": "v",
         "showlegend": true,
         "type": "scatter",
         "x": [
          3.1685585975646973
         ],
         "xaxis": "x",
         "y": [
          3.1116690635681152
         ],
         "yaxis": "y"
        },
        {
         "hovertemplate": "<b>%{hovertext}</b><br><br>color=877<br>x1=%{x}<br>x2=%{y}<extra></extra>",
         "hovertext": [
          "thunder snake"
         ],
         "legendgroup": "877",
         "marker": {
          "color": "#00cc96",
          "symbol": "circle"
         },
         "mode": "markers",
         "name": "877",
         "orientation": "v",
         "showlegend": true,
         "type": "scatter",
         "x": [
          7.287724494934082
         ],
         "xaxis": "x",
         "y": [
          -0.5595220923423767
         ],
         "yaxis": "y"
        },
        {
         "hovertemplate": "<b>%{hovertext}</b><br><br>color=789<br>x1=%{x}<br>x2=%{y}<extra></extra>",
         "hovertext": [
          "ringneck snake"
         ],
         "legendgroup": "789",
         "marker": {
          "color": "#ab63fa",
          "symbol": "circle"
         },
         "mode": "markers",
         "name": "789",
         "orientation": "v",
         "showlegend": true,
         "type": "scatter",
         "x": [
          3.9353697299957275
         ],
         "xaxis": "x",
         "y": [
          -0.4631815552711487
         ],
         "yaxis": "y"
        },
        {
         "hovertemplate": "<b>%{hovertext}</b><br><br>color=918<br>x1=%{x}<br>x2=%{y}<extra></extra>",
         "hovertext": [
          "hognose snake"
         ],
         "legendgroup": "918",
         "marker": {
          "color": "#FFA15A",
          "symbol": "circle"
         },
         "mode": "markers",
         "name": "918",
         "orientation": "v",
         "showlegend": true,
         "type": "scatter",
         "x": [
          6.176817417144775
         ],
         "xaxis": "x",
         "y": [
          -0.4993162751197815
         ],
         "yaxis": "y"
        },
        {
         "hovertemplate": "<b>%{hovertext}</b><br><br>color=530<br>x1=%{x}<br>x2=%{y}<extra></extra>",
         "hovertext": [
          "green snake"
         ],
         "legendgroup": "530",
         "marker": {
          "color": "#19d3f3",
          "symbol": "circle"
         },
         "mode": "markers",
         "name": "530",
         "orientation": "v",
         "showlegend": true,
         "type": "scatter",
         "x": [
          -0.14580513536930084
         ],
         "xaxis": "x",
         "y": [
          1.9169647693634033
         ],
         "yaxis": "y"
        },
        {
         "hovertemplate": "<b>%{hovertext}</b><br><br>color=535<br>x1=%{x}<br>x2=%{y}<extra></extra>",
         "hovertext": [
          "king snake"
         ],
         "legendgroup": "535",
         "marker": {
          "color": "#FF6692",
          "symbol": "circle"
         },
         "mode": "markers",
         "name": "535",
         "orientation": "v",
         "showlegend": true,
         "type": "scatter",
         "x": [
          1.9890590906143188
         ],
         "xaxis": "x",
         "y": [
          2.12788987159729
         ],
         "yaxis": "y"
        },
        {
         "hovertemplate": "<b>%{hovertext}</b><br><br>color=682<br>x1=%{x}<br>x2=%{y}<extra></extra>",
         "hovertext": [
          "garter snake"
         ],
         "legendgroup": "682",
         "marker": {
          "color": "#B6E880",
          "symbol": "circle"
         },
         "mode": "markers",
         "name": "682",
         "orientation": "v",
         "showlegend": true,
         "type": "scatter",
         "x": [
          3.6986441612243652
         ],
         "xaxis": "x",
         "y": [
          0.16922320425510406
         ],
         "yaxis": "y"
        },
        {
         "hovertemplate": "<b>%{hovertext}</b><br><br>color=920<br>x1=%{x}<br>x2=%{y}<extra></extra>",
         "hovertext": [
          "water snake"
         ],
         "legendgroup": "920",
         "marker": {
          "color": "#FF97FF",
          "symbol": "circle"
         },
         "mode": "markers",
         "name": "920",
         "orientation": "v",
         "showlegend": true,
         "type": "scatter",
         "x": [
          -3.2395806312561035
         ],
         "xaxis": "x",
         "y": [
          2.7656517028808594
         ],
         "yaxis": "y"
        },
        {
         "hovertemplate": "<b>%{hovertext}</b><br><br>color=772<br>x1=%{x}<br>x2=%{y}<extra></extra>",
         "hovertext": [
          "vine snake"
         ],
         "legendgroup": "772",
         "marker": {
          "color": "#FECB52",
          "symbol": "circle"
         },
         "mode": "markers",
         "name": "772",
         "orientation": "v",
         "showlegend": true,
         "type": "scatter",
         "x": [
          -3.2691609859466553
         ],
         "xaxis": "x",
         "y": [
          3.4488492012023926
         ],
         "yaxis": "y"
        },
        {
         "hovertemplate": "<b>%{hovertext}</b><br><br>color=987<br>x1=%{x}<br>x2=%{y}<extra></extra>",
         "hovertext": [
          "night snake"
         ],
         "legendgroup": "987",
         "marker": {
          "color": "#636efa",
          "symbol": "circle"
         },
         "mode": "markers",
         "name": "987",
         "orientation": "v",
         "showlegend": true,
         "type": "scatter",
         "x": [
          8.597895622253418
         ],
         "xaxis": "x",
         "y": [
          0.4244203269481659
         ],
         "yaxis": "y"
        },
        {
         "hovertemplate": "<b>%{hovertext}</b><br><br>color=859<br>x1=%{x}<br>x2=%{y}<extra></extra>",
         "hovertext": [
          "boa constrictor"
         ],
         "legendgroup": "859",
         "marker": {
          "color": "#EF553B",
          "symbol": "circle"
         },
         "mode": "markers",
         "name": "859",
         "orientation": "v",
         "showlegend": true,
         "type": "scatter",
         "x": [
          6.603958606719971
         ],
         "xaxis": "x",
         "y": [
          -0.5306532979011536
         ],
         "yaxis": "y"
        },
        {
         "hovertemplate": "<b>%{hovertext}</b><br><br>color=937<br>x1=%{x}<br>x2=%{y}<extra></extra>",
         "hovertext": [
          "rock python"
         ],
         "legendgroup": "937",
         "marker": {
          "color": "#00cc96",
          "symbol": "circle"
         },
         "mode": "markers",
         "name": "937",
         "orientation": "v",
         "showlegend": true,
         "type": "scatter",
         "x": [
          6.868859767913818
         ],
         "xaxis": "x",
         "y": [
          0.33867186307907104
         ],
         "yaxis": "y"
        },
        {
         "hovertemplate": "<b>%{hovertext}</b><br><br>color=817<br>x1=%{x}<br>x2=%{y}<extra></extra>",
         "hovertext": [
          "Indian cobra"
         ],
         "legendgroup": "817",
         "marker": {
          "color": "#ab63fa",
          "symbol": "circle"
         },
         "mode": "markers",
         "name": "817",
         "orientation": "v",
         "showlegend": true,
         "type": "scatter",
         "x": [
          4.25512170791626
         ],
         "xaxis": "x",
         "y": [
          0.582837700843811
         ],
         "yaxis": "y"
        },
        {
         "hovertemplate": "<b>%{hovertext}</b><br><br>color=988<br>x1=%{x}<br>x2=%{y}<extra></extra>",
         "hovertext": [
          "green mamba"
         ],
         "legendgroup": "988",
         "marker": {
          "color": "#FFA15A",
          "symbol": "circle"
         },
         "mode": "markers",
         "name": "988",
         "orientation": "v",
         "showlegend": true,
         "type": "scatter",
         "x": [
          -0.43060657382011414
         ],
         "xaxis": "x",
         "y": [
          4.512346267700195
         ],
         "yaxis": "y"
        },
        {
         "hovertemplate": "<b>%{hovertext}</b><br><br>color=773<br>x1=%{x}<br>x2=%{y}<extra></extra>",
         "hovertext": [
          "sea snake"
         ],
         "legendgroup": "773",
         "marker": {
          "color": "#19d3f3",
          "symbol": "circle"
         },
         "mode": "markers",
         "name": "773",
         "orientation": "v",
         "showlegend": true,
         "type": "scatter",
         "x": [
          -2.1324679851531982
         ],
         "xaxis": "x",
         "y": [
          4.037283420562744
         ],
         "yaxis": "y"
        },
        {
         "hovertemplate": "<b>%{hovertext}</b><br><br>color=993<br>x1=%{x}<br>x2=%{y}<extra></extra>",
         "hovertext": [
          "horned viper"
         ],
         "legendgroup": "993",
         "marker": {
          "color": "#FF6692",
          "symbol": "circle"
         },
         "mode": "markers",
         "name": "993",
         "orientation": "v",
         "showlegend": true,
         "type": "scatter",
         "x": [
          10.17583179473877
         ],
         "xaxis": "x",
         "y": [
          -0.88017338514328
         ],
         "yaxis": "y"
        },
        {
         "hovertemplate": "<b>%{hovertext}</b><br><br>color=998<br>x1=%{x}<br>x2=%{y}<extra></extra>",
         "hovertext": [
          "diamondback"
         ],
         "legendgroup": "998",
         "marker": {
          "color": "#B6E880",
          "symbol": "circle"
         },
         "mode": "markers",
         "name": "998",
         "orientation": "v",
         "showlegend": true,
         "type": "scatter",
         "x": [
          10.679183006286621
         ],
         "xaxis": "x",
         "y": [
          -0.4428282678127289
         ],
         "yaxis": "y"
        },
        {
         "hovertemplate": "<b>%{hovertext}</b><br><br>color=992<br>x1=%{x}<br>x2=%{y}<extra></extra>",
         "hovertext": [
          "sidewinder"
         ],
         "legendgroup": "992",
         "marker": {
          "color": "#FF97FF",
          "symbol": "circle"
         },
         "mode": "markers",
         "name": "992",
         "orientation": "v",
         "showlegend": true,
         "type": "scatter",
         "x": [
          10.7347412109375
         ],
         "xaxis": "x",
         "y": [
          0.7854936122894287
         ],
         "yaxis": "y"
        },
        {
         "hovertemplate": "<b>%{hovertext}</b><br><br>color=666<br>x1=%{x}<br>x2=%{y}<extra></extra>",
         "hovertext": [
          "trilobite"
         ],
         "legendgroup": "666",
         "marker": {
          "color": "#FECB52",
          "symbol": "circle"
         },
         "mode": "markers",
         "name": "666",
         "orientation": "v",
         "showlegend": true,
         "type": "scatter",
         "x": [
          2.194117546081543
         ],
         "xaxis": "x",
         "y": [
          1.741360068321228
         ],
         "yaxis": "y"
        },
        {
         "hovertemplate": "<b>%{hovertext}</b><br><br>color=518<br>x1=%{x}<br>x2=%{y}<extra></extra>",
         "hovertext": [
          "harvestman"
         ],
         "legendgroup": "518",
         "marker": {
          "color": "#636efa",
          "symbol": "circle"
         },
         "mode": "markers",
         "name": "518",
         "orientation": "v",
         "showlegend": true,
         "type": "scatter",
         "x": [
          6.49053430557251
         ],
         "xaxis": "x",
         "y": [
          -0.32298335433006287
         ],
         "yaxis": "y"
        },
        {
         "hovertemplate": "<b>%{hovertext}</b><br><br>color=941<br>x1=%{x}<br>x2=%{y}<extra></extra>",
         "hovertext": [
          "scorpion"
         ],
         "legendgroup": "941",
         "marker": {
          "color": "#EF553B",
          "symbol": "circle"
         },
         "mode": "markers",
         "name": "941",
         "orientation": "v",
         "showlegend": true,
         "type": "scatter",
         "x": [
          -1.009798526763916
         ],
         "xaxis": "x",
         "y": [
          3.5639593601226807
         ],
         "yaxis": "y"
        },
        {
         "hovertemplate": "<b>%{hovertext}</b><br><br>color=905<br>x1=%{x}<br>x2=%{y}<extra></extra>",
         "hovertext": [
          "black and gold garden spider"
         ],
         "legendgroup": "905",
         "marker": {
          "color": "#00cc96",
          "symbol": "circle"
         },
         "mode": "markers",
         "name": "905",
         "orientation": "v",
         "showlegend": true,
         "type": "scatter",
         "x": [
          8.041505813598633
         ],
         "xaxis": "x",
         "y": [
          1.667385220527649
         ],
         "yaxis": "y"
        },
        {
         "hovertemplate": "<b>%{hovertext}</b><br><br>color=906<br>x1=%{x}<br>x2=%{y}<extra></extra>",
         "hovertext": [
          "barn spider"
         ],
         "legendgroup": "906",
         "marker": {
          "color": "#ab63fa",
          "symbol": "circle"
         },
         "mode": "markers",
         "name": "906",
         "orientation": "v",
         "showlegend": true,
         "type": "scatter",
         "x": [
          5.695312023162842
         ],
         "xaxis": "x",
         "y": [
          2.3410754203796387
         ],
         "yaxis": "y"
        },
        {
         "hovertemplate": "<b>%{hovertext}</b><br><br>color=902<br>x1=%{x}<br>x2=%{y}<extra></extra>",
         "hovertext": [
          "garden spider"
         ],
         "legendgroup": "902",
         "marker": {
          "color": "#FFA15A",
          "symbol": "circle"
         },
         "mode": "markers",
         "name": "902",
         "orientation": "v",
         "showlegend": true,
         "type": "scatter",
         "x": [
          4.755699157714844
         ],
         "xaxis": "x",
         "y": [
          1.8745437860488892
         ],
         "yaxis": "y"
        },
        {
         "hovertemplate": "<b>%{hovertext}</b><br><br>color=897<br>x1=%{x}<br>x2=%{y}<extra></extra>",
         "hovertext": [
          "black widow"
         ],
         "legendgroup": "897",
         "marker": {
          "color": "#19d3f3",
          "symbol": "circle"
         },
         "mode": "markers",
         "name": "897",
         "orientation": "v",
         "showlegend": true,
         "type": "scatter",
         "x": [
          4.993409633636475
         ],
         "xaxis": "x",
         "y": [
          1.2241137027740479
         ],
         "yaxis": "y"
        },
        {
         "hovertemplate": "<b>%{hovertext}</b><br><br>color=907<br>x1=%{x}<br>x2=%{y}<extra></extra>",
         "hovertext": [
          "tarantula"
         ],
         "legendgroup": "907",
         "marker": {
          "color": "#FF6692",
          "symbol": "circle"
         },
         "mode": "markers",
         "name": "907",
         "orientation": "v",
         "showlegend": true,
         "type": "scatter",
         "x": [
          1.4018070697784424
         ],
         "xaxis": "x",
         "y": [
          3.082815408706665
         ],
         "yaxis": "y"
        },
        {
         "hovertemplate": "<b>%{hovertext}</b><br><br>color=837<br>x1=%{x}<br>x2=%{y}<extra></extra>",
         "hovertext": [
          "wolf spider"
         ],
         "legendgroup": "837",
         "marker": {
          "color": "#B6E880",
          "symbol": "circle"
         },
         "mode": "markers",
         "name": "837",
         "orientation": "v",
         "showlegend": true,
         "type": "scatter",
         "x": [
          -0.610011875629425
         ],
         "xaxis": "x",
         "y": [
          1.8471864461898804
         ],
         "yaxis": "y"
        },
        {
         "hovertemplate": "<b>%{hovertext}</b><br><br>color=683<br>x1=%{x}<br>x2=%{y}<extra></extra>",
         "hovertext": [
          "tick"
         ],
         "legendgroup": "683",
         "marker": {
          "color": "#FF97FF",
          "symbol": "circle"
         },
         "mode": "markers",
         "name": "683",
         "orientation": "v",
         "showlegend": true,
         "type": "scatter",
         "x": [
          -3.695366144180298
         ],
         "xaxis": "x",
         "y": [
          -0.1308683604001999
         ],
         "yaxis": "y"
        },
        {
         "hovertemplate": "<b>%{hovertext}</b><br><br>color=705<br>x1=%{x}<br>x2=%{y}<extra></extra>",
         "hovertext": [
          "centipede"
         ],
         "legendgroup": "705",
         "marker": {
          "color": "#FECB52",
          "symbol": "circle"
         },
         "mode": "markers",
         "name": "705",
         "orientation": "v",
         "showlegend": true,
         "type": "scatter",
         "x": [
          0.609585702419281
         ],
         "xaxis": "x",
         "y": [
          2.7756292819976807
         ],
         "yaxis": "y"
        },
        {
         "hovertemplate": "<b>%{hovertext}</b><br><br>color=671<br>x1=%{x}<br>x2=%{y}<extra></extra>",
         "hovertext": [
          "black grouse"
         ],
         "legendgroup": "671",
         "marker": {
          "color": "#636efa",
          "symbol": "circle"
         },
         "mode": "markers",
         "name": "671",
         "orientation": "v",
         "showlegend": true,
         "type": "scatter",
         "x": [
          -0.3875345289707184
         ],
         "xaxis": "x",
         "y": [
          5.124053955078125
         ],
         "yaxis": "y"
        },
        {
         "hovertemplate": "<b>%{hovertext}</b><br><br>color=528<br>x1=%{x}<br>x2=%{y}<extra></extra>",
         "hovertext": [
          "ptarmigan"
         ],
         "legendgroup": "528",
         "marker": {
          "color": "#EF553B",
          "symbol": "circle"
         },
         "mode": "markers",
         "name": "528",
         "orientation": "v",
         "showlegend": true,
         "type": "scatter",
         "x": [
          2.3327064514160156
         ],
         "xaxis": "x",
         "y": [
          1.2915637493133545
         ],
         "yaxis": "y"
        },
        {
         "hovertemplate": "<b>%{hovertext}</b><br><br>color=768<br>x1=%{x}<br>x2=%{y}<extra></extra>",
         "hovertext": [
          "ruffed grouse"
         ],
         "legendgroup": "768",
         "marker": {
          "color": "#00cc96",
          "symbol": "circle"
         },
         "mode": "markers",
         "name": "768",
         "orientation": "v",
         "showlegend": true,
         "type": "scatter",
         "x": [
          6.348456859588623
         ],
         "xaxis": "x",
         "y": [
          1.626922845840454
         ],
         "yaxis": "y"
        },
        {
         "hovertemplate": "<b>%{hovertext}</b><br><br>color=622<br>x1=%{x}<br>x2=%{y}<extra></extra>",
         "hovertext": [
          "prairie chicken"
         ],
         "legendgroup": "622",
         "marker": {
          "color": "#ab63fa",
          "symbol": "circle"
         },
         "mode": "markers",
         "name": "622",
         "orientation": "v",
         "showlegend": true,
         "type": "scatter",
         "x": [
          5.427363872528076
         ],
         "xaxis": "x",
         "y": [
          0.3456258773803711
         ],
         "yaxis": "y"
        },
        {
         "hovertemplate": "<b>%{hovertext}</b><br><br>color=689<br>x1=%{x}<br>x2=%{y}<extra></extra>",
         "hovertext": [
          "peacock"
         ],
         "legendgroup": "689",
         "marker": {
          "color": "#FFA15A",
          "symbol": "circle"
         },
         "mode": "markers",
         "name": "689",
         "orientation": "v",
         "showlegend": true,
         "type": "scatter",
         "x": [
          0.15342842042446136
         ],
         "xaxis": "x",
         "y": [
          4.5329813957214355
         ],
         "yaxis": "y"
        },
        {
         "hovertemplate": "<b>%{hovertext}</b><br><br>color=557<br>x1=%{x}<br>x2=%{y}<extra></extra>",
         "hovertext": [
          "quail"
         ],
         "legendgroup": "557",
         "marker": {
          "color": "#19d3f3",
          "symbol": "circle"
         },
         "mode": "markers",
         "name": "557",
         "orientation": "v",
         "showlegend": true,
         "type": "scatter",
         "x": [
          0.814307689666748
         ],
         "xaxis": "x",
         "y": [
          4.103654384613037
         ],
         "yaxis": "y"
        },
        {
         "hovertemplate": "<b>%{hovertext}</b><br><br>color=522<br>x1=%{x}<br>x2=%{y}<extra></extra>",
         "hovertext": [
          "partridge"
         ],
         "legendgroup": "522",
         "marker": {
          "color": "#FF6692",
          "symbol": "circle"
         },
         "mode": "markers",
         "name": "522",
         "orientation": "v",
         "showlegend": true,
         "type": "scatter",
         "x": [
          -3.853712797164917
         ],
         "xaxis": "x",
         "y": [
          -0.6842883229255676
         ],
         "yaxis": "y"
        },
        {
         "hovertemplate": "<b>%{hovertext}</b><br><br>color=970<br>x1=%{x}<br>x2=%{y}<extra></extra>",
         "hovertext": [
          "African grey"
         ],
         "legendgroup": "970",
         "marker": {
          "color": "#B6E880",
          "symbol": "circle"
         },
         "mode": "markers",
         "name": "970",
         "orientation": "v",
         "showlegend": true,
         "type": "scatter",
         "x": [
          7.506298542022705
         ],
         "xaxis": "x",
         "y": [
          1.2924072742462158
         ],
         "yaxis": "y"
        },
        {
         "hovertemplate": "<b>%{hovertext}</b><br><br>color=692<br>x1=%{x}<br>x2=%{y}<extra></extra>",
         "hovertext": [
          "macaw"
         ],
         "legendgroup": "692",
         "marker": {
          "color": "#FF97FF",
          "symbol": "circle"
         },
         "mode": "markers",
         "name": "692",
         "orientation": "v",
         "showlegend": true,
         "type": "scatter",
         "x": [
          -4.437033176422119
         ],
         "xaxis": "x",
         "y": [
          1.719753623008728
         ],
         "yaxis": "y"
        },
        {
         "hovertemplate": "<b>%{hovertext}</b><br><br>color=977<br>x1=%{x}<br>x2=%{y}<extra></extra>",
         "hovertext": [
          "sulphur-crested cockatoo"
         ],
         "legendgroup": "977",
         "marker": {
          "color": "#FECB52",
          "symbol": "circle"
         },
         "mode": "markers",
         "name": "977",
         "orientation": "v",
         "showlegend": true,
         "type": "scatter",
         "x": [
          11.412184715270996
         ],
         "xaxis": "x",
         "y": [
          -0.967008113861084
         ],
         "yaxis": "y"
        },
        {
         "hovertemplate": "<b>%{hovertext}</b><br><br>color=579<br>x1=%{x}<br>x2=%{y}<extra></extra>",
         "hovertext": [
          "lorikeet"
         ],
         "legendgroup": "579",
         "marker": {
          "color": "#636efa",
          "symbol": "circle"
         },
         "mode": "markers",
         "name": "579",
         "orientation": "v",
         "showlegend": true,
         "type": "scatter",
         "x": [
          -0.055092599242925644
         ],
         "xaxis": "x",
         "y": [
          1.5129570960998535
         ],
         "yaxis": "y"
        },
        {
         "hovertemplate": "<b>%{hovertext}</b><br><br>color=717<br>x1=%{x}<br>x2=%{y}<extra></extra>",
         "hovertext": [
          "coucal"
         ],
         "legendgroup": "717",
         "marker": {
          "color": "#EF553B",
          "symbol": "circle"
         },
         "mode": "markers",
         "name": "717",
         "orientation": "v",
         "showlegend": true,
         "type": "scatter",
         "x": [
          0.6127156615257263
         ],
         "xaxis": "x",
         "y": [
          3.412714958190918
         ],
         "yaxis": "y"
        },
        {
         "hovertemplate": "<b>%{hovertext}</b><br><br>color=749<br>x1=%{x}<br>x2=%{y}<extra></extra>",
         "hovertext": [
          "bee eater"
         ],
         "legendgroup": "749",
         "marker": {
          "color": "#00cc96",
          "symbol": "circle"
         },
         "mode": "markers",
         "name": "749",
         "orientation": "v",
         "showlegend": true,
         "type": "scatter",
         "x": [
          -1.4517911672592163
         ],
         "xaxis": "x",
         "y": [
          3.2959301471710205
         ],
         "yaxis": "y"
        },
        {
         "hovertemplate": "<b>%{hovertext}</b><br><br>color=623<br>x1=%{x}<br>x2=%{y}<extra></extra>",
         "hovertext": [
          "hornbill"
         ],
         "legendgroup": "623",
         "marker": {
          "color": "#ab63fa",
          "symbol": "circle"
         },
         "mode": "markers",
         "name": "623",
         "orientation": "v",
         "showlegend": true,
         "type": "scatter",
         "x": [
          -1.8982021808624268
         ],
         "xaxis": "x",
         "y": [
          1.1824214458465576
         ],
         "yaxis": "y"
        },
        {
         "hovertemplate": "<b>%{hovertext}</b><br><br>color=677<br>x1=%{x}<br>x2=%{y}<extra></extra>",
         "hovertext": [
          "hummingbird"
         ],
         "legendgroup": "677",
         "marker": {
          "color": "#FFA15A",
          "symbol": "circle"
         },
         "mode": "markers",
         "name": "677",
         "orientation": "v",
         "showlegend": true,
         "type": "scatter",
         "x": [
          -3.517364740371704
         ],
         "xaxis": "x",
         "y": [
          4.450523376464844
         ],
         "yaxis": "y"
        },
        {
         "hovertemplate": "<b>%{hovertext}</b><br><br>color=885<br>x1=%{x}<br>x2=%{y}<extra></extra>",
         "hovertext": [
          "jacamar"
         ],
         "legendgroup": "885",
         "marker": {
          "color": "#19d3f3",
          "symbol": "circle"
         },
         "mode": "markers",
         "name": "885",
         "orientation": "v",
         "showlegend": true,
         "type": "scatter",
         "x": [
          -1.541263461112976
         ],
         "xaxis": "x",
         "y": [
          3.8379032611846924
         ],
         "yaxis": "y"
        },
        {
         "hovertemplate": "<b>%{hovertext}</b><br><br>color=581<br>x1=%{x}<br>x2=%{y}<extra></extra>",
         "hovertext": [
          "toucan"
         ],
         "legendgroup": "581",
         "marker": {
          "color": "#FF6692",
          "symbol": "circle"
         },
         "mode": "markers",
         "name": "581",
         "orientation": "v",
         "showlegend": true,
         "type": "scatter",
         "x": [
          -0.9669137001037598
         ],
         "xaxis": "x",
         "y": [
          3.242598533630371
         ],
         "yaxis": "y"
        },
        {
         "hovertemplate": "<b>%{hovertext}</b><br><br>color=914<br>x1=%{x}<br>x2=%{y}<extra></extra>",
         "hovertext": [
          "drake"
         ],
         "legendgroup": "914",
         "marker": {
          "color": "#B6E880",
          "symbol": "circle"
         },
         "mode": "markers",
         "name": "914",
         "orientation": "v",
         "showlegend": true,
         "type": "scatter",
         "x": [
          -1.5549741983413696
         ],
         "xaxis": "x",
         "y": [
          1.7705116271972656
         ],
         "yaxis": "y"
        },
        {
         "hovertemplate": "<b>%{hovertext}</b><br><br>color=862<br>x1=%{x}<br>x2=%{y}<extra></extra>",
         "hovertext": [
          "red-breasted merganser"
         ],
         "legendgroup": "862",
         "marker": {
          "color": "#FF97FF",
          "symbol": "circle"
         },
         "mode": "markers",
         "name": "862",
         "orientation": "v",
         "showlegend": true,
         "type": "scatter",
         "x": [
          7.526538372039795
         ],
         "xaxis": "x",
         "y": [
          1.1168853044509888
         ],
         "yaxis": "y"
        },
        {
         "hovertemplate": "<b>%{hovertext}</b><br><br>color=818<br>x1=%{x}<br>x2=%{y}<extra></extra>",
         "hovertext": [
          "goose"
         ],
         "legendgroup": "818",
         "marker": {
          "color": "#FECB52",
          "symbol": "circle"
         },
         "mode": "markers",
         "name": "818",
         "orientation": "v",
         "showlegend": true,
         "type": "scatter",
         "x": [
          -6.430375099182129
         ],
         "xaxis": "x",
         "y": [
          -1.3283534049987793
         ],
         "yaxis": "y"
        },
        {
         "hovertemplate": "<b>%{hovertext}</b><br><br>color=938<br>x1=%{x}<br>x2=%{y}<extra></extra>",
         "hovertext": [
          "black swan"
         ],
         "legendgroup": "938",
         "marker": {
          "color": "#636efa",
          "symbol": "circle"
         },
         "mode": "markers",
         "name": "938",
         "orientation": "v",
         "showlegend": true,
         "type": "scatter",
         "x": [
          6.560874938964844
         ],
         "xaxis": "x",
         "y": [
          1.6041210889816284
         ],
         "yaxis": "y"
        },
        {
         "hovertemplate": "<b>%{hovertext}</b><br><br>color=658<br>x1=%{x}<br>x2=%{y}<extra></extra>",
         "hovertext": [
          "tusker"
         ],
         "legendgroup": "658",
         "marker": {
          "color": "#EF553B",
          "symbol": "circle"
         },
         "mode": "markers",
         "name": "658",
         "orientation": "v",
         "showlegend": true,
         "type": "scatter",
         "x": [
          -1.3928855657577515
         ],
         "xaxis": "x",
         "y": [
          2.749741315841675
         ],
         "yaxis": "y"
        },
        {
         "hovertemplate": "<b>%{hovertext}</b><br><br>color=942<br>x1=%{x}<br>x2=%{y}<extra></extra>",
         "hovertext": [
          "echidna"
         ],
         "legendgroup": "942",
         "marker": {
          "color": "#00cc96",
          "symbol": "circle"
         },
         "mode": "markers",
         "name": "942",
         "orientation": "v",
         "showlegend": true,
         "type": "scatter",
         "x": [
          7.2594194412231445
         ],
         "xaxis": "x",
         "y": [
          0.18894577026367188
         ],
         "yaxis": "y"
        },
        {
         "hovertemplate": "<b>%{hovertext}</b><br><br>color=997<br>x1=%{x}<br>x2=%{y}<extra></extra>",
         "hovertext": [
          "platypus"
         ],
         "legendgroup": "997",
         "marker": {
          "color": "#ab63fa",
          "symbol": "circle"
         },
         "mode": "markers",
         "name": "997",
         "orientation": "v",
         "showlegend": true,
         "type": "scatter",
         "x": [
          12.566193580627441
         ],
         "xaxis": "x",
         "y": [
          -0.3427690267562866
         ],
         "yaxis": "y"
        },
        {
         "hovertemplate": "<b>%{hovertext}</b><br><br>color=978<br>x1=%{x}<br>x2=%{y}<extra></extra>",
         "hovertext": [
          "wallaby"
         ],
         "legendgroup": "978",
         "marker": {
          "color": "#FFA15A",
          "symbol": "circle"
         },
         "mode": "markers",
         "name": "978",
         "orientation": "v",
         "showlegend": true,
         "type": "scatter",
         "x": [
          4.746922492980957
         ],
         "xaxis": "x",
         "y": [
          2.143921136856079
         ],
         "yaxis": "y"
        },
        {
         "hovertemplate": "<b>%{hovertext}</b><br><br>color=994<br>x1=%{x}<br>x2=%{y}<extra></extra>",
         "hovertext": [
          "koala"
         ],
         "legendgroup": "994",
         "marker": {
          "color": "#19d3f3",
          "symbol": "circle"
         },
         "mode": "markers",
         "name": "994",
         "orientation": "v",
         "showlegend": true,
         "type": "scatter",
         "x": [
          9.827391624450684
         ],
         "xaxis": "x",
         "y": [
          -0.705238401889801
         ],
         "yaxis": "y"
        },
        {
         "hovertemplate": "<b>%{hovertext}</b><br><br>color=480<br>x1=%{x}<br>x2=%{y}<extra></extra>",
         "hovertext": [
          "wombat"
         ],
         "legendgroup": "480",
         "marker": {
          "color": "#FF6692",
          "symbol": "circle"
         },
         "mode": "markers",
         "name": "480",
         "orientation": "v",
         "showlegend": true,
         "type": "scatter",
         "x": [
          -0.11616436392068863
         ],
         "xaxis": "x",
         "y": [
          3.374082326889038
         ],
         "yaxis": "y"
        },
        {
         "hovertemplate": "<b>%{hovertext}</b><br><br>color=502<br>x1=%{x}<br>x2=%{y}<extra></extra>",
         "hovertext": [
          "jellyfish"
         ],
         "legendgroup": "502",
         "marker": {
          "color": "#B6E880",
          "symbol": "circle"
         },
         "mode": "markers",
         "name": "502",
         "orientation": "v",
         "showlegend": true,
         "type": "scatter",
         "x": [
          0.6994401812553406
         ],
         "xaxis": "x",
         "y": [
          2.720139503479004
         ],
         "yaxis": "y"
        },
        {
         "hovertemplate": "<b>%{hovertext}</b><br><br>color=611<br>x1=%{x}<br>x2=%{y}<extra></extra>",
         "hovertext": [
          "sea anemone"
         ],
         "legendgroup": "611",
         "marker": {
          "color": "#FF97FF",
          "symbol": "circle"
         },
         "mode": "markers",
         "name": "611",
         "orientation": "v",
         "showlegend": true,
         "type": "scatter",
         "x": [
          2.342466115951538
         ],
         "xaxis": "x",
         "y": [
          1.8053032159805298
         ],
         "yaxis": "y"
        },
        {
         "hovertemplate": "<b>%{hovertext}</b><br><br>color=797<br>x1=%{x}<br>x2=%{y}<extra></extra>",
         "hovertext": [
          "brain coral"
         ],
         "legendgroup": "797",
         "marker": {
          "color": "#FECB52",
          "symbol": "circle"
         },
         "mode": "markers",
         "name": "797",
         "orientation": "v",
         "showlegend": true,
         "type": "scatter",
         "x": [
          -4.57174825668335
         ],
         "xaxis": "x",
         "y": [
          3.933062791824341
         ],
         "yaxis": "y"
        },
        {
         "hovertemplate": "<b>%{hovertext}</b><br><br>color=835<br>x1=%{x}<br>x2=%{y}<extra></extra>",
         "hovertext": [
          "flatworm"
         ],
         "legendgroup": "835",
         "marker": {
          "color": "#636efa",
          "symbol": "circle"
         },
         "mode": "markers",
         "name": "835",
         "orientation": "v",
         "showlegend": true,
         "type": "scatter",
         "x": [
          5.473845958709717
         ],
         "xaxis": "x",
         "y": [
          1.2249654531478882
         ],
         "yaxis": "y"
        },
        {
         "hovertemplate": "<b>%{hovertext}</b><br><br>color=830<br>x1=%{x}<br>x2=%{y}<extra></extra>",
         "hovertext": [
          "nematode"
         ],
         "legendgroup": "830",
         "marker": {
          "color": "#EF553B",
          "symbol": "circle"
         },
         "mode": "markers",
         "name": "830",
         "orientation": "v",
         "showlegend": true,
         "type": "scatter",
         "x": [
          4.933116436004639
         ],
         "xaxis": "x",
         "y": [
          -0.811889111995697
         ],
         "yaxis": "y"
        },
        {
         "hovertemplate": "<b>%{hovertext}</b><br><br>color=477<br>x1=%{x}<br>x2=%{y}<extra></extra>",
         "hovertext": [
          "conch"
         ],
         "legendgroup": "477",
         "marker": {
          "color": "#00cc96",
          "symbol": "circle"
         },
         "mode": "markers",
         "name": "477",
         "orientation": "v",
         "showlegend": true,
         "type": "scatter",
         "x": [
          -2.228302001953125
         ],
         "xaxis": "x",
         "y": [
          1.7653522491455078
         ],
         "yaxis": "y"
        },
        {
         "hovertemplate": "<b>%{hovertext}</b><br><br>color=825<br>x1=%{x}<br>x2=%{y}<extra></extra>",
         "hovertext": [
          "snail"
         ],
         "legendgroup": "825",
         "marker": {
          "color": "#ab63fa",
          "symbol": "circle"
         },
         "mode": "markers",
         "name": "825",
         "orientation": "v",
         "showlegend": true,
         "type": "scatter",
         "x": [
          -6.465761661529541
         ],
         "xaxis": "x",
         "y": [
          0.32391557097435
         ],
         "yaxis": "y"
        },
        {
         "hovertemplate": "<b>%{hovertext}</b><br><br>color=669<br>x1=%{x}<br>x2=%{y}<extra></extra>",
         "hovertext": [
          "slug"
         ],
         "legendgroup": "669",
         "marker": {
          "color": "#FFA15A",
          "symbol": "circle"
         },
         "mode": "markers",
         "name": "669",
         "orientation": "v",
         "showlegend": true,
         "type": "scatter",
         "x": [
          -4.985971450805664
         ],
         "xaxis": "x",
         "y": [
          -0.9725306034088135
         ],
         "yaxis": "y"
        },
        {
         "hovertemplate": "<b>%{hovertext}</b><br><br>color=816<br>x1=%{x}<br>x2=%{y}<extra></extra>",
         "hovertext": [
          "sea slug"
         ],
         "legendgroup": "816",
         "marker": {
          "color": "#19d3f3",
          "symbol": "circle"
         },
         "mode": "markers",
         "name": "816",
         "orientation": "v",
         "showlegend": true,
         "type": "scatter",
         "x": [
          6.272496223449707
         ],
         "xaxis": "x",
         "y": [
          1.2643439769744873
         ],
         "yaxis": "y"
        },
        {
         "hovertemplate": "<b>%{hovertext}</b><br><br>color=973<br>x1=%{x}<br>x2=%{y}<extra></extra>",
         "hovertext": [
          "chiton"
         ],
         "legendgroup": "973",
         "marker": {
          "color": "#FF6692",
          "symbol": "circle"
         },
         "mode": "markers",
         "name": "973",
         "orientation": "v",
         "showlegend": true,
         "type": "scatter",
         "x": [
          9.04080867767334
         ],
         "xaxis": "x",
         "y": [
          -1.127058982849121
         ],
         "yaxis": "y"
        },
        {
         "hovertemplate": "<b>%{hovertext}</b><br><br>color=762<br>x1=%{x}<br>x2=%{y}<extra></extra>",
         "hovertext": [
          "chambered nautilus"
         ],
         "legendgroup": "762",
         "marker": {
          "color": "#B6E880",
          "symbol": "circle"
         },
         "mode": "markers",
         "name": "762",
         "orientation": "v",
         "showlegend": true,
         "type": "scatter",
         "x": [
          4.591228008270264
         ],
         "xaxis": "x",
         "y": [
          -0.886634111404419
         ],
         "yaxis": "y"
        },
        {
         "hovertemplate": "<b>%{hovertext}</b><br><br>color=781<br>x1=%{x}<br>x2=%{y}<extra></extra>",
         "hovertext": [
          "Dungeness crab"
         ],
         "legendgroup": "781",
         "marker": {
          "color": "#FF97FF",
          "symbol": "circle"
         },
         "mode": "markers",
         "name": "781",
         "orientation": "v",
         "showlegend": true,
         "type": "scatter",
         "x": [
          5.3280558586120605
         ],
         "xaxis": "x",
         "y": [
          1.1759811639785767
         ],
         "yaxis": "y"
        },
        {
         "hovertemplate": "<b>%{hovertext}</b><br><br>color=792<br>x1=%{x}<br>x2=%{y}<extra></extra>",
         "hovertext": [
          "rock crab"
         ],
         "legendgroup": "792",
         "marker": {
          "color": "#FECB52",
          "symbol": "circle"
         },
         "mode": "markers",
         "name": "792",
         "orientation": "v",
         "showlegend": true,
         "type": "scatter",
         "x": [
          4.976821422576904
         ],
         "xaxis": "x",
         "y": [
          1.6747188568115234
         ],
         "yaxis": "y"
        },
        {
         "hovertemplate": "<b>%{hovertext}</b><br><br>color=687<br>x1=%{x}<br>x2=%{y}<extra></extra>",
         "hovertext": [
          "fiddler crab"
         ],
         "legendgroup": "687",
         "marker": {
          "color": "#636efa",
          "symbol": "circle"
         },
         "mode": "markers",
         "name": "687",
         "orientation": "v",
         "showlegend": true,
         "type": "scatter",
         "x": [
          -3.0364651679992676
         ],
         "xaxis": "x",
         "y": [
          0.12981729209423065
         ],
         "yaxis": "y"
        },
        {
         "hovertemplate": "<b>%{hovertext}</b><br><br>color=990<br>x1=%{x}<br>x2=%{y}<extra></extra>",
         "hovertext": [
          "king crab"
         ],
         "legendgroup": "990",
         "marker": {
          "color": "#EF553B",
          "symbol": "circle"
         },
         "mode": "markers",
         "name": "990",
         "orientation": "v",
         "showlegend": true,
         "type": "scatter",
         "x": [
          9.252706527709961
         ],
         "xaxis": "x",
         "y": [
          -0.6096936464309692
         ],
         "yaxis": "y"
        },
        {
         "hovertemplate": "<b>%{hovertext}</b><br><br>color=488<br>x1=%{x}<br>x2=%{y}<extra></extra>",
         "hovertext": [
          "American lobster"
         ],
         "legendgroup": "488",
         "marker": {
          "color": "#00cc96",
          "symbol": "circle"
         },
         "mode": "markers",
         "name": "488",
         "orientation": "v",
         "showlegend": true,
         "type": "scatter",
         "x": [
          10.030464172363281
         ],
         "xaxis": "x",
         "y": [
          0.6348267197608948
         ],
         "yaxis": "y"
        },
        {
         "hovertemplate": "<b>%{hovertext}</b><br><br>color=880<br>x1=%{x}<br>x2=%{y}<extra></extra>",
         "hovertext": [
          "spiny lobster"
         ],
         "legendgroup": "880",
         "marker": {
          "color": "#ab63fa",
          "symbol": "circle"
         },
         "mode": "markers",
         "name": "880",
         "orientation": "v",
         "showlegend": true,
         "type": "scatter",
         "x": [
          9.15796184539795
         ],
         "xaxis": "x",
         "y": [
          -1.3161731958389282
         ],
         "yaxis": "y"
        },
        {
         "hovertemplate": "<b>%{hovertext}</b><br><br>color=840<br>x1=%{x}<br>x2=%{y}<extra></extra>",
         "hovertext": [
          "crayfish"
         ],
         "legendgroup": "840",
         "marker": {
          "color": "#FFA15A",
          "symbol": "circle"
         },
         "mode": "markers",
         "name": "840",
         "orientation": "v",
         "showlegend": true,
         "type": "scatter",
         "x": [
          4.928267002105713
         ],
         "xaxis": "x",
         "y": [
          -1.4109045267105103
         ],
         "yaxis": "y"
        },
        {
         "hovertemplate": "<b>%{hovertext}</b><br><br>color=533<br>x1=%{x}<br>x2=%{y}<extra></extra>",
         "hovertext": [
          "hermit crab"
         ],
         "legendgroup": "533",
         "marker": {
          "color": "#19d3f3",
          "symbol": "circle"
         },
         "mode": "markers",
         "name": "533",
         "orientation": "v",
         "showlegend": true,
         "type": "scatter",
         "x": [
          -3.371857166290283
         ],
         "xaxis": "x",
         "y": [
          -0.13643236458301544
         ],
         "yaxis": "y"
        },
        {
         "hovertemplate": "<b>%{hovertext}</b><br><br>color=826<br>x1=%{x}<br>x2=%{y}<extra></extra>",
         "hovertext": [
          "isopod"
         ],
         "legendgroup": "826",
         "marker": {
          "color": "#FF6692",
          "symbol": "circle"
         },
         "mode": "markers",
         "name": "826",
         "orientation": "v",
         "showlegend": true,
         "type": "scatter",
         "x": [
          0.7645939588546753
         ],
         "xaxis": "x",
         "y": [
          2.4415154457092285
         ],
         "yaxis": "y"
        },
        {
         "hovertemplate": "<b>%{hovertext}</b><br><br>color=996<br>x1=%{x}<br>x2=%{y}<extra></extra>",
         "hovertext": [
          "white stork"
         ],
         "legendgroup": "996",
         "marker": {
          "color": "#B6E880",
          "symbol": "circle"
         },
         "mode": "markers",
         "name": "996",
         "orientation": "v",
         "showlegend": true,
         "type": "scatter",
         "x": [
          6.502397060394287
         ],
         "xaxis": "x",
         "y": [
          2.647789716720581
         ],
         "yaxis": "y"
        },
        {
         "hovertemplate": "<b>%{hovertext}</b><br><br>color=563<br>x1=%{x}<br>x2=%{y}<extra></extra>",
         "hovertext": [
          "black stork"
         ],
         "legendgroup": "563",
         "marker": {
          "color": "#FF97FF",
          "symbol": "circle"
         },
         "mode": "markers",
         "name": "563",
         "orientation": "v",
         "showlegend": true,
         "type": "scatter",
         "x": [
          7.071250915527344
         ],
         "xaxis": "x",
         "y": [
          2.5145349502563477
         ],
         "yaxis": "y"
        },
        {
         "hovertemplate": "<b>%{hovertext}</b><br><br>color=925<br>x1=%{x}<br>x2=%{y}<extra></extra>",
         "hovertext": [
          "spoonbill"
         ],
         "legendgroup": "925",
         "marker": {
          "color": "#FECB52",
          "symbol": "circle"
         },
         "mode": "markers",
         "name": "925",
         "orientation": "v",
         "showlegend": true,
         "type": "scatter",
         "x": [
          -4.365818023681641
         ],
         "xaxis": "x",
         "y": [
          0.10438012331724167
         ],
         "yaxis": "y"
        },
        {
         "hovertemplate": "<b>%{hovertext}</b><br><br>color=582<br>x1=%{x}<br>x2=%{y}<extra></extra>",
         "hovertext": [
          "flamingo"
         ],
         "legendgroup": "582",
         "marker": {
          "color": "#636efa",
          "symbol": "circle"
         },
         "mode": "markers",
         "name": "582",
         "orientation": "v",
         "showlegend": true,
         "type": "scatter",
         "x": [
          -4.388742923736572
         ],
         "xaxis": "x",
         "y": [
          -0.2740260362625122
         ],
         "yaxis": "y"
        },
        {
         "hovertemplate": "<b>%{hovertext}</b><br><br>color=940<br>x1=%{x}<br>x2=%{y}<extra></extra>",
         "hovertext": [
          "little blue heron"
         ],
         "legendgroup": "940",
         "marker": {
          "color": "#EF553B",
          "symbol": "circle"
         },
         "mode": "markers",
         "name": "940",
         "orientation": "v",
         "showlegend": true,
         "type": "scatter",
         "x": [
          8.562444686889648
         ],
         "xaxis": "x",
         "y": [
          1.1193221807479858
         ],
         "yaxis": "y"
        },
        {
         "hovertemplate": "<b>%{hovertext}</b><br><br>color=983<br>x1=%{x}<br>x2=%{y}<extra></extra>",
         "hovertext": [
          "American egret"
         ],
         "legendgroup": "983",
         "marker": {
          "color": "#00cc96",
          "symbol": "circle"
         },
         "mode": "markers",
         "name": "983",
         "orientation": "v",
         "showlegend": true,
         "type": "scatter",
         "x": [
          8.379863739013672
         ],
         "xaxis": "x",
         "y": [
          1.1367876529693604
         ],
         "yaxis": "y"
        },
        {
         "hovertemplate": "<b>%{hovertext}</b><br><br>color=606<br>x1=%{x}<br>x2=%{y}<extra></extra>",
         "hovertext": [
          "bittern"
         ],
         "legendgroup": "606",
         "marker": {
          "color": "#ab63fa",
          "symbol": "circle"
         },
         "mode": "markers",
         "name": "606",
         "orientation": "v",
         "showlegend": true,
         "type": "scatter",
         "x": [
          -4.308192253112793
         ],
         "xaxis": "x",
         "y": [
          2.482283592224121
         ],
         "yaxis": "y"
        },
        {
         "hovertemplate": "<b>%{hovertext}</b><br><br>color=999<br>x1=%{x}<br>x2=%{y}<extra></extra>",
         "hovertext": [
          "crane"
         ],
         "legendgroup": "999",
         "marker": {
          "color": "#FFA15A",
          "symbol": "circle"
         },
         "mode": "markers",
         "name": "999",
         "orientation": "v",
         "showlegend": true,
         "type": "scatter",
         "x": [
          -7.418814182281494
         ],
         "xaxis": "x",
         "y": [
          0.8880905508995056
         ],
         "yaxis": "y"
        },
        {
         "hovertemplate": "<b>%{hovertext}</b><br><br>color=635<br>x1=%{x}<br>x2=%{y}<extra></extra>",
         "hovertext": [
          "limpkin"
         ],
         "legendgroup": "635",
         "marker": {
          "color": "#19d3f3",
          "symbol": "circle"
         },
         "mode": "markers",
         "name": "635",
         "orientation": "v",
         "showlegend": true,
         "type": "scatter",
         "x": [
          2.7564098834991455
         ],
         "xaxis": "x",
         "y": [
          1.6517397165298462
         ],
         "yaxis": "y"
        },
        {
         "hovertemplate": "<b>%{hovertext}</b><br><br>color=948<br>x1=%{x}<br>x2=%{y}<extra></extra>",
         "hovertext": [
          "European gallinule"
         ],
         "legendgroup": "948",
         "marker": {
          "color": "#FF6692",
          "symbol": "circle"
         },
         "mode": "markers",
         "name": "948",
         "orientation": "v",
         "showlegend": true,
         "type": "scatter",
         "x": [
          8.649871826171875
         ],
         "xaxis": "x",
         "y": [
          0.9594303369522095
         ],
         "yaxis": "y"
        },
        {
         "hovertemplate": "<b>%{hovertext}</b><br><br>color=935<br>x1=%{x}<br>x2=%{y}<extra></extra>",
         "hovertext": [
          "American coot"
         ],
         "legendgroup": "935",
         "marker": {
          "color": "#B6E880",
          "symbol": "circle"
         },
         "mode": "markers",
         "name": "935",
         "orientation": "v",
         "showlegend": true,
         "type": "scatter",
         "x": [
          9.839067459106445
         ],
         "xaxis": "x",
         "y": [
          0.4770623445510864
         ],
         "yaxis": "y"
        },
        {
         "hovertemplate": "<b>%{hovertext}</b><br><br>color=719<br>x1=%{x}<br>x2=%{y}<extra></extra>",
         "hovertext": [
          "bustard"
         ],
         "legendgroup": "719",
         "marker": {
          "color": "#FF97FF",
          "symbol": "circle"
         },
         "mode": "markers",
         "name": "719",
         "orientation": "v",
         "showlegend": true,
         "type": "scatter",
         "x": [
          -4.12549352645874
         ],
         "xaxis": "x",
         "y": [
          1.9868723154067993
         ],
         "yaxis": "y"
        },
        {
         "hovertemplate": "<b>%{hovertext}</b><br><br>color=566<br>x1=%{x}<br>x2=%{y}<extra></extra>",
         "hovertext": [
          "ruddy turnstone"
         ],
         "legendgroup": "566",
         "marker": {
          "color": "#FECB52",
          "symbol": "circle"
         },
         "mode": "markers",
         "name": "566",
         "orientation": "v",
         "showlegend": true,
         "type": "scatter",
         "x": [
          5.976808547973633
         ],
         "xaxis": "x",
         "y": [
          0.7621561288833618
         ],
         "yaxis": "y"
        },
        {
         "hovertemplate": "<b>%{hovertext}</b><br><br>color=922<br>x1=%{x}<br>x2=%{y}<extra></extra>",
         "hovertext": [
          "red-backed sandpiper"
         ],
         "legendgroup": "922",
         "marker": {
          "color": "#636efa",
          "symbol": "circle"
         },
         "mode": "markers",
         "name": "922",
         "orientation": "v",
         "showlegend": true,
         "type": "scatter",
         "x": [
          8.464189529418945
         ],
         "xaxis": "x",
         "y": [
          0.46472471952438354
         ],
         "yaxis": "y"
        },
        {
         "hovertemplate": "<b>%{hovertext}</b><br><br>color=838<br>x1=%{x}<br>x2=%{y}<extra></extra>",
         "hovertext": [
          "redshank"
         ],
         "legendgroup": "838",
         "marker": {
          "color": "#EF553B",
          "symbol": "circle"
         },
         "mode": "markers",
         "name": "838",
         "orientation": "v",
         "showlegend": true,
         "type": "scatter",
         "x": [
          5.124375343322754
         ],
         "xaxis": "x",
         "y": [
          2.3167152404785156
         ],
         "yaxis": "y"
        },
        {
         "hovertemplate": "<b>%{hovertext}</b><br><br>color=526<br>x1=%{x}<br>x2=%{y}<extra></extra>",
         "hovertext": [
          "dowitcher"
         ],
         "legendgroup": "526",
         "marker": {
          "color": "#00cc96",
          "symbol": "circle"
         },
         "mode": "markers",
         "name": "526",
         "orientation": "v",
         "showlegend": true,
         "type": "scatter",
         "x": [
          -2.594756603240967
         ],
         "xaxis": "x",
         "y": [
          1.4218538999557495
         ],
         "yaxis": "y"
        },
        {
         "hovertemplate": "<b>%{hovertext}</b><br><br>color=712<br>x1=%{x}<br>x2=%{y}<extra></extra>",
         "hovertext": [
          "oystercatcher"
         ],
         "legendgroup": "712",
         "marker": {
          "color": "#ab63fa",
          "symbol": "circle"
         },
         "mode": "markers",
         "name": "712",
         "orientation": "v",
         "showlegend": true,
         "type": "scatter",
         "x": [
          3.781818389892578
         ],
         "xaxis": "x",
         "y": [
          -1.4046190977096558
         ],
         "yaxis": "y"
        },
        {
         "hovertemplate": "<b>%{hovertext}</b><br><br>color=665<br>x1=%{x}<br>x2=%{y}<extra></extra>",
         "hovertext": [
          "pelican"
         ],
         "legendgroup": "665",
         "marker": {
          "color": "#FFA15A",
          "symbol": "circle"
         },
         "mode": "markers",
         "name": "665",
         "orientation": "v",
         "showlegend": true,
         "type": "scatter",
         "x": [
          1.0080639123916626
         ],
         "xaxis": "x",
         "y": [
          2.907553195953369
         ],
         "yaxis": "y"
        },
        {
         "hovertemplate": "<b>%{hovertext}</b><br><br>color=995<br>x1=%{x}<br>x2=%{y}<extra></extra>",
         "hovertext": [
          "king penguin"
         ],
         "legendgroup": "995",
         "marker": {
          "color": "#19d3f3",
          "symbol": "circle"
         },
         "mode": "markers",
         "name": "995",
         "orientation": "v",
         "showlegend": true,
         "type": "scatter",
         "x": [
          8.997416496276855
         ],
         "xaxis": "x",
         "y": [
          1.7132797241210938
         ],
         "yaxis": "y"
        },
        {
         "hovertemplate": "<b>%{hovertext}</b><br><br>color=770<br>x1=%{x}<br>x2=%{y}<extra></extra>",
         "hovertext": [
          "albatross"
         ],
         "legendgroup": "770",
         "marker": {
          "color": "#FF6692",
          "symbol": "circle"
         },
         "mode": "markers",
         "name": "770",
         "orientation": "v",
         "showlegend": true,
         "type": "scatter",
         "x": [
          6.045553684234619
         ],
         "xaxis": "x",
         "y": [
          1.1695038080215454
         ],
         "yaxis": "y"
        },
        {
         "hovertemplate": "<b>%{hovertext}</b><br><br>color=495<br>x1=%{x}<br>x2=%{y}<extra></extra>",
         "hovertext": [
          "grey whale"
         ],
         "legendgroup": "495",
         "marker": {
          "color": "#B6E880",
          "symbol": "circle"
         },
         "mode": "markers",
         "name": "495",
         "orientation": "v",
         "showlegend": true,
         "type": "scatter",
         "x": [
          9.063310623168945
         ],
         "xaxis": "x",
         "y": [
          -1.1148583889007568
         ],
         "yaxis": "y"
        },
        {
         "hovertemplate": "<b>%{hovertext}</b><br><br>color=931<br>x1=%{x}<br>x2=%{y}<extra></extra>",
         "hovertext": [
          "killer whale"
         ],
         "legendgroup": "931",
         "marker": {
          "color": "#FF97FF",
          "symbol": "circle"
         },
         "mode": "markers",
         "name": "931",
         "orientation": "v",
         "showlegend": true,
         "type": "scatter",
         "x": [
          6.292288780212402
         ],
         "xaxis": "x",
         "y": [
          0.11234799027442932
         ],
         "yaxis": "y"
        },
        {
         "hovertemplate": "<b>%{hovertext}</b><br><br>color=632<br>x1=%{x}<br>x2=%{y}<extra></extra>",
         "hovertext": [
          "dugong"
         ],
         "legendgroup": "632",
         "marker": {
          "color": "#FECB52",
          "symbol": "circle"
         },
         "mode": "markers",
         "name": "632",
         "orientation": "v",
         "showlegend": true,
         "type": "scatter",
         "x": [
          0.7577995657920837
         ],
         "xaxis": "x",
         "y": [
          0.8412700295448303
         ],
         "yaxis": "y"
        },
        {
         "hovertemplate": "<b>%{hovertext}</b><br><br>color=704<br>x1=%{x}<br>x2=%{y}<extra></extra>",
         "hovertext": [
          "sea lion"
         ],
         "legendgroup": "704",
         "marker": {
          "color": "#636efa",
          "symbol": "circle"
         },
         "mode": "markers",
         "name": "704",
         "orientation": "v",
         "showlegend": true,
         "type": "scatter",
         "x": [
          -3.912858724594116
         ],
         "xaxis": "x",
         "y": [
          1.8943253755569458
         ],
         "yaxis": "y"
        },
        {
         "hovertemplate": "<b>%{hovertext}</b><br><br>color=355<br>x1=%{x}<br>x2=%{y}<extra></extra>",
         "hovertext": [
          "Chihuahua"
         ],
         "legendgroup": "355",
         "marker": {
          "color": "#EF553B",
          "symbol": "circle"
         },
         "mode": "markers",
         "name": "355",
         "orientation": "v",
         "showlegend": true,
         "type": "scatter",
         "x": [
          1.14444899559021
         ],
         "xaxis": "x",
         "y": [
          1.5362234115600586
         ],
         "yaxis": "y"
        },
        {
         "hovertemplate": "<b>%{hovertext}</b><br><br>color=878<br>x1=%{x}<br>x2=%{y}<extra></extra>",
         "hovertext": [
          "Japanese spaniel"
         ],
         "legendgroup": "878",
         "marker": {
          "color": "#00cc96",
          "symbol": "circle"
         },
         "mode": "markers",
         "name": "878",
         "orientation": "v",
         "showlegend": true,
         "type": "scatter",
         "x": [
          -2.045513153076172
         ],
         "xaxis": "x",
         "y": [
          0.8700885772705078
         ],
         "yaxis": "y"
        },
        {
         "hovertemplate": "<b>%{hovertext}</b><br><br>color=674<br>x1=%{x}<br>x2=%{y}<extra></extra>",
         "hovertext": [
          "Maltese dog"
         ],
         "legendgroup": "674",
         "marker": {
          "color": "#ab63fa",
          "symbol": "circle"
         },
         "mode": "markers",
         "name": "674",
         "orientation": "v",
         "showlegend": true,
         "type": "scatter",
         "x": [
          2.4103362560272217
         ],
         "xaxis": "x",
         "y": [
          -0.10797732323408127
         ],
         "yaxis": "y"
        },
        {
         "hovertemplate": "<b>%{hovertext}</b><br><br>color=659<br>x1=%{x}<br>x2=%{y}<extra></extra>",
         "hovertext": [
          "Pekinese"
         ],
         "legendgroup": "659",
         "marker": {
          "color": "#FFA15A",
          "symbol": "circle"
         },
         "mode": "markers",
         "name": "659",
         "orientation": "v",
         "showlegend": true,
         "type": "scatter",
         "x": [
          3.3690006732940674
         ],
         "xaxis": "x",
         "y": [
          -2.662580728530884
         ],
         "yaxis": "y"
        },
        {
         "hovertemplate": "<b>%{hovertext}</b><br><br>color=609<br>x1=%{x}<br>x2=%{y}<extra></extra>",
         "hovertext": [
          "Shih-Tzu"
         ],
         "legendgroup": "609",
         "marker": {
          "color": "#19d3f3",
          "symbol": "circle"
         },
         "mode": "markers",
         "name": "609",
         "orientation": "v",
         "showlegend": true,
         "type": "scatter",
         "x": [
          4.672580242156982
         ],
         "xaxis": "x",
         "y": [
          0.6301856637001038
         ],
         "yaxis": "y"
        },
        {
         "hovertemplate": "<b>%{hovertext}</b><br><br>color=490<br>x1=%{x}<br>x2=%{y}<extra></extra>",
         "hovertext": [
          "Blenheim spaniel"
         ],
         "legendgroup": "490",
         "marker": {
          "color": "#FF6692",
          "symbol": "circle"
         },
         "mode": "markers",
         "name": "490",
         "orientation": "v",
         "showlegend": true,
         "type": "scatter",
         "x": [
          2.0524048805236816
         ],
         "xaxis": "x",
         "y": [
          0.6434485912322998
         ],
         "yaxis": "y"
        },
        {
         "hovertemplate": "<b>%{hovertext}</b><br><br>color=815<br>x1=%{x}<br>x2=%{y}<extra></extra>",
         "hovertext": [
          "papillon"
         ],
         "legendgroup": "815",
         "marker": {
          "color": "#B6E880",
          "symbol": "circle"
         },
         "mode": "markers",
         "name": "815",
         "orientation": "v",
         "showlegend": true,
         "type": "scatter",
         "x": [
          0.544731855392456
         ],
         "xaxis": "x",
         "y": [
          2.7147722244262695
         ],
         "yaxis": "y"
        },
        {
         "hovertemplate": "<b>%{hovertext}</b><br><br>color=628<br>x1=%{x}<br>x2=%{y}<extra></extra>",
         "hovertext": [
          "toy terrier"
         ],
         "legendgroup": "628",
         "marker": {
          "color": "#FF97FF",
          "symbol": "circle"
         },
         "mode": "markers",
         "name": "628",
         "orientation": "v",
         "showlegend": true,
         "type": "scatter",
         "x": [
          -1.403822422027588
         ],
         "xaxis": "x",
         "y": [
          4.7200422286987305
         ],
         "yaxis": "y"
        },
        {
         "hovertemplate": "<b>%{hovertext}</b><br><br>color=875<br>x1=%{x}<br>x2=%{y}<extra></extra>",
         "hovertext": [
          "Rhodesian ridgeback"
         ],
         "legendgroup": "875",
         "marker": {
          "color": "#FECB52",
          "symbol": "circle"
         },
         "mode": "markers",
         "name": "875",
         "orientation": "v",
         "showlegend": true,
         "type": "scatter",
         "x": [
          0.9437409043312073
         ],
         "xaxis": "x",
         "y": [
          1.6759032011032104
         ],
         "yaxis": "y"
        },
        {
         "hovertemplate": "<b>%{hovertext}</b><br><br>color=637<br>x1=%{x}<br>x2=%{y}<extra></extra>",
         "hovertext": [
          "Afghan hound"
         ],
         "legendgroup": "637",
         "marker": {
          "color": "#636efa",
          "symbol": "circle"
         },
         "mode": "markers",
         "name": "637",
         "orientation": "v",
         "showlegend": true,
         "type": "scatter",
         "x": [
          0.5478972792625427
         ],
         "xaxis": "x",
         "y": [
          0.8688892722129822
         ],
         "yaxis": "y"
        },
        {
         "hovertemplate": "<b>%{hovertext}</b><br><br>color=784<br>x1=%{x}<br>x2=%{y}<extra></extra>",
         "hovertext": [
          "basset"
         ],
         "legendgroup": "784",
         "marker": {
          "color": "#EF553B",
          "symbol": "circle"
         },
         "mode": "markers",
         "name": "784",
         "orientation": "v",
         "showlegend": true,
         "type": "scatter",
         "x": [
          0.992743730545044
         ],
         "xaxis": "x",
         "y": [
          -2.6511144638061523
         ],
         "yaxis": "y"
        },
        {
         "hovertemplate": "<b>%{hovertext}</b><br><br>color=679<br>x1=%{x}<br>x2=%{y}<extra></extra>",
         "hovertext": [
          "beagle"
         ],
         "legendgroup": "679",
         "marker": {
          "color": "#00cc96",
          "symbol": "circle"
         },
         "mode": "markers",
         "name": "679",
         "orientation": "v",
         "showlegend": true,
         "type": "scatter",
         "x": [
          -0.8541660904884338
         ],
         "xaxis": "x",
         "y": [
          2.3438968658447266
         ],
         "yaxis": "y"
        },
        {
         "hovertemplate": "<b>%{hovertext}</b><br><br>color=575<br>x1=%{x}<br>x2=%{y}<extra></extra>",
         "hovertext": [
          "bloodhound"
         ],
         "legendgroup": "575",
         "marker": {
          "color": "#ab63fa",
          "symbol": "circle"
         },
         "mode": "markers",
         "name": "575",
         "orientation": "v",
         "showlegend": true,
         "type": "scatter",
         "x": [
          3.032249927520752
         ],
         "xaxis": "x",
         "y": [
          0.49943649768829346
         ],
         "yaxis": "y"
        },
        {
         "hovertemplate": "<b>%{hovertext}</b><br><br>color=754<br>x1=%{x}<br>x2=%{y}<extra></extra>",
         "hovertext": [
          "bluetick"
         ],
         "legendgroup": "754",
         "marker": {
          "color": "#FFA15A",
          "symbol": "circle"
         },
         "mode": "markers",
         "name": "754",
         "orientation": "v",
         "showlegend": true,
         "type": "scatter",
         "x": [
          -5.862934589385986
         ],
         "xaxis": "x",
         "y": [
          0.40027764439582825
         ],
         "yaxis": "y"
        },
        {
         "hovertemplate": "<b>%{hovertext}</b><br><br>color=640<br>x1=%{x}<br>x2=%{y}<extra></extra>",
         "hovertext": [
          "black-and-tan coonhound"
         ],
         "legendgroup": "640",
         "marker": {
          "color": "#19d3f3",
          "symbol": "circle"
         },
         "mode": "markers",
         "name": "640",
         "orientation": "v",
         "showlegend": true,
         "type": "scatter",
         "x": [
          2.586000680923462
         ],
         "xaxis": "x",
         "y": [
          1.0904358625411987
         ],
         "yaxis": "y"
        },
        {
         "hovertemplate": "<b>%{hovertext}</b><br><br>color=290<br>x1=%{x}<br>x2=%{y}<extra></extra>",
         "hovertext": [
          "Walker hound"
         ],
         "legendgroup": "290",
         "marker": {
          "color": "#FF6692",
          "symbol": "circle"
         },
         "mode": "markers",
         "name": "290",
         "orientation": "v",
         "showlegend": true,
         "type": "scatter",
         "x": [
          2.7843756675720215
         ],
         "xaxis": "x",
         "y": [
          1.3577057123184204
         ],
         "yaxis": "y"
        },
        {
         "hovertemplate": "<b>%{hovertext}</b><br><br>color=975<br>x1=%{x}<br>x2=%{y}<extra></extra>",
         "hovertext": [
          "English foxhound"
         ],
         "legendgroup": "975",
         "marker": {
          "color": "#B6E880",
          "symbol": "circle"
         },
         "mode": "markers",
         "name": "975",
         "orientation": "v",
         "showlegend": true,
         "type": "scatter",
         "x": [
          -1.5298672914505005
         ],
         "xaxis": "x",
         "y": [
          2.2097554206848145
         ],
         "yaxis": "y"
        },
        {
         "hovertemplate": "<b>%{hovertext}</b><br><br>color=593<br>x1=%{x}<br>x2=%{y}<extra></extra>",
         "hovertext": [
          "redbone"
         ],
         "legendgroup": "593",
         "marker": {
          "color": "#FF97FF",
          "symbol": "circle"
         },
         "mode": "markers",
         "name": "593",
         "orientation": "v",
         "showlegend": true,
         "type": "scatter",
         "x": [
          -4.597906589508057
         ],
         "xaxis": "x",
         "y": [
          1.8090651035308838
         ],
         "yaxis": "y"
        },
        {
         "hovertemplate": "<b>%{hovertext}</b><br><br>color=523<br>x1=%{x}<br>x2=%{y}<extra></extra>",
         "hovertext": [
          "borzoi"
         ],
         "legendgroup": "523",
         "marker": {
          "color": "#FECB52",
          "symbol": "circle"
         },
         "mode": "markers",
         "name": "523",
         "orientation": "v",
         "showlegend": true,
         "type": "scatter",
         "x": [
          2.5997543334960938
         ],
         "xaxis": "x",
         "y": [
          1.3132312297821045
         ],
         "yaxis": "y"
        },
        {
         "hovertemplate": "<b>%{hovertext}</b><br><br>color=950<br>x1=%{x}<br>x2=%{y}<extra></extra>",
         "hovertext": [
          "Irish wolfhound"
         ],
         "legendgroup": "950",
         "marker": {
          "color": "#636efa",
          "symbol": "circle"
         },
         "mode": "markers",
         "name": "950",
         "orientation": "v",
         "showlegend": true,
         "type": "scatter",
         "x": [
          -1.425492286682129
         ],
         "xaxis": "x",
         "y": [
          2.468074321746826
         ],
         "yaxis": "y"
        },
        {
         "hovertemplate": "<b>%{hovertext}</b><br><br>color=765<br>x1=%{x}<br>x2=%{y}<extra></extra>",
         "hovertext": [
          "Italian greyhound"
         ],
         "legendgroup": "765",
         "marker": {
          "color": "#EF553B",
          "symbol": "circle"
         },
         "mode": "markers",
         "name": "765",
         "orientation": "v",
         "showlegend": true,
         "type": "scatter",
         "x": [
          -1.8683637380599976
         ],
         "xaxis": "x",
         "y": [
          0.6856082081794739
         ],
         "yaxis": "y"
        },
        {
         "hovertemplate": "<b>%{hovertext}</b><br><br>color=513<br>x1=%{x}<br>x2=%{y}<extra></extra>",
         "hovertext": [
          "whippet"
         ],
         "legendgroup": "513",
         "marker": {
          "color": "#00cc96",
          "symbol": "circle"
         },
         "mode": "markers",
         "name": "513",
         "orientation": "v",
         "showlegend": true,
         "type": "scatter",
         "x": [
          -5.419365882873535
         ],
         "xaxis": "x",
         "y": [
          0.3609062731266022
         ],
         "yaxis": "y"
        },
        {
         "hovertemplate": "<b>%{hovertext}</b><br><br>color=512<br>x1=%{x}<br>x2=%{y}<extra></extra>",
         "hovertext": [
          "Ibizan hound"
         ],
         "legendgroup": "512",
         "marker": {
          "color": "#ab63fa",
          "symbol": "circle"
         },
         "mode": "markers",
         "name": "512",
         "orientation": "v",
         "showlegend": true,
         "type": "scatter",
         "x": [
          4.688752174377441
         ],
         "xaxis": "x",
         "y": [
          0.08278526365756989
         ],
         "yaxis": "y"
        },
        {
         "hovertemplate": "<b>%{hovertext}</b><br><br>color=829<br>x1=%{x}<br>x2=%{y}<extra></extra>",
         "hovertext": [
          "Norwegian elkhound"
         ],
         "legendgroup": "829",
         "marker": {
          "color": "#FFA15A",
          "symbol": "circle"
         },
         "mode": "markers",
         "name": "829",
         "orientation": "v",
         "showlegend": true,
         "type": "scatter",
         "x": [
          3.853121042251587
         ],
         "xaxis": "x",
         "y": [
          1.0968732833862305
         ],
         "yaxis": "y"
        },
        {
         "hovertemplate": "<b>%{hovertext}</b><br><br>color=732<br>x1=%{x}<br>x2=%{y}<extra></extra>",
         "hovertext": [
          "otterhound"
         ],
         "legendgroup": "732",
         "marker": {
          "color": "#19d3f3",
          "symbol": "circle"
         },
         "mode": "markers",
         "name": "732",
         "orientation": "v",
         "showlegend": true,
         "type": "scatter",
         "x": [
          4.017844200134277
         ],
         "xaxis": "x",
         "y": [
          -0.21225576102733612
         ],
         "yaxis": "y"
        },
        {
         "hovertemplate": "<b>%{hovertext}</b><br><br>color=407<br>x1=%{x}<br>x2=%{y}<extra></extra>",
         "hovertext": [
          "Saluki"
         ],
         "legendgroup": "407",
         "marker": {
          "color": "#FF6692",
          "symbol": "circle"
         },
         "mode": "markers",
         "name": "407",
         "orientation": "v",
         "showlegend": true,
         "type": "scatter",
         "x": [
          3.8223204612731934
         ],
         "xaxis": "x",
         "y": [
          0.6446591019630432
         ],
         "yaxis": "y"
        },
        {
         "hovertemplate": "<b>%{hovertext}</b><br><br>color=564<br>x1=%{x}<br>x2=%{y}<extra></extra>",
         "hovertext": [
          "Scottish deerhound"
         ],
         "legendgroup": "564",
         "marker": {
          "color": "#B6E880",
          "symbol": "circle"
         },
         "mode": "markers",
         "name": "564",
         "orientation": "v",
         "showlegend": true,
         "type": "scatter",
         "x": [
          0.5344411134719849
         ],
         "xaxis": "x",
         "y": [
          0.8213479518890381
         ],
         "yaxis": "y"
        },
        {
         "hovertemplate": "<b>%{hovertext}</b><br><br>color=531<br>x1=%{x}<br>x2=%{y}<extra></extra>",
         "hovertext": [
          "Weimaraner"
         ],
         "legendgroup": "531",
         "marker": {
          "color": "#FF97FF",
          "symbol": "circle"
         },
         "mode": "markers",
         "name": "531",
         "orientation": "v",
         "showlegend": true,
         "type": "scatter",
         "x": [
          -0.8725216388702393
         ],
         "xaxis": "x",
         "y": [
          0.17108900845050812
         ],
         "yaxis": "y"
        },
        {
         "hovertemplate": "<b>%{hovertext}</b><br><br>color=438<br>x1=%{x}<br>x2=%{y}<extra></extra>",
         "hovertext": [
          "Staffordshire bullterrier"
         ],
         "legendgroup": "438",
         "marker": {
          "color": "#FECB52",
          "symbol": "circle"
         },
         "mode": "markers",
         "name": "438",
         "orientation": "v",
         "showlegend": true,
         "type": "scatter",
         "x": [
          3.694133996963501
         ],
         "xaxis": "x",
         "y": [
          0.7213261723518372
         ],
         "yaxis": "y"
        },
        {
         "hovertemplate": "<b>%{hovertext}</b><br><br>color=741<br>x1=%{x}<br>x2=%{y}<extra></extra>",
         "hovertext": [
          "American Staffordshire terrier"
         ],
         "legendgroup": "741",
         "marker": {
          "color": "#636efa",
          "symbol": "circle"
         },
         "mode": "markers",
         "name": "741",
         "orientation": "v",
         "showlegend": true,
         "type": "scatter",
         "x": [
          5.679271697998047
         ],
         "xaxis": "x",
         "y": [
          -0.02711559645831585
         ],
         "yaxis": "y"
        },
        {
         "hovertemplate": "<b>%{hovertext}</b><br><br>color=916<br>x1=%{x}<br>x2=%{y}<extra></extra>",
         "hovertext": [
          "Bedlington terrier"
         ],
         "legendgroup": "916",
         "marker": {
          "color": "#EF553B",
          "symbol": "circle"
         },
         "mode": "markers",
         "name": "916",
         "orientation": "v",
         "showlegend": true,
         "type": "scatter",
         "x": [
          2.07820200920105
         ],
         "xaxis": "x",
         "y": [
          3.082040786743164
         ],
         "yaxis": "y"
        },
        {
         "hovertemplate": "<b>%{hovertext}</b><br><br>color=470<br>x1=%{x}<br>x2=%{y}<extra></extra>",
         "hovertext": [
          "Border terrier"
         ],
         "legendgroup": "470",
         "marker": {
          "color": "#00cc96",
          "symbol": "circle"
         },
         "mode": "markers",
         "name": "470",
         "orientation": "v",
         "showlegend": true,
         "type": "scatter",
         "x": [
          -0.7050133943557739
         ],
         "xaxis": "x",
         "y": [
          2.9474122524261475
         ],
         "yaxis": "y"
        },
        {
         "hovertemplate": "<b>%{hovertext}</b><br><br>color=959<br>x1=%{x}<br>x2=%{y}<extra></extra>",
         "hovertext": [
          "Kerry blue terrier"
         ],
         "legendgroup": "959",
         "marker": {
          "color": "#ab63fa",
          "symbol": "circle"
         },
         "mode": "markers",
         "name": "959",
         "orientation": "v",
         "showlegend": true,
         "type": "scatter",
         "x": [
          0.8650640249252319
         ],
         "xaxis": "x",
         "y": [
          3.8469743728637695
         ],
         "yaxis": "y"
        },
        {
         "hovertemplate": "<b>%{hovertext}</b><br><br>color=969<br>x1=%{x}<br>x2=%{y}<extra></extra>",
         "hovertext": [
          "Irish terrier"
         ],
         "legendgroup": "969",
         "marker": {
          "color": "#FFA15A",
          "symbol": "circle"
         },
         "mode": "markers",
         "name": "969",
         "orientation": "v",
         "showlegend": true,
         "type": "scatter",
         "x": [
          -0.6927516460418701
         ],
         "xaxis": "x",
         "y": [
          2.9803547859191895
         ],
         "yaxis": "y"
        },
        {
         "hovertemplate": "<b>%{hovertext}</b><br><br>color=489<br>x1=%{x}<br>x2=%{y}<extra></extra>",
         "hovertext": [
          "Norfolk terrier"
         ],
         "legendgroup": "489",
         "marker": {
          "color": "#19d3f3",
          "symbol": "circle"
         },
         "mode": "markers",
         "name": "489",
         "orientation": "v",
         "showlegend": true,
         "type": "scatter",
         "x": [
          -0.5308233499526978
         ],
         "xaxis": "x",
         "y": [
          4.3272271156311035
         ],
         "yaxis": "y"
        },
        {
         "hovertemplate": "<b>%{hovertext}</b><br><br>color=954<br>x1=%{x}<br>x2=%{y}<extra></extra>",
         "hovertext": [
          "Norwich terrier"
         ],
         "legendgroup": "954",
         "marker": {
          "color": "#FF6692",
          "symbol": "circle"
         },
         "mode": "markers",
         "name": "954",
         "orientation": "v",
         "showlegend": true,
         "type": "scatter",
         "x": [
          -0.4993916451931
         ],
         "xaxis": "x",
         "y": [
          4.314681053161621
         ],
         "yaxis": "y"
        },
        {
         "hovertemplate": "<b>%{hovertext}</b><br><br>color=966<br>x1=%{x}<br>x2=%{y}<extra></extra>",
         "hovertext": [
          "Yorkshire terrier"
         ],
         "legendgroup": "966",
         "marker": {
          "color": "#B6E880",
          "symbol": "circle"
         },
         "mode": "markers",
         "name": "966",
         "orientation": "v",
         "showlegend": true,
         "type": "scatter",
         "x": [
          -0.46460312604904175
         ],
         "xaxis": "x",
         "y": [
          4.027312278747559
         ],
         "yaxis": "y"
        },
        {
         "hovertemplate": "<b>%{hovertext}</b><br><br>color=769<br>x1=%{x}<br>x2=%{y}<extra></extra>",
         "hovertext": [
          "wire-haired fox terrier"
         ],
         "legendgroup": "769",
         "marker": {
          "color": "#FF97FF",
          "symbol": "circle"
         },
         "mode": "markers",
         "name": "769",
         "orientation": "v",
         "showlegend": true,
         "type": "scatter",
         "x": [
          2.368852376937866
         ],
         "xaxis": "x",
         "y": [
          3.4581427574157715
         ],
         "yaxis": "y"
        },
        {
         "hovertemplate": "<b>%{hovertext}</b><br><br>color=924<br>x1=%{x}<br>x2=%{y}<extra></extra>",
         "hovertext": [
          "Lakeland terrier"
         ],
         "legendgroup": "924",
         "marker": {
          "color": "#FECB52",
          "symbol": "circle"
         },
         "mode": "markers",
         "name": "924",
         "orientation": "v",
         "showlegend": true,
         "type": "scatter",
         "x": [
          1.2727292776107788
         ],
         "xaxis": "x",
         "y": [
          3.0947558879852295
         ],
         "yaxis": "y"
        },
        {
         "hovertemplate": "<b>%{hovertext}</b><br><br>color=780<br>x1=%{x}<br>x2=%{y}<extra></extra>",
         "hovertext": [
          "Sealyham terrier"
         ],
         "legendgroup": "780",
         "marker": {
          "color": "#636efa",
          "symbol": "circle"
         },
         "mode": "markers",
         "name": "780",
         "orientation": "v",
         "showlegend": true,
         "type": "scatter",
         "x": [
          3.7530674934387207
         ],
         "xaxis": "x",
         "y": [
          1.553328275680542
         ],
         "yaxis": "y"
        },
        {
         "hovertemplate": "<b>%{hovertext}</b><br><br>color=886<br>x1=%{x}<br>x2=%{y}<extra></extra>",
         "hovertext": [
          "Airedale"
         ],
         "legendgroup": "886",
         "marker": {
          "color": "#EF553B",
          "symbol": "circle"
         },
         "mode": "markers",
         "name": "886",
         "orientation": "v",
         "showlegend": true,
         "type": "scatter",
         "x": [
          5.386691093444824
         ],
         "xaxis": "x",
         "y": [
          0.47810548543930054
         ],
         "yaxis": "y"
        },
        {
         "hovertemplate": "<b>%{hovertext}</b><br><br>color=932<br>x1=%{x}<br>x2=%{y}<extra></extra>",
         "hovertext": [
          "cairn"
         ],
         "legendgroup": "932",
         "marker": {
          "color": "#00cc96",
          "symbol": "circle"
         },
         "mode": "markers",
         "name": "932",
         "orientation": "v",
         "showlegend": true,
         "type": "scatter",
         "x": [
          2.7201027870178223
         ],
         "xaxis": "x",
         "y": [
          2.1897976398468018
         ],
         "yaxis": "y"
        },
        {
         "hovertemplate": "<b>%{hovertext}</b><br><br>color=814<br>x1=%{x}<br>x2=%{y}<extra></extra>",
         "hovertext": [
          "Australian terrier"
         ],
         "legendgroup": "814",
         "marker": {
          "color": "#ab63fa",
          "symbol": "circle"
         },
         "mode": "markers",
         "name": "814",
         "orientation": "v",
         "showlegend": true,
         "type": "scatter",
         "x": [
          -0.41144052147865295
         ],
         "xaxis": "x",
         "y": [
          3.0718438625335693
         ],
         "yaxis": "y"
        },
        {
         "hovertemplate": "<b>%{hovertext}</b><br><br>color=753<br>x1=%{x}<br>x2=%{y}<extra></extra>",
         "hovertext": [
          "Dandie Dinmont"
         ],
         "legendgroup": "753",
         "marker": {
          "color": "#FFA15A",
          "symbol": "circle"
         },
         "mode": "markers",
         "name": "753",
         "orientation": "v",
         "showlegend": true,
         "type": "scatter",
         "x": [
          5.330048561096191
         ],
         "xaxis": "x",
         "y": [
          0.1625601351261139
         ],
         "yaxis": "y"
        },
        {
         "hovertemplate": "<b>%{hovertext}</b><br><br>color=796<br>x1=%{x}<br>x2=%{y}<extra></extra>",
         "hovertext": [
          "Boston bull"
         ],
         "legendgroup": "796",
         "marker": {
          "color": "#19d3f3",
          "symbol": "circle"
         },
         "mode": "markers",
         "name": "796",
         "orientation": "v",
         "showlegend": true,
         "type": "scatter",
         "x": [
          2.1582446098327637
         ],
         "xaxis": "x",
         "y": [
          1.307592511177063
         ],
         "yaxis": "y"
        },
        {
         "hovertemplate": "<b>%{hovertext}</b><br><br>color=953<br>x1=%{x}<br>x2=%{y}<extra></extra>",
         "hovertext": [
          "miniature schnauzer"
         ],
         "legendgroup": "953",
         "marker": {
          "color": "#FF6692",
          "symbol": "circle"
         },
         "mode": "markers",
         "name": "953",
         "orientation": "v",
         "showlegend": true,
         "type": "scatter",
         "x": [
          2.588003158569336
         ],
         "xaxis": "x",
         "y": [
          1.0152132511138916
         ],
         "yaxis": "y"
        },
        {
         "hovertemplate": "<b>%{hovertext}</b><br><br>color=824<br>x1=%{x}<br>x2=%{y}<extra></extra>",
         "hovertext": [
          "giant schnauzer"
         ],
         "legendgroup": "824",
         "marker": {
          "color": "#B6E880",
          "symbol": "circle"
         },
         "mode": "markers",
         "name": "824",
         "orientation": "v",
         "showlegend": true,
         "type": "scatter",
         "x": [
          3.3264663219451904
         ],
         "xaxis": "x",
         "y": [
          1.7892385721206665
         ],
         "yaxis": "y"
        },
        {
         "hovertemplate": "<b>%{hovertext}</b><br><br>color=855<br>x1=%{x}<br>x2=%{y}<extra></extra>",
         "hovertext": [
          "standard schnauzer"
         ],
         "legendgroup": "855",
         "marker": {
          "color": "#FF97FF",
          "symbol": "circle"
         },
         "mode": "markers",
         "name": "855",
         "orientation": "v",
         "showlegend": true,
         "type": "scatter",
         "x": [
          3.5202202796936035
         ],
         "xaxis": "x",
         "y": [
          0.7046555876731873
         ],
         "yaxis": "y"
        },
        {
         "hovertemplate": "<b>%{hovertext}</b><br><br>color=957<br>x1=%{x}<br>x2=%{y}<extra></extra>",
         "hovertext": [
          "Scotch terrier"
         ],
         "legendgroup": "957",
         "marker": {
          "color": "#FECB52",
          "symbol": "circle"
         },
         "mode": "markers",
         "name": "957",
         "orientation": "v",
         "showlegend": true,
         "type": "scatter",
         "x": [
          2.881157636642456
         ],
         "xaxis": "x",
         "y": [
          -0.008049380034208298
         ],
         "yaxis": "y"
        },
        {
         "hovertemplate": "<b>%{hovertext}</b><br><br>color=819<br>x1=%{x}<br>x2=%{y}<extra></extra>",
         "hovertext": [
          "Tibetan terrier"
         ],
         "legendgroup": "819",
         "marker": {
          "color": "#636efa",
          "symbol": "circle"
         },
         "mode": "markers",
         "name": "819",
         "orientation": "v",
         "showlegend": true,
         "type": "scatter",
         "x": [
          6.066137313842773
         ],
         "xaxis": "x",
         "y": [
          0.009987225756049156
         ],
         "yaxis": "y"
        },
        {
         "hovertemplate": "<b>%{hovertext}</b><br><br>color=755<br>x1=%{x}<br>x2=%{y}<extra></extra>",
         "hovertext": [
          "silky terrier"
         ],
         "legendgroup": "755",
         "marker": {
          "color": "#EF553B",
          "symbol": "circle"
         },
         "mode": "markers",
         "name": "755",
         "orientation": "v",
         "showlegend": true,
         "type": "scatter",
         "x": [
          1.1594305038452148
         ],
         "xaxis": "x",
         "y": [
          2.2046074867248535
         ],
         "yaxis": "y"
        },
        {
         "hovertemplate": "<b>%{hovertext}</b><br><br>color=833<br>x1=%{x}<br>x2=%{y}<extra></extra>",
         "hovertext": [
          "soft-coated wheaten terrier"
         ],
         "legendgroup": "833",
         "marker": {
          "color": "#00cc96",
          "symbol": "circle"
         },
         "mode": "markers",
         "name": "833",
         "orientation": "v",
         "showlegend": true,
         "type": "scatter",
         "x": [
          2.3044791221618652
         ],
         "xaxis": "x",
         "y": [
          2.512587547302246
         ],
         "yaxis": "y"
        },
        {
         "hovertemplate": "<b>%{hovertext}</b><br><br>color=904<br>x1=%{x}<br>x2=%{y}<extra></extra>",
         "hovertext": [
          "West Highland white terrier"
         ],
         "legendgroup": "904",
         "marker": {
          "color": "#ab63fa",
          "symbol": "circle"
         },
         "mode": "markers",
         "name": "904",
         "orientation": "v",
         "showlegend": true,
         "type": "scatter",
         "x": [
          2.940891981124878
         ],
         "xaxis": "x",
         "y": [
          3.1674675941467285
         ],
         "yaxis": "y"
        },
        {
         "hovertemplate": "<b>%{hovertext}</b><br><br>color=636<br>x1=%{x}<br>x2=%{y}<extra></extra>",
         "hovertext": [
          "Lhasa"
         ],
         "legendgroup": "636",
         "marker": {
          "color": "#FFA15A",
          "symbol": "circle"
         },
         "mode": "markers",
         "name": "636",
         "orientation": "v",
         "showlegend": true,
         "type": "scatter",
         "x": [
          2.725689172744751
         ],
         "xaxis": "x",
         "y": [
          -0.1866445690393448
         ],
         "yaxis": "y"
        },
        {
         "hovertemplate": "<b>%{hovertext}</b><br><br>color=934<br>x1=%{x}<br>x2=%{y}<extra></extra>",
         "hovertext": [
          "flat-coated retriever"
         ],
         "legendgroup": "934",
         "marker": {
          "color": "#19d3f3",
          "symbol": "circle"
         },
         "mode": "markers",
         "name": "934",
         "orientation": "v",
         "showlegend": true,
         "type": "scatter",
         "x": [
          0.7165043354034424
         ],
         "xaxis": "x",
         "y": [
          0.8229888081550598
         ],
         "yaxis": "y"
        },
        {
         "hovertemplate": "<b>%{hovertext}</b><br><br>color=668<br>x1=%{x}<br>x2=%{y}<extra></extra>",
         "hovertext": [
          "curly-coated retriever"
         ],
         "legendgroup": "668",
         "marker": {
          "color": "#FF6692",
          "symbol": "circle"
         },
         "mode": "markers",
         "name": "668",
         "orientation": "v",
         "showlegend": true,
         "type": "scatter",
         "x": [
          1.0092960596084595
         ],
         "xaxis": "x",
         "y": [
          0.7586406469345093
         ],
         "yaxis": "y"
        },
        {
         "hovertemplate": "<b>%{hovertext}</b><br><br>color=588<br>x1=%{x}<br>x2=%{y}<extra></extra>",
         "hovertext": [
          "golden retriever"
         ],
         "legendgroup": "588",
         "marker": {
          "color": "#B6E880",
          "symbol": "circle"
         },
         "mode": "markers",
         "name": "588",
         "orientation": "v",
         "showlegend": true,
         "type": "scatter",
         "x": [
          -1.5327024459838867
         ],
         "xaxis": "x",
         "y": [
          2.199422836303711
         ],
         "yaxis": "y"
        },
        {
         "hovertemplate": "<b>%{hovertext}</b><br><br>color=930<br>x1=%{x}<br>x2=%{y}<extra></extra>",
         "hovertext": [
          "Labrador retriever"
         ],
         "legendgroup": "930",
         "marker": {
          "color": "#FF97FF",
          "symbol": "circle"
         },
         "mode": "markers",
         "name": "930",
         "orientation": "v",
         "showlegend": true,
         "type": "scatter",
         "x": [
          -1.285598635673523
         ],
         "xaxis": "x",
         "y": [
          1.1536041498184204
         ],
         "yaxis": "y"
        },
        {
         "hovertemplate": "<b>%{hovertext}</b><br><br>color=891<br>x1=%{x}<br>x2=%{y}<extra></extra>",
         "hovertext": [
          "Chesapeake Bay retriever"
         ],
         "legendgroup": "891",
         "marker": {
          "color": "#FECB52",
          "symbol": "circle"
         },
         "mode": "markers",
         "name": "891",
         "orientation": "v",
         "showlegend": true,
         "type": "scatter",
         "x": [
          -0.5669618248939514
         ],
         "xaxis": "x",
         "y": [
          -0.7736552357673645
         ],
         "yaxis": "y"
        },
        {
         "hovertemplate": "<b>%{hovertext}</b><br><br>color=735<br>x1=%{x}<br>x2=%{y}<extra></extra>",
         "hovertext": [
          "German short-haired pointer"
         ],
         "legendgroup": "735",
         "marker": {
          "color": "#636efa",
          "symbol": "circle"
         },
         "mode": "markers",
         "name": "735",
         "orientation": "v",
         "showlegend": true,
         "type": "scatter",
         "x": [
          0.43651559948921204
         ],
         "xaxis": "x",
         "y": [
          -0.24392080307006836
         ],
         "yaxis": "y"
        },
        {
         "hovertemplate": "<b>%{hovertext}</b><br><br>color=887<br>x1=%{x}<br>x2=%{y}<extra></extra>",
         "hovertext": [
          "vizsla"
         ],
         "legendgroup": "887",
         "marker": {
          "color": "#EF553B",
          "symbol": "circle"
         },
         "mode": "markers",
         "name": "887",
         "orientation": "v",
         "showlegend": true,
         "type": "scatter",
         "x": [
          1.5753146409988403
         ],
         "xaxis": "x",
         "y": [
          -1.5119678974151611
         ],
         "yaxis": "y"
        },
        {
         "hovertemplate": "<b>%{hovertext}</b><br><br>color=621<br>x1=%{x}<br>x2=%{y}<extra></extra>",
         "hovertext": [
          "English setter"
         ],
         "legendgroup": "621",
         "marker": {
          "color": "#00cc96",
          "symbol": "circle"
         },
         "mode": "markers",
         "name": "621",
         "orientation": "v",
         "showlegend": true,
         "type": "scatter",
         "x": [
          -0.9874130487442017
         ],
         "xaxis": "x",
         "y": [
          0.996120274066925
         ],
         "yaxis": "y"
        },
        {
         "hovertemplate": "<b>%{hovertext}</b><br><br>color=775<br>x1=%{x}<br>x2=%{y}<extra></extra>",
         "hovertext": [
          "Irish setter"
         ],
         "legendgroup": "775",
         "marker": {
          "color": "#ab63fa",
          "symbol": "circle"
         },
         "mode": "markers",
         "name": "775",
         "orientation": "v",
         "showlegend": true,
         "type": "scatter",
         "x": [
          0.4343881905078888
         ],
         "xaxis": "x",
         "y": [
          -0.7441008687019348
         ],
         "yaxis": "y"
        },
        {
         "hovertemplate": "<b>%{hovertext}</b><br><br>color=766<br>x1=%{x}<br>x2=%{y}<extra></extra>",
         "hovertext": [
          "Gordon setter"
         ],
         "legendgroup": "766",
         "marker": {
          "color": "#FFA15A",
          "symbol": "circle"
         },
         "mode": "markers",
         "name": "766",
         "orientation": "v",
         "showlegend": true,
         "type": "scatter",
         "x": [
          -3.3046464920043945
         ],
         "xaxis": "x",
         "y": [
          0.541752815246582
         ],
         "yaxis": "y"
        },
        {
         "hovertemplate": "<b>%{hovertext}</b><br><br>color=933<br>x1=%{x}<br>x2=%{y}<extra></extra>",
         "hovertext": [
          "Brittany spaniel"
         ],
         "legendgroup": "933",
         "marker": {
          "color": "#19d3f3",
          "symbol": "circle"
         },
         "mode": "markers",
         "name": "933",
         "orientation": "v",
         "showlegend": true,
         "type": "scatter",
         "x": [
          -1.4242173433303833
         ],
         "xaxis": "x",
         "y": [
          1.8506492376327515
         ],
         "yaxis": "y"
        },
        {
         "hovertemplate": "<b>%{hovertext}</b><br><br>color=869<br>x1=%{x}<br>x2=%{y}<extra></extra>",
         "hovertext": [
          "clumber"
         ],
         "legendgroup": "869",
         "marker": {
          "color": "#FF6692",
          "symbol": "circle"
         },
         "mode": "markers",
         "name": "869",
         "orientation": "v",
         "showlegend": true,
         "type": "scatter",
         "x": [
          1.6196227073669434
         ],
         "xaxis": "x",
         "y": [
          -0.06982539594173431
         ],
         "yaxis": "y"
        },
        {
         "hovertemplate": "<b>%{hovertext}</b><br><br>color=856<br>x1=%{x}<br>x2=%{y}<extra></extra>",
         "hovertext": [
          "English springer"
         ],
         "legendgroup": "856",
         "marker": {
          "color": "#B6E880",
          "symbol": "circle"
         },
         "mode": "markers",
         "name": "856",
         "orientation": "v",
         "showlegend": true,
         "type": "scatter",
         "x": [
          1.6063376665115356
         ],
         "xaxis": "x",
         "y": [
          -0.4434988796710968
         ],
         "yaxis": "y"
        },
        {
         "hovertemplate": "<b>%{hovertext}</b><br><br>color=971<br>x1=%{x}<br>x2=%{y}<extra></extra>",
         "hovertext": [
          "Welsh springer spaniel"
         ],
         "legendgroup": "971",
         "marker": {
          "color": "#FF97FF",
          "symbol": "circle"
         },
         "mode": "markers",
         "name": "971",
         "orientation": "v",
         "showlegend": true,
         "type": "scatter",
         "x": [
          -0.5936872959136963
         ],
         "xaxis": "x",
         "y": [
          1.8296343088150024
         ],
         "yaxis": "y"
        },
        {
         "hovertemplate": "<b>%{hovertext}</b><br><br>color=714<br>x1=%{x}<br>x2=%{y}<extra></extra>",
         "hovertext": [
          "cocker spaniel"
         ],
         "legendgroup": "714",
         "marker": {
          "color": "#FECB52",
          "symbol": "circle"
         },
         "mode": "markers",
         "name": "714",
         "orientation": "v",
         "showlegend": true,
         "type": "scatter",
         "x": [
          3.9859042167663574
         ],
         "xaxis": "x",
         "y": [
          -1.458596110343933
         ],
         "yaxis": "y"
        },
        {
         "hovertemplate": "<b>%{hovertext}</b><br><br>color=805<br>x1=%{x}<br>x2=%{y}<extra></extra>",
         "hovertext": [
          "Sussex spaniel"
         ],
         "legendgroup": "805",
         "marker": {
          "color": "#636efa",
          "symbol": "circle"
         },
         "mode": "markers",
         "name": "805",
         "orientation": "v",
         "showlegend": true,
         "type": "scatter",
         "x": [
          -1.33822762966156
         ],
         "xaxis": "x",
         "y": [
          3.4942026138305664
         ],
         "yaxis": "y"
        },
        {
         "hovertemplate": "<b>%{hovertext}</b><br><br>color=501<br>x1=%{x}<br>x2=%{y}<extra></extra>",
         "hovertext": [
          "Irish water spaniel"
         ],
         "legendgroup": "501",
         "marker": {
          "color": "#EF553B",
          "symbol": "circle"
         },
         "mode": "markers",
         "name": "501",
         "orientation": "v",
         "showlegend": true,
         "type": "scatter",
         "x": [
          -2.008852243423462
         ],
         "xaxis": "x",
         "y": [
          0.31334686279296875
         ],
         "yaxis": "y"
        },
        {
         "hovertemplate": "<b>%{hovertext}</b><br><br>color=777<br>x1=%{x}<br>x2=%{y}<extra></extra>",
         "hovertext": [
          "kuvasz"
         ],
         "legendgroup": "777",
         "marker": {
          "color": "#00cc96",
          "symbol": "circle"
         },
         "mode": "markers",
         "name": "777",
         "orientation": "v",
         "showlegend": true,
         "type": "scatter",
         "x": [
          -0.9242379665374756
         ],
         "xaxis": "x",
         "y": [
          0.9479058384895325
         ],
         "yaxis": "y"
        },
        {
         "hovertemplate": "<b>%{hovertext}</b><br><br>color=614<br>x1=%{x}<br>x2=%{y}<extra></extra>",
         "hovertext": [
          "schipperke"
         ],
         "legendgroup": "614",
         "marker": {
          "color": "#ab63fa",
          "symbol": "circle"
         },
         "mode": "markers",
         "name": "614",
         "orientation": "v",
         "showlegend": true,
         "type": "scatter",
         "x": [
          -0.09921816736459732
         ],
         "xaxis": "x",
         "y": [
          1.6749557256698608
         ],
         "yaxis": "y"
        },
        {
         "hovertemplate": "<b>%{hovertext}</b><br><br>color=790<br>x1=%{x}<br>x2=%{y}<extra></extra>",
         "hovertext": [
          "groenendael"
         ],
         "legendgroup": "790",
         "marker": {
          "color": "#FFA15A",
          "symbol": "circle"
         },
         "mode": "markers",
         "name": "790",
         "orientation": "v",
         "showlegend": true,
         "type": "scatter",
         "x": [
          2.1583664417266846
         ],
         "xaxis": "x",
         "y": [
          1.3970378637313843
         ],
         "yaxis": "y"
        },
        {
         "hovertemplate": "<b>%{hovertext}</b><br><br>color=898<br>x1=%{x}<br>x2=%{y}<extra></extra>",
         "hovertext": [
          "malinois"
         ],
         "legendgroup": "898",
         "marker": {
          "color": "#19d3f3",
          "symbol": "circle"
         },
         "mode": "markers",
         "name": "898",
         "orientation": "v",
         "showlegend": true,
         "type": "scatter",
         "x": [
          -0.6569557785987854
         ],
         "xaxis": "x",
         "y": [
          3.8416621685028076
         ],
         "yaxis": "y"
        },
        {
         "hovertemplate": "<b>%{hovertext}</b><br><br>color=332<br>x1=%{x}<br>x2=%{y}<extra></extra>",
         "hovertext": [
          "briard"
         ],
         "legendgroup": "332",
         "marker": {
          "color": "#FF6692",
          "symbol": "circle"
         },
         "mode": "markers",
         "name": "332",
         "orientation": "v",
         "showlegend": true,
         "type": "scatter",
         "x": [
          -4.882566452026367
         ],
         "xaxis": "x",
         "y": [
          1.71628999710083
         ],
         "yaxis": "y"
        },
        {
         "hovertemplate": "<b>%{hovertext}</b><br><br>color=827<br>x1=%{x}<br>x2=%{y}<extra></extra>",
         "hovertext": [
          "kelpie"
         ],
         "legendgroup": "827",
         "marker": {
          "color": "#B6E880",
          "symbol": "circle"
         },
         "mode": "markers",
         "name": "827",
         "orientation": "v",
         "showlegend": true,
         "type": "scatter",
         "x": [
          -0.23587815463542938
         ],
         "xaxis": "x",
         "y": [
          1.9703325033187866
         ],
         "yaxis": "y"
        },
        {
         "hovertemplate": "<b>%{hovertext}</b><br><br>color=573<br>x1=%{x}<br>x2=%{y}<extra></extra>",
         "hovertext": [
          "komondor"
         ],
         "legendgroup": "573",
         "marker": {
          "color": "#FF97FF",
          "symbol": "circle"
         },
         "mode": "markers",
         "name": "573",
         "orientation": "v",
         "showlegend": true,
         "type": "scatter",
         "x": [
          1.1422650814056396
         ],
         "xaxis": "x",
         "y": [
          1.4532161951065063
         ],
         "yaxis": "y"
        },
        {
         "hovertemplate": "<b>%{hovertext}</b><br><br>color=505<br>x1=%{x}<br>x2=%{y}<extra></extra>",
         "hovertext": [
          "Old English sheepdog"
         ],
         "legendgroup": "505",
         "marker": {
          "color": "#FECB52",
          "symbol": "circle"
         },
         "mode": "markers",
         "name": "505",
         "orientation": "v",
         "showlegend": true,
         "type": "scatter",
         "x": [
          2.703528642654419
         ],
         "xaxis": "x",
         "y": [
          0.029336601495742798
         ],
         "yaxis": "y"
        },
        {
         "hovertemplate": "<b>%{hovertext}</b><br><br>color=836<br>x1=%{x}<br>x2=%{y}<extra></extra>",
         "hovertext": [
          "Shetland sheepdog"
         ],
         "legendgroup": "836",
         "marker": {
          "color": "#636efa",
          "symbol": "circle"
         },
         "mode": "markers",
         "name": "836",
         "orientation": "v",
         "showlegend": true,
         "type": "scatter",
         "x": [
          3.7738351821899414
         ],
         "xaxis": "x",
         "y": [
          0.3773670494556427
         ],
         "yaxis": "y"
        },
        {
         "hovertemplate": "<b>%{hovertext}</b><br><br>color=577<br>x1=%{x}<br>x2=%{y}<extra></extra>",
         "hovertext": [
          "collie"
         ],
         "legendgroup": "577",
         "marker": {
          "color": "#EF553B",
          "symbol": "circle"
         },
         "mode": "markers",
         "name": "577",
         "orientation": "v",
         "showlegend": true,
         "type": "scatter",
         "x": [
          -4.439138889312744
         ],
         "xaxis": "x",
         "y": [
          1.9008228778839111
         ],
         "yaxis": "y"
        },
        {
         "hovertemplate": "<b>%{hovertext}</b><br><br>color=667<br>x1=%{x}<br>x2=%{y}<extra></extra>",
         "hovertext": [
          "Border collie"
         ],
         "legendgroup": "667",
         "marker": {
          "color": "#00cc96",
          "symbol": "circle"
         },
         "mode": "markers",
         "name": "667",
         "orientation": "v",
         "showlegend": true,
         "type": "scatter",
         "x": [
          -1.358341932296753
         ],
         "xaxis": "x",
         "y": [
          1.9514342546463013
         ],
         "yaxis": "y"
        },
        {
         "hovertemplate": "<b>%{hovertext}</b><br><br>color=774<br>x1=%{x}<br>x2=%{y}<extra></extra>",
         "hovertext": [
          "Bouvier des Flandres"
         ],
         "legendgroup": "774",
         "marker": {
          "color": "#ab63fa",
          "symbol": "circle"
         },
         "mode": "markers",
         "name": "774",
         "orientation": "v",
         "showlegend": true,
         "type": "scatter",
         "x": [
          8.645955085754395
         ],
         "xaxis": "x",
         "y": [
          -0.28398048877716064
         ],
         "yaxis": "y"
        },
        {
         "hovertemplate": "<b>%{hovertext}</b><br><br>color=723<br>x1=%{x}<br>x2=%{y}<extra></extra>",
         "hovertext": [
          "Rottweiler"
         ],
         "legendgroup": "723",
         "marker": {
          "color": "#FFA15A",
          "symbol": "circle"
         },
         "mode": "markers",
         "name": "723",
         "orientation": "v",
         "showlegend": true,
         "type": "scatter",
         "x": [
          1.2179204225540161
         ],
         "xaxis": "x",
         "y": [
          -0.09832605719566345
         ],
         "yaxis": "y"
        },
        {
         "hovertemplate": "<b>%{hovertext}</b><br><br>color=626<br>x1=%{x}<br>x2=%{y}<extra></extra>",
         "hovertext": [
          "German shepherd"
         ],
         "legendgroup": "626",
         "marker": {
          "color": "#19d3f3",
          "symbol": "circle"
         },
         "mode": "markers",
         "name": "626",
         "orientation": "v",
         "showlegend": true,
         "type": "scatter",
         "x": [
          6.418416976928711
         ],
         "xaxis": "x",
         "y": [
          0.3059661388397217
         ],
         "yaxis": "y"
        },
        {
         "hovertemplate": "<b>%{hovertext}</b><br><br>color=691<br>x1=%{x}<br>x2=%{y}<extra></extra>",
         "hovertext": [
          "Doberman"
         ],
         "legendgroup": "691",
         "marker": {
          "color": "#FF6692",
          "symbol": "circle"
         },
         "mode": "markers",
         "name": "691",
         "orientation": "v",
         "showlegend": true,
         "type": "scatter",
         "x": [
          2.3074707984924316
         ],
         "xaxis": "x",
         "y": [
          -0.8144572377204895
         ],
         "yaxis": "y"
        },
        {
         "hovertemplate": "<b>%{hovertext}</b><br><br>color=499<br>x1=%{x}<br>x2=%{y}<extra></extra>",
         "hovertext": [
          "miniature pinscher"
         ],
         "legendgroup": "499",
         "marker": {
          "color": "#B6E880",
          "symbol": "circle"
         },
         "mode": "markers",
         "name": "499",
         "orientation": "v",
         "showlegend": true,
         "type": "scatter",
         "x": [
          -2.3843679428100586
         ],
         "xaxis": "x",
         "y": [
          0.36992979049682617
         ],
         "yaxis": "y"
        },
        {
         "hovertemplate": "<b>%{hovertext}</b><br><br>color=678<br>x1=%{x}<br>x2=%{y}<extra></extra>",
         "hovertext": [
          "Greater Swiss Mountain dog"
         ],
         "legendgroup": "678",
         "marker": {
          "color": "#FF97FF",
          "symbol": "circle"
         },
         "mode": "markers",
         "name": "678",
         "orientation": "v",
         "showlegend": true,
         "type": "scatter",
         "x": [
          -1.9597764015197754
         ],
         "xaxis": "x",
         "y": [
          1.1120078563690186
         ],
         "yaxis": "y"
        },
        {
         "hovertemplate": "<b>%{hovertext}</b><br><br>color=727<br>x1=%{x}<br>x2=%{y}<extra></extra>",
         "hovertext": [
          "Bernese mountain dog"
         ],
         "legendgroup": "727",
         "marker": {
          "color": "#FECB52",
          "symbol": "circle"
         },
         "mode": "markers",
         "name": "727",
         "orientation": "v",
         "showlegend": true,
         "type": "scatter",
         "x": [
          -1.2843927145004272
         ],
         "xaxis": "x",
         "y": [
          0.5751684904098511
         ],
         "yaxis": "y"
        },
        {
         "hovertemplate": "<b>%{hovertext}</b><br><br>color=244<br>x1=%{x}<br>x2=%{y}<extra></extra>",
         "hovertext": [
          "Appenzeller"
         ],
         "legendgroup": "244",
         "marker": {
          "color": "#636efa",
          "symbol": "circle"
         },
         "mode": "markers",
         "name": "244",
         "orientation": "v",
         "showlegend": true,
         "type": "scatter",
         "x": [
          3.7416176795959473
         ],
         "xaxis": "x",
         "y": [
          0.8041236400604248
         ],
         "yaxis": "y"
        },
        {
         "hovertemplate": "<b>%{hovertext}</b><br><br>color=617<br>x1=%{x}<br>x2=%{y}<extra></extra>",
         "hovertext": [
          "EntleBucher"
         ],
         "legendgroup": "617",
         "marker": {
          "color": "#EF553B",
          "symbol": "circle"
         },
         "mode": "markers",
         "name": "617",
         "orientation": "v",
         "showlegend": true,
         "type": "scatter",
         "x": [
          1.2851512432098389
         ],
         "xaxis": "x",
         "y": [
          0.21862979233264923
         ],
         "yaxis": "y"
        },
        {
         "hovertemplate": "<b>%{hovertext}</b><br><br>color=783<br>x1=%{x}<br>x2=%{y}<extra></extra>",
         "hovertext": [
          "boxer"
         ],
         "legendgroup": "783",
         "marker": {
          "color": "#00cc96",
          "symbol": "circle"
         },
         "mode": "markers",
         "name": "783",
         "orientation": "v",
         "showlegend": true,
         "type": "scatter",
         "x": [
          -7.488868236541748
         ],
         "xaxis": "x",
         "y": [
          1.501802921295166
         ],
         "yaxis": "y"
        },
        {
         "hovertemplate": "<b>%{hovertext}</b><br><br>color=527<br>x1=%{x}<br>x2=%{y}<extra></extra>",
         "hovertext": [
          "bull mastiff"
         ],
         "legendgroup": "527",
         "marker": {
          "color": "#ab63fa",
          "symbol": "circle"
         },
         "mode": "markers",
         "name": "527",
         "orientation": "v",
         "showlegend": true,
         "type": "scatter",
         "x": [
          -1.1159484386444092
         ],
         "xaxis": "x",
         "y": [
          2.9442338943481445
         ],
         "yaxis": "y"
        },
        {
         "hovertemplate": "<b>%{hovertext}</b><br><br>color=567<br>x1=%{x}<br>x2=%{y}<extra></extra>",
         "hovertext": [
          "Tibetan mastiff"
         ],
         "legendgroup": "567",
         "marker": {
          "color": "#FFA15A",
          "symbol": "circle"
         },
         "mode": "markers",
         "name": "567",
         "orientation": "v",
         "showlegend": true,
         "type": "scatter",
         "x": [
          -1.267475962638855
         ],
         "xaxis": "x",
         "y": [
          1.3861112594604492
         ],
         "yaxis": "y"
        },
        {
         "hovertemplate": "<b>%{hovertext}</b><br><br>color=821<br>x1=%{x}<br>x2=%{y}<extra></extra>",
         "hovertext": [
          "French bulldog"
         ],
         "legendgroup": "821",
         "marker": {
          "color": "#19d3f3",
          "symbol": "circle"
         },
         "mode": "markers",
         "name": "821",
         "orientation": "v",
         "showlegend": true,
         "type": "scatter",
         "x": [
          -1.792015790939331
         ],
         "xaxis": "x",
         "y": [
          2.1561577320098877
         ],
         "yaxis": "y"
        },
        {
         "hovertemplate": "<b>%{hovertext}</b><br><br>color=543<br>x1=%{x}<br>x2=%{y}<extra></extra>",
         "hovertext": [
          "Great Dane"
         ],
         "legendgroup": "543",
         "marker": {
          "color": "#FF6692",
          "symbol": "circle"
         },
         "mode": "markers",
         "name": "543",
         "orientation": "v",
         "showlegend": true,
         "type": "scatter",
         "x": [
          -4.174561023712158
         ],
         "xaxis": "x",
         "y": [
          -0.6397107839584351
         ],
         "yaxis": "y"
        },
        {
         "hovertemplate": "<b>%{hovertext}</b><br><br>color=963<br>x1=%{x}<br>x2=%{y}<extra></extra>",
         "hovertext": [
          "Saint Bernard"
         ],
         "legendgroup": "963",
         "marker": {
          "color": "#B6E880",
          "symbol": "circle"
         },
         "mode": "markers",
         "name": "963",
         "orientation": "v",
         "showlegend": true,
         "type": "scatter",
         "x": [
          -0.48273125290870667
         ],
         "xaxis": "x",
         "y": [
          -0.68662029504776
         ],
         "yaxis": "y"
        },
        {
         "hovertemplate": "<b>%{hovertext}</b><br><br>color=795<br>x1=%{x}<br>x2=%{y}<extra></extra>",
         "hovertext": [
          "Eskimo dog"
         ],
         "legendgroup": "795",
         "marker": {
          "color": "#FF97FF",
          "symbol": "circle"
         },
         "mode": "markers",
         "name": "795",
         "orientation": "v",
         "showlegend": true,
         "type": "scatter",
         "x": [
          1.1829087734222412
         ],
         "xaxis": "x",
         "y": [
          0.22962023317813873
         ],
         "yaxis": "y"
        },
        {
         "hovertemplate": "<b>%{hovertext}</b><br><br>color=688<br>x1=%{x}<br>x2=%{y}<extra></extra>",
         "hovertext": [
          "malamute"
         ],
         "legendgroup": "688",
         "marker": {
          "color": "#FECB52",
          "symbol": "circle"
         },
         "mode": "markers",
         "name": "688",
         "orientation": "v",
         "showlegend": true,
         "type": "scatter",
         "x": [
          5.916781425476074
         ],
         "xaxis": "x",
         "y": [
          -0.6451789140701294
         ],
         "yaxis": "y"
        },
        {
         "hovertemplate": "<b>%{hovertext}</b><br><br>color=737<br>x1=%{x}<br>x2=%{y}<extra></extra>",
         "hovertext": [
          "Siberian husky"
         ],
         "legendgroup": "737",
         "marker": {
          "color": "#636efa",
          "symbol": "circle"
         },
         "mode": "markers",
         "name": "737",
         "orientation": "v",
         "showlegend": true,
         "type": "scatter",
         "x": [
          -3.9934704303741455
         ],
         "xaxis": "x",
         "y": [
          -1.0609486103057861
         ],
         "yaxis": "y"
        },
        {
         "hovertemplate": "<b>%{hovertext}</b><br><br>color=839<br>x1=%{x}<br>x2=%{y}<extra></extra>",
         "hovertext": [
          "dalmatian"
         ],
         "legendgroup": "839",
         "marker": {
          "color": "#EF553B",
          "symbol": "circle"
         },
         "mode": "markers",
         "name": "839",
         "orientation": "v",
         "showlegend": true,
         "type": "scatter",
         "x": [
          1.368417501449585
         ],
         "xaxis": "x",
         "y": [
          -0.9934626817703247
         ],
         "yaxis": "y"
        },
        {
         "hovertemplate": "<b>%{hovertext}</b><br><br>color=616<br>x1=%{x}<br>x2=%{y}<extra></extra>",
         "hovertext": [
          "affenpinscher"
         ],
         "legendgroup": "616",
         "marker": {
          "color": "#00cc96",
          "symbol": "circle"
         },
         "mode": "markers",
         "name": "616",
         "orientation": "v",
         "showlegend": true,
         "type": "scatter",
         "x": [
          3.9132096767425537
         ],
         "xaxis": "x",
         "y": [
          -1.6129015684127808
         ],
         "yaxis": "y"
        },
        {
         "hovertemplate": "<b>%{hovertext}</b><br><br>color=599<br>x1=%{x}<br>x2=%{y}<extra></extra>",
         "hovertext": [
          "basenji"
         ],
         "legendgroup": "599",
         "marker": {
          "color": "#ab63fa",
          "symbol": "circle"
         },
         "mode": "markers",
         "name": "599",
         "orientation": "v",
         "showlegend": true,
         "type": "scatter",
         "x": [
          -4.579639434814453
         ],
         "xaxis": "x",
         "y": [
          0.09636742621660233
         ],
         "yaxis": "y"
        },
        {
         "hovertemplate": "<b>%{hovertext}</b><br><br>color=752<br>x1=%{x}<br>x2=%{y}<extra></extra>",
         "hovertext": [
          "pug"
         ],
         "legendgroup": "752",
         "marker": {
          "color": "#FFA15A",
          "symbol": "circle"
         },
         "mode": "markers",
         "name": "752",
         "orientation": "v",
         "showlegend": true,
         "type": "scatter",
         "x": [
          1.8308383226394653
         ],
         "xaxis": "x",
         "y": [
          -1.3454502820968628
         ],
         "yaxis": "y"
        },
        {
         "hovertemplate": "<b>%{hovertext}</b><br><br>color=672<br>x1=%{x}<br>x2=%{y}<extra></extra>",
         "hovertext": [
          "Leonberg"
         ],
         "legendgroup": "672",
         "marker": {
          "color": "#19d3f3",
          "symbol": "circle"
         },
         "mode": "markers",
         "name": "672",
         "orientation": "v",
         "showlegend": true,
         "type": "scatter",
         "x": [
          -2.8079750537872314
         ],
         "xaxis": "x",
         "y": [
          0.09151381254196167
         ],
         "yaxis": "y"
        },
        {
         "hovertemplate": "<b>%{hovertext}</b><br><br>color=605<br>x1=%{x}<br>x2=%{y}<extra></extra>",
         "hovertext": [
          "Newfoundland"
         ],
         "legendgroup": "605",
         "marker": {
          "color": "#FF6692",
          "symbol": "circle"
         },
         "mode": "markers",
         "name": "605",
         "orientation": "v",
         "showlegend": true,
         "type": "scatter",
         "x": [
          -2.21048903465271
         ],
         "xaxis": "x",
         "y": [
          -0.24251390993595123
         ],
         "yaxis": "y"
        },
        {
         "hovertemplate": "<b>%{hovertext}</b><br><br>color=895<br>x1=%{x}<br>x2=%{y}<extra></extra>",
         "hovertext": [
          "Great Pyrenees"
         ],
         "legendgroup": "895",
         "marker": {
          "color": "#B6E880",
          "symbol": "circle"
         },
         "mode": "markers",
         "name": "895",
         "orientation": "v",
         "showlegend": true,
         "type": "scatter",
         "x": [
          1.8899338245391846
         ],
         "xaxis": "x",
         "y": [
          3.0627057552337646
         ],
         "yaxis": "y"
        },
        {
         "hovertemplate": "<b>%{hovertext}</b><br><br>color=661<br>x1=%{x}<br>x2=%{y}<extra></extra>",
         "hovertext": [
          "Samoyed"
         ],
         "legendgroup": "661",
         "marker": {
          "color": "#FF97FF",
          "symbol": "circle"
         },
         "mode": "markers",
         "name": "661",
         "orientation": "v",
         "showlegend": true,
         "type": "scatter",
         "x": [
          1.0035533905029297
         ],
         "xaxis": "x",
         "y": [
          -0.567913293838501
         ],
         "yaxis": "y"
        },
        {
         "hovertemplate": "<b>%{hovertext}</b><br><br>color=497<br>x1=%{x}<br>x2=%{y}<extra></extra>",
         "hovertext": [
          "Pomeranian"
         ],
         "legendgroup": "497",
         "marker": {
          "color": "#FECB52",
          "symbol": "circle"
         },
         "mode": "markers",
         "name": "497",
         "orientation": "v",
         "showlegend": true,
         "type": "scatter",
         "x": [
          -5.065865993499756
         ],
         "xaxis": "x",
         "y": [
          0.3464338779449463
         ],
         "yaxis": "y"
        },
        {
         "hovertemplate": "<b>%{hovertext}</b><br><br>color=591<br>x1=%{x}<br>x2=%{y}<extra></extra>",
         "hovertext": [
          "chow"
         ],
         "legendgroup": "591",
         "marker": {
          "color": "#636efa",
          "symbol": "circle"
         },
         "mode": "markers",
         "name": "591",
         "orientation": "v",
         "showlegend": true,
         "type": "scatter",
         "x": [
          3.2400450706481934
         ],
         "xaxis": "x",
         "y": [
          -0.49387887120246887
         ],
         "yaxis": "y"
        },
        {
         "hovertemplate": "<b>%{hovertext}</b><br><br>color=820<br>x1=%{x}<br>x2=%{y}<extra></extra>",
         "hovertext": [
          "keeshond"
         ],
         "legendgroup": "820",
         "marker": {
          "color": "#EF553B",
          "symbol": "circle"
         },
         "mode": "markers",
         "name": "820",
         "orientation": "v",
         "showlegend": true,
         "type": "scatter",
         "x": [
          -0.40491312742233276
         ],
         "xaxis": "x",
         "y": [
          1.1121399402618408
         ],
         "yaxis": "y"
        },
        {
         "hovertemplate": "<b>%{hovertext}</b><br><br>color=547<br>x1=%{x}<br>x2=%{y}<extra></extra>",
         "hovertext": [
          "Brabancon griffon"
         ],
         "legendgroup": "547",
         "marker": {
          "color": "#00cc96",
          "symbol": "circle"
         },
         "mode": "markers",
         "name": "547",
         "orientation": "v",
         "showlegend": true,
         "type": "scatter",
         "x": [
          3.013897180557251
         ],
         "xaxis": "x",
         "y": [
          1.86589515209198
         ],
         "yaxis": "y"
        },
        {
         "hovertemplate": "<b>%{hovertext}</b><br><br>color=721<br>x1=%{x}<br>x2=%{y}<extra></extra>",
         "hovertext": [
          "Pembroke"
         ],
         "legendgroup": "721",
         "marker": {
          "color": "#ab63fa",
          "symbol": "circle"
         },
         "mode": "markers",
         "name": "721",
         "orientation": "v",
         "showlegend": true,
         "type": "scatter",
         "x": [
          2.307063579559326
         ],
         "xaxis": "x",
         "y": [
          1.0496209859848022
         ],
         "yaxis": "y"
        },
        {
         "hovertemplate": "<b>%{hovertext}</b><br><br>color=958<br>x1=%{x}<br>x2=%{y}<extra></extra>",
         "hovertext": [
          "Cardigan"
         ],
         "legendgroup": "958",
         "marker": {
          "color": "#FFA15A",
          "symbol": "circle"
         },
         "mode": "markers",
         "name": "958",
         "orientation": "v",
         "showlegend": true,
         "type": "scatter",
         "x": [
          3.912973403930664
         ],
         "xaxis": "x",
         "y": [
          0.20456936955451965
         ],
         "yaxis": "y"
        },
        {
         "hovertemplate": "<b>%{hovertext}</b><br><br>color=896<br>x1=%{x}<br>x2=%{y}<extra></extra>",
         "hovertext": [
          "toy poodle"
         ],
         "legendgroup": "896",
         "marker": {
          "color": "#19d3f3",
          "symbol": "circle"
         },
         "mode": "markers",
         "name": "896",
         "orientation": "v",
         "showlegend": true,
         "type": "scatter",
         "x": [
          0.36892169713974
         ],
         "xaxis": "x",
         "y": [
          2.5757436752319336
         ],
         "yaxis": "y"
        },
        {
         "hovertemplate": "<b>%{hovertext}</b><br><br>color=479<br>x1=%{x}<br>x2=%{y}<extra></extra>",
         "hovertext": [
          "miniature poodle"
         ],
         "legendgroup": "479",
         "marker": {
          "color": "#FF6692",
          "symbol": "circle"
         },
         "mode": "markers",
         "name": "479",
         "orientation": "v",
         "showlegend": true,
         "type": "scatter",
         "x": [
          -0.3798544108867645
         ],
         "xaxis": "x",
         "y": [
          2.6814615726470947
         ],
         "yaxis": "y"
        },
        {
         "hovertemplate": "<b>%{hovertext}</b><br><br>color=742<br>x1=%{x}<br>x2=%{y}<extra></extra>",
         "hovertext": [
          "standard poodle"
         ],
         "legendgroup": "742",
         "marker": {
          "color": "#B6E880",
          "symbol": "circle"
         },
         "mode": "markers",
         "name": "742",
         "orientation": "v",
         "showlegend": true,
         "type": "scatter",
         "x": [
          0.08959492295980453
         ],
         "xaxis": "x",
         "y": [
          2.7560534477233887
         ],
         "yaxis": "y"
        },
        {
         "hovertemplate": "<b>%{hovertext}</b><br><br>color=585<br>x1=%{x}<br>x2=%{y}<extra></extra>",
         "hovertext": [
          "Mexican hairless"
         ],
         "legendgroup": "585",
         "marker": {
          "color": "#FF97FF",
          "symbol": "circle"
         },
         "mode": "markers",
         "name": "585",
         "orientation": "v",
         "showlegend": true,
         "type": "scatter",
         "x": [
          -2.992300510406494
         ],
         "xaxis": "x",
         "y": [
          0.7439577579498291
         ],
         "yaxis": "y"
        },
        {
         "hovertemplate": "<b>%{hovertext}</b><br><br>color=952<br>x1=%{x}<br>x2=%{y}<extra></extra>",
         "hovertext": [
          "timber wolf"
         ],
         "legendgroup": "952",
         "marker": {
          "color": "#FECB52",
          "symbol": "circle"
         },
         "mode": "markers",
         "name": "952",
         "orientation": "v",
         "showlegend": true,
         "type": "scatter",
         "x": [
          5.531834125518799
         ],
         "xaxis": "x",
         "y": [
          0.6432278156280518
         ],
         "yaxis": "y"
        },
        {
         "hovertemplate": "<b>%{hovertext}</b><br><br>color=939<br>x1=%{x}<br>x2=%{y}<extra></extra>",
         "hovertext": [
          "white wolf"
         ],
         "legendgroup": "939",
         "marker": {
          "color": "#636efa",
          "symbol": "circle"
         },
         "mode": "markers",
         "name": "939",
         "orientation": "v",
         "showlegend": true,
         "type": "scatter",
         "x": [
          7.4017839431762695
         ],
         "xaxis": "x",
         "y": [
          0.9418713450431824
         ],
         "yaxis": "y"
        },
        {
         "hovertemplate": "<b>%{hovertext}</b><br><br>color=947<br>x1=%{x}<br>x2=%{y}<extra></extra>",
         "hovertext": [
          "red wolf"
         ],
         "legendgroup": "947",
         "marker": {
          "color": "#EF553B",
          "symbol": "circle"
         },
         "mode": "markers",
         "name": "947",
         "orientation": "v",
         "showlegend": true,
         "type": "scatter",
         "x": [
          7.306523323059082
         ],
         "xaxis": "x",
         "y": [
          1.1937100887298584
         ],
         "yaxis": "y"
        },
        {
         "hovertemplate": "<b>%{hovertext}</b><br><br>color=763<br>x1=%{x}<br>x2=%{y}<extra></extra>",
         "hovertext": [
          "coyote"
         ],
         "legendgroup": "763",
         "marker": {
          "color": "#00cc96",
          "symbol": "circle"
         },
         "mode": "markers",
         "name": "763",
         "orientation": "v",
         "showlegend": true,
         "type": "scatter",
         "x": [
          6.485287666320801
         ],
         "xaxis": "x",
         "y": [
          0.27987009286880493
         ],
         "yaxis": "y"
        },
        {
         "hovertemplate": "<b>%{hovertext}</b><br><br>color=787<br>x1=%{x}<br>x2=%{y}<extra></extra>",
         "hovertext": [
          "dingo"
         ],
         "legendgroup": "787",
         "marker": {
          "color": "#ab63fa",
          "symbol": "circle"
         },
         "mode": "markers",
         "name": "787",
         "orientation": "v",
         "showlegend": true,
         "type": "scatter",
         "x": [
          4.34442663192749
         ],
         "xaxis": "x",
         "y": [
          -0.21842128038406372
         ],
         "yaxis": "y"
        },
        {
         "hovertemplate": "<b>%{hovertext}</b><br><br>color=602<br>x1=%{x}<br>x2=%{y}<extra></extra>",
         "hovertext": [
          "dhole"
         ],
         "legendgroup": "602",
         "marker": {
          "color": "#FFA15A",
          "symbol": "circle"
         },
         "mode": "markers",
         "name": "602",
         "orientation": "v",
         "showlegend": true,
         "type": "scatter",
         "x": [
          3.975867986679077
         ],
         "xaxis": "x",
         "y": [
          1.8815938234329224
         ],
         "yaxis": "y"
        },
        {
         "hovertemplate": "<b>%{hovertext}</b><br><br>color=478<br>x1=%{x}<br>x2=%{y}<extra></extra>",
         "hovertext": [
          "African hunting dog"
         ],
         "legendgroup": "478",
         "marker": {
          "color": "#19d3f3",
          "symbol": "circle"
         },
         "mode": "markers",
         "name": "478",
         "orientation": "v",
         "showlegend": true,
         "type": "scatter",
         "x": [
          8.676551818847656
         ],
         "xaxis": "x",
         "y": [
          -0.4167715311050415
         ],
         "yaxis": "y"
        },
        {
         "hovertemplate": "<b>%{hovertext}</b><br><br>color=601<br>x1=%{x}<br>x2=%{y}<extra></extra>",
         "hovertext": [
          "hyena"
         ],
         "legendgroup": "601",
         "marker": {
          "color": "#FF6692",
          "symbol": "circle"
         },
         "mode": "markers",
         "name": "601",
         "orientation": "v",
         "showlegend": true,
         "type": "scatter",
         "x": [
          2.5618746280670166
         ],
         "xaxis": "x",
         "y": [
          -0.0007655899971723557
         ],
         "yaxis": "y"
        },
        {
         "hovertemplate": "<b>%{hovertext}</b><br><br>color=892<br>x1=%{x}<br>x2=%{y}<extra></extra>",
         "hovertext": [
          "red fox"
         ],
         "legendgroup": "892",
         "marker": {
          "color": "#B6E880",
          "symbol": "circle"
         },
         "mode": "markers",
         "name": "892",
         "orientation": "v",
         "showlegend": true,
         "type": "scatter",
         "x": [
          3.939406156539917
         ],
         "xaxis": "x",
         "y": [
          2.8946964740753174
         ],
         "yaxis": "y"
        },
        {
         "hovertemplate": "<b>%{hovertext}</b><br><br>color=660<br>x1=%{x}<br>x2=%{y}<extra></extra>",
         "hovertext": [
          "kit fox"
         ],
         "legendgroup": "660",
         "marker": {
          "color": "#FF97FF",
          "symbol": "circle"
         },
         "mode": "markers",
         "name": "660",
         "orientation": "v",
         "showlegend": true,
         "type": "scatter",
         "x": [
          5.42478084564209
         ],
         "xaxis": "x",
         "y": [
          3.1108996868133545
         ],
         "yaxis": "y"
        },
        {
         "hovertemplate": "<b>%{hovertext}</b><br><br>color=946<br>x1=%{x}<br>x2=%{y}<extra></extra>",
         "hovertext": [
          "Arctic fox"
         ],
         "legendgroup": "946",
         "marker": {
          "color": "#FECB52",
          "symbol": "circle"
         },
         "mode": "markers",
         "name": "946",
         "orientation": "v",
         "showlegend": true,
         "type": "scatter",
         "x": [
          5.862741470336914
         ],
         "xaxis": "x",
         "y": [
          0.335893452167511
         ],
         "yaxis": "y"
        },
        {
         "hovertemplate": "<b>%{hovertext}</b><br><br>color=238<br>x1=%{x}<br>x2=%{y}<extra></extra>",
         "hovertext": [
          "grey fox"
         ],
         "legendgroup": "238",
         "marker": {
          "color": "#636efa",
          "symbol": "circle"
         },
         "mode": "markers",
         "name": "238",
         "orientation": "v",
         "showlegend": true,
         "type": "scatter",
         "x": [
          7.217140197753906
         ],
         "xaxis": "x",
         "y": [
          0.9025614857673645
         ],
         "yaxis": "y"
        },
        {
         "hovertemplate": "<b>%{hovertext}</b><br><br>color=265<br>x1=%{x}<br>x2=%{y}<extra></extra>",
         "hovertext": [
          "tabby"
         ],
         "legendgroup": "265",
         "marker": {
          "color": "#EF553B",
          "symbol": "circle"
         },
         "mode": "markers",
         "name": "265",
         "orientation": "v",
         "showlegend": true,
         "type": "scatter",
         "x": [
          0.763031005859375
         ],
         "xaxis": "x",
         "y": [
          -0.10579374432563782
         ],
         "yaxis": "y"
        },
        {
         "hovertemplate": "<b>%{hovertext}</b><br><br>color=670<br>x1=%{x}<br>x2=%{y}<extra></extra>",
         "hovertext": [
          "tiger cat"
         ],
         "legendgroup": "670",
         "marker": {
          "color": "#00cc96",
          "symbol": "circle"
         },
         "mode": "markers",
         "name": "670",
         "orientation": "v",
         "showlegend": true,
         "type": "scatter",
         "x": [
          -4.403836250305176
         ],
         "xaxis": "x",
         "y": [
          1.5845576524734497
         ],
         "yaxis": "y"
        },
        {
         "hovertemplate": "<b>%{hovertext}</b><br><br>color=926<br>x1=%{x}<br>x2=%{y}<extra></extra>",
         "hovertext": [
          "Persian cat"
         ],
         "legendgroup": "926",
         "marker": {
          "color": "#ab63fa",
          "symbol": "circle"
         },
         "mode": "markers",
         "name": "926",
         "orientation": "v",
         "showlegend": true,
         "type": "scatter",
         "x": [
          -3.252150535583496
         ],
         "xaxis": "x",
         "y": [
          2.9492809772491455
         ],
         "yaxis": "y"
        },
        {
         "hovertemplate": "<b>%{hovertext}</b><br><br>color=525<br>x1=%{x}<br>x2=%{y}<extra></extra>",
         "hovertext": [
          "Siamese cat"
         ],
         "legendgroup": "525",
         "marker": {
          "color": "#FFA15A",
          "symbol": "circle"
         },
         "mode": "markers",
         "name": "525",
         "orientation": "v",
         "showlegend": true,
         "type": "scatter",
         "x": [
          2.7743396759033203
         ],
         "xaxis": "x",
         "y": [
          -0.6637786626815796
         ],
         "yaxis": "y"
        },
        {
         "hovertemplate": "<b>%{hovertext}</b><br><br>color=416<br>x1=%{x}<br>x2=%{y}<extra></extra>",
         "hovertext": [
          "Egyptian cat"
         ],
         "legendgroup": "416",
         "marker": {
          "color": "#19d3f3",
          "symbol": "circle"
         },
         "mode": "markers",
         "name": "416",
         "orientation": "v",
         "showlegend": true,
         "type": "scatter",
         "x": [
          -3.1619269847869873
         ],
         "xaxis": "x",
         "y": [
          2.6682894229888916
         ],
         "yaxis": "y"
        },
        {
         "hovertemplate": "<b>%{hovertext}</b><br><br>color=760<br>x1=%{x}<br>x2=%{y}<extra></extra>",
         "hovertext": [
          "cougar"
         ],
         "legendgroup": "760",
         "marker": {
          "color": "#FF6692",
          "symbol": "circle"
         },
         "mode": "markers",
         "name": "760",
         "orientation": "v",
         "showlegend": true,
         "type": "scatter",
         "x": [
          7.97095251083374
         ],
         "xaxis": "x",
         "y": [
          -1.4094820022583008
         ],
         "yaxis": "y"
        },
        {
         "hovertemplate": "<b>%{hovertext}</b><br><br>color=699<br>x1=%{x}<br>x2=%{y}<extra></extra>",
         "hovertext": [
          "lynx"
         ],
         "legendgroup": "699",
         "marker": {
          "color": "#B6E880",
          "symbol": "circle"
         },
         "mode": "markers",
         "name": "699",
         "orientation": "v",
         "showlegend": true,
         "type": "scatter",
         "x": [
          2.612788200378418
         ],
         "xaxis": "x",
         "y": [
          1.206606149673462
         ],
         "yaxis": "y"
        },
        {
         "hovertemplate": "<b>%{hovertext}</b><br><br>color=858<br>x1=%{x}<br>x2=%{y}<extra></extra>",
         "hovertext": [
          "leopard"
         ],
         "legendgroup": "858",
         "marker": {
          "color": "#FF97FF",
          "symbol": "circle"
         },
         "mode": "markers",
         "name": "858",
         "orientation": "v",
         "showlegend": true,
         "type": "scatter",
         "x": [
          2.131789207458496
         ],
         "xaxis": "x",
         "y": [
          2.214539051055908
         ],
         "yaxis": "y"
        },
        {
         "hovertemplate": "<b>%{hovertext}</b><br><br>color=553<br>x1=%{x}<br>x2=%{y}<extra></extra>",
         "hovertext": [
          "snow leopard"
         ],
         "legendgroup": "553",
         "marker": {
          "color": "#FECB52",
          "symbol": "circle"
         },
         "mode": "markers",
         "name": "553",
         "orientation": "v",
         "showlegend": true,
         "type": "scatter",
         "x": [
          2.0075669288635254
         ],
         "xaxis": "x",
         "y": [
          -0.2818053364753723
         ],
         "yaxis": "y"
        },
        {
         "hovertemplate": "<b>%{hovertext}</b><br><br>color=967<br>x1=%{x}<br>x2=%{y}<extra></extra>",
         "hovertext": [
          "jaguar"
         ],
         "legendgroup": "967",
         "marker": {
          "color": "#636efa",
          "symbol": "circle"
         },
         "mode": "markers",
         "name": "967",
         "orientation": "v",
         "showlegend": true,
         "type": "scatter",
         "x": [
          7.027759075164795
         ],
         "xaxis": "x",
         "y": [
          0.1469610631465912
         ],
         "yaxis": "y"
        },
        {
         "hovertemplate": "<b>%{hovertext}</b><br><br>color=262<br>x1=%{x}<br>x2=%{y}<extra></extra>",
         "hovertext": [
          "lion"
         ],
         "legendgroup": "262",
         "marker": {
          "color": "#EF553B",
          "symbol": "circle"
         },
         "mode": "markers",
         "name": "262",
         "orientation": "v",
         "showlegend": true,
         "type": "scatter",
         "x": [
          2.86946177482605
         ],
         "xaxis": "x",
         "y": [
          -0.16341546177864075
         ],
         "yaxis": "y"
        },
        {
         "hovertemplate": "<b>%{hovertext}</b><br><br>color=841<br>x1=%{x}<br>x2=%{y}<extra></extra>",
         "hovertext": [
          "tiger"
         ],
         "legendgroup": "841",
         "marker": {
          "color": "#00cc96",
          "symbol": "circle"
         },
         "mode": "markers",
         "name": "841",
         "orientation": "v",
         "showlegend": true,
         "type": "scatter",
         "x": [
          3.923319101333618
         ],
         "xaxis": "x",
         "y": [
          2.2116689682006836
         ],
         "yaxis": "y"
        },
        {
         "hovertemplate": "<b>%{hovertext}</b><br><br>color=986<br>x1=%{x}<br>x2=%{y}<extra></extra>",
         "hovertext": [
          "cheetah"
         ],
         "legendgroup": "986",
         "marker": {
          "color": "#ab63fa",
          "symbol": "circle"
         },
         "mode": "markers",
         "name": "986",
         "orientation": "v",
         "showlegend": true,
         "type": "scatter",
         "x": [
          7.734399318695068
         ],
         "xaxis": "x",
         "y": [
          -0.24987080693244934
         ],
         "yaxis": "y"
        },
        {
         "hovertemplate": "<b>%{hovertext}</b><br><br>color=868<br>x1=%{x}<br>x2=%{y}<extra></extra>",
         "hovertext": [
          "brown bear"
         ],
         "legendgroup": "868",
         "marker": {
          "color": "#FFA15A",
          "symbol": "circle"
         },
         "mode": "markers",
         "name": "868",
         "orientation": "v",
         "showlegend": true,
         "type": "scatter",
         "x": [
          5.032776832580566
         ],
         "xaxis": "x",
         "y": [
          0.8235683441162109
         ],
         "yaxis": "y"
        },
        {
         "hovertemplate": "<b>%{hovertext}</b><br><br>color=419<br>x1=%{x}<br>x2=%{y}<extra></extra>",
         "hovertext": [
          "American black bear"
         ],
         "legendgroup": "419",
         "marker": {
          "color": "#19d3f3",
          "symbol": "circle"
         },
         "mode": "markers",
         "name": "419",
         "orientation": "v",
         "showlegend": true,
         "type": "scatter",
         "x": [
          9.518585205078125
         ],
         "xaxis": "x",
         "y": [
          0.7823561429977417
         ],
         "yaxis": "y"
        },
        {
         "hovertemplate": "<b>%{hovertext}</b><br><br>color=888<br>x1=%{x}<br>x2=%{y}<extra></extra>",
         "hovertext": [
          "ice bear"
         ],
         "legendgroup": "888",
         "marker": {
          "color": "#FF6692",
          "symbol": "circle"
         },
         "mode": "markers",
         "name": "888",
         "orientation": "v",
         "showlegend": true,
         "type": "scatter",
         "x": [
          9.26419448852539
         ],
         "xaxis": "x",
         "y": [
          -0.6788577437400818
         ],
         "yaxis": "y"
        },
        {
         "hovertemplate": "<b>%{hovertext}</b><br><br>color=964<br>x1=%{x}<br>x2=%{y}<extra></extra>",
         "hovertext": [
          "sloth bear"
         ],
         "legendgroup": "964",
         "marker": {
          "color": "#B6E880",
          "symbol": "circle"
         },
         "mode": "markers",
         "name": "964",
         "orientation": "v",
         "showlegend": true,
         "type": "scatter",
         "x": [
          8.470327377319336
         ],
         "xaxis": "x",
         "y": [
          0.8965611457824707
         ],
         "yaxis": "y"
        },
        {
         "hovertemplate": "<b>%{hovertext}</b><br><br>color=751<br>x1=%{x}<br>x2=%{y}<extra></extra>",
         "hovertext": [
          "mongoose"
         ],
         "legendgroup": "751",
         "marker": {
          "color": "#FF97FF",
          "symbol": "circle"
         },
         "mode": "markers",
         "name": "751",
         "orientation": "v",
         "showlegend": true,
         "type": "scatter",
         "x": [
          0.16422335803508759
         ],
         "xaxis": "x",
         "y": [
          3.6260628700256348
         ],
         "yaxis": "y"
        },
        {
         "hovertemplate": "<b>%{hovertext}</b><br><br>color=619<br>x1=%{x}<br>x2=%{y}<extra></extra>",
         "hovertext": [
          "meerkat"
         ],
         "legendgroup": "619",
         "marker": {
          "color": "#FECB52",
          "symbol": "circle"
         },
         "mode": "markers",
         "name": "619",
         "orientation": "v",
         "showlegend": true,
         "type": "scatter",
         "x": [
          2.191413640975952
         ],
         "xaxis": "x",
         "y": [
          -1.1519711017608643
         ],
         "yaxis": "y"
        },
        {
         "hovertemplate": "<b>%{hovertext}</b><br><br>color=306<br>x1=%{x}<br>x2=%{y}<extra></extra>",
         "hovertext": [
          "tiger beetle"
         ],
         "legendgroup": "306",
         "marker": {
          "color": "#636efa",
          "symbol": "circle"
         },
         "mode": "markers",
         "name": "306",
         "orientation": "v",
         "showlegend": true,
         "type": "scatter",
         "x": [
          -4.13649845123291
         ],
         "xaxis": "x",
         "y": [
          2.472028970718384
         ],
         "yaxis": "y"
        },
        {
         "hovertemplate": "<b>%{hovertext}</b><br><br>color=794<br>x1=%{x}<br>x2=%{y}<extra></extra>",
         "hovertext": [
          "ladybug"
         ],
         "legendgroup": "794",
         "marker": {
          "color": "#EF553B",
          "symbol": "circle"
         },
         "mode": "markers",
         "name": "794",
         "orientation": "v",
         "showlegend": true,
         "type": "scatter",
         "x": [
          6.306698322296143
         ],
         "xaxis": "x",
         "y": [
          -0.8520529866218567
         ],
         "yaxis": "y"
        },
        {
         "hovertemplate": "<b>%{hovertext}</b><br><br>color=484<br>x1=%{x}<br>x2=%{y}<extra></extra>",
         "hovertext": [
          "ground beetle"
         ],
         "legendgroup": "484",
         "marker": {
          "color": "#00cc96",
          "symbol": "circle"
         },
         "mode": "markers",
         "name": "484",
         "orientation": "v",
         "showlegend": true,
         "type": "scatter",
         "x": [
          2.9683637619018555
         ],
         "xaxis": "x",
         "y": [
          0.5343185067176819
         ],
         "yaxis": "y"
        },
        {
         "hovertemplate": "<b>%{hovertext}</b><br><br>color=550<br>x1=%{x}<br>x2=%{y}<extra></extra>",
         "hovertext": [
          "long-horned beetle"
         ],
         "legendgroup": "550",
         "marker": {
          "color": "#ab63fa",
          "symbol": "circle"
         },
         "mode": "markers",
         "name": "550",
         "orientation": "v",
         "showlegend": true,
         "type": "scatter",
         "x": [
          4.062729358673096
         ],
         "xaxis": "x",
         "y": [
          0.7255316972732544
         ],
         "yaxis": "y"
        },
        {
         "hovertemplate": "<b>%{hovertext}</b><br><br>color=408<br>x1=%{x}<br>x2=%{y}<extra></extra>",
         "hovertext": [
          "leaf beetle"
         ],
         "legendgroup": "408",
         "marker": {
          "color": "#FFA15A",
          "symbol": "circle"
         },
         "mode": "markers",
         "name": "408",
         "orientation": "v",
         "showlegend": true,
         "type": "scatter",
         "x": [
          3.9858617782592773
         ],
         "xaxis": "x",
         "y": [
          -0.20786595344543457
         ],
         "yaxis": "y"
        },
        {
         "hovertemplate": "<b>%{hovertext}</b><br><br>color=568<br>x1=%{x}<br>x2=%{y}<extra></extra>",
         "hovertext": [
          "dung beetle"
         ],
         "legendgroup": "568",
         "marker": {
          "color": "#19d3f3",
          "symbol": "circle"
         },
         "mode": "markers",
         "name": "568",
         "orientation": "v",
         "showlegend": true,
         "type": "scatter",
         "x": [
          -0.16965951025485992
         ],
         "xaxis": "x",
         "y": [
          4.615503311157227
         ],
         "yaxis": "y"
        },
        {
         "hovertemplate": "<b>%{hovertext}</b><br><br>color=693<br>x1=%{x}<br>x2=%{y}<extra></extra>",
         "hovertext": [
          "rhinoceros beetle"
         ],
         "legendgroup": "693",
         "marker": {
          "color": "#FF6692",
          "symbol": "circle"
         },
         "mode": "markers",
         "name": "693",
         "orientation": "v",
         "showlegend": true,
         "type": "scatter",
         "x": [
          3.511101484298706
         ],
         "xaxis": "x",
         "y": [
          2.504775047302246
         ],
         "yaxis": "y"
        },
        {
         "hovertemplate": "<b>%{hovertext}</b><br><br>color=534<br>x1=%{x}<br>x2=%{y}<extra></extra>",
         "hovertext": [
          "weevil"
         ],
         "legendgroup": "534",
         "marker": {
          "color": "#B6E880",
          "symbol": "circle"
         },
         "mode": "markers",
         "name": "534",
         "orientation": "v",
         "showlegend": true,
         "type": "scatter",
         "x": [
          -0.11897781491279602
         ],
         "xaxis": "x",
         "y": [
          2.167250394821167
         ],
         "yaxis": "y"
        },
        {
         "hovertemplate": "<b>%{hovertext}</b><br><br>color=377<br>x1=%{x}<br>x2=%{y}<extra></extra>",
         "hovertext": [
          "fly"
         ],
         "legendgroup": "377",
         "marker": {
          "color": "#FF97FF",
          "symbol": "circle"
         },
         "mode": "markers",
         "name": "377",
         "orientation": "v",
         "showlegend": true,
         "type": "scatter",
         "x": [
          -7.7883124351501465
         ],
         "xaxis": "x",
         "y": [
          1.2365880012512207
         ],
         "yaxis": "y"
        },
        {
         "hovertemplate": "<b>%{hovertext}</b><br><br>color=843<br>x1=%{x}<br>x2=%{y}<extra></extra>",
         "hovertext": [
          "bee"
         ],
         "legendgroup": "843",
         "marker": {
          "color": "#FECB52",
          "symbol": "circle"
         },
         "mode": "markers",
         "name": "843",
         "orientation": "v",
         "showlegend": true,
         "type": "scatter",
         "x": [
          -6.528885841369629
         ],
         "xaxis": "x",
         "y": [
          0.8450040817260742
         ],
         "yaxis": "y"
        },
        {
         "hovertemplate": "<b>%{hovertext}</b><br><br>color=469<br>x1=%{x}<br>x2=%{y}<extra></extra>",
         "hovertext": [
          "ant"
         ],
         "legendgroup": "469",
         "marker": {
          "color": "#636efa",
          "symbol": "circle"
         },
         "mode": "markers",
         "name": "469",
         "orientation": "v",
         "showlegend": true,
         "type": "scatter",
         "x": [
          1.4607425928115845
         ],
         "xaxis": "x",
         "y": [
          -0.06201115995645523
         ],
         "yaxis": "y"
        },
        {
         "hovertemplate": "<b>%{hovertext}</b><br><br>color=733<br>x1=%{x}<br>x2=%{y}<extra></extra>",
         "hovertext": [
          "grasshopper"
         ],
         "legendgroup": "733",
         "marker": {
          "color": "#EF553B",
          "symbol": "circle"
         },
         "mode": "markers",
         "name": "733",
         "orientation": "v",
         "showlegend": true,
         "type": "scatter",
         "x": [
          1.5541330575942993
         ],
         "xaxis": "x",
         "y": [
          1.0159099102020264
         ],
         "yaxis": "y"
        },
        {
         "hovertemplate": "<b>%{hovertext}</b><br><br>color=944<br>x1=%{x}<br>x2=%{y}<extra></extra>",
         "hovertext": [
          "cricket"
         ],
         "legendgroup": "944",
         "marker": {
          "color": "#00cc96",
          "symbol": "circle"
         },
         "mode": "markers",
         "name": "944",
         "orientation": "v",
         "showlegend": true,
         "type": "scatter",
         "x": [
          -5.941871643066406
         ],
         "xaxis": "x",
         "y": [
          0.08113809674978256
         ],
         "yaxis": "y"
        },
        {
         "hovertemplate": "<b>%{hovertext}</b><br><br>color=747<br>x1=%{x}<br>x2=%{y}<extra></extra>",
         "hovertext": [
          "walking stick"
         ],
         "legendgroup": "747",
         "marker": {
          "color": "#ab63fa",
          "symbol": "circle"
         },
         "mode": "markers",
         "name": "747",
         "orientation": "v",
         "showlegend": true,
         "type": "scatter",
         "x": [
          0.6617593765258789
         ],
         "xaxis": "x",
         "y": [
          -2.5441627502441406
         ],
         "yaxis": "y"
        },
        {
         "hovertemplate": "<b>%{hovertext}</b><br><br>color=893<br>x1=%{x}<br>x2=%{y}<extra></extra>",
         "hovertext": [
          "cockroach"
         ],
         "legendgroup": "893",
         "marker": {
          "color": "#FFA15A",
          "symbol": "circle"
         },
         "mode": "markers",
         "name": "893",
         "orientation": "v",
         "showlegend": true,
         "type": "scatter",
         "x": [
          3.778977632522583
         ],
         "xaxis": "x",
         "y": [
          0.6745803952217102
         ],
         "yaxis": "y"
        },
        {
         "hovertemplate": "<b>%{hovertext}</b><br><br>color=595<br>x1=%{x}<br>x2=%{y}<extra></extra>",
         "hovertext": [
          "mantis"
         ],
         "legendgroup": "595",
         "marker": {
          "color": "#19d3f3",
          "symbol": "circle"
         },
         "mode": "markers",
         "name": "595",
         "orientation": "v",
         "showlegend": true,
         "type": "scatter",
         "x": [
          2.4282302856445312
         ],
         "xaxis": "x",
         "y": [
          1.822078824043274
         ],
         "yaxis": "y"
        },
        {
         "hovertemplate": "<b>%{hovertext}</b><br><br>color=776<br>x1=%{x}<br>x2=%{y}<extra></extra>",
         "hovertext": [
          "cicada"
         ],
         "legendgroup": "776",
         "marker": {
          "color": "#FF6692",
          "symbol": "circle"
         },
         "mode": "markers",
         "name": "776",
         "orientation": "v",
         "showlegend": true,
         "type": "scatter",
         "x": [
          2.5266273021698
         ],
         "xaxis": "x",
         "y": [
          0.7334123253822327
         ],
         "yaxis": "y"
        },
        {
         "hovertemplate": "<b>%{hovertext}</b><br><br>color=570<br>x1=%{x}<br>x2=%{y}<extra></extra>",
         "hovertext": [
          "leafhopper"
         ],
         "legendgroup": "570",
         "marker": {
          "color": "#B6E880",
          "symbol": "circle"
         },
         "mode": "markers",
         "name": "570",
         "orientation": "v",
         "showlegend": true,
         "type": "scatter",
         "x": [
          0.6907152533531189
         ],
         "xaxis": "x",
         "y": [
          4.21859073638916
         ],
         "yaxis": "y"
        },
        {
         "hovertemplate": "<b>%{hovertext}</b><br><br>color=761<br>x1=%{x}<br>x2=%{y}<extra></extra>",
         "hovertext": [
          "lacewing"
         ],
         "legendgroup": "761",
         "marker": {
          "color": "#FF97FF",
          "symbol": "circle"
         },
         "mode": "markers",
         "name": "761",
         "orientation": "v",
         "showlegend": true,
         "type": "scatter",
         "x": [
          0.5856453776359558
         ],
         "xaxis": "x",
         "y": [
          0.38792499899864197
         ],
         "yaxis": "y"
        },
        {
         "hovertemplate": "<b>%{hovertext}</b><br><br>color=884<br>x1=%{x}<br>x2=%{y}<extra></extra>",
         "hovertext": [
          "dragonfly"
         ],
         "legendgroup": "884",
         "marker": {
          "color": "#FECB52",
          "symbol": "circle"
         },
         "mode": "markers",
         "name": "884",
         "orientation": "v",
         "showlegend": true,
         "type": "scatter",
         "x": [
          10.431595802307129
         ],
         "xaxis": "x",
         "y": [
          -2.750869035720825
         ],
         "yaxis": "y"
        },
        {
         "hovertemplate": "<b>%{hovertext}</b><br><br>color=578<br>x1=%{x}<br>x2=%{y}<extra></extra>",
         "hovertext": [
          "damselfly"
         ],
         "legendgroup": "578",
         "marker": {
          "color": "#636efa",
          "symbol": "circle"
         },
         "mode": "markers",
         "name": "578",
         "orientation": "v",
         "showlegend": true,
         "type": "scatter",
         "x": [
          -0.9979709386825562
         ],
         "xaxis": "x",
         "y": [
          2.5532193183898926
         ],
         "yaxis": "y"
        },
        {
         "hovertemplate": "<b>%{hovertext}</b><br><br>color=427<br>x1=%{x}<br>x2=%{y}<extra></extra>",
         "hovertext": [
          "admiral"
         ],
         "legendgroup": "427",
         "marker": {
          "color": "#EF553B",
          "symbol": "circle"
         },
         "mode": "markers",
         "name": "427",
         "orientation": "v",
         "showlegend": true,
         "type": "scatter",
         "x": [
          -6.978122711181641
         ],
         "xaxis": "x",
         "y": [
          0.7689015865325928
         ],
         "yaxis": "y"
        },
        {
         "hovertemplate": "<b>%{hovertext}</b><br><br>color=791<br>x1=%{x}<br>x2=%{y}<extra></extra>",
         "hovertext": [
          "ringlet"
         ],
         "legendgroup": "791",
         "marker": {
          "color": "#00cc96",
          "symbol": "circle"
         },
         "mode": "markers",
         "name": "791",
         "orientation": "v",
         "showlegend": true,
         "type": "scatter",
         "x": [
          1.1714563369750977
         ],
         "xaxis": "x",
         "y": [
          1.7246577739715576
         ],
         "yaxis": "y"
        },
        {
         "hovertemplate": "<b>%{hovertext}</b><br><br>color=645<br>x1=%{x}<br>x2=%{y}<extra></extra>",
         "hovertext": [
          "monarch"
         ],
         "legendgroup": "645",
         "marker": {
          "color": "#ab63fa",
          "symbol": "circle"
         },
         "mode": "markers",
         "name": "645",
         "orientation": "v",
         "showlegend": true,
         "type": "scatter",
         "x": [
          6.505974292755127
         ],
         "xaxis": "x",
         "y": [
          0.49164411425590515
         ],
         "yaxis": "y"
        },
        {
         "hovertemplate": "<b>%{hovertext}</b><br><br>color=731<br>x1=%{x}<br>x2=%{y}<extra></extra>",
         "hovertext": [
          "cabbage butterfly"
         ],
         "legendgroup": "731",
         "marker": {
          "color": "#FFA15A",
          "symbol": "circle"
         },
         "mode": "markers",
         "name": "731",
         "orientation": "v",
         "showlegend": true,
         "type": "scatter",
         "x": [
          -1.2637238502502441
         ],
         "xaxis": "x",
         "y": [
          3.895622730255127
         ],
         "yaxis": "y"
        },
        {
         "hovertemplate": "<b>%{hovertext}</b><br><br>color=873<br>x1=%{x}<br>x2=%{y}<extra></extra>",
         "hovertext": [
          "sulphur butterfly"
         ],
         "legendgroup": "873",
         "marker": {
          "color": "#19d3f3",
          "symbol": "circle"
         },
         "mode": "markers",
         "name": "873",
         "orientation": "v",
         "showlegend": true,
         "type": "scatter",
         "x": [
          3.9095265865325928
         ],
         "xaxis": "x",
         "y": [
          1.1140906810760498
         ],
         "yaxis": "y"
        },
        {
         "hovertemplate": "<b>%{hovertext}</b><br><br>color=750<br>x1=%{x}<br>x2=%{y}<extra></extra>",
         "hovertext": [
          "lycaenid"
         ],
         "legendgroup": "750",
         "marker": {
          "color": "#FF6692",
          "symbol": "circle"
         },
         "mode": "markers",
         "name": "750",
         "orientation": "v",
         "showlegend": true,
         "type": "scatter",
         "x": [
          6.892841815948486
         ],
         "xaxis": "x",
         "y": [
          -0.3673740327358246
         ],
         "yaxis": "y"
        },
        {
         "hovertemplate": "<b>%{hovertext}</b><br><br>color=496<br>x1=%{x}<br>x2=%{y}<extra></extra>",
         "hovertext": [
          "starfish"
         ],
         "legendgroup": "496",
         "marker": {
          "color": "#B6E880",
          "symbol": "circle"
         },
         "mode": "markers",
         "name": "496",
         "orientation": "v",
         "showlegend": true,
         "type": "scatter",
         "x": [
          0.15997931361198425
         ],
         "xaxis": "x",
         "y": [
          -0.25987014174461365
         ],
         "yaxis": "y"
        },
        {
         "hovertemplate": "<b>%{hovertext}</b><br><br>color=675<br>x1=%{x}<br>x2=%{y}<extra></extra>",
         "hovertext": [
          "sea urchin"
         ],
         "legendgroup": "675",
         "marker": {
          "color": "#FF97FF",
          "symbol": "circle"
         },
         "mode": "markers",
         "name": "675",
         "orientation": "v",
         "showlegend": true,
         "type": "scatter",
         "x": [
          1.961442232131958
         ],
         "xaxis": "x",
         "y": [
          3.663778305053711
         ],
         "yaxis": "y"
        },
        {
         "hovertemplate": "<b>%{hovertext}</b><br><br>color=852<br>x1=%{x}<br>x2=%{y}<extra></extra>",
         "hovertext": [
          "sea cucumber"
         ],
         "legendgroup": "852",
         "marker": {
          "color": "#FECB52",
          "symbol": "circle"
         },
         "mode": "markers",
         "name": "852",
         "orientation": "v",
         "showlegend": true,
         "type": "scatter",
         "x": [
          5.550242900848389
         ],
         "xaxis": "x",
         "y": [
          1.054653525352478
         ],
         "yaxis": "y"
        },
        {
         "hovertemplate": "<b>%{hovertext}</b><br><br>color=853<br>x1=%{x}<br>x2=%{y}<extra></extra>",
         "hovertext": [
          "wood rabbit"
         ],
         "legendgroup": "853",
         "marker": {
          "color": "#636efa",
          "symbol": "circle"
         },
         "mode": "markers",
         "name": "853",
         "orientation": "v",
         "showlegend": true,
         "type": "scatter",
         "x": [
          2.0123283863067627
         ],
         "xaxis": "x",
         "y": [
          -0.4255780577659607
         ],
         "yaxis": "y"
        },
        {
         "hovertemplate": "<b>%{hovertext}</b><br><br>color=798<br>x1=%{x}<br>x2=%{y}<extra></extra>",
         "hovertext": [
          "hare"
         ],
         "legendgroup": "798",
         "marker": {
          "color": "#EF553B",
          "symbol": "circle"
         },
         "mode": "markers",
         "name": "798",
         "orientation": "v",
         "showlegend": true,
         "type": "scatter",
         "x": [
          -3.9401652812957764
         ],
         "xaxis": "x",
         "y": [
          1.7327674627304077
         ],
         "yaxis": "y"
        },
        {
         "hovertemplate": "<b>%{hovertext}</b><br><br>color=695<br>x1=%{x}<br>x2=%{y}<extra></extra>",
         "hovertext": [
          "Angora"
         ],
         "legendgroup": "695",
         "marker": {
          "color": "#00cc96",
          "symbol": "circle"
         },
         "mode": "markers",
         "name": "695",
         "orientation": "v",
         "showlegend": true,
         "type": "scatter",
         "x": [
          0.022730259224772453
         ],
         "xaxis": "x",
         "y": [
          -0.2540093660354614
         ],
         "yaxis": "y"
        },
        {
         "hovertemplate": "<b>%{hovertext}</b><br><br>color=545<br>x1=%{x}<br>x2=%{y}<extra></extra>",
         "hovertext": [
          "hamster"
         ],
         "legendgroup": "545",
         "marker": {
          "color": "#ab63fa",
          "symbol": "circle"
         },
         "mode": "markers",
         "name": "545",
         "orientation": "v",
         "showlegend": true,
         "type": "scatter",
         "x": [
          -1.7416048049926758
         ],
         "xaxis": "x",
         "y": [
          1.5627648830413818
         ],
         "yaxis": "y"
        },
        {
         "hovertemplate": "<b>%{hovertext}</b><br><br>color=703<br>x1=%{x}<br>x2=%{y}<extra></extra>",
         "hovertext": [
          "porcupine"
         ],
         "legendgroup": "703",
         "marker": {
          "color": "#FFA15A",
          "symbol": "circle"
         },
         "mode": "markers",
         "name": "703",
         "orientation": "v",
         "showlegend": true,
         "type": "scatter",
         "x": [
          3.7945523262023926
         ],
         "xaxis": "x",
         "y": [
          1.705069899559021
         ],
         "yaxis": "y"
        },
        {
         "hovertemplate": "<b>%{hovertext}</b><br><br>color=726<br>x1=%{x}<br>x2=%{y}<extra></extra>",
         "hovertext": [
          "fox squirrel"
         ],
         "legendgroup": "726",
         "marker": {
          "color": "#19d3f3",
          "symbol": "circle"
         },
         "mode": "markers",
         "name": "726",
         "orientation": "v",
         "showlegend": true,
         "type": "scatter",
         "x": [
          5.658823490142822
         ],
         "xaxis": "x",
         "y": [
          1.5870400667190552
         ],
         "yaxis": "y"
        },
        {
         "hovertemplate": "<b>%{hovertext}</b><br><br>color=739<br>x1=%{x}<br>x2=%{y}<extra></extra>",
         "hovertext": [
          "marmot"
         ],
         "legendgroup": "739",
         "marker": {
          "color": "#FF6692",
          "symbol": "circle"
         },
         "mode": "markers",
         "name": "739",
         "orientation": "v",
         "showlegend": true,
         "type": "scatter",
         "x": [
          -0.5794194936752319
         ],
         "xaxis": "x",
         "y": [
          2.240978956222534
         ],
         "yaxis": "y"
        },
        {
         "hovertemplate": "<b>%{hovertext}</b><br><br>color=639<br>x1=%{x}<br>x2=%{y}<extra></extra>",
         "hovertext": [
          "beaver"
         ],
         "legendgroup": "639",
         "marker": {
          "color": "#B6E880",
          "symbol": "circle"
         },
         "mode": "markers",
         "name": "639",
         "orientation": "v",
         "showlegend": true,
         "type": "scatter",
         "x": [
          -3.313532590866089
         ],
         "xaxis": "x",
         "y": [
          1.7318700551986694
         ],
         "yaxis": "y"
        },
        {
         "hovertemplate": "<b>%{hovertext}</b><br><br>color=620<br>x1=%{x}<br>x2=%{y}<extra></extra>",
         "hovertext": [
          "guinea pig"
         ],
         "legendgroup": "620",
         "marker": {
          "color": "#FF97FF",
          "symbol": "circle"
         },
         "mode": "markers",
         "name": "620",
         "orientation": "v",
         "showlegend": true,
         "type": "scatter",
         "x": [
          4.8776021003723145
         ],
         "xaxis": "x",
         "y": [
          0.8773107528686523
         ],
         "yaxis": "y"
        },
        {
         "hovertemplate": "<b>%{hovertext}</b><br><br>color=673<br>x1=%{x}<br>x2=%{y}<extra></extra>",
         "hovertext": [
          "sorrel"
         ],
         "legendgroup": "673",
         "marker": {
          "color": "#FECB52",
          "symbol": "circle"
         },
         "mode": "markers",
         "name": "673",
         "orientation": "v",
         "showlegend": true,
         "type": "scatter",
         "x": [
          -4.569181442260742
         ],
         "xaxis": "x",
         "y": [
          0.01209774799644947
         ],
         "yaxis": "y"
        },
        {
         "hovertemplate": "<b>%{hovertext}</b><br><br>color=548<br>x1=%{x}<br>x2=%{y}<extra></extra>",
         "hovertext": [
          "zebra"
         ],
         "legendgroup": "548",
         "marker": {
          "color": "#636efa",
          "symbol": "circle"
         },
         "mode": "markers",
         "name": "548",
         "orientation": "v",
         "showlegend": true,
         "type": "scatter",
         "x": [
          -0.19230474531650543
         ],
         "xaxis": "x",
         "y": [
          3.773942232131958
         ],
         "yaxis": "y"
        },
        {
         "hovertemplate": "<b>%{hovertext}</b><br><br>color=724<br>x1=%{x}<br>x2=%{y}<extra></extra>",
         "hovertext": [
          "hog"
         ],
         "legendgroup": "724",
         "marker": {
          "color": "#EF553B",
          "symbol": "circle"
         },
         "mode": "markers",
         "name": "724",
         "orientation": "v",
         "showlegend": true,
         "type": "scatter",
         "x": [
          6.45057487487793
         ],
         "xaxis": "x",
         "y": [
          -1.8033769130706787
         ],
         "yaxis": "y"
        },
        {
         "hovertemplate": "<b>%{hovertext}</b><br><br>color=546<br>x1=%{x}<br>x2=%{y}<extra></extra>",
         "hovertext": [
          "wild boar"
         ],
         "legendgroup": "546",
         "marker": {
          "color": "#00cc96",
          "symbol": "circle"
         },
         "mode": "markers",
         "name": "546",
         "orientation": "v",
         "showlegend": true,
         "type": "scatter",
         "x": [
          4.397443771362305
         ],
         "xaxis": "x",
         "y": [
          -0.23630909621715546
         ],
         "yaxis": "y"
        },
        {
         "hovertemplate": "<b>%{hovertext}</b><br><br>color=718<br>x1=%{x}<br>x2=%{y}<extra></extra>",
         "hovertext": [
          "warthog"
         ],
         "legendgroup": "718",
         "marker": {
          "color": "#ab63fa",
          "symbol": "circle"
         },
         "mode": "markers",
         "name": "718",
         "orientation": "v",
         "showlegend": true,
         "type": "scatter",
         "x": [
          -1.0766760110855103
         ],
         "xaxis": "x",
         "y": [
          2.9092891216278076
         ],
         "yaxis": "y"
        },
        {
         "hovertemplate": "<b>%{hovertext}</b><br><br>color=866<br>x1=%{x}<br>x2=%{y}<extra></extra>",
         "hovertext": [
          "hippopotamus"
         ],
         "legendgroup": "866",
         "marker": {
          "color": "#FFA15A",
          "symbol": "circle"
         },
         "mode": "markers",
         "name": "866",
         "orientation": "v",
         "showlegend": true,
         "type": "scatter",
         "x": [
          7.094488143920898
         ],
         "xaxis": "x",
         "y": [
          0.37666818499565125
         ],
         "yaxis": "y"
        },
        {
         "hovertemplate": "<b>%{hovertext}</b><br><br>color=788<br>x1=%{x}<br>x2=%{y}<extra></extra>",
         "hovertext": [
          "ox"
         ],
         "legendgroup": "788",
         "marker": {
          "color": "#19d3f3",
          "symbol": "circle"
         },
         "mode": "markers",
         "name": "788",
         "orientation": "v",
         "showlegend": true,
         "type": "scatter",
         "x": [
          -4.0339226722717285
         ],
         "xaxis": "x",
         "y": [
          1.5099027156829834
         ],
         "yaxis": "y"
        },
        {
         "hovertemplate": "<b>%{hovertext}</b><br><br>color=876<br>x1=%{x}<br>x2=%{y}<extra></extra>",
         "hovertext": [
          "water buffalo"
         ],
         "legendgroup": "876",
         "marker": {
          "color": "#FF6692",
          "symbol": "circle"
         },
         "mode": "markers",
         "name": "876",
         "orientation": "v",
         "showlegend": true,
         "type": "scatter",
         "x": [
          7.198679447174072
         ],
         "xaxis": "x",
         "y": [
          0.2793649137020111
         ],
         "yaxis": "y"
        },
        {
         "hovertemplate": "<b>%{hovertext}</b><br><br>color=473<br>x1=%{x}<br>x2=%{y}<extra></extra>",
         "hovertext": [
          "bison"
         ],
         "legendgroup": "473",
         "marker": {
          "color": "#B6E880",
          "symbol": "circle"
         },
         "mode": "markers",
         "name": "473",
         "orientation": "v",
         "showlegend": true,
         "type": "scatter",
         "x": [
          -3.2291555404663086
         ],
         "xaxis": "x",
         "y": [
          3.9704039096832275
         ],
         "yaxis": "y"
        },
        {
         "hovertemplate": "<b>%{hovertext}</b><br><br>color=569<br>x1=%{x}<br>x2=%{y}<extra></extra>",
         "hovertext": [
          "ram"
         ],
         "legendgroup": "569",
         "marker": {
          "color": "#FF97FF",
          "symbol": "circle"
         },
         "mode": "markers",
         "name": "569",
         "orientation": "v",
         "showlegend": true,
         "type": "scatter",
         "x": [
          -2.124603509902954
         ],
         "xaxis": "x",
         "y": [
          0.6469994783401489
         ],
         "yaxis": "y"
        },
        {
         "hovertemplate": "<b>%{hovertext}</b><br><br>color=984<br>x1=%{x}<br>x2=%{y}<extra></extra>",
         "hovertext": [
          "bighorn"
         ],
         "legendgroup": "984",
         "marker": {
          "color": "#FECB52",
          "symbol": "circle"
         },
         "mode": "markers",
         "name": "984",
         "orientation": "v",
         "showlegend": true,
         "type": "scatter",
         "x": [
          8.792008399963379
         ],
         "xaxis": "x",
         "y": [
          -0.5882840156555176
         ],
         "yaxis": "y"
        },
        {
         "hovertemplate": "<b>%{hovertext}</b><br><br>color=338<br>x1=%{x}<br>x2=%{y}<extra></extra>",
         "hovertext": [
          "ibex"
         ],
         "legendgroup": "338",
         "marker": {
          "color": "#636efa",
          "symbol": "circle"
         },
         "mode": "markers",
         "name": "338",
         "orientation": "v",
         "showlegend": true,
         "type": "scatter",
         "x": [
          4.112721920013428
         ],
         "xaxis": "x",
         "y": [
          1.0209096670150757
         ],
         "yaxis": "y"
        },
        {
         "hovertemplate": "<b>%{hovertext}</b><br><br>color=860<br>x1=%{x}<br>x2=%{y}<extra></extra>",
         "hovertext": [
          "hartebeest"
         ],
         "legendgroup": "860",
         "marker": {
          "color": "#EF553B",
          "symbol": "circle"
         },
         "mode": "markers",
         "name": "860",
         "orientation": "v",
         "showlegend": true,
         "type": "scatter",
         "x": [
          1.7977392673492432
         ],
         "xaxis": "x",
         "y": [
          3.6356570720672607
         ],
         "yaxis": "y"
        },
        {
         "hovertemplate": "<b>%{hovertext}</b><br><br>color=848<br>x1=%{x}<br>x2=%{y}<extra></extra>",
         "hovertext": [
          "impala"
         ],
         "legendgroup": "848",
         "marker": {
          "color": "#00cc96",
          "symbol": "circle"
         },
         "mode": "markers",
         "name": "848",
         "orientation": "v",
         "showlegend": true,
         "type": "scatter",
         "x": [
          6.1429877281188965
         ],
         "xaxis": "x",
         "y": [
          0.7868810296058655
         ],
         "yaxis": "y"
        },
        {
         "hovertemplate": "<b>%{hovertext}</b><br><br>color=592<br>x1=%{x}<br>x2=%{y}<extra></extra>",
         "hovertext": [
          "gazelle"
         ],
         "legendgroup": "592",
         "marker": {
          "color": "#ab63fa",
          "symbol": "circle"
         },
         "mode": "markers",
         "name": "592",
         "orientation": "v",
         "showlegend": true,
         "type": "scatter",
         "x": [
          -4.008952617645264
         ],
         "xaxis": "x",
         "y": [
          0.478209912776947
         ],
         "yaxis": "y"
        },
        {
         "hovertemplate": "<b>%{hovertext}</b><br><br>color=387<br>x1=%{x}<br>x2=%{y}<extra></extra>",
         "hovertext": [
          "Arabian camel"
         ],
         "legendgroup": "387",
         "marker": {
          "color": "#FFA15A",
          "symbol": "circle"
         },
         "mode": "markers",
         "name": "387",
         "orientation": "v",
         "showlegend": true,
         "type": "scatter",
         "x": [
          6.82712459564209
         ],
         "xaxis": "x",
         "y": [
          0.09446115791797638
         ],
         "yaxis": "y"
        },
        {
         "hovertemplate": "<b>%{hovertext}</b><br><br>color=828<br>x1=%{x}<br>x2=%{y}<extra></extra>",
         "hovertext": [
          "llama"
         ],
         "legendgroup": "828",
         "marker": {
          "color": "#19d3f3",
          "symbol": "circle"
         },
         "mode": "markers",
         "name": "828",
         "orientation": "v",
         "showlegend": true,
         "type": "scatter",
         "x": [
          -4.06653356552124
         ],
         "xaxis": "x",
         "y": [
          2.360482692718506
         ],
         "yaxis": "y"
        },
        {
         "hovertemplate": "<b>%{hovertext}</b><br><br>color=519<br>x1=%{x}<br>x2=%{y}<extra></extra>",
         "hovertext": [
          "weasel"
         ],
         "legendgroup": "519",
         "marker": {
          "color": "#FF6692",
          "symbol": "circle"
         },
         "mode": "markers",
         "name": "519",
         "orientation": "v",
         "showlegend": true,
         "type": "scatter",
         "x": [
          -1.0959062576293945
         ],
         "xaxis": "x",
         "y": [
          1.4942196607589722
         ],
         "yaxis": "y"
        },
        {
         "hovertemplate": "<b>%{hovertext}</b><br><br>color=901<br>x1=%{x}<br>x2=%{y}<extra></extra>",
         "hovertext": [
          "mink"
         ],
         "legendgroup": "901",
         "marker": {
          "color": "#B6E880",
          "symbol": "circle"
         },
         "mode": "markers",
         "name": "901",
         "orientation": "v",
         "showlegend": true,
         "type": "scatter",
         "x": [
          -3.579087734222412
         ],
         "xaxis": "x",
         "y": [
          2.036837339401245
         ],
         "yaxis": "y"
        },
        {
         "hovertemplate": "<b>%{hovertext}</b><br><br>color=842<br>x1=%{x}<br>x2=%{y}<extra></extra>",
         "hovertext": [
          "polecat"
         ],
         "legendgroup": "842",
         "marker": {
          "color": "#FF97FF",
          "symbol": "circle"
         },
         "mode": "markers",
         "name": "842",
         "orientation": "v",
         "showlegend": true,
         "type": "scatter",
         "x": [
          6.113245487213135
         ],
         "xaxis": "x",
         "y": [
          -0.3167549669742584
         ],
         "yaxis": "y"
        },
        {
         "hovertemplate": "<b>%{hovertext}</b><br><br>color=965<br>x1=%{x}<br>x2=%{y}<extra></extra>",
         "hovertext": [
          "black-footed ferret"
         ],
         "legendgroup": "965",
         "marker": {
          "color": "#FECB52",
          "symbol": "circle"
         },
         "mode": "markers",
         "name": "965",
         "orientation": "v",
         "showlegend": true,
         "type": "scatter",
         "x": [
          9.589493751525879
         ],
         "xaxis": "x",
         "y": [
          0.7021112442016602
         ],
         "yaxis": "y"
        },
        {
         "hovertemplate": "<b>%{hovertext}</b><br><br>color=395<br>x1=%{x}<br>x2=%{y}<extra></extra>",
         "hovertext": [
          "otter"
         ],
         "legendgroup": "395",
         "marker": {
          "color": "#636efa",
          "symbol": "circle"
         },
         "mode": "markers",
         "name": "395",
         "orientation": "v",
         "showlegend": true,
         "type": "scatter",
         "x": [
          -3.512723684310913
         ],
         "xaxis": "x",
         "y": [
          1.0548412799835205
         ],
         "yaxis": "y"
        },
        {
         "hovertemplate": "<b>%{hovertext}</b><br><br>color=538<br>x1=%{x}<br>x2=%{y}<extra></extra>",
         "hovertext": [
          "skunk"
         ],
         "legendgroup": "538",
         "marker": {
          "color": "#EF553B",
          "symbol": "circle"
         },
         "mode": "markers",
         "name": "538",
         "orientation": "v",
         "showlegend": true,
         "type": "scatter",
         "x": [
          3.8914008140563965
         ],
         "xaxis": "x",
         "y": [
          -1.0419542789459229
         ],
         "yaxis": "y"
        },
        {
         "hovertemplate": "<b>%{hovertext}</b><br><br>color=551<br>x1=%{x}<br>x2=%{y}<extra></extra>",
         "hovertext": [
          "badger"
         ],
         "legendgroup": "551",
         "marker": {
          "color": "#00cc96",
          "symbol": "circle"
         },
         "mode": "markers",
         "name": "551",
         "orientation": "v",
         "showlegend": true,
         "type": "scatter",
         "x": [
          -4.307863235473633
         ],
         "xaxis": "x",
         "y": [
          1.3427304029464722
         ],
         "yaxis": "y"
        },
        {
         "hovertemplate": "<b>%{hovertext}</b><br><br>color=865<br>x1=%{x}<br>x2=%{y}<extra></extra>",
         "hovertext": [
          "armadillo"
         ],
         "legendgroup": "865",
         "marker": {
          "color": "#ab63fa",
          "symbol": "circle"
         },
         "mode": "markers",
         "name": "865",
         "orientation": "v",
         "showlegend": true,
         "type": "scatter",
         "x": [
          1.521510362625122
         ],
         "xaxis": "x",
         "y": [
          3.8511269092559814
         ],
         "yaxis": "y"
        },
        {
         "hovertemplate": "<b>%{hovertext}</b><br><br>color=927<br>x1=%{x}<br>x2=%{y}<extra></extra>",
         "hovertext": [
          "three-toed sloth"
         ],
         "legendgroup": "927",
         "marker": {
          "color": "#FFA15A",
          "symbol": "circle"
         },
         "mode": "markers",
         "name": "927",
         "orientation": "v",
         "showlegend": true,
         "type": "scatter",
         "x": [
          8.387334823608398
         ],
         "xaxis": "x",
         "y": [
          1.0347100496292114
         ],
         "yaxis": "y"
        },
        {
         "hovertemplate": "<b>%{hovertext}</b><br><br>color=872<br>x1=%{x}<br>x2=%{y}<extra></extra>",
         "hovertext": [
          "orangutan"
         ],
         "legendgroup": "872",
         "marker": {
          "color": "#19d3f3",
          "symbol": "circle"
         },
         "mode": "markers",
         "name": "872",
         "orientation": "v",
         "showlegend": true,
         "type": "scatter",
         "x": [
          9.023977279663086
         ],
         "xaxis": "x",
         "y": [
          -0.34370389580726624
         ],
         "yaxis": "y"
        },
        {
         "hovertemplate": "<b>%{hovertext}</b><br><br>color=863<br>x1=%{x}<br>x2=%{y}<extra></extra>",
         "hovertext": [
          "gorilla"
         ],
         "legendgroup": "863",
         "marker": {
          "color": "#FF6692",
          "symbol": "circle"
         },
         "mode": "markers",
         "name": "863",
         "orientation": "v",
         "showlegend": true,
         "type": "scatter",
         "x": [
          1.1117061376571655
         ],
         "xaxis": "x",
         "y": [
          2.9380571842193604
         ],
         "yaxis": "y"
        },
        {
         "hovertemplate": "<b>%{hovertext}</b><br><br>color=491<br>x1=%{x}<br>x2=%{y}<extra></extra>",
         "hovertext": [
          "chimpanzee"
         ],
         "legendgroup": "491",
         "marker": {
          "color": "#B6E880",
          "symbol": "circle"
         },
         "mode": "markers",
         "name": "491",
         "orientation": "v",
         "showlegend": true,
         "type": "scatter",
         "x": [
          9.424118041992188
         ],
         "xaxis": "x",
         "y": [
          -1.0145539045333862
         ],
         "yaxis": "y"
        },
        {
         "hovertemplate": "<b>%{hovertext}</b><br><br>color=767<br>x1=%{x}<br>x2=%{y}<extra></extra>",
         "hovertext": [
          "gibbon"
         ],
         "legendgroup": "767",
         "marker": {
          "color": "#FF97FF",
          "symbol": "circle"
         },
         "mode": "markers",
         "name": "767",
         "orientation": "v",
         "showlegend": true,
         "type": "scatter",
         "x": [
          5.177646160125732
         ],
         "xaxis": "x",
         "y": [
          1.009526252746582
         ],
         "yaxis": "y"
        },
        {
         "hovertemplate": "<b>%{hovertext}</b><br><br>color=976<br>x1=%{x}<br>x2=%{y}<extra></extra>",
         "hovertext": [
          "siamang"
         ],
         "legendgroup": "976",
         "marker": {
          "color": "#FECB52",
          "symbol": "circle"
         },
         "mode": "markers",
         "name": "976",
         "orientation": "v",
         "showlegend": true,
         "type": "scatter",
         "x": [
          11.23066234588623
         ],
         "xaxis": "x",
         "y": [
          -0.04171929508447647
         ],
         "yaxis": "y"
        },
        {
         "hovertemplate": "<b>%{hovertext}</b><br><br>color=600<br>x1=%{x}<br>x2=%{y}<extra></extra>",
         "hovertext": [
          "guenon"
         ],
         "legendgroup": "600",
         "marker": {
          "color": "#636efa",
          "symbol": "circle"
         },
         "mode": "markers",
         "name": "600",
         "orientation": "v",
         "showlegend": true,
         "type": "scatter",
         "x": [
          3.3855202198028564
         ],
         "xaxis": "x",
         "y": [
          -0.9602453708648682
         ],
         "yaxis": "y"
        },
        {
         "hovertemplate": "<b>%{hovertext}</b><br><br>color=710<br>x1=%{x}<br>x2=%{y}<extra></extra>",
         "hovertext": [
          "patas"
         ],
         "legendgroup": "710",
         "marker": {
          "color": "#EF553B",
          "symbol": "circle"
         },
         "mode": "markers",
         "name": "710",
         "orientation": "v",
         "showlegend": true,
         "type": "scatter",
         "x": [
          8.806536674499512
         ],
         "xaxis": "x",
         "y": [
          -0.12428800016641617
         ],
         "yaxis": "y"
        },
        {
         "hovertemplate": "<b>%{hovertext}</b><br><br>color=771<br>x1=%{x}<br>x2=%{y}<extra></extra>",
         "hovertext": [
          "baboon"
         ],
         "legendgroup": "771",
         "marker": {
          "color": "#00cc96",
          "symbol": "circle"
         },
         "mode": "markers",
         "name": "771",
         "orientation": "v",
         "showlegend": true,
         "type": "scatter",
         "x": [
          -1.6585216522216797
         ],
         "xaxis": "x",
         "y": [
          2.0779268741607666
         ],
         "yaxis": "y"
        },
        {
         "hovertemplate": "<b>%{hovertext}</b><br><br>color=503<br>x1=%{x}<br>x2=%{y}<extra></extra>",
         "hovertext": [
          "macaque"
         ],
         "legendgroup": "503",
         "marker": {
          "color": "#ab63fa",
          "symbol": "circle"
         },
         "mode": "markers",
         "name": "503",
         "orientation": "v",
         "showlegend": true,
         "type": "scatter",
         "x": [
          -4.2019944190979
         ],
         "xaxis": "x",
         "y": [
          3.081063747406006
         ],
         "yaxis": "y"
        },
        {
         "hovertemplate": "<b>%{hovertext}</b><br><br>color=785<br>x1=%{x}<br>x2=%{y}<extra></extra>",
         "hovertext": [
          "langur"
         ],
         "legendgroup": "785",
         "marker": {
          "color": "#FFA15A",
          "symbol": "circle"
         },
         "mode": "markers",
         "name": "785",
         "orientation": "v",
         "showlegend": true,
         "type": "scatter",
         "x": [
          -0.44060978293418884
         ],
         "xaxis": "x",
         "y": [
          4.125147819519043
         ],
         "yaxis": "y"
        },
        {
         "hovertemplate": "<b>%{hovertext}</b><br><br>color=381<br>x1=%{x}<br>x2=%{y}<extra></extra>",
         "hovertext": [
          "colobus"
         ],
         "legendgroup": "381",
         "marker": {
          "color": "#19d3f3",
          "symbol": "circle"
         },
         "mode": "markers",
         "name": "381",
         "orientation": "v",
         "showlegend": true,
         "type": "scatter",
         "x": [
          4.170147895812988
         ],
         "xaxis": "x",
         "y": [
          -0.30452537536621094
         ],
         "yaxis": "y"
        },
        {
         "hovertemplate": "<b>%{hovertext}</b><br><br>color=394<br>x1=%{x}<br>x2=%{y}<extra></extra>",
         "hovertext": [
          "proboscis monkey"
         ],
         "legendgroup": "394",
         "marker": {
          "color": "#FF6692",
          "symbol": "circle"
         },
         "mode": "markers",
         "name": "394",
         "orientation": "v",
         "showlegend": true,
         "type": "scatter",
         "x": [
          5.953876972198486
         ],
         "xaxis": "x",
         "y": [
          1.1724814176559448
         ],
         "yaxis": "y"
        },
        {
         "hovertemplate": "<b>%{hovertext}</b><br><br>color=734<br>x1=%{x}<br>x2=%{y}<extra></extra>",
         "hovertext": [
          "marmoset"
         ],
         "legendgroup": "734",
         "marker": {
          "color": "#B6E880",
          "symbol": "circle"
         },
         "mode": "markers",
         "name": "734",
         "orientation": "v",
         "showlegend": true,
         "type": "scatter",
         "x": [
          1.1838051080703735
         ],
         "xaxis": "x",
         "y": [
          4.2804274559021
         ],
         "yaxis": "y"
        },
        {
         "hovertemplate": "<b>%{hovertext}</b><br><br>color=455<br>x1=%{x}<br>x2=%{y}<extra></extra>",
         "hovertext": [
          "capuchin"
         ],
         "legendgroup": "455",
         "marker": {
          "color": "#FF97FF",
          "symbol": "circle"
         },
         "mode": "markers",
         "name": "455",
         "orientation": "v",
         "showlegend": true,
         "type": "scatter",
         "x": [
          5.5644330978393555
         ],
         "xaxis": "x",
         "y": [
          -0.03154323250055313
         ],
         "yaxis": "y"
        },
        {
         "hovertemplate": "<b>%{hovertext}</b><br><br>color=456<br>x1=%{x}<br>x2=%{y}<extra></extra>",
         "hovertext": [
          "howler monkey"
         ],
         "legendgroup": "456",
         "marker": {
          "color": "#FECB52",
          "symbol": "circle"
         },
         "mode": "markers",
         "name": "456",
         "orientation": "v",
         "showlegend": true,
         "type": "scatter",
         "x": [
          1.9887956380844116
         ],
         "xaxis": "x",
         "y": [
          -0.24408984184265137
         ],
         "yaxis": "y"
        },
        {
         "hovertemplate": "<b>%{hovertext}</b><br><br>color=437<br>x1=%{x}<br>x2=%{y}<extra></extra>",
         "hovertext": [
          "titi"
         ],
         "legendgroup": "437",
         "marker": {
          "color": "#636efa",
          "symbol": "circle"
         },
         "mode": "markers",
         "name": "437",
         "orientation": "v",
         "showlegend": true,
         "type": "scatter",
         "x": [
          1.1051114797592163
         ],
         "xaxis": "x",
         "y": [
          -0.5991557240486145
         ],
         "yaxis": "y"
        },
        {
         "hovertemplate": "<b>%{hovertext}</b><br><br>color=915<br>x1=%{x}<br>x2=%{y}<extra></extra>",
         "hovertext": [
          "spider monkey"
         ],
         "legendgroup": "915",
         "marker": {
          "color": "#EF553B",
          "symbol": "circle"
         },
         "mode": "markers",
         "name": "915",
         "orientation": "v",
         "showlegend": true,
         "type": "scatter",
         "x": [
          7.563337802886963
         ],
         "xaxis": "x",
         "y": [
          0.629707932472229
         ],
         "yaxis": "y"
        },
        {
         "hovertemplate": "<b>%{hovertext}</b><br><br>color=315<br>x1=%{x}<br>x2=%{y}<extra></extra>",
         "hovertext": [
          "squirrel monkey"
         ],
         "legendgroup": "315",
         "marker": {
          "color": "#00cc96",
          "symbol": "circle"
         },
         "mode": "markers",
         "name": "315",
         "orientation": "v",
         "showlegend": true,
         "type": "scatter",
         "x": [
          4.138638019561768
         ],
         "xaxis": "x",
         "y": [
          1.9598671197891235
         ],
         "yaxis": "y"
        },
        {
         "hovertemplate": "<b>%{hovertext}</b><br><br>color=493<br>x1=%{x}<br>x2=%{y}<extra></extra>",
         "hovertext": [
          "Madagascar cat"
         ],
         "legendgroup": "493",
         "marker": {
          "color": "#ab63fa",
          "symbol": "circle"
         },
         "mode": "markers",
         "name": "493",
         "orientation": "v",
         "showlegend": true,
         "type": "scatter",
         "x": [
          7.678241729736328
         ],
         "xaxis": "x",
         "y": [
          0.4377777874469757
         ],
         "yaxis": "y"
        },
        {
         "hovertemplate": "<b>%{hovertext}</b><br><br>color=759<br>x1=%{x}<br>x2=%{y}<extra></extra>",
         "hovertext": [
          "indri"
         ],
         "legendgroup": "759",
         "marker": {
          "color": "#FFA15A",
          "symbol": "circle"
         },
         "mode": "markers",
         "name": "759",
         "orientation": "v",
         "showlegend": true,
         "type": "scatter",
         "x": [
          7.762536525726318
         ],
         "xaxis": "x",
         "y": [
          -0.6318272948265076
         ],
         "yaxis": "y"
        },
        {
         "hovertemplate": "<b>%{hovertext}</b><br><br>color=465<br>x1=%{x}<br>x2=%{y}<extra></extra>",
         "hovertext": [
          "Indian elephant"
         ],
         "legendgroup": "465",
         "marker": {
          "color": "#19d3f3",
          "symbol": "circle"
         },
         "mode": "markers",
         "name": "465",
         "orientation": "v",
         "showlegend": true,
         "type": "scatter",
         "x": [
          6.10744047164917
         ],
         "xaxis": "x",
         "y": [
          1.5911874771118164
         ],
         "yaxis": "y"
        },
        {
         "hovertemplate": "<b>%{hovertext}</b><br><br>color=514<br>x1=%{x}<br>x2=%{y}<extra></extra>",
         "hovertext": [
          "African elephant"
         ],
         "legendgroup": "514",
         "marker": {
          "color": "#FF6692",
          "symbol": "circle"
         },
         "mode": "markers",
         "name": "514",
         "orientation": "v",
         "showlegend": true,
         "type": "scatter",
         "x": [
          8.554961204528809
         ],
         "xaxis": "x",
         "y": [
          0.9607565999031067
         ],
         "yaxis": "y"
        },
        {
         "hovertemplate": "<b>%{hovertext}</b><br><br>color=945<br>x1=%{x}<br>x2=%{y}<extra></extra>",
         "hovertext": [
          "lesser panda"
         ],
         "legendgroup": "945",
         "marker": {
          "color": "#B6E880",
          "symbol": "circle"
         },
         "mode": "markers",
         "name": "945",
         "orientation": "v",
         "showlegend": true,
         "type": "scatter",
         "x": [
          7.916214942932129
         ],
         "xaxis": "x",
         "y": [
          0.5859732627868652
         ],
         "yaxis": "y"
        },
        {
         "hovertemplate": "<b>%{hovertext}</b><br><br>color=485<br>x1=%{x}<br>x2=%{y}<extra></extra>",
         "hovertext": [
          "giant panda"
         ],
         "legendgroup": "485",
         "marker": {
          "color": "#FF97FF",
          "symbol": "circle"
         },
         "mode": "markers",
         "name": "485",
         "orientation": "v",
         "showlegend": true,
         "type": "scatter",
         "x": [
          9.69853687286377
         ],
         "xaxis": "x",
         "y": [
          0.4472709596157074
         ],
         "yaxis": "y"
        },
        {
         "hovertemplate": "<b>%{hovertext}</b><br><br>color=607<br>x1=%{x}<br>x2=%{y}<extra></extra>",
         "hovertext": [
          "barracouta"
         ],
         "legendgroup": "607",
         "marker": {
          "color": "#FECB52",
          "symbol": "circle"
         },
         "mode": "markers",
         "name": "607",
         "orientation": "v",
         "showlegend": true,
         "type": "scatter",
         "x": [
          1.2782288789749146
         ],
         "xaxis": "x",
         "y": [
          0.48588868975639343
         ],
         "yaxis": "y"
        },
        {
         "hovertemplate": "<b>%{hovertext}</b><br><br>color=587<br>x1=%{x}<br>x2=%{y}<extra></extra>",
         "hovertext": [
          "eel"
         ],
         "legendgroup": "587",
         "marker": {
          "color": "#636efa",
          "symbol": "circle"
         },
         "mode": "markers",
         "name": "587",
         "orientation": "v",
         "showlegend": true,
         "type": "scatter",
         "x": [
          -4.005502223968506
         ],
         "xaxis": "x",
         "y": [
          -1.2413429021835327
         ],
         "yaxis": "y"
        },
        {
         "hovertemplate": "<b>%{hovertext}</b><br><br>color=560<br>x1=%{x}<br>x2=%{y}<extra></extra>",
         "hovertext": [
          "coho"
         ],
         "legendgroup": "560",
         "marker": {
          "color": "#EF553B",
          "symbol": "circle"
         },
         "mode": "markers",
         "name": "560",
         "orientation": "v",
         "showlegend": true,
         "type": "scatter",
         "x": [
          8.525321960449219
         ],
         "xaxis": "x",
         "y": [
          -0.7209896445274353
         ],
         "yaxis": "y"
        },
        {
         "hovertemplate": "<b>%{hovertext}</b><br><br>color=544<br>x1=%{x}<br>x2=%{y}<extra></extra>",
         "hovertext": [
          "rock beauty"
         ],
         "legendgroup": "544",
         "marker": {
          "color": "#00cc96",
          "symbol": "circle"
         },
         "mode": "markers",
         "name": "544",
         "orientation": "v",
         "showlegend": true,
         "type": "scatter",
         "x": [
          7.940020561218262
         ],
         "xaxis": "x",
         "y": [
          1.5353668928146362
         ],
         "yaxis": "y"
        },
        {
         "hovertemplate": "<b>%{hovertext}</b><br><br>color=494<br>x1=%{x}<br>x2=%{y}<extra></extra>",
         "hovertext": [
          "anemone fish"
         ],
         "legendgroup": "494",
         "marker": {
          "color": "#ab63fa",
          "symbol": "circle"
         },
         "mode": "markers",
         "name": "494",
         "orientation": "v",
         "showlegend": true,
         "type": "scatter",
         "x": [
          0.13861367106437683
         ],
         "xaxis": "x",
         "y": [
          3.662370204925537
         ],
         "yaxis": "y"
        },
        {
         "hovertemplate": "<b>%{hovertext}</b><br><br>color=397<br>x1=%{x}<br>x2=%{y}<extra></extra>",
         "hovertext": [
          "sturgeon"
         ],
         "legendgroup": "397",
         "marker": {
          "color": "#FFA15A",
          "symbol": "circle"
         },
         "mode": "markers",
         "name": "397",
         "orientation": "v",
         "showlegend": true,
         "type": "scatter",
         "x": [
          -1.2135621309280396
         ],
         "xaxis": "x",
         "y": [
          3.0289371013641357
         ],
         "yaxis": "y"
        },
        {
         "hovertemplate": "<b>%{hovertext}</b><br><br>color=448<br>x1=%{x}<br>x2=%{y}<extra></extra>",
         "hovertext": [
          "gar"
         ],
         "legendgroup": "448",
         "marker": {
          "color": "#19d3f3",
          "symbol": "circle"
         },
         "mode": "markers",
         "name": "448",
         "orientation": "v",
         "showlegend": true,
         "type": "scatter",
         "x": [
          8.41700267791748
         ],
         "xaxis": "x",
         "y": [
          -1.15754234790802
         ],
         "yaxis": "y"
        },
        {
         "hovertemplate": "<b>%{hovertext}</b><br><br>color=515<br>x1=%{x}<br>x2=%{y}<extra></extra>",
         "hovertext": [
          "lionfish"
         ],
         "legendgroup": "515",
         "marker": {
          "color": "#FF6692",
          "symbol": "circle"
         },
         "mode": "markers",
         "name": "515",
         "orientation": "v",
         "showlegend": true,
         "type": "scatter",
         "x": [
          -2.2537319660186768
         ],
         "xaxis": "x",
         "y": [
          2.9991352558135986
         ],
         "yaxis": "y"
        },
        {
         "hovertemplate": "<b>%{hovertext}</b><br><br>color=486<br>x1=%{x}<br>x2=%{y}<extra></extra>",
         "hovertext": [
          "puffer"
         ],
         "legendgroup": "486",
         "marker": {
          "color": "#B6E880",
          "symbol": "circle"
         },
         "mode": "markers",
         "name": "486",
         "orientation": "v",
         "showlegend": true,
         "type": "scatter",
         "x": [
          2.9329652786254883
         ],
         "xaxis": "x",
         "y": [
          -1.693748116493225
         ],
         "yaxis": "y"
        },
        {
         "hovertemplate": "<b>%{hovertext}</b><br><br>color=630<br>x1=%{x}<br>x2=%{y}<extra></extra>",
         "hovertext": [
          "abacus"
         ],
         "legendgroup": "630",
         "marker": {
          "color": "#FF97FF",
          "symbol": "circle"
         },
         "mode": "markers",
         "name": "630",
         "orientation": "v",
         "showlegend": true,
         "type": "scatter",
         "x": [
          0.5327456593513489
         ],
         "xaxis": "x",
         "y": [
          3.106339931488037
         ],
         "yaxis": "y"
        },
        {
         "hovertemplate": "<b>%{hovertext}</b><br><br>color=466<br>x1=%{x}<br>x2=%{y}<extra></extra>",
         "hovertext": [
          "abaya"
         ],
         "legendgroup": "466",
         "marker": {
          "color": "#FECB52",
          "symbol": "circle"
         },
         "mode": "markers",
         "name": "466",
         "orientation": "v",
         "showlegend": true,
         "type": "scatter",
         "x": [
          -1.4206311702728271
         ],
         "xaxis": "x",
         "y": [
          2.8753368854522705
         ],
         "yaxis": "y"
        },
        {
         "hovertemplate": "<b>%{hovertext}</b><br><br>color=676<br>x1=%{x}<br>x2=%{y}<extra></extra>",
         "hovertext": [
          "academic gown"
         ],
         "legendgroup": "676",
         "marker": {
          "color": "#636efa",
          "symbol": "circle"
         },
         "mode": "markers",
         "name": "676",
         "orientation": "v",
         "showlegend": true,
         "type": "scatter",
         "x": [
          3.3840742111206055
         ],
         "xaxis": "x",
         "y": [
          -0.8450685739517212
         ],
         "yaxis": "y"
        },
        {
         "hovertemplate": "<b>%{hovertext}</b><br><br>color=295<br>x1=%{x}<br>x2=%{y}<extra></extra>",
         "hovertext": [
          "accordion"
         ],
         "legendgroup": "295",
         "marker": {
          "color": "#EF553B",
          "symbol": "circle"
         },
         "mode": "markers",
         "name": "295",
         "orientation": "v",
         "showlegend": true,
         "type": "scatter",
         "x": [
          0.29118430614471436
         ],
         "xaxis": "x",
         "y": [
          -2.925506353378296
         ],
         "yaxis": "y"
        },
        {
         "hovertemplate": "<b>%{hovertext}</b><br><br>color=227<br>x1=%{x}<br>x2=%{y}<extra></extra>",
         "hovertext": [
          "acoustic guitar"
         ],
         "legendgroup": "227",
         "marker": {
          "color": "#00cc96",
          "symbol": "circle"
         },
         "mode": "markers",
         "name": "227",
         "orientation": "v",
         "showlegend": true,
         "type": "scatter",
         "x": [
          -2.701263427734375
         ],
         "xaxis": "x",
         "y": [
          -0.9747287631034851
         ],
         "yaxis": "y"
        },
        {
         "hovertemplate": "<b>%{hovertext}</b><br><br>color=651<br>x1=%{x}<br>x2=%{y}<extra></extra>",
         "hovertext": [
          "aircraft carrier"
         ],
         "legendgroup": "651",
         "marker": {
          "color": "#ab63fa",
          "symbol": "circle"
         },
         "mode": "markers",
         "name": "651",
         "orientation": "v",
         "showlegend": true,
         "type": "scatter",
         "x": [
          2.621567726135254
         ],
         "xaxis": "x",
         "y": [
          -1.9737969636917114
         ],
         "yaxis": "y"
        },
        {
         "hovertemplate": "<b>%{hovertext}</b><br><br>color=713<br>x1=%{x}<br>x2=%{y}<extra></extra>",
         "hovertext": [
          "airliner"
         ],
         "legendgroup": "713",
         "marker": {
          "color": "#FFA15A",
          "symbol": "circle"
         },
         "mode": "markers",
         "name": "713",
         "orientation": "v",
         "showlegend": true,
         "type": "scatter",
         "x": [
          -4.491703510284424
         ],
         "xaxis": "x",
         "y": [
          -0.6699806451797485
         ],
         "yaxis": "y"
        },
        {
         "hovertemplate": "<b>%{hovertext}</b><br><br>color=273<br>x1=%{x}<br>x2=%{y}<extra></extra>",
         "hovertext": [
          "airship"
         ],
         "legendgroup": "273",
         "marker": {
          "color": "#19d3f3",
          "symbol": "circle"
         },
         "mode": "markers",
         "name": "273",
         "orientation": "v",
         "showlegend": true,
         "type": "scatter",
         "x": [
          1.8297761678695679
         ],
         "xaxis": "x",
         "y": [
          -0.764662504196167
         ],
         "yaxis": "y"
        },
        {
         "hovertemplate": "<b>%{hovertext}</b><br><br>color=580<br>x1=%{x}<br>x2=%{y}<extra></extra>",
         "hovertext": [
          "altar"
         ],
         "legendgroup": "580",
         "marker": {
          "color": "#FF6692",
          "symbol": "circle"
         },
         "mode": "markers",
         "name": "580",
         "orientation": "v",
         "showlegend": true,
         "type": "scatter",
         "x": [
          -6.739413738250732
         ],
         "xaxis": "x",
         "y": [
          -2.2651185989379883
         ],
         "yaxis": "y"
        },
        {
         "hovertemplate": "<b>%{hovertext}</b><br><br>color=889<br>x1=%{x}<br>x2=%{y}<extra></extra>",
         "hovertext": [
          "ambulance"
         ],
         "legendgroup": "889",
         "marker": {
          "color": "#B6E880",
          "symbol": "circle"
         },
         "mode": "markers",
         "name": "889",
         "orientation": "v",
         "showlegend": true,
         "type": "scatter",
         "x": [
          -7.0037031173706055
         ],
         "xaxis": "x",
         "y": [
          0.1453171670436859
         ],
         "yaxis": "y"
        },
        {
         "hovertemplate": "<b>%{hovertext}</b><br><br>color=799<br>x1=%{x}<br>x2=%{y}<extra></extra>",
         "hovertext": [
          "amphibian"
         ],
         "legendgroup": "799",
         "marker": {
          "color": "#FF97FF",
          "symbol": "circle"
         },
         "mode": "markers",
         "name": "799",
         "orientation": "v",
         "showlegend": true,
         "type": "scatter",
         "x": [
          2.3642075061798096
         ],
         "xaxis": "x",
         "y": [
          -0.052377913147211075
         ],
         "yaxis": "y"
        },
        {
         "hovertemplate": "<b>%{hovertext}</b><br><br>color=909<br>x1=%{x}<br>x2=%{y}<extra></extra>",
         "hovertext": [
          "analog clock"
         ],
         "legendgroup": "909",
         "marker": {
          "color": "#FECB52",
          "symbol": "circle"
         },
         "mode": "markers",
         "name": "909",
         "orientation": "v",
         "showlegend": true,
         "type": "scatter",
         "x": [
          -4.713000774383545
         ],
         "xaxis": "x",
         "y": [
          -0.7555031776428223
         ],
         "yaxis": "y"
        },
        {
         "hovertemplate": "<b>%{hovertext}</b><br><br>color=903<br>x1=%{x}<br>x2=%{y}<extra></extra>",
         "hovertext": [
          "apiary"
         ],
         "legendgroup": "903",
         "marker": {
          "color": "#636efa",
          "symbol": "circle"
         },
         "mode": "markers",
         "name": "903",
         "orientation": "v",
         "showlegend": true,
         "type": "scatter",
         "x": [
          1.0908010005950928
         ],
         "xaxis": "x",
         "y": [
          -0.11589006334543228
         ],
         "yaxis": "y"
        },
        {
         "hovertemplate": "<b>%{hovertext}</b><br><br>color=374<br>x1=%{x}<br>x2=%{y}<extra></extra>",
         "hovertext": [
          "apron"
         ],
         "legendgroup": "374",
         "marker": {
          "color": "#EF553B",
          "symbol": "circle"
         },
         "mode": "markers",
         "name": "374",
         "orientation": "v",
         "showlegend": true,
         "type": "scatter",
         "x": [
          -7.093998908996582
         ],
         "xaxis": "x",
         "y": [
          -0.45603951811790466
         ],
         "yaxis": "y"
        },
        {
         "hovertemplate": "<b>%{hovertext}</b><br><br>color=850<br>x1=%{x}<br>x2=%{y}<extra></extra>",
         "hovertext": [
          "ashcan"
         ],
         "legendgroup": "850",
         "marker": {
          "color": "#00cc96",
          "symbol": "circle"
         },
         "mode": "markers",
         "name": "850",
         "orientation": "v",
         "showlegend": true,
         "type": "scatter",
         "x": [
          5.560937881469727
         ],
         "xaxis": "x",
         "y": [
          -3.6959927082061768
         ],
         "yaxis": "y"
        },
        {
         "hovertemplate": "<b>%{hovertext}</b><br><br>color=529<br>x1=%{x}<br>x2=%{y}<extra></extra>",
         "hovertext": [
          "assault rifle"
         ],
         "legendgroup": "529",
         "marker": {
          "color": "#ab63fa",
          "symbol": "circle"
         },
         "mode": "markers",
         "name": "529",
         "orientation": "v",
         "showlegend": true,
         "type": "scatter",
         "x": [
          -0.012379095889627934
         ],
         "xaxis": "x",
         "y": [
          -2.231053352355957
         ],
         "yaxis": "y"
        },
        {
         "hovertemplate": "<b>%{hovertext}</b><br><br>color=432<br>x1=%{x}<br>x2=%{y}<extra></extra>",
         "hovertext": [
          "backpack"
         ],
         "legendgroup": "432",
         "marker": {
          "color": "#FFA15A",
          "symbol": "circle"
         },
         "mode": "markers",
         "name": "432",
         "orientation": "v",
         "showlegend": true,
         "type": "scatter",
         "x": [
          7.652336597442627
         ],
         "xaxis": "x",
         "y": [
          -2.111299991607666
         ],
         "yaxis": "y"
        },
        {
         "hovertemplate": "<b>%{hovertext}</b><br><br>color=524<br>x1=%{x}<br>x2=%{y}<extra></extra>",
         "hovertext": [
          "bakery"
         ],
         "legendgroup": "524",
         "marker": {
          "color": "#19d3f3",
          "symbol": "circle"
         },
         "mode": "markers",
         "name": "524",
         "orientation": "v",
         "showlegend": true,
         "type": "scatter",
         "x": [
          2.7193026542663574
         ],
         "xaxis": "x",
         "y": [
          -1.6307331323623657
         ],
         "yaxis": "y"
        },
        {
         "hovertemplate": "<b>%{hovertext}</b><br><br>color=867<br>x1=%{x}<br>x2=%{y}<extra></extra>",
         "hovertext": [
          "balance beam"
         ],
         "legendgroup": "867",
         "marker": {
          "color": "#FF6692",
          "symbol": "circle"
         },
         "mode": "markers",
         "name": "867",
         "orientation": "v",
         "showlegend": true,
         "type": "scatter",
         "x": [
          -0.24713055789470673
         ],
         "xaxis": "x",
         "y": [
          -1.9094583988189697
         ],
         "yaxis": "y"
        },
        {
         "hovertemplate": "<b>%{hovertext}</b><br><br>color=232<br>x1=%{x}<br>x2=%{y}<extra></extra>",
         "hovertext": [
          "balloon"
         ],
         "legendgroup": "232",
         "marker": {
          "color": "#B6E880",
          "symbol": "circle"
         },
         "mode": "markers",
         "name": "232",
         "orientation": "v",
         "showlegend": true,
         "type": "scatter",
         "x": [
          -6.921911239624023
         ],
         "xaxis": "x",
         "y": [
          -0.9259912371635437
         ],
         "yaxis": "y"
        },
        {
         "hovertemplate": "<b>%{hovertext}</b><br><br>color=506<br>x1=%{x}<br>x2=%{y}<extra></extra>",
         "hovertext": [
          "ballpoint"
         ],
         "legendgroup": "506",
         "marker": {
          "color": "#FF97FF",
          "symbol": "circle"
         },
         "mode": "markers",
         "name": "506",
         "orientation": "v",
         "showlegend": true,
         "type": "scatter",
         "x": [
          2.0064172744750977
         ],
         "xaxis": "x",
         "y": [
          -2.843740940093994
         ],
         "yaxis": "y"
        },
        {
         "hovertemplate": "<b>%{hovertext}</b><br><br>color=559<br>x1=%{x}<br>x2=%{y}<extra></extra>",
         "hovertext": [
          "Band Aid"
         ],
         "legendgroup": "559",
         "marker": {
          "color": "#FECB52",
          "symbol": "circle"
         },
         "mode": "markers",
         "name": "559",
         "orientation": "v",
         "showlegend": true,
         "type": "scatter",
         "x": [
          -3.8265981674194336
         ],
         "xaxis": "x",
         "y": [
          -2.7265772819519043
         ],
         "yaxis": "y"
        },
        {
         "hovertemplate": "<b>%{hovertext}</b><br><br>color=936<br>x1=%{x}<br>x2=%{y}<extra></extra>",
         "hovertext": [
          "banjo"
         ],
         "legendgroup": "936",
         "marker": {
          "color": "#636efa",
          "symbol": "circle"
         },
         "mode": "markers",
         "name": "936",
         "orientation": "v",
         "showlegend": true,
         "type": "scatter",
         "x": [
          -6.528897285461426
         ],
         "xaxis": "x",
         "y": [
          -2.4134016036987305
         ],
         "yaxis": "y"
        },
        {
         "hovertemplate": "<b>%{hovertext}</b><br><br>color=748<br>x1=%{x}<br>x2=%{y}<extra></extra>",
         "hovertext": [
          "bannister"
         ],
         "legendgroup": "748",
         "marker": {
          "color": "#EF553B",
          "symbol": "circle"
         },
         "mode": "markers",
         "name": "748",
         "orientation": "v",
         "showlegend": true,
         "type": "scatter",
         "x": [
          7.652720928192139
         ],
         "xaxis": "x",
         "y": [
          -2.713498115539551
         ],
         "yaxis": "y"
        },
        {
         "hovertemplate": "<b>%{hovertext}</b><br><br>color=337<br>x1=%{x}<br>x2=%{y}<extra></extra>",
         "hovertext": [
          "barbell"
         ],
         "legendgroup": "337",
         "marker": {
          "color": "#00cc96",
          "symbol": "circle"
         },
         "mode": "markers",
         "name": "337",
         "orientation": "v",
         "showlegend": true,
         "type": "scatter",
         "x": [
          -4.599105358123779
         ],
         "xaxis": "x",
         "y": [
          0.5756477117538452
         ],
         "yaxis": "y"
        },
        {
         "hovertemplate": "<b>%{hovertext}</b><br><br>color=612<br>x1=%{x}<br>x2=%{y}<extra></extra>",
         "hovertext": [
          "barber chair"
         ],
         "legendgroup": "612",
         "marker": {
          "color": "#ab63fa",
          "symbol": "circle"
         },
         "mode": "markers",
         "name": "612",
         "orientation": "v",
         "showlegend": true,
         "type": "scatter",
         "x": [
          -1.3817781209945679
         ],
         "xaxis": "x",
         "y": [
          0.647936224937439
         ],
         "yaxis": "y"
        },
        {
         "hovertemplate": "<b>%{hovertext}</b><br><br>color=365<br>x1=%{x}<br>x2=%{y}<extra></extra>",
         "hovertext": [
          "barbershop"
         ],
         "legendgroup": "365",
         "marker": {
          "color": "#FFA15A",
          "symbol": "circle"
         },
         "mode": "markers",
         "name": "365",
         "orientation": "v",
         "showlegend": true,
         "type": "scatter",
         "x": [
          -0.6798154711723328
         ],
         "xaxis": "x",
         "y": [
          0.6793688535690308
         ],
         "yaxis": "y"
        },
        {
         "hovertemplate": "<b>%{hovertext}</b><br><br>color=900<br>x1=%{x}<br>x2=%{y}<extra></extra>",
         "hovertext": [
          "barn"
         ],
         "legendgroup": "900",
         "marker": {
          "color": "#19d3f3",
          "symbol": "circle"
         },
         "mode": "markers",
         "name": "900",
         "orientation": "v",
         "showlegend": true,
         "type": "scatter",
         "x": [
          -7.753572940826416
         ],
         "xaxis": "x",
         "y": [
          -0.010490840300917625
         ],
         "yaxis": "y"
        },
        {
         "hovertemplate": "<b>%{hovertext}</b><br><br>color=168<br>x1=%{x}<br>x2=%{y}<extra></extra>",
         "hovertext": [
          "barometer"
         ],
         "legendgroup": "168",
         "marker": {
          "color": "#FF6692",
          "symbol": "circle"
         },
         "mode": "markers",
         "name": "168",
         "orientation": "v",
         "showlegend": true,
         "type": "scatter",
         "x": [
          -4.341083526611328
         ],
         "xaxis": "x",
         "y": [
          1.3921239376068115
         ],
         "yaxis": "y"
        },
        {
         "hovertemplate": "<b>%{hovertext}</b><br><br>color=482<br>x1=%{x}<br>x2=%{y}<extra></extra>",
         "hovertext": [
          "barrel"
         ],
         "legendgroup": "482",
         "marker": {
          "color": "#B6E880",
          "symbol": "circle"
         },
         "mode": "markers",
         "name": "482",
         "orientation": "v",
         "showlegend": true,
         "type": "scatter",
         "x": [
          -0.8951350450515747
         ],
         "xaxis": "x",
         "y": [
          -1.5892306566238403
         ],
         "yaxis": "y"
        },
        {
         "hovertemplate": "<b>%{hovertext}</b><br><br>color=266<br>x1=%{x}<br>x2=%{y}<extra></extra>",
         "hovertext": [
          "barrow"
         ],
         "legendgroup": "266",
         "marker": {
          "color": "#FF97FF",
          "symbol": "circle"
         },
         "mode": "markers",
         "name": "266",
         "orientation": "v",
         "showlegend": true,
         "type": "scatter",
         "x": [
          3.6065330505371094
         ],
         "xaxis": "x",
         "y": [
          -1.7859618663787842
         ],
         "yaxis": "y"
        },
        {
         "hovertemplate": "<b>%{hovertext}</b><br><br>color=894<br>x1=%{x}<br>x2=%{y}<extra></extra>",
         "hovertext": [
          "baseball"
         ],
         "legendgroup": "894",
         "marker": {
          "color": "#FECB52",
          "symbol": "circle"
         },
         "mode": "markers",
         "name": "894",
         "orientation": "v",
         "showlegend": true,
         "type": "scatter",
         "x": [
          -5.902758598327637
         ],
         "xaxis": "x",
         "y": [
          -0.9822528958320618
         ],
         "yaxis": "y"
        },
        {
         "hovertemplate": "<b>%{hovertext}</b><br><br>color=603<br>x1=%{x}<br>x2=%{y}<extra></extra>",
         "hovertext": [
          "basketball"
         ],
         "legendgroup": "603",
         "marker": {
          "color": "#636efa",
          "symbol": "circle"
         },
         "mode": "markers",
         "name": "603",
         "orientation": "v",
         "showlegend": true,
         "type": "scatter",
         "x": [
          -5.804261684417725
         ],
         "xaxis": "x",
         "y": [
          0.07989010214805603
         ],
         "yaxis": "y"
        },
        {
         "hovertemplate": "<b>%{hovertext}</b><br><br>color=663<br>x1=%{x}<br>x2=%{y}<extra></extra>",
         "hovertext": [
          "bassinet"
         ],
         "legendgroup": "663",
         "marker": {
          "color": "#EF553B",
          "symbol": "circle"
         },
         "mode": "markers",
         "name": "663",
         "orientation": "v",
         "showlegend": true,
         "type": "scatter",
         "x": [
          -4.372869491577148
         ],
         "xaxis": "x",
         "y": [
          -3.208617687225342
         ],
         "yaxis": "y"
        },
        {
         "hovertemplate": "<b>%{hovertext}</b><br><br>color=418<br>x1=%{x}<br>x2=%{y}<extra></extra>",
         "hovertext": [
          "bassoon"
         ],
         "legendgroup": "418",
         "marker": {
          "color": "#00cc96",
          "symbol": "circle"
         },
         "mode": "markers",
         "name": "418",
         "orientation": "v",
         "showlegend": true,
         "type": "scatter",
         "x": [
          -3.782400608062744
         ],
         "xaxis": "x",
         "y": [
          -1.8186578750610352
         ],
         "yaxis": "y"
        },
        {
         "hovertemplate": "<b>%{hovertext}</b><br><br>color=740<br>x1=%{x}<br>x2=%{y}<extra></extra>",
         "hovertext": [
          "bathing cap"
         ],
         "legendgroup": "740",
         "marker": {
          "color": "#ab63fa",
          "symbol": "circle"
         },
         "mode": "markers",
         "name": "740",
         "orientation": "v",
         "showlegend": true,
         "type": "scatter",
         "x": [
          -1.5672950744628906
         ],
         "xaxis": "x",
         "y": [
          -2.0390281677246094
         ],
         "yaxis": "y"
        },
        {
         "hovertemplate": "<b>%{hovertext}</b><br><br>color=345<br>x1=%{x}<br>x2=%{y}<extra></extra>",
         "hovertext": [
          "bath towel"
         ],
         "legendgroup": "345",
         "marker": {
          "color": "#FFA15A",
          "symbol": "circle"
         },
         "mode": "markers",
         "name": "345",
         "orientation": "v",
         "showlegend": true,
         "type": "scatter",
         "x": [
          -4.114497661590576
         ],
         "xaxis": "x",
         "y": [
          1.0555778741836548
         ],
         "yaxis": "y"
        },
        {
         "hovertemplate": "<b>%{hovertext}</b><br><br>color=851<br>x1=%{x}<br>x2=%{y}<extra></extra>",
         "hovertext": [
          "bathtub"
         ],
         "legendgroup": "851",
         "marker": {
          "color": "#19d3f3",
          "symbol": "circle"
         },
         "mode": "markers",
         "name": "851",
         "orientation": "v",
         "showlegend": true,
         "type": "scatter",
         "x": [
          1.3214128017425537
         ],
         "xaxis": "x",
         "y": [
          -2.0945749282836914
         ],
         "yaxis": "y"
        },
        {
         "hovertemplate": "<b>%{hovertext}</b><br><br>color=680<br>x1=%{x}<br>x2=%{y}<extra></extra>",
         "hovertext": [
          "beach wagon"
         ],
         "legendgroup": "680",
         "marker": {
          "color": "#FF6692",
          "symbol": "circle"
         },
         "mode": "markers",
         "name": "680",
         "orientation": "v",
         "showlegend": true,
         "type": "scatter",
         "x": [
          6.590994358062744
         ],
         "xaxis": "x",
         "y": [
          -2.1237757205963135
         ],
         "yaxis": "y"
        },
        {
         "hovertemplate": "<b>%{hovertext}</b><br><br>color=452<br>x1=%{x}<br>x2=%{y}<extra></extra>",
         "hovertext": [
          "beacon"
         ],
         "legendgroup": "452",
         "marker": {
          "color": "#B6E880",
          "symbol": "circle"
         },
         "mode": "markers",
         "name": "452",
         "orientation": "v",
         "showlegend": true,
         "type": "scatter",
         "x": [
          2.3059117794036865
         ],
         "xaxis": "x",
         "y": [
          -1.464539885520935
         ],
         "yaxis": "y"
        },
        {
         "hovertemplate": "<b>%{hovertext}</b><br><br>color=552<br>x1=%{x}<br>x2=%{y}<extra></extra>",
         "hovertext": [
          "beaker"
         ],
         "legendgroup": "552",
         "marker": {
          "color": "#FF97FF",
          "symbol": "circle"
         },
         "mode": "markers",
         "name": "552",
         "orientation": "v",
         "showlegend": true,
         "type": "scatter",
         "x": [
          -3.9063515663146973
         ],
         "xaxis": "x",
         "y": [
          -1.3235342502593994
         ],
         "yaxis": "y"
        },
        {
         "hovertemplate": "<b>%{hovertext}</b><br><br>color=517<br>x1=%{x}<br>x2=%{y}<extra></extra>",
         "hovertext": [
          "bearskin"
         ],
         "legendgroup": "517",
         "marker": {
          "color": "#FECB52",
          "symbol": "circle"
         },
         "mode": "markers",
         "name": "517",
         "orientation": "v",
         "showlegend": true,
         "type": "scatter",
         "x": [
          1.861343502998352
         ],
         "xaxis": "x",
         "y": [
          -1.4046119451522827
         ],
         "yaxis": "y"
        },
        {
         "hovertemplate": "<b>%{hovertext}</b><br><br>color=453<br>x1=%{x}<br>x2=%{y}<extra></extra>",
         "hovertext": [
          "beer bottle"
         ],
         "legendgroup": "453",
         "marker": {
          "color": "#636efa",
          "symbol": "circle"
         },
         "mode": "markers",
         "name": "453",
         "orientation": "v",
         "showlegend": true,
         "type": "scatter",
         "x": [
          -5.710508823394775
         ],
         "xaxis": "x",
         "y": [
          -1.2094124555587769
         ],
         "yaxis": "y"
        },
        {
         "hovertemplate": "<b>%{hovertext}</b><br><br>color=806<br>x1=%{x}<br>x2=%{y}<extra></extra>",
         "hovertext": [
          "beer glass"
         ],
         "legendgroup": "806",
         "marker": {
          "color": "#EF553B",
          "symbol": "circle"
         },
         "mode": "markers",
         "name": "806",
         "orientation": "v",
         "showlegend": true,
         "type": "scatter",
         "x": [
          -5.261472702026367
         ],
         "xaxis": "x",
         "y": [
          0.8021999001502991
         ],
         "yaxis": "y"
        },
        {
         "hovertemplate": "<b>%{hovertext}</b><br><br>color=334<br>x1=%{x}<br>x2=%{y}<extra></extra>",
         "hovertext": [
          "bell cote"
         ],
         "legendgroup": "334",
         "marker": {
          "color": "#00cc96",
          "symbol": "circle"
         },
         "mode": "markers",
         "name": "334",
         "orientation": "v",
         "showlegend": true,
         "type": "scatter",
         "x": [
          1.41428804397583
         ],
         "xaxis": "x",
         "y": [
          -0.8527908325195312
         ],
         "yaxis": "y"
        },
        {
         "hovertemplate": "<b>%{hovertext}</b><br><br>color=594<br>x1=%{x}<br>x2=%{y}<extra></extra>",
         "hovertext": [
          "bib"
         ],
         "legendgroup": "594",
         "marker": {
          "color": "#ab63fa",
          "symbol": "circle"
         },
         "mode": "markers",
         "name": "594",
         "orientation": "v",
         "showlegend": true,
         "type": "scatter",
         "x": [
          -3.213998317718506
         ],
         "xaxis": "x",
         "y": [
          0.6790997385978699
         ],
         "yaxis": "y"
        },
        {
         "hovertemplate": "<b>%{hovertext}</b><br><br>color=786<br>x1=%{x}<br>x2=%{y}<extra></extra>",
         "hovertext": [
          "bicycle-built-for-two"
         ],
         "legendgroup": "786",
         "marker": {
          "color": "#FFA15A",
          "symbol": "circle"
         },
         "mode": "markers",
         "name": "786",
         "orientation": "v",
         "showlegend": true,
         "type": "scatter",
         "x": [
          3.8165390491485596
         ],
         "xaxis": "x",
         "y": [
          -2.5525400638580322
         ],
         "yaxis": "y"
        },
        {
         "hovertemplate": "<b>%{hovertext}</b><br><br>color=425<br>x1=%{x}<br>x2=%{y}<extra></extra>",
         "hovertext": [
          "bikini"
         ],
         "legendgroup": "425",
         "marker": {
          "color": "#19d3f3",
          "symbol": "circle"
         },
         "mode": "markers",
         "name": "425",
         "orientation": "v",
         "showlegend": true,
         "type": "scatter",
         "x": [
          2.1107125282287598
         ],
         "xaxis": "x",
         "y": [
          -0.054460085928440094
         ],
         "yaxis": "y"
        },
        {
         "hovertemplate": "<b>%{hovertext}</b><br><br>color=317<br>x1=%{x}<br>x2=%{y}<extra></extra>",
         "hovertext": [
          "binder"
         ],
         "legendgroup": "317",
         "marker": {
          "color": "#FF6692",
          "symbol": "circle"
         },
         "mode": "markers",
         "name": "317",
         "orientation": "v",
         "showlegend": true,
         "type": "scatter",
         "x": [
          0.23226286470890045
         ],
         "xaxis": "x",
         "y": [
          -1.5899745225906372
         ],
         "yaxis": "y"
        },
        {
         "hovertemplate": "<b>%{hovertext}</b><br><br>color=590<br>x1=%{x}<br>x2=%{y}<extra></extra>",
         "hovertext": [
          "binoculars"
         ],
         "legendgroup": "590",
         "marker": {
          "color": "#B6E880",
          "symbol": "circle"
         },
         "mode": "markers",
         "name": "590",
         "orientation": "v",
         "showlegend": true,
         "type": "scatter",
         "x": [
          4.161332130432129
         ],
         "xaxis": "x",
         "y": [
          -1.9039031267166138
         ],
         "yaxis": "y"
        },
        {
         "hovertemplate": "<b>%{hovertext}</b><br><br>color=696<br>x1=%{x}<br>x2=%{y}<extra></extra>",
         "hovertext": [
          "birdhouse"
         ],
         "legendgroup": "696",
         "marker": {
          "color": "#FF97FF",
          "symbol": "circle"
         },
         "mode": "markers",
         "name": "696",
         "orientation": "v",
         "showlegend": true,
         "type": "scatter",
         "x": [
          -4.461803913116455
         ],
         "xaxis": "x",
         "y": [
          1.735986590385437
         ],
         "yaxis": "y"
        },
        {
         "hovertemplate": "<b>%{hovertext}</b><br><br>color=736<br>x1=%{x}<br>x2=%{y}<extra></extra>",
         "hovertext": [
          "boathouse"
         ],
         "legendgroup": "736",
         "marker": {
          "color": "#FECB52",
          "symbol": "circle"
         },
         "mode": "markers",
         "name": "736",
         "orientation": "v",
         "showlegend": true,
         "type": "scatter",
         "x": [
          -3.911069631576538
         ],
         "xaxis": "x",
         "y": [
          0.3077394366264343
         ],
         "yaxis": "y"
        },
        {
         "hovertemplate": "<b>%{hovertext}</b><br><br>color=382<br>x1=%{x}<br>x2=%{y}<extra></extra>",
         "hovertext": [
          "bobsled"
         ],
         "legendgroup": "382",
         "marker": {
          "color": "#636efa",
          "symbol": "circle"
         },
         "mode": "markers",
         "name": "382",
         "orientation": "v",
         "showlegend": true,
         "type": "scatter",
         "x": [
          5.477059364318848
         ],
         "xaxis": "x",
         "y": [
          -2.3802220821380615
         ],
         "yaxis": "y"
        },
        {
         "hovertemplate": "<b>%{hovertext}</b><br><br>color=831<br>x1=%{x}<br>x2=%{y}<extra></extra>",
         "hovertext": [
          "bolo tie"
         ],
         "legendgroup": "831",
         "marker": {
          "color": "#EF553B",
          "symbol": "circle"
         },
         "mode": "markers",
         "name": "831",
         "orientation": "v",
         "showlegend": true,
         "type": "scatter",
         "x": [
          3.519721269607544
         ],
         "xaxis": "x",
         "y": [
          -1.3342077732086182
         ],
         "yaxis": "y"
        },
        {
         "hovertemplate": "<b>%{hovertext}</b><br><br>color=329<br>x1=%{x}<br>x2=%{y}<extra></extra>",
         "hovertext": [
          "bonnet"
         ],
         "legendgroup": "329",
         "marker": {
          "color": "#00cc96",
          "symbol": "circle"
         },
         "mode": "markers",
         "name": "329",
         "orientation": "v",
         "showlegend": true,
         "type": "scatter",
         "x": [
          3.713315010070801
         ],
         "xaxis": "x",
         "y": [
          0.6592868566513062
         ],
         "yaxis": "y"
        },
        {
         "hovertemplate": "<b>%{hovertext}</b><br><br>color=409<br>x1=%{x}<br>x2=%{y}<extra></extra>",
         "hovertext": [
          "bookcase"
         ],
         "legendgroup": "409",
         "marker": {
          "color": "#ab63fa",
          "symbol": "circle"
         },
         "mode": "markers",
         "name": "409",
         "orientation": "v",
         "showlegend": true,
         "type": "scatter",
         "x": [
          -4.246492385864258
         ],
         "xaxis": "x",
         "y": [
          -2.5002260208129883
         ],
         "yaxis": "y"
        },
        {
         "hovertemplate": "<b>%{hovertext}</b><br><br>color=451<br>x1=%{x}<br>x2=%{y}<extra></extra>",
         "hovertext": [
          "bookshop"
         ],
         "legendgroup": "451",
         "marker": {
          "color": "#FFA15A",
          "symbol": "circle"
         },
         "mode": "markers",
         "name": "451",
         "orientation": "v",
         "showlegend": true,
         "type": "scatter",
         "x": [
          2.27358078956604
         ],
         "xaxis": "x",
         "y": [
          -2.1675846576690674
         ],
         "yaxis": "y"
        },
        {
         "hovertemplate": "<b>%{hovertext}</b><br><br>color=864<br>x1=%{x}<br>x2=%{y}<extra></extra>",
         "hovertext": [
          "bottlecap"
         ],
         "legendgroup": "864",
         "marker": {
          "color": "#19d3f3",
          "symbol": "circle"
         },
         "mode": "markers",
         "name": "864",
         "orientation": "v",
         "showlegend": true,
         "type": "scatter",
         "x": [
          -5.081712245941162
         ],
         "xaxis": "x",
         "y": [
          -0.533200740814209
         ],
         "yaxis": "y"
        },
        {
         "hovertemplate": "<b>%{hovertext}</b><br><br>color=286<br>x1=%{x}<br>x2=%{y}<extra></extra>",
         "hovertext": [
          "bow"
         ],
         "legendgroup": "286",
         "marker": {
          "color": "#FF6692",
          "symbol": "circle"
         },
         "mode": "markers",
         "name": "286",
         "orientation": "v",
         "showlegend": true,
         "type": "scatter",
         "x": [
          -5.937161922454834
         ],
         "xaxis": "x",
         "y": [
          -0.28316593170166016
         ],
         "yaxis": "y"
        },
        {
         "hovertemplate": "<b>%{hovertext}</b><br><br>color=558<br>x1=%{x}<br>x2=%{y}<extra></extra>",
         "hovertext": [
          "bow tie"
         ],
         "legendgroup": "558",
         "marker": {
          "color": "#B6E880",
          "symbol": "circle"
         },
         "mode": "markers",
         "name": "558",
         "orientation": "v",
         "showlegend": true,
         "type": "scatter",
         "x": [
          1.9222925901412964
         ],
         "xaxis": "x",
         "y": [
          -2.9760780334472656
         ],
         "yaxis": "y"
        },
        {
         "hovertemplate": "<b>%{hovertext}</b><br><br>color=633<br>x1=%{x}<br>x2=%{y}<extra></extra>",
         "hovertext": [
          "brass"
         ],
         "legendgroup": "633",
         "marker": {
          "color": "#FF97FF",
          "symbol": "circle"
         },
         "mode": "markers",
         "name": "633",
         "orientation": "v",
         "showlegend": true,
         "type": "scatter",
         "x": [
          -0.3663075268268585
         ],
         "xaxis": "x",
         "y": [
          -1.8528224229812622
         ],
         "yaxis": "y"
        },
        {
         "hovertemplate": "<b>%{hovertext}</b><br><br>color=800<br>x1=%{x}<br>x2=%{y}<extra></extra>",
         "hovertext": [
          "brassiere"
         ],
         "legendgroup": "800",
         "marker": {
          "color": "#FECB52",
          "symbol": "circle"
         },
         "mode": "markers",
         "name": "800",
         "orientation": "v",
         "showlegend": true,
         "type": "scatter",
         "x": [
          1.0616097450256348
         ],
         "xaxis": "x",
         "y": [
          -2.499804735183716
         ],
         "yaxis": "y"
        },
        {
         "hovertemplate": "<b>%{hovertext}</b><br><br>color=685<br>x1=%{x}<br>x2=%{y}<extra></extra>",
         "hovertext": [
          "breakwater"
         ],
         "legendgroup": "685",
         "marker": {
          "color": "#636efa",
          "symbol": "circle"
         },
         "mode": "markers",
         "name": "685",
         "orientation": "v",
         "showlegend": true,
         "type": "scatter",
         "x": [
          6.4405364990234375
         ],
         "xaxis": "x",
         "y": [
          -2.4200873374938965
         ],
         "yaxis": "y"
        },
        {
         "hovertemplate": "<b>%{hovertext}</b><br><br>color=745<br>x1=%{x}<br>x2=%{y}<extra></extra>",
         "hovertext": [
          "breastplate"
         ],
         "legendgroup": "745",
         "marker": {
          "color": "#EF553B",
          "symbol": "circle"
         },
         "mode": "markers",
         "name": "745",
         "orientation": "v",
         "showlegend": true,
         "type": "scatter",
         "x": [
          4.321855068206787
         ],
         "xaxis": "x",
         "y": [
          -0.44137653708457947
         ],
         "yaxis": "y"
        },
        {
         "hovertemplate": "<b>%{hovertext}</b><br><br>color=511<br>x1=%{x}<br>x2=%{y}<extra></extra>",
         "hovertext": [
          "broom"
         ],
         "legendgroup": "511",
         "marker": {
          "color": "#00cc96",
          "symbol": "circle"
         },
         "mode": "markers",
         "name": "511",
         "orientation": "v",
         "showlegend": true,
         "type": "scatter",
         "x": [
          -2.9745054244995117
         ],
         "xaxis": "x",
         "y": [
          2.269562005996704
         ],
         "yaxis": "y"
        },
        {
         "hovertemplate": "<b>%{hovertext}</b><br><br>color=521<br>x1=%{x}<br>x2=%{y}<extra></extra>",
         "hovertext": [
          "bucket"
         ],
         "legendgroup": "521",
         "marker": {
          "color": "#ab63fa",
          "symbol": "circle"
         },
         "mode": "markers",
         "name": "521",
         "orientation": "v",
         "showlegend": true,
         "type": "scatter",
         "x": [
          -0.1788666546344757
         ],
         "xaxis": "x",
         "y": [
          -0.744659960269928
         ],
         "yaxis": "y"
        },
        {
         "hovertemplate": "<b>%{hovertext}</b><br><br>color=430<br>x1=%{x}<br>x2=%{y}<extra></extra>",
         "hovertext": [
          "buckle"
         ],
         "legendgroup": "430",
         "marker": {
          "color": "#FFA15A",
          "symbol": "circle"
         },
         "mode": "markers",
         "name": "430",
         "orientation": "v",
         "showlegend": true,
         "type": "scatter",
         "x": [
          -3.9952821731567383
         ],
         "xaxis": "x",
         "y": [
          0.481173038482666
         ],
         "yaxis": "y"
        },
        {
         "hovertemplate": "<b>%{hovertext}</b><br><br>color=431<br>x1=%{x}<br>x2=%{y}<extra></extra>",
         "hovertext": [
          "bulletproof vest"
         ],
         "legendgroup": "431",
         "marker": {
          "color": "#19d3f3",
          "symbol": "circle"
         },
         "mode": "markers",
         "name": "431",
         "orientation": "v",
         "showlegend": true,
         "type": "scatter",
         "x": [
          -2.654972791671753
         ],
         "xaxis": "x",
         "y": [
          1.0652148723602295
         ],
         "yaxis": "y"
        },
        {
         "hovertemplate": "<b>%{hovertext}</b><br><br>color=282<br>x1=%{x}<br>x2=%{y}<extra></extra>",
         "hovertext": [
          "bullet train"
         ],
         "legendgroup": "282",
         "marker": {
          "color": "#FF6692",
          "symbol": "circle"
         },
         "mode": "markers",
         "name": "282",
         "orientation": "v",
         "showlegend": true,
         "type": "scatter",
         "x": [
          -1.9552048444747925
         ],
         "xaxis": "x",
         "y": [
          -2.0141286849975586
         ],
         "yaxis": "y"
        },
        {
         "hovertemplate": "<b>%{hovertext}</b><br><br>color=729<br>x1=%{x}<br>x2=%{y}<extra></extra>",
         "hovertext": [
          "butcher shop"
         ],
         "legendgroup": "729",
         "marker": {
          "color": "#B6E880",
          "symbol": "circle"
         },
         "mode": "markers",
         "name": "729",
         "orientation": "v",
         "showlegend": true,
         "type": "scatter",
         "x": [
          0.14623992145061493
         ],
         "xaxis": "x",
         "y": [
          -1.27097487449646
         ],
         "yaxis": "y"
        },
        {
         "hovertemplate": "<b>%{hovertext}</b><br><br>color=247<br>x1=%{x}<br>x2=%{y}<extra></extra>",
         "hovertext": [
          "cab"
         ],
         "legendgroup": "247",
         "marker": {
          "color": "#FF97FF",
          "symbol": "circle"
         },
         "mode": "markers",
         "name": "247",
         "orientation": "v",
         "showlegend": true,
         "type": "scatter",
         "x": [
          3.0277698040008545
         ],
         "xaxis": "x",
         "y": [
          -1.5973775386810303
         ],
         "yaxis": "y"
        },
        {
         "hovertemplate": "<b>%{hovertext}</b><br><br>color=803<br>x1=%{x}<br>x2=%{y}<extra></extra>",
         "hovertext": [
          "caldron"
         ],
         "legendgroup": "803",
         "marker": {
          "color": "#FECB52",
          "symbol": "circle"
         },
         "mode": "markers",
         "name": "803",
         "orientation": "v",
         "showlegend": true,
         "type": "scatter",
         "x": [
          3.0010030269622803
         ],
         "xaxis": "x",
         "y": [
          -1.3872357606887817
         ],
         "yaxis": "y"
        },
        {
         "hovertemplate": "<b>%{hovertext}</b><br><br>color=457<br>x1=%{x}<br>x2=%{y}<extra></extra>",
         "hovertext": [
          "candle"
         ],
         "legendgroup": "457",
         "marker": {
          "color": "#636efa",
          "symbol": "circle"
         },
         "mode": "markers",
         "name": "457",
         "orientation": "v",
         "showlegend": true,
         "type": "scatter",
         "x": [
          0.4756481945514679
         ],
         "xaxis": "x",
         "y": [
          -3.179758071899414
         ],
         "yaxis": "y"
        },
        {
         "hovertemplate": "<b>%{hovertext}</b><br><br>color=443<br>x1=%{x}<br>x2=%{y}<extra></extra>",
         "hovertext": [
          "cannon"
         ],
         "legendgroup": "443",
         "marker": {
          "color": "#EF553B",
          "symbol": "circle"
         },
         "mode": "markers",
         "name": "443",
         "orientation": "v",
         "showlegend": true,
         "type": "scatter",
         "x": [
          -6.992715358734131
         ],
         "xaxis": "x",
         "y": [
          -0.23435796797275543
         ],
         "yaxis": "y"
        },
        {
         "hovertemplate": "<b>%{hovertext}</b><br><br>color=380<br>x1=%{x}<br>x2=%{y}<extra></extra>",
         "hovertext": [
          "canoe"
         ],
         "legendgroup": "380",
         "marker": {
          "color": "#00cc96",
          "symbol": "circle"
         },
         "mode": "markers",
         "name": "380",
         "orientation": "v",
         "showlegend": true,
         "type": "scatter",
         "x": [
          -5.711887836456299
         ],
         "xaxis": "x",
         "y": [
          -0.9345296621322632
         ],
         "yaxis": "y"
        },
        {
         "hovertemplate": "<b>%{hovertext}</b><br><br>color=261<br>x1=%{x}<br>x2=%{y}<extra></extra>",
         "hovertext": [
          "can opener"
         ],
         "legendgroup": "261",
         "marker": {
          "color": "#ab63fa",
          "symbol": "circle"
         },
         "mode": "markers",
         "name": "261",
         "orientation": "v",
         "showlegend": true,
         "type": "scatter",
         "x": [
          -1.2764686346054077
         ],
         "xaxis": "x",
         "y": [
          -1.6480004787445068
         ],
         "yaxis": "y"
        },
        {
         "hovertemplate": "<b>%{hovertext}</b><br><br>color=354<br>x1=%{x}<br>x2=%{y}<extra></extra>",
         "hovertext": [
          "cardigan"
         ],
         "legendgroup": "354",
         "marker": {
          "color": "#FFA15A",
          "symbol": "circle"
         },
         "mode": "markers",
         "name": "354",
         "orientation": "v",
         "showlegend": true,
         "type": "scatter",
         "x": [
          -4.234969139099121
         ],
         "xaxis": "x",
         "y": [
          -0.42915013432502747
         ],
         "yaxis": "y"
        },
        {
         "hovertemplate": "<b>%{hovertext}</b><br><br>color=618<br>x1=%{x}<br>x2=%{y}<extra></extra>",
         "hovertext": [
          "car mirror"
         ],
         "legendgroup": "618",
         "marker": {
          "color": "#19d3f3",
          "symbol": "circle"
         },
         "mode": "markers",
         "name": "618",
         "orientation": "v",
         "showlegend": true,
         "type": "scatter",
         "x": [
          -4.561182022094727
         ],
         "xaxis": "x",
         "y": [
          -2.712493896484375
         ],
         "yaxis": "y"
        },
        {
         "hovertemplate": "<b>%{hovertext}</b><br><br>color=728<br>x1=%{x}<br>x2=%{y}<extra></extra>",
         "hovertext": [
          "carousel"
         ],
         "legendgroup": "728",
         "marker": {
          "color": "#FF6692",
          "symbol": "circle"
         },
         "mode": "markers",
         "name": "728",
         "orientation": "v",
         "showlegend": true,
         "type": "scatter",
         "x": [
          10.215004920959473
         ],
         "xaxis": "x",
         "y": [
          -2.511201858520508
         ],
         "yaxis": "y"
        },
        {
         "hovertemplate": "<b>%{hovertext}</b><br><br>color=510<br>x1=%{x}<br>x2=%{y}<extra></extra>",
         "hovertext": [
          "carpenter's kit"
         ],
         "legendgroup": "510",
         "marker": {
          "color": "#B6E880",
          "symbol": "circle"
         },
         "mode": "markers",
         "name": "510",
         "orientation": "v",
         "showlegend": true,
         "type": "scatter",
         "x": [
          0.24751487374305725
         ],
         "xaxis": "x",
         "y": [
          -2.0486106872558594
         ],
         "yaxis": "y"
        },
        {
         "hovertemplate": "<b>%{hovertext}</b><br><br>color=561<br>x1=%{x}<br>x2=%{y}<extra></extra>",
         "hovertext": [
          "carton"
         ],
         "legendgroup": "561",
         "marker": {
          "color": "#FF97FF",
          "symbol": "circle"
         },
         "mode": "markers",
         "name": "561",
         "orientation": "v",
         "showlegend": true,
         "type": "scatter",
         "x": [
          -4.675099849700928
         ],
         "xaxis": "x",
         "y": [
          -0.0792730376124382
         ],
         "yaxis": "y"
        },
        {
         "hovertemplate": "<b>%{hovertext}</b><br><br>color=385<br>x1=%{x}<br>x2=%{y}<extra></extra>",
         "hovertext": [
          "car wheel"
         ],
         "legendgroup": "385",
         "marker": {
          "color": "#FECB52",
          "symbol": "circle"
         },
         "mode": "markers",
         "name": "385",
         "orientation": "v",
         "showlegend": true,
         "type": "scatter",
         "x": [
          -5.499098300933838
         ],
         "xaxis": "x",
         "y": [
          -1.9008525609970093
         ],
         "yaxis": "y"
        },
        {
         "hovertemplate": "<b>%{hovertext}</b><br><br>color=923<br>x1=%{x}<br>x2=%{y}<extra></extra>",
         "hovertext": [
          "cash machine"
         ],
         "legendgroup": "923",
         "marker": {
          "color": "#636efa",
          "symbol": "circle"
         },
         "mode": "markers",
         "name": "923",
         "orientation": "v",
         "showlegend": true,
         "type": "scatter",
         "x": [
          7.9193925857543945
         ],
         "xaxis": "x",
         "y": [
          -3.577881336212158
         ],
         "yaxis": "y"
        },
        {
         "hovertemplate": "<b>%{hovertext}</b><br><br>color=778<br>x1=%{x}<br>x2=%{y}<extra></extra>",
         "hovertext": [
          "cassette"
         ],
         "legendgroup": "778",
         "marker": {
          "color": "#EF553B",
          "symbol": "circle"
         },
         "mode": "markers",
         "name": "778",
         "orientation": "v",
         "showlegend": true,
         "type": "scatter",
         "x": [
          -7.139375686645508
         ],
         "xaxis": "x",
         "y": [
          -1.7125523090362549
         ],
         "yaxis": "y"
        },
        {
         "hovertemplate": "<b>%{hovertext}</b><br><br>color=429<br>x1=%{x}<br>x2=%{y}<extra></extra>",
         "hovertext": [
          "cassette player"
         ],
         "legendgroup": "429",
         "marker": {
          "color": "#00cc96",
          "symbol": "circle"
         },
         "mode": "markers",
         "name": "429",
         "orientation": "v",
         "showlegend": true,
         "type": "scatter",
         "x": [
          -4.37515926361084
         ],
         "xaxis": "x",
         "y": [
          -1.9262549877166748
         ],
         "yaxis": "y"
        },
        {
         "hovertemplate": "<b>%{hovertext}</b><br><br>color=598<br>x1=%{x}<br>x2=%{y}<extra></extra>",
         "hovertext": [
          "castle"
         ],
         "legendgroup": "598",
         "marker": {
          "color": "#ab63fa",
          "symbol": "circle"
         },
         "mode": "markers",
         "name": "598",
         "orientation": "v",
         "showlegend": true,
         "type": "scatter",
         "x": [
          -6.641872882843018
         ],
         "xaxis": "x",
         "y": [
          1.625401496887207
         ],
         "yaxis": "y"
        },
        {
         "hovertemplate": "<b>%{hovertext}</b><br><br>color=549<br>x1=%{x}<br>x2=%{y}<extra></extra>",
         "hovertext": [
          "catamaran"
         ],
         "legendgroup": "549",
         "marker": {
          "color": "#FFA15A",
          "symbol": "circle"
         },
         "mode": "markers",
         "name": "549",
         "orientation": "v",
         "showlegend": true,
         "type": "scatter",
         "x": [
          -0.061407383531332016
         ],
         "xaxis": "x",
         "y": [
          2.0311224460601807
         ],
         "yaxis": "y"
        },
        {
         "hovertemplate": "<b>%{hovertext}</b><br><br>color=746<br>x1=%{x}<br>x2=%{y}<extra></extra>",
         "hovertext": [
          "CD player"
         ],
         "legendgroup": "746",
         "marker": {
          "color": "#19d3f3",
          "symbol": "circle"
         },
         "mode": "markers",
         "name": "746",
         "orientation": "v",
         "showlegend": true,
         "type": "scatter",
         "x": [
          -3.746821880340576
         ],
         "xaxis": "x",
         "y": [
          -1.5496015548706055
         ],
         "yaxis": "y"
        },
        {
         "hovertemplate": "<b>%{hovertext}</b><br><br>color=738<br>x1=%{x}<br>x2=%{y}<extra></extra>",
         "hovertext": [
          "cello"
         ],
         "legendgroup": "738",
         "marker": {
          "color": "#FF6692",
          "symbol": "circle"
         },
         "mode": "markers",
         "name": "738",
         "orientation": "v",
         "showlegend": true,
         "type": "scatter",
         "x": [
          3.262779712677002
         ],
         "xaxis": "x",
         "y": [
          -2.8324365615844727
         ],
         "yaxis": "y"
        },
        {
         "hovertemplate": "<b>%{hovertext}</b><br><br>color=301<br>x1=%{x}<br>x2=%{y}<extra></extra>",
         "hovertext": [
          "cellular telephone"
         ],
         "legendgroup": "301",
         "marker": {
          "color": "#B6E880",
          "symbol": "circle"
         },
         "mode": "markers",
         "name": "301",
         "orientation": "v",
         "showlegend": true,
         "type": "scatter",
         "x": [
          2.699260711669922
         ],
         "xaxis": "x",
         "y": [
          -2.20981502532959
         ],
         "yaxis": "y"
        },
        {
         "hovertemplate": "<b>%{hovertext}</b><br><br>color=879<br>x1=%{x}<br>x2=%{y}<extra></extra>",
         "hovertext": [
          "chain"
         ],
         "legendgroup": "879",
         "marker": {
          "color": "#FF97FF",
          "symbol": "circle"
         },
         "mode": "markers",
         "name": "879",
         "orientation": "v",
         "showlegend": true,
         "type": "scatter",
         "x": [
          -6.794429302215576
         ],
         "xaxis": "x",
         "y": [
          -0.25408998131752014
         ],
         "yaxis": "y"
        },
        {
         "hovertemplate": "<b>%{hovertext}</b><br><br>color=883<br>x1=%{x}<br>x2=%{y}<extra></extra>",
         "hovertext": [
          "chainlink fence"
         ],
         "legendgroup": "883",
         "marker": {
          "color": "#FECB52",
          "symbol": "circle"
         },
         "mode": "markers",
         "name": "883",
         "orientation": "v",
         "showlegend": true,
         "type": "scatter",
         "x": [
          -2.5186569690704346
         ],
         "xaxis": "x",
         "y": [
          0.8983941078186035
         ],
         "yaxis": "y"
        },
        {
         "hovertemplate": "<b>%{hovertext}</b><br><br>color=615<br>x1=%{x}<br>x2=%{y}<extra></extra>",
         "hovertext": [
          "chain mail"
         ],
         "legendgroup": "615",
         "marker": {
          "color": "#636efa",
          "symbol": "circle"
         },
         "mode": "markers",
         "name": "615",
         "orientation": "v",
         "showlegend": true,
         "type": "scatter",
         "x": [
          3.0391058921813965
         ],
         "xaxis": "x",
         "y": [
          -2.3867716789245605
         ],
         "yaxis": "y"
        },
        {
         "hovertemplate": "<b>%{hovertext}</b><br><br>color=252<br>x1=%{x}<br>x2=%{y}<extra></extra>",
         "hovertext": [
          "chain saw"
         ],
         "legendgroup": "252",
         "marker": {
          "color": "#EF553B",
          "symbol": "circle"
         },
         "mode": "markers",
         "name": "252",
         "orientation": "v",
         "showlegend": true,
         "type": "scatter",
         "x": [
          -1.0191073417663574
         ],
         "xaxis": "x",
         "y": [
          -1.177147388458252
         ],
         "yaxis": "y"
        },
        {
         "hovertemplate": "<b>%{hovertext}</b><br><br>color=690<br>x1=%{x}<br>x2=%{y}<extra></extra>",
         "hovertext": [
          "chest"
         ],
         "legendgroup": "690",
         "marker": {
          "color": "#00cc96",
          "symbol": "circle"
         },
         "mode": "markers",
         "name": "690",
         "orientation": "v",
         "showlegend": true,
         "type": "scatter",
         "x": [
          -6.6500935554504395
         ],
         "xaxis": "x",
         "y": [
          -0.8315641283988953
         ],
         "yaxis": "y"
        },
        {
         "hovertemplate": "<b>%{hovertext}</b><br><br>color=305<br>x1=%{x}<br>x2=%{y}<extra></extra>",
         "hovertext": [
          "chiffonier"
         ],
         "legendgroup": "305",
         "marker": {
          "color": "#ab63fa",
          "symbol": "circle"
         },
         "mode": "markers",
         "name": "305",
         "orientation": "v",
         "showlegend": true,
         "type": "scatter",
         "x": [
          2.4955737590789795
         ],
         "xaxis": "x",
         "y": [
          -1.4244240522384644
         ],
         "yaxis": "y"
        },
        {
         "hovertemplate": "<b>%{hovertext}</b><br><br>color=289<br>x1=%{x}<br>x2=%{y}<extra></extra>",
         "hovertext": [
          "chime"
         ],
         "legendgroup": "289",
         "marker": {
          "color": "#FFA15A",
          "symbol": "circle"
         },
         "mode": "markers",
         "name": "289",
         "orientation": "v",
         "showlegend": true,
         "type": "scatter",
         "x": [
          2.0800812244415283
         ],
         "xaxis": "x",
         "y": [
          -2.6301963329315186
         ],
         "yaxis": "y"
        },
        {
         "hovertemplate": "<b>%{hovertext}</b><br><br>color=586<br>x1=%{x}<br>x2=%{y}<extra></extra>",
         "hovertext": [
          "china cabinet"
         ],
         "legendgroup": "586",
         "marker": {
          "color": "#19d3f3",
          "symbol": "circle"
         },
         "mode": "markers",
         "name": "586",
         "orientation": "v",
         "showlegend": true,
         "type": "scatter",
         "x": [
          2.664116144180298
         ],
         "xaxis": "x",
         "y": [
          -3.015836477279663
         ],
         "yaxis": "y"
        },
        {
         "hovertemplate": "<b>%{hovertext}</b><br><br>color=520<br>x1=%{x}<br>x2=%{y}<extra></extra>",
         "hovertext": [
          "Christmas stocking"
         ],
         "legendgroup": "520",
         "marker": {
          "color": "#FF6692",
          "symbol": "circle"
         },
         "mode": "markers",
         "name": "520",
         "orientation": "v",
         "showlegend": true,
         "type": "scatter",
         "x": [
          -2.1532230377197266
         ],
         "xaxis": "x",
         "y": [
          -0.6309954524040222
         ],
         "yaxis": "y"
        },
        {
         "hovertemplate": "<b>%{hovertext}</b><br><br>color=571<br>x1=%{x}<br>x2=%{y}<extra></extra>",
         "hovertext": [
          "church"
         ],
         "legendgroup": "571",
         "marker": {
          "color": "#B6E880",
          "symbol": "circle"
         },
         "mode": "markers",
         "name": "571",
         "orientation": "v",
         "showlegend": true,
         "type": "scatter",
         "x": [
          -1.9107822179794312
         ],
         "xaxis": "x",
         "y": [
          0.1942470669746399
         ],
         "yaxis": "y"
        },
        {
         "hovertemplate": "<b>%{hovertext}</b><br><br>color=597<br>x1=%{x}<br>x2=%{y}<extra></extra>",
         "hovertext": [
          "cinema"
         ],
         "legendgroup": "597",
         "marker": {
          "color": "#FF97FF",
          "symbol": "circle"
         },
         "mode": "markers",
         "name": "597",
         "orientation": "v",
         "showlegend": true,
         "type": "scatter",
         "x": [
          3.2824785709381104
         ],
         "xaxis": "x",
         "y": [
          -2.9518566131591797
         ],
         "yaxis": "y"
        },
        {
         "hovertemplate": "<b>%{hovertext}</b><br><br>color=910<br>x1=%{x}<br>x2=%{y}<extra></extra>",
         "hovertext": [
          "cleaver"
         ],
         "legendgroup": "910",
         "marker": {
          "color": "#FECB52",
          "symbol": "circle"
         },
         "mode": "markers",
         "name": "910",
         "orientation": "v",
         "showlegend": true,
         "type": "scatter",
         "x": [
          5.504604339599609
         ],
         "xaxis": "x",
         "y": [
          -2.807988166809082
         ],
         "yaxis": "y"
        },
        {
         "hovertemplate": "<b>%{hovertext}</b><br><br>color=250<br>x1=%{x}<br>x2=%{y}<extra></extra>",
         "hovertext": [
          "cliff dwelling"
         ],
         "legendgroup": "250",
         "marker": {
          "color": "#636efa",
          "symbol": "circle"
         },
         "mode": "markers",
         "name": "250",
         "orientation": "v",
         "showlegend": true,
         "type": "scatter",
         "x": [
          -3.797222137451172
         ],
         "xaxis": "x",
         "y": [
          2.5051114559173584
         ],
         "yaxis": "y"
        },
        {
         "hovertemplate": "<b>%{hovertext}</b><br><br>color=802<br>x1=%{x}<br>x2=%{y}<extra></extra>",
         "hovertext": [
          "cloak"
         ],
         "legendgroup": "802",
         "marker": {
          "color": "#EF553B",
          "symbol": "circle"
         },
         "mode": "markers",
         "name": "802",
         "orientation": "v",
         "showlegend": true,
         "type": "scatter",
         "x": [
          -6.668073654174805
         ],
         "xaxis": "x",
         "y": [
          -1.1460843086242676
         ],
         "yaxis": "y"
        },
        {
         "hovertemplate": "<b>%{hovertext}</b><br><br>color=296<br>x1=%{x}<br>x2=%{y}<extra></extra>",
         "hovertext": [
          "clog"
         ],
         "legendgroup": "296",
         "marker": {
          "color": "#00cc96",
          "symbol": "circle"
         },
         "mode": "markers",
         "name": "296",
         "orientation": "v",
         "showlegend": true,
         "type": "scatter",
         "x": [
          2.7211663722991943
         ],
         "xaxis": "x",
         "y": [
          -1.429139256477356
         ],
         "yaxis": "y"
        },
        {
         "hovertemplate": "<b>%{hovertext}</b><br><br>color=132<br>x1=%{x}<br>x2=%{y}<extra></extra>",
         "hovertext": [
          "cocktail shaker"
         ],
         "legendgroup": "132",
         "marker": {
          "color": "#ab63fa",
          "symbol": "circle"
         },
         "mode": "markers",
         "name": "132",
         "orientation": "v",
         "showlegend": true,
         "type": "scatter",
         "x": [
          -2.2472214698791504
         ],
         "xaxis": "x",
         "y": [
          0.33092978596687317
         ],
         "yaxis": "y"
        },
        {
         "hovertemplate": "<b>%{hovertext}</b><br><br>color=450<br>x1=%{x}<br>x2=%{y}<extra></extra>",
         "hovertext": [
          "coffee mug"
         ],
         "legendgroup": "450",
         "marker": {
          "color": "#FFA15A",
          "symbol": "circle"
         },
         "mode": "markers",
         "name": "450",
         "orientation": "v",
         "showlegend": true,
         "type": "scatter",
         "x": [
          -4.5694499015808105
         ],
         "xaxis": "x",
         "y": [
          -1.5831592082977295
         ],
         "yaxis": "y"
        },
        {
         "hovertemplate": "<b>%{hovertext}</b><br><br>color=446<br>x1=%{x}<br>x2=%{y}<extra></extra>",
         "hovertext": [
          "coffeepot"
         ],
         "legendgroup": "446",
         "marker": {
          "color": "#19d3f3",
          "symbol": "circle"
         },
         "mode": "markers",
         "name": "446",
         "orientation": "v",
         "showlegend": true,
         "type": "scatter",
         "x": [
          -4.540285110473633
         ],
         "xaxis": "x",
         "y": [
          -1.856109380722046
         ],
         "yaxis": "y"
        },
        {
         "hovertemplate": "<b>%{hovertext}</b><br><br>color=608<br>x1=%{x}<br>x2=%{y}<extra></extra>",
         "hovertext": [
          "coil"
         ],
         "legendgroup": "608",
         "marker": {
          "color": "#FF6692",
          "symbol": "circle"
         },
         "mode": "markers",
         "name": "608",
         "orientation": "v",
         "showlegend": true,
         "type": "scatter",
         "x": [
          6.078420639038086
         ],
         "xaxis": "x",
         "y": [
          -1.0745065212249756
         ],
         "yaxis": "y"
        },
        {
         "hovertemplate": "<b>%{hovertext}</b><br><br>color=810<br>x1=%{x}<br>x2=%{y}<extra></extra>",
         "hovertext": [
          "combination lock"
         ],
         "legendgroup": "810",
         "marker": {
          "color": "#B6E880",
          "symbol": "circle"
         },
         "mode": "markers",
         "name": "810",
         "orientation": "v",
         "showlegend": true,
         "type": "scatter",
         "x": [
          -4.889735698699951
         ],
         "xaxis": "x",
         "y": [
          -0.7946785688400269
         ],
         "yaxis": "y"
        },
        {
         "hovertemplate": "<b>%{hovertext}</b><br><br>color=649<br>x1=%{x}<br>x2=%{y}<extra></extra>",
         "hovertext": [
          "computer keyboard"
         ],
         "legendgroup": "649",
         "marker": {
          "color": "#FF97FF",
          "symbol": "circle"
         },
         "mode": "markers",
         "name": "649",
         "orientation": "v",
         "showlegend": true,
         "type": "scatter",
         "x": [
          -0.3150702118873596
         ],
         "xaxis": "x",
         "y": [
          -3.64658260345459
         ],
         "yaxis": "y"
        },
        {
         "hovertemplate": "<b>%{hovertext}</b><br><br>color=333<br>x1=%{x}<br>x2=%{y}<extra></extra>",
         "hovertext": [
          "confectionery"
         ],
         "legendgroup": "333",
         "marker": {
          "color": "#FECB52",
          "symbol": "circle"
         },
         "mode": "markers",
         "name": "333",
         "orientation": "v",
         "showlegend": true,
         "type": "scatter",
         "x": [
          3.734649658203125
         ],
         "xaxis": "x",
         "y": [
          -2.6166162490844727
         ],
         "yaxis": "y"
        },
        {
         "hovertemplate": "<b>%{hovertext}</b><br><br>color=439<br>x1=%{x}<br>x2=%{y}<extra></extra>",
         "hovertext": [
          "container ship"
         ],
         "legendgroup": "439",
         "marker": {
          "color": "#636efa",
          "symbol": "circle"
         },
         "mode": "markers",
         "name": "439",
         "orientation": "v",
         "showlegend": true,
         "type": "scatter",
         "x": [
          0.8800946474075317
         ],
         "xaxis": "x",
         "y": [
          -0.5876762270927429
         ],
         "yaxis": "y"
        },
        {
         "hovertemplate": "<b>%{hovertext}</b><br><br>color=627<br>x1=%{x}<br>x2=%{y}<extra></extra>",
         "hovertext": [
          "convertible"
         ],
         "legendgroup": "627",
         "marker": {
          "color": "#EF553B",
          "symbol": "circle"
         },
         "mode": "markers",
         "name": "627",
         "orientation": "v",
         "showlegend": true,
         "type": "scatter",
         "x": [
          -5.851193904876709
         ],
         "xaxis": "x",
         "y": [
          -1.981830358505249
         ],
         "yaxis": "y"
        },
        {
         "hovertemplate": "<b>%{hovertext}</b><br><br>color=725<br>x1=%{x}<br>x2=%{y}<extra></extra>",
         "hovertext": [
          "corkscrew"
         ],
         "legendgroup": "725",
         "marker": {
          "color": "#00cc96",
          "symbol": "circle"
         },
         "mode": "markers",
         "name": "725",
         "orientation": "v",
         "showlegend": true,
         "type": "scatter",
         "x": [
          2.200474262237549
         ],
         "xaxis": "x",
         "y": [
          -1.2353018522262573
         ],
         "yaxis": "y"
        },
        {
         "hovertemplate": "<b>%{hovertext}</b><br><br>color=292<br>x1=%{x}<br>x2=%{y}<extra></extra>",
         "hovertext": [
          "cornet"
         ],
         "legendgroup": "292",
         "marker": {
          "color": "#ab63fa",
          "symbol": "circle"
         },
         "mode": "markers",
         "name": "292",
         "orientation": "v",
         "showlegend": true,
         "type": "scatter",
         "x": [
          2.1114327907562256
         ],
         "xaxis": "x",
         "y": [
          -2.0570340156555176
         ],
         "yaxis": "y"
        },
        {
         "hovertemplate": "<b>%{hovertext}</b><br><br>color=808<br>x1=%{x}<br>x2=%{y}<extra></extra>",
         "hovertext": [
          "cowboy boot"
         ],
         "legendgroup": "808",
         "marker": {
          "color": "#FFA15A",
          "symbol": "circle"
         },
         "mode": "markers",
         "name": "808",
         "orientation": "v",
         "showlegend": true,
         "type": "scatter",
         "x": [
          -4.543023109436035
         ],
         "xaxis": "x",
         "y": [
          1.0196138620376587
         ],
         "yaxis": "y"
        },
        {
         "hovertemplate": "<b>%{hovertext}</b><br><br>color=702<br>x1=%{x}<br>x2=%{y}<extra></extra>",
         "hovertext": [
          "cowboy hat"
         ],
         "legendgroup": "702",
         "marker": {
          "color": "#19d3f3",
          "symbol": "circle"
         },
         "mode": "markers",
         "name": "702",
         "orientation": "v",
         "showlegend": true,
         "type": "scatter",
         "x": [
          4.303873062133789
         ],
         "xaxis": "x",
         "y": [
          -1.3261841535568237
         ],
         "yaxis": "y"
        },
        {
         "hovertemplate": "<b>%{hovertext}</b><br><br>color=445<br>x1=%{x}<br>x2=%{y}<extra></extra>",
         "hovertext": [
          "cradle"
         ],
         "legendgroup": "445",
         "marker": {
          "color": "#FF6692",
          "symbol": "circle"
         },
         "mode": "markers",
         "name": "445",
         "orientation": "v",
         "showlegend": true,
         "type": "scatter",
         "x": [
          -6.791710376739502
         ],
         "xaxis": "x",
         "y": [
          -1.8009170293807983
         ],
         "yaxis": "y"
        },
        {
         "hovertemplate": "<b>%{hovertext}</b><br><br>color=274<br>x1=%{x}<br>x2=%{y}<extra></extra>",
         "hovertext": [
          "crane"
         ],
         "legendgroup": "274",
         "marker": {
          "color": "#B6E880",
          "symbol": "circle"
         },
         "mode": "markers",
         "name": "274",
         "orientation": "v",
         "showlegend": true,
         "type": "scatter",
         "x": [
          -7.418814182281494
         ],
         "xaxis": "x",
         "y": [
          0.8880905508995056
         ],
         "yaxis": "y"
        },
        {
         "hovertemplate": "<b>%{hovertext}</b><br><br>color=464<br>x1=%{x}<br>x2=%{y}<extra></extra>",
         "hovertext": [
          "crash helmet"
         ],
         "legendgroup": "464",
         "marker": {
          "color": "#FF97FF",
          "symbol": "circle"
         },
         "mode": "markers",
         "name": "464",
         "orientation": "v",
         "showlegend": true,
         "type": "scatter",
         "x": [
          -4.900832653045654
         ],
         "xaxis": "x",
         "y": [
          -1.5550450086593628
         ],
         "yaxis": "y"
        },
        {
         "hovertemplate": "<b>%{hovertext}</b><br><br>color=400<br>x1=%{x}<br>x2=%{y}<extra></extra>",
         "hovertext": [
          "crate"
         ],
         "legendgroup": "400",
         "marker": {
          "color": "#FECB52",
          "symbol": "circle"
         },
         "mode": "markers",
         "name": "400",
         "orientation": "v",
         "showlegend": true,
         "type": "scatter",
         "x": [
          -4.782415390014648
         ],
         "xaxis": "x",
         "y": [
          0.6131051182746887
         ],
         "yaxis": "y"
        },
        {
         "hovertemplate": "<b>%{hovertext}</b><br><br>color=463<br>x1=%{x}<br>x2=%{y}<extra></extra>",
         "hovertext": [
          "crib"
         ],
         "legendgroup": "463",
         "marker": {
          "color": "#636efa",
          "symbol": "circle"
         },
         "mode": "markers",
         "name": "463",
         "orientation": "v",
         "showlegend": true,
         "type": "scatter",
         "x": [
          2.2399191856384277
         ],
         "xaxis": "x",
         "y": [
          -2.0891318321228027
         ],
         "yaxis": "y"
        },
        {
         "hovertemplate": "<b>%{hovertext}</b><br><br>color=822<br>x1=%{x}<br>x2=%{y}<extra></extra>",
         "hovertext": [
          "Crock Pot"
         ],
         "legendgroup": "822",
         "marker": {
          "color": "#EF553B",
          "symbol": "circle"
         },
         "mode": "markers",
         "name": "822",
         "orientation": "v",
         "showlegend": true,
         "type": "scatter",
         "x": [
          0.613620400428772
         ],
         "xaxis": "x",
         "y": [
          -0.01443274412304163
         ],
         "yaxis": "y"
        },
        {
         "hovertemplate": "<b>%{hovertext}</b><br><br>color=379<br>x1=%{x}<br>x2=%{y}<extra></extra>",
         "hovertext": [
          "croquet ball"
         ],
         "legendgroup": "379",
         "marker": {
          "color": "#00cc96",
          "symbol": "circle"
         },
         "mode": "markers",
         "name": "379",
         "orientation": "v",
         "showlegend": true,
         "type": "scatter",
         "x": [
          1.763284683227539
         ],
         "xaxis": "x",
         "y": [
          1.0776273012161255
         ],
         "yaxis": "y"
        },
        {
         "hovertemplate": "<b>%{hovertext}</b><br><br>color=985<br>x1=%{x}<br>x2=%{y}<extra></extra>",
         "hovertext": [
          "crutch"
         ],
         "legendgroup": "985",
         "marker": {
          "color": "#ab63fa",
          "symbol": "circle"
         },
         "mode": "markers",
         "name": "985",
         "orientation": "v",
         "showlegend": true,
         "type": "scatter",
         "x": [
          0.6601397395133972
         ],
         "xaxis": "x",
         "y": [
          0.5330542325973511
         ],
         "yaxis": "y"
        },
        {
         "hovertemplate": "<b>%{hovertext}</b><br><br>color=147<br>x1=%{x}<br>x2=%{y}<extra></extra>",
         "hovertext": [
          "cuirass"
         ],
         "legendgroup": "147",
         "marker": {
          "color": "#FFA15A",
          "symbol": "circle"
         },
         "mode": "markers",
         "name": "147",
         "orientation": "v",
         "showlegend": true,
         "type": "scatter",
         "x": [
          0.14061874151229858
         ],
         "xaxis": "x",
         "y": [
          2.6897835731506348
         ],
         "yaxis": "y"
        },
        {
         "hovertemplate": "<b>%{hovertext}</b><br><br>color=653<br>x1=%{x}<br>x2=%{y}<extra></extra>",
         "hovertext": [
          "dam"
         ],
         "legendgroup": "653",
         "marker": {
          "color": "#19d3f3",
          "symbol": "circle"
         },
         "mode": "markers",
         "name": "653",
         "orientation": "v",
         "showlegend": true,
         "type": "scatter",
         "x": [
          1.46333646774292
         ],
         "xaxis": "x",
         "y": [
          -0.230530247092247
         ],
         "yaxis": "y"
        },
        {
         "hovertemplate": "<b>%{hovertext}</b><br><br>color=845<br>x1=%{x}<br>x2=%{y}<extra></extra>",
         "hovertext": [
          "desk"
         ],
         "legendgroup": "845",
         "marker": {
          "color": "#FF6692",
          "symbol": "circle"
         },
         "mode": "markers",
         "name": "845",
         "orientation": "v",
         "showlegend": true,
         "type": "scatter",
         "x": [
          -6.389186382293701
         ],
         "xaxis": "x",
         "y": [
          -0.2510793209075928
         ],
         "yaxis": "y"
        },
        {
         "hovertemplate": "<b>%{hovertext}</b><br><br>color=363<br>x1=%{x}<br>x2=%{y}<extra></extra>",
         "hovertext": [
          "desktop computer"
         ],
         "legendgroup": "363",
         "marker": {
          "color": "#B6E880",
          "symbol": "circle"
         },
         "mode": "markers",
         "name": "363",
         "orientation": "v",
         "showlegend": true,
         "type": "scatter",
         "x": [
          -4.411066055297852
         ],
         "xaxis": "x",
         "y": [
          -1.6881581544876099
         ],
         "yaxis": "y"
        },
        {
         "hovertemplate": "<b>%{hovertext}</b><br><br>color=264<br>x1=%{x}<br>x2=%{y}<extra></extra>",
         "hovertext": [
          "dial telephone"
         ],
         "legendgroup": "264",
         "marker": {
          "color": "#FF97FF",
          "symbol": "circle"
         },
         "mode": "markers",
         "name": "264",
         "orientation": "v",
         "showlegend": true,
         "type": "scatter",
         "x": [
          -1.7399190664291382
         ],
         "xaxis": "x",
         "y": [
          -0.8987005949020386
         ],
         "yaxis": "y"
        },
        {
         "hovertemplate": "<b>%{hovertext}</b><br><br>color=406<br>x1=%{x}<br>x2=%{y}<extra></extra>",
         "hovertext": [
          "diaper"
         ],
         "legendgroup": "406",
         "marker": {
          "color": "#FECB52",
          "symbol": "circle"
         },
         "mode": "markers",
         "name": "406",
         "orientation": "v",
         "showlegend": true,
         "type": "scatter",
         "x": [
          0.5954825282096863
         ],
         "xaxis": "x",
         "y": [
          -3.2944729328155518
         ],
         "yaxis": "y"
        },
        {
         "hovertemplate": "<b>%{hovertext}</b><br><br>color=644<br>x1=%{x}<br>x2=%{y}<extra></extra>",
         "hovertext": [
          "digital clock"
         ],
         "legendgroup": "644",
         "marker": {
          "color": "#636efa",
          "symbol": "circle"
         },
         "mode": "markers",
         "name": "644",
         "orientation": "v",
         "showlegend": true,
         "type": "scatter",
         "x": [
          -3.7843284606933594
         ],
         "xaxis": "x",
         "y": [
          -0.5294831991195679
         ],
         "yaxis": "y"
        },
        {
         "hovertemplate": "<b>%{hovertext}</b><br><br>color=376<br>x1=%{x}<br>x2=%{y}<extra></extra>",
         "hovertext": [
          "digital watch"
         ],
         "legendgroup": "376",
         "marker": {
          "color": "#EF553B",
          "symbol": "circle"
         },
         "mode": "markers",
         "name": "376",
         "orientation": "v",
         "showlegend": true,
         "type": "scatter",
         "x": [
          -2.7036356925964355
         ],
         "xaxis": "x",
         "y": [
          0.03463177755475044
         ],
         "yaxis": "y"
        },
        {
         "hovertemplate": "<b>%{hovertext}</b><br><br>color=743<br>x1=%{x}<br>x2=%{y}<extra></extra>",
         "hovertext": [
          "dining table"
         ],
         "legendgroup": "743",
         "marker": {
          "color": "#00cc96",
          "symbol": "circle"
         },
         "mode": "markers",
         "name": "743",
         "orientation": "v",
         "showlegend": true,
         "type": "scatter",
         "x": [
          -1.5997973680496216
         ],
         "xaxis": "x",
         "y": [
          -2.8987507820129395
         ],
         "yaxis": "y"
        },
        {
         "hovertemplate": "<b>%{hovertext}</b><br><br>color=372<br>x1=%{x}<br>x2=%{y}<extra></extra>",
         "hovertext": [
          "dishrag"
         ],
         "legendgroup": "372",
         "marker": {
          "color": "#ab63fa",
          "symbol": "circle"
         },
         "mode": "markers",
         "name": "372",
         "orientation": "v",
         "showlegend": true,
         "type": "scatter",
         "x": [
          0.5390518307685852
         ],
         "xaxis": "x",
         "y": [
          -3.2943263053894043
         ],
         "yaxis": "y"
        },
        {
         "hovertemplate": "<b>%{hovertext}</b><br><br>color=392<br>x1=%{x}<br>x2=%{y}<extra></extra>",
         "hovertext": [
          "dishwasher"
         ],
         "legendgroup": "392",
         "marker": {
          "color": "#FFA15A",
          "symbol": "circle"
         },
         "mode": "markers",
         "name": "392",
         "orientation": "v",
         "showlegend": true,
         "type": "scatter",
         "x": [
          3.181330680847168
         ],
         "xaxis": "x",
         "y": [
          -4.2361159324646
         ],
         "yaxis": "y"
        },
        {
         "hovertemplate": "<b>%{hovertext}</b><br><br>color=648<br>x1=%{x}<br>x2=%{y}<extra></extra>",
         "hovertext": [
          "disk brake"
         ],
         "legendgroup": "648",
         "marker": {
          "color": "#19d3f3",
          "symbol": "circle"
         },
         "mode": "markers",
         "name": "648",
         "orientation": "v",
         "showlegend": true,
         "type": "scatter",
         "x": [
          -0.9242509007453918
         ],
         "xaxis": "x",
         "y": [
          -3.193746566772461
         ],
         "yaxis": "y"
        },
        {
         "hovertemplate": "<b>%{hovertext}</b><br><br>color=256<br>x1=%{x}<br>x2=%{y}<extra></extra>",
         "hovertext": [
          "dock"
         ],
         "legendgroup": "256",
         "marker": {
          "color": "#FF6692",
          "symbol": "circle"
         },
         "mode": "markers",
         "name": "256",
         "orientation": "v",
         "showlegend": true,
         "type": "scatter",
         "x": [
          1.3725372552871704
         ],
         "xaxis": "x",
         "y": [
          -2.069312572479248
         ],
         "yaxis": "y"
        },
        {
         "hovertemplate": "<b>%{hovertext}</b><br><br>color=642<br>x1=%{x}<br>x2=%{y}<extra></extra>",
         "hovertext": [
          "dogsled"
         ],
         "legendgroup": "642",
         "marker": {
          "color": "#B6E880",
          "symbol": "circle"
         },
         "mode": "markers",
         "name": "642",
         "orientation": "v",
         "showlegend": true,
         "type": "scatter",
         "x": [
          2.163588047027588
         ],
         "xaxis": "x",
         "y": [
          -2.3184921741485596
         ],
         "yaxis": "y"
        },
        {
         "hovertemplate": "<b>%{hovertext}</b><br><br>color=782<br>x1=%{x}<br>x2=%{y}<extra></extra>",
         "hovertext": [
          "dome"
         ],
         "legendgroup": "782",
         "marker": {
          "color": "#FF97FF",
          "symbol": "circle"
         },
         "mode": "markers",
         "name": "782",
         "orientation": "v",
         "showlegend": true,
         "type": "scatter",
         "x": [
          -7.237555027008057
         ],
         "xaxis": "x",
         "y": [
          -0.7322946786880493
         ],
         "yaxis": "y"
        },
        {
         "hovertemplate": "<b>%{hovertext}</b><br><br>color=758<br>x1=%{x}<br>x2=%{y}<extra></extra>",
         "hovertext": [
          "doormat"
         ],
         "legendgroup": "758",
         "marker": {
          "color": "#FECB52",
          "symbol": "circle"
         },
         "mode": "markers",
         "name": "758",
         "orientation": "v",
         "showlegend": true,
         "type": "scatter",
         "x": [
          -1.137787103652954
         ],
         "xaxis": "x",
         "y": [
          -2.8405063152313232
         ],
         "yaxis": "y"
        },
        {
         "hovertemplate": "<b>%{hovertext}</b><br><br>color=537<br>x1=%{x}<br>x2=%{y}<extra></extra>",
         "hovertext": [
          "drilling platform"
         ],
         "legendgroup": "537",
         "marker": {
          "color": "#636efa",
          "symbol": "circle"
         },
         "mode": "markers",
         "name": "537",
         "orientation": "v",
         "showlegend": true,
         "type": "scatter",
         "x": [
          -1.8846608400344849
         ],
         "xaxis": "x",
         "y": [
          -1.69681715965271
         ],
         "yaxis": "y"
        },
        {
         "hovertemplate": "<b>%{hovertext}</b><br><br>color=720<br>x1=%{x}<br>x2=%{y}<extra></extra>",
         "hovertext": [
          "drum"
         ],
         "legendgroup": "720",
         "marker": {
          "color": "#EF553B",
          "symbol": "circle"
         },
         "mode": "markers",
         "name": "720",
         "orientation": "v",
         "showlegend": true,
         "type": "scatter",
         "x": [
          5.209115028381348
         ],
         "xaxis": "x",
         "y": [
          -1.8906186819076538
         ],
         "yaxis": "y"
        },
        {
         "hovertemplate": "<b>%{hovertext}</b><br><br>color=335<br>x1=%{x}<br>x2=%{y}<extra></extra>",
         "hovertext": [
          "drumstick"
         ],
         "legendgroup": "335",
         "marker": {
          "color": "#00cc96",
          "symbol": "circle"
         },
         "mode": "markers",
         "name": "335",
         "orientation": "v",
         "showlegend": true,
         "type": "scatter",
         "x": [
          -5.2469072341918945
         ],
         "xaxis": "x",
         "y": [
          -3.0406863689422607
         ],
         "yaxis": "y"
        },
        {
         "hovertemplate": "<b>%{hovertext}</b><br><br>color=268<br>x1=%{x}<br>x2=%{y}<extra></extra>",
         "hovertext": [
          "dumbbell"
         ],
         "legendgroup": "268",
         "marker": {
          "color": "#ab63fa",
          "symbol": "circle"
         },
         "mode": "markers",
         "name": "268",
         "orientation": "v",
         "showlegend": true,
         "type": "scatter",
         "x": [
          -3.990190267562866
         ],
         "xaxis": "x",
         "y": [
          2.181762218475342
         ],
         "yaxis": "y"
        },
        {
         "hovertemplate": "<b>%{hovertext}</b><br><br>color=949<br>x1=%{x}<br>x2=%{y}<extra></extra>",
         "hovertext": [
          "Dutch oven"
         ],
         "legendgroup": "949",
         "marker": {
          "color": "#FFA15A",
          "symbol": "circle"
         },
         "mode": "markers",
         "name": "949",
         "orientation": "v",
         "showlegend": true,
         "type": "scatter",
         "x": [
          -4.572273254394531
         ],
         "xaxis": "x",
         "y": [
          -0.05424236133694649
         ],
         "yaxis": "y"
        },
        {
         "hovertemplate": "<b>%{hovertext}</b><br><br>color=779<br>x1=%{x}<br>x2=%{y}<extra></extra>",
         "hovertext": [
          "electric fan"
         ],
         "legendgroup": "779",
         "marker": {
          "color": "#19d3f3",
          "symbol": "circle"
         },
         "mode": "markers",
         "name": "779",
         "orientation": "v",
         "showlegend": true,
         "type": "scatter",
         "x": [
          -0.37955233454704285
         ],
         "xaxis": "x",
         "y": [
          -2.6875014305114746
         ],
         "yaxis": "y"
        },
        {
         "hovertemplate": "<b>%{hovertext}</b><br><br>color=890<br>x1=%{x}<br>x2=%{y}<extra></extra>",
         "hovertext": [
          "electric guitar"
         ],
         "legendgroup": "890",
         "marker": {
          "color": "#FF6692",
          "symbol": "circle"
         },
         "mode": "markers",
         "name": "890",
         "orientation": "v",
         "showlegend": true,
         "type": "scatter",
         "x": [
          -2.372114658355713
         ],
         "xaxis": "x",
         "y": [
          -1.4208301305770874
         ],
         "yaxis": "y"
        },
        {
         "hovertemplate": "<b>%{hovertext}</b><br><br>color=402<br>x1=%{x}<br>x2=%{y}<extra></extra>",
         "hovertext": [
          "electric locomotive"
         ],
         "legendgroup": "402",
         "marker": {
          "color": "#B6E880",
          "symbol": "circle"
         },
         "mode": "markers",
         "name": "402",
         "orientation": "v",
         "showlegend": true,
         "type": "scatter",
         "x": [
          -3.638918399810791
         ],
         "xaxis": "x",
         "y": [
          0.9168751835823059
         ],
         "yaxis": "y"
        },
        {
         "hovertemplate": "<b>%{hovertext}</b><br><br>color=697<br>x1=%{x}<br>x2=%{y}<extra></extra>",
         "hovertext": [
          "entertainment center"
         ],
         "legendgroup": "697",
         "marker": {
          "color": "#FF97FF",
          "symbol": "circle"
         },
         "mode": "markers",
         "name": "697",
         "orientation": "v",
         "showlegend": true,
         "type": "scatter",
         "x": [
          -3.6529898643493652
         ],
         "xaxis": "x",
         "y": [
          0.29274997115135193
         ],
         "yaxis": "y"
        },
        {
         "hovertemplate": "<b>%{hovertext}</b><br><br>color=921<br>x1=%{x}<br>x2=%{y}<extra></extra>",
         "hovertext": [
          "envelope"
         ],
         "legendgroup": "921",
         "marker": {
          "color": "#FECB52",
          "symbol": "circle"
         },
         "mode": "markers",
         "name": "921",
         "orientation": "v",
         "showlegend": true,
         "type": "scatter",
         "x": [
          -6.84161901473999
         ],
         "xaxis": "x",
         "y": [
          -1.6815776824951172
         ],
         "yaxis": "y"
        },
        {
         "hovertemplate": "<b>%{hovertext}</b><br><br>color=383<br>x1=%{x}<br>x2=%{y}<extra></extra>",
         "hovertext": [
          "espresso maker"
         ],
         "legendgroup": "383",
         "marker": {
          "color": "#636efa",
          "symbol": "circle"
         },
         "mode": "markers",
         "name": "383",
         "orientation": "v",
         "showlegend": true,
         "type": "scatter",
         "x": [
          -0.5620362162590027
         ],
         "xaxis": "x",
         "y": [
          -1.4332904815673828
         ],
         "yaxis": "y"
        },
        {
         "hovertemplate": "<b>%{hovertext}</b><br><br>color=708<br>x1=%{x}<br>x2=%{y}<extra></extra>",
         "hovertext": [
          "face powder"
         ],
         "legendgroup": "708",
         "marker": {
          "color": "#EF553B",
          "symbol": "circle"
         },
         "mode": "markers",
         "name": "708",
         "orientation": "v",
         "showlegend": true,
         "type": "scatter",
         "x": [
          -4.8226847648620605
         ],
         "xaxis": "x",
         "y": [
          -0.4414040744304657
         ],
         "yaxis": "y"
        },
        {
         "hovertemplate": "<b>%{hovertext}</b><br><br>color=449<br>x1=%{x}<br>x2=%{y}<extra></extra>",
         "hovertext": [
          "feather boa"
         ],
         "legendgroup": "449",
         "marker": {
          "color": "#00cc96",
          "symbol": "circle"
         },
         "mode": "markers",
         "name": "449",
         "orientation": "v",
         "showlegend": true,
         "type": "scatter",
         "x": [
          0.5175004601478577
         ],
         "xaxis": "x",
         "y": [
          0.5858666300773621
         ],
         "yaxis": "y"
        },
        {
         "hovertemplate": "<b>%{hovertext}</b><br><br>color=500<br>x1=%{x}<br>x2=%{y}<extra></extra>",
         "hovertext": [
          "file"
         ],
         "legendgroup": "500",
         "marker": {
          "color": "#ab63fa",
          "symbol": "circle"
         },
         "mode": "markers",
         "name": "500",
         "orientation": "v",
         "showlegend": true,
         "type": "scatter",
         "x": [
          0.03746161237359047
         ],
         "xaxis": "x",
         "y": [
          -2.5701704025268555
         ],
         "yaxis": "y"
        },
        {
         "hovertemplate": "<b>%{hovertext}</b><br><br>color=246<br>x1=%{x}<br>x2=%{y}<extra></extra>",
         "hovertext": [
          "fireboat"
         ],
         "legendgroup": "246",
         "marker": {
          "color": "#FFA15A",
          "symbol": "circle"
         },
         "mode": "markers",
         "name": "246",
         "orientation": "v",
         "showlegend": true,
         "type": "scatter",
         "x": [
          -4.627078056335449
         ],
         "xaxis": "x",
         "y": [
          -1.18519127368927
         ],
         "yaxis": "y"
        },
        {
         "hovertemplate": "<b>%{hovertext}</b><br><br>color=442<br>x1=%{x}<br>x2=%{y}<extra></extra>",
         "hovertext": [
          "fire engine"
         ],
         "legendgroup": "442",
         "marker": {
          "color": "#19d3f3",
          "symbol": "circle"
         },
         "mode": "markers",
         "name": "442",
         "orientation": "v",
         "showlegend": true,
         "type": "scatter",
         "x": [
          -0.8194717168807983
         ],
         "xaxis": "x",
         "y": [
          -3.4597644805908203
         ],
         "yaxis": "y"
        },
        {
         "hovertemplate": "<b>%{hovertext}</b><br><br>color=224<br>x1=%{x}<br>x2=%{y}<extra></extra>",
         "hovertext": [
          "fire screen"
         ],
         "legendgroup": "224",
         "marker": {
          "color": "#FF6692",
          "symbol": "circle"
         },
         "mode": "markers",
         "name": "224",
         "orientation": "v",
         "showlegend": true,
         "type": "scatter",
         "x": [
          -1.506481647491455
         ],
         "xaxis": "x",
         "y": [
          -2.3924052715301514
         ],
         "yaxis": "y"
        },
        {
         "hovertemplate": "<b>%{hovertext}</b><br><br>color=417<br>x1=%{x}<br>x2=%{y}<extra></extra>",
         "hovertext": [
          "flagpole"
         ],
         "legendgroup": "417",
         "marker": {
          "color": "#B6E880",
          "symbol": "circle"
         },
         "mode": "markers",
         "name": "417",
         "orientation": "v",
         "showlegend": true,
         "type": "scatter",
         "x": [
          2.6619532108306885
         ],
         "xaxis": "x",
         "y": [
          0.6538991332054138
         ],
         "yaxis": "y"
        },
        {
         "hovertemplate": "<b>%{hovertext}</b><br><br>color=812<br>x1=%{x}<br>x2=%{y}<extra></extra>",
         "hovertext": [
          "flute"
         ],
         "legendgroup": "812",
         "marker": {
          "color": "#FF97FF",
          "symbol": "circle"
         },
         "mode": "markers",
         "name": "812",
         "orientation": "v",
         "showlegend": true,
         "type": "scatter",
         "x": [
          -1.5240081548690796
         ],
         "xaxis": "x",
         "y": [
          -3.398128032684326
         ],
         "yaxis": "y"
        },
        {
         "hovertemplate": "<b>%{hovertext}</b><br><br>color=260<br>x1=%{x}<br>x2=%{y}<extra></extra>",
         "hovertext": [
          "folding chair"
         ],
         "legendgroup": "260",
         "marker": {
          "color": "#FECB52",
          "symbol": "circle"
         },
         "mode": "markers",
         "name": "260",
         "orientation": "v",
         "showlegend": true,
         "type": "scatter",
         "x": [
          -4.590475082397461
         ],
         "xaxis": "x",
         "y": [
          2.049013137817383
         ],
         "yaxis": "y"
        },
        {
         "hovertemplate": "<b>%{hovertext}</b><br><br>color=874<br>x1=%{x}<br>x2=%{y}<extra></extra>",
         "hovertext": [
          "football helmet"
         ],
         "legendgroup": "874",
         "marker": {
          "color": "#636efa",
          "symbol": "circle"
         },
         "mode": "markers",
         "name": "874",
         "orientation": "v",
         "showlegend": true,
         "type": "scatter",
         "x": [
          -4.8768157958984375
         ],
         "xaxis": "x",
         "y": [
          -0.28962764143943787
         ],
         "yaxis": "y"
        },
        {
         "hovertemplate": "<b>%{hovertext}</b><br><br>color=302<br>x1=%{x}<br>x2=%{y}<extra></extra>",
         "hovertext": [
          "forklift"
         ],
         "legendgroup": "302",
         "marker": {
          "color": "#EF553B",
          "symbol": "circle"
         },
         "mode": "markers",
         "name": "302",
         "orientation": "v",
         "showlegend": true,
         "type": "scatter",
         "x": [
          -4.281762599945068
         ],
         "xaxis": "x",
         "y": [
          -2.083977222442627
         ],
         "yaxis": "y"
        },
        {
         "hovertemplate": "<b>%{hovertext}</b><br><br>color=369<br>x1=%{x}<br>x2=%{y}<extra></extra>",
         "hovertext": [
          "fountain"
         ],
         "legendgroup": "369",
         "marker": {
          "color": "#00cc96",
          "symbol": "circle"
         },
         "mode": "markers",
         "name": "369",
         "orientation": "v",
         "showlegend": true,
         "type": "scatter",
         "x": [
          -7.110758304595947
         ],
         "xaxis": "x",
         "y": [
          0.046109993010759354
         ],
         "yaxis": "y"
        },
        {
         "hovertemplate": "<b>%{hovertext}</b><br><br>color=686<br>x1=%{x}<br>x2=%{y}<extra></extra>",
         "hovertext": [
          "fountain pen"
         ],
         "legendgroup": "686",
         "marker": {
          "color": "#ab63fa",
          "symbol": "circle"
         },
         "mode": "markers",
         "name": "686",
         "orientation": "v",
         "showlegend": true,
         "type": "scatter",
         "x": [
          -4.719821453094482
         ],
         "xaxis": "x",
         "y": [
          -0.2475244551897049
         ],
         "yaxis": "y"
        },
        {
         "hovertemplate": "<b>%{hovertext}</b><br><br>color=373<br>x1=%{x}<br>x2=%{y}<extra></extra>",
         "hovertext": [
          "four-poster"
         ],
         "legendgroup": "373",
         "marker": {
          "color": "#FFA15A",
          "symbol": "circle"
         },
         "mode": "markers",
         "name": "373",
         "orientation": "v",
         "showlegend": true,
         "type": "scatter",
         "x": [
          -2.0627665519714355
         ],
         "xaxis": "x",
         "y": [
          -1.2596182823181152
         ],
         "yaxis": "y"
        },
        {
         "hovertemplate": "<b>%{hovertext}</b><br><br>color=435<br>x1=%{x}<br>x2=%{y}<extra></extra>",
         "hovertext": [
          "freight car"
         ],
         "legendgroup": "435",
         "marker": {
          "color": "#19d3f3",
          "symbol": "circle"
         },
         "mode": "markers",
         "name": "435",
         "orientation": "v",
         "showlegend": true,
         "type": "scatter",
         "x": [
          -4.973477363586426
         ],
         "xaxis": "x",
         "y": [
          0.9067797660827637
         ],
         "yaxis": "y"
        },
        {
         "hovertemplate": "<b>%{hovertext}</b><br><br>color=281<br>x1=%{x}<br>x2=%{y}<extra></extra>",
         "hovertext": [
          "French horn"
         ],
         "legendgroup": "281",
         "marker": {
          "color": "#FF6692",
          "symbol": "circle"
         },
         "mode": "markers",
         "name": "281",
         "orientation": "v",
         "showlegend": true,
         "type": "scatter",
         "x": [
          -2.5994815826416016
         ],
         "xaxis": "x",
         "y": [
          -1.5480968952178955
         ],
         "yaxis": "y"
        },
        {
         "hovertemplate": "<b>%{hovertext}</b><br><br>color=698<br>x1=%{x}<br>x2=%{y}<extra></extra>",
         "hovertext": [
          "frying pan"
         ],
         "legendgroup": "698",
         "marker": {
          "color": "#B6E880",
          "symbol": "circle"
         },
         "mode": "markers",
         "name": "698",
         "orientation": "v",
         "showlegend": true,
         "type": "scatter",
         "x": [
          5.092512607574463
         ],
         "xaxis": "x",
         "y": [
          -2.68347430229187
         ],
         "yaxis": "y"
        },
        {
         "hovertemplate": "<b>%{hovertext}</b><br><br>color=441<br>x1=%{x}<br>x2=%{y}<extra></extra>",
         "hovertext": [
          "fur coat"
         ],
         "legendgroup": "441",
         "marker": {
          "color": "#FF97FF",
          "symbol": "circle"
         },
         "mode": "markers",
         "name": "441",
         "orientation": "v",
         "showlegend": true,
         "type": "scatter",
         "x": [
          -3.6412665843963623
         ],
         "xaxis": "x",
         "y": [
          0.3373304009437561
         ],
         "yaxis": "y"
        },
        {
         "hovertemplate": "<b>%{hovertext}</b><br><br>color=487<br>x1=%{x}<br>x2=%{y}<extra></extra>",
         "hovertext": [
          "garbage truck"
         ],
         "legendgroup": "487",
         "marker": {
          "color": "#FECB52",
          "symbol": "circle"
         },
         "mode": "markers",
         "name": "487",
         "orientation": "v",
         "showlegend": true,
         "type": "scatter",
         "x": [
          1.6352365016937256
         ],
         "xaxis": "x",
         "y": [
          -1.2220338582992554
         ],
         "yaxis": "y"
        },
        {
         "hovertemplate": "<b>%{hovertext}</b><br><br>color=707<br>x1=%{x}<br>x2=%{y}<extra></extra>",
         "hovertext": [
          "gasmask"
         ],
         "legendgroup": "707",
         "marker": {
          "color": "#636efa",
          "symbol": "circle"
         },
         "mode": "markers",
         "name": "707",
         "orientation": "v",
         "showlegend": true,
         "type": "scatter",
         "x": [
          4.236417770385742
         ],
         "xaxis": "x",
         "y": [
          -2.66178297996521
         ],
         "yaxis": "y"
        },
        {
         "hovertemplate": "<b>%{hovertext}</b><br><br>color=647<br>x1=%{x}<br>x2=%{y}<extra></extra>",
         "hovertext": [
          "gas pump"
         ],
         "legendgroup": "647",
         "marker": {
          "color": "#EF553B",
          "symbol": "circle"
         },
         "mode": "markers",
         "name": "647",
         "orientation": "v",
         "showlegend": true,
         "type": "scatter",
         "x": [
          3.2358407974243164
         ],
         "xaxis": "x",
         "y": [
          -2.876370429992676
         ],
         "yaxis": "y"
        },
        {
         "hovertemplate": "<b>%{hovertext}</b><br><br>color=342<br>x1=%{x}<br>x2=%{y}<extra></extra>",
         "hovertext": [
          "goblet"
         ],
         "legendgroup": "342",
         "marker": {
          "color": "#00cc96",
          "symbol": "circle"
         },
         "mode": "markers",
         "name": "342",
         "orientation": "v",
         "showlegend": true,
         "type": "scatter",
         "x": [
          -0.2366359382867813
         ],
         "xaxis": "x",
         "y": [
          2.792734146118164
         ],
         "yaxis": "y"
        },
        {
         "hovertemplate": "<b>%{hovertext}</b><br><br>color=715<br>x1=%{x}<br>x2=%{y}<extra></extra>",
         "hovertext": [
          "go-kart"
         ],
         "legendgroup": "715",
         "marker": {
          "color": "#ab63fa",
          "symbol": "circle"
         },
         "mode": "markers",
         "name": "715",
         "orientation": "v",
         "showlegend": true,
         "type": "scatter",
         "x": [
          1.9189903736114502
         ],
         "xaxis": "x",
         "y": [
          -0.05687129870057106
         ],
         "yaxis": "y"
        },
        {
         "hovertemplate": "<b>%{hovertext}</b><br><br>color=436<br>x1=%{x}<br>x2=%{y}<extra></extra>",
         "hovertext": [
          "golf ball"
         ],
         "legendgroup": "436",
         "marker": {
          "color": "#FFA15A",
          "symbol": "circle"
         },
         "mode": "markers",
         "name": "436",
         "orientation": "v",
         "showlegend": true,
         "type": "scatter",
         "x": [
          -4.8442816734313965
         ],
         "xaxis": "x",
         "y": [
          0.6833362579345703
         ],
         "yaxis": "y"
        },
        {
         "hovertemplate": "<b>%{hovertext}</b><br><br>color=323<br>x1=%{x}<br>x2=%{y}<extra></extra>",
         "hovertext": [
          "golfcart"
         ],
         "legendgroup": "323",
         "marker": {
          "color": "#19d3f3",
          "symbol": "circle"
         },
         "mode": "markers",
         "name": "323",
         "orientation": "v",
         "showlegend": true,
         "type": "scatter",
         "x": [
          0.6946172118186951
         ],
         "xaxis": "x",
         "y": [
          -2.2681260108947754
         ],
         "yaxis": "y"
        },
        {
         "hovertemplate": "<b>%{hovertext}</b><br><br>color=662<br>x1=%{x}<br>x2=%{y}<extra></extra>",
         "hovertext": [
          "gondola"
         ],
         "legendgroup": "662",
         "marker": {
          "color": "#FF6692",
          "symbol": "circle"
         },
         "mode": "markers",
         "name": "662",
         "orientation": "v",
         "showlegend": true,
         "type": "scatter",
         "x": [
          -0.9216083288192749
         ],
         "xaxis": "x",
         "y": [
          2.9444222450256348
         ],
         "yaxis": "y"
        },
        {
         "hovertemplate": "<b>%{hovertext}</b><br><br>color=706<br>x1=%{x}<br>x2=%{y}<extra></extra>",
         "hovertext": [
          "gong"
         ],
         "legendgroup": "706",
         "marker": {
          "color": "#B6E880",
          "symbol": "circle"
         },
         "mode": "markers",
         "name": "706",
         "orientation": "v",
         "showlegend": true,
         "type": "scatter",
         "x": [
          2.3430330753326416
         ],
         "xaxis": "x",
         "y": [
          -0.1525435447692871
         ],
         "yaxis": "y"
        },
        {
         "hovertemplate": "<b>%{hovertext}</b><br><br>color=259<br>x1=%{x}<br>x2=%{y}<extra></extra>",
         "hovertext": [
          "gown"
         ],
         "legendgroup": "259",
         "marker": {
          "color": "#FF97FF",
          "symbol": "circle"
         },
         "mode": "markers",
         "name": "259",
         "orientation": "v",
         "showlegend": true,
         "type": "scatter",
         "x": [
          -6.9391655921936035
         ],
         "xaxis": "x",
         "y": [
          -1.1220721006393433
         ],
         "yaxis": "y"
        },
        {
         "hovertemplate": "<b>%{hovertext}</b><br><br>color=846<br>x1=%{x}<br>x2=%{y}<extra></extra>",
         "hovertext": [
          "grand piano"
         ],
         "legendgroup": "846",
         "marker": {
          "color": "#FECB52",
          "symbol": "circle"
         },
         "mode": "markers",
         "name": "846",
         "orientation": "v",
         "showlegend": true,
         "type": "scatter",
         "x": [
          -1.746342420578003
         ],
         "xaxis": "x",
         "y": [
          -2.6815576553344727
         ],
         "yaxis": "y"
        },
        {
         "hovertemplate": "<b>%{hovertext}</b><br><br>color=576<br>x1=%{x}<br>x2=%{y}<extra></extra>",
         "hovertext": [
          "greenhouse"
         ],
         "legendgroup": "576",
         "marker": {
          "color": "#636efa",
          "symbol": "circle"
         },
         "mode": "markers",
         "name": "576",
         "orientation": "v",
         "showlegend": true,
         "type": "scatter",
         "x": [
          -0.27210789918899536
         ],
         "xaxis": "x",
         "y": [
          -1.5176653861999512
         ],
         "yaxis": "y"
        },
        {
         "hovertemplate": "<b>%{hovertext}</b><br><br>color=129<br>x1=%{x}<br>x2=%{y}<extra></extra>",
         "hovertext": [
          "grille"
         ],
         "legendgroup": "129",
         "marker": {
          "color": "#EF553B",
          "symbol": "circle"
         },
         "mode": "markers",
         "name": "129",
         "orientation": "v",
         "showlegend": true,
         "type": "scatter",
         "x": [
          4.3213582038879395
         ],
         "xaxis": "x",
         "y": [
          -1.9716240167617798
         ],
         "yaxis": "y"
        },
        {
         "hovertemplate": "<b>%{hovertext}</b><br><br>color=299<br>x1=%{x}<br>x2=%{y}<extra></extra>",
         "hovertext": [
          "grocery store"
         ],
         "legendgroup": "299",
         "marker": {
          "color": "#00cc96",
          "symbol": "circle"
         },
         "mode": "markers",
         "name": "299",
         "orientation": "v",
         "showlegend": true,
         "type": "scatter",
         "x": [
          0.7472843527793884
         ],
         "xaxis": "x",
         "y": [
          -3.110443353652954
         ],
         "yaxis": "y"
        },
        {
         "hovertemplate": "<b>%{hovertext}</b><br><br>color=239<br>x1=%{x}<br>x2=%{y}<extra></extra>",
         "hovertext": [
          "guillotine"
         ],
         "legendgroup": "239",
         "marker": {
          "color": "#ab63fa",
          "symbol": "circle"
         },
         "mode": "markers",
         "name": "239",
         "orientation": "v",
         "showlegend": true,
         "type": "scatter",
         "x": [
          2.248706340789795
         ],
         "xaxis": "x",
         "y": [
          2.2192025184631348
         ],
         "yaxis": "y"
        },
        {
         "hovertemplate": "<b>%{hovertext}</b><br><br>color=367<br>x1=%{x}<br>x2=%{y}<extra></extra>",
         "hovertext": [
          "hair slide"
         ],
         "legendgroup": "367",
         "marker": {
          "color": "#FFA15A",
          "symbol": "circle"
         },
         "mode": "markers",
         "name": "367",
         "orientation": "v",
         "showlegend": true,
         "type": "scatter",
         "x": [
          -4.271019458770752
         ],
         "xaxis": "x",
         "y": [
          -0.4899945557117462
         ],
         "yaxis": "y"
        },
        {
         "hovertemplate": "<b>%{hovertext}</b><br><br>color=398<br>x1=%{x}<br>x2=%{y}<extra></extra>",
         "hovertext": [
          "hair spray"
         ],
         "legendgroup": "398",
         "marker": {
          "color": "#19d3f3",
          "symbol": "circle"
         },
         "mode": "markers",
         "name": "398",
         "orientation": "v",
         "showlegend": true,
         "type": "scatter",
         "x": [
          -4.448328495025635
         ],
         "xaxis": "x",
         "y": [
          -2.4345717430114746
         ],
         "yaxis": "y"
        },
        {
         "hovertemplate": "<b>%{hovertext}</b><br><br>color=555<br>x1=%{x}<br>x2=%{y}<extra></extra>",
         "hovertext": [
          "half track"
         ],
         "legendgroup": "555",
         "marker": {
          "color": "#FF6692",
          "symbol": "circle"
         },
         "mode": "markers",
         "name": "555",
         "orientation": "v",
         "showlegend": true,
         "type": "scatter",
         "x": [
          -4.862467288970947
         ],
         "xaxis": "x",
         "y": [
          -1.0735106468200684
         ],
         "yaxis": "y"
        },
        {
         "hovertemplate": "<b>%{hovertext}</b><br><br>color=343<br>x1=%{x}<br>x2=%{y}<extra></extra>",
         "hovertext": [
          "hammer"
         ],
         "legendgroup": "343",
         "marker": {
          "color": "#B6E880",
          "symbol": "circle"
         },
         "mode": "markers",
         "name": "343",
         "orientation": "v",
         "showlegend": true,
         "type": "scatter",
         "x": [
          -6.9995832443237305
         ],
         "xaxis": "x",
         "y": [
          0.25342968106269836
         ],
         "yaxis": "y"
        },
        {
         "hovertemplate": "<b>%{hovertext}</b><br><br>color=336<br>x1=%{x}<br>x2=%{y}<extra></extra>",
         "hovertext": [
          "hamper"
         ],
         "legendgroup": "336",
         "marker": {
          "color": "#FF97FF",
          "symbol": "circle"
         },
         "mode": "markers",
         "name": "336",
         "orientation": "v",
         "showlegend": true,
         "type": "scatter",
         "x": [
          -5.088947296142578
         ],
         "xaxis": "x",
         "y": [
          1.643060326576233
         ],
         "yaxis": "y"
        },
        {
         "hovertemplate": "<b>%{hovertext}</b><br><br>color=447<br>x1=%{x}<br>x2=%{y}<extra></extra>",
         "hovertext": [
          "hand blower"
         ],
         "legendgroup": "447",
         "marker": {
          "color": "#FECB52",
          "symbol": "circle"
         },
         "mode": "markers",
         "name": "447",
         "orientation": "v",
         "showlegend": true,
         "type": "scatter",
         "x": [
          6.466145992279053
         ],
         "xaxis": "x",
         "y": [
          -3.3983304500579834
         ],
         "yaxis": "y"
        },
        {
         "hovertemplate": "<b>%{hovertext}</b><br><br>color=344<br>x1=%{x}<br>x2=%{y}<extra></extra>",
         "hovertext": [
          "hand-held computer"
         ],
         "legendgroup": "344",
         "marker": {
          "color": "#636efa",
          "symbol": "circle"
         },
         "mode": "markers",
         "name": "344",
         "orientation": "v",
         "showlegend": true,
         "type": "scatter",
         "x": [
          6.3576340675354
         ],
         "xaxis": "x",
         "y": [
          -0.9421661496162415
         ],
         "yaxis": "y"
        },
        {
         "hovertemplate": "<b>%{hovertext}</b><br><br>color=540<br>x1=%{x}<br>x2=%{y}<extra></extra>",
         "hovertext": [
          "handkerchief"
         ],
         "legendgroup": "540",
         "marker": {
          "color": "#EF553B",
          "symbol": "circle"
         },
         "mode": "markers",
         "name": "540",
         "orientation": "v",
         "showlegend": true,
         "type": "scatter",
         "x": [
          4.4049153327941895
         ],
         "xaxis": "x",
         "y": [
          -1.3758444786071777
         ],
         "yaxis": "y"
        },
        {
         "hovertemplate": "<b>%{hovertext}</b><br><br>color=208<br>x1=%{x}<br>x2=%{y}<extra></extra>",
         "hovertext": [
          "hard disc"
         ],
         "legendgroup": "208",
         "marker": {
          "color": "#00cc96",
          "symbol": "circle"
         },
         "mode": "markers",
         "name": "208",
         "orientation": "v",
         "showlegend": true,
         "type": "scatter",
         "x": [
          0.5715999603271484
         ],
         "xaxis": "x",
         "y": [
          -2.815387487411499
         ],
         "yaxis": "y"
        },
        {
         "hovertemplate": "<b>%{hovertext}</b><br><br>color=460<br>x1=%{x}<br>x2=%{y}<extra></extra>",
         "hovertext": [
          "harmonica"
         ],
         "legendgroup": "460",
         "marker": {
          "color": "#ab63fa",
          "symbol": "circle"
         },
         "mode": "markers",
         "name": "460",
         "orientation": "v",
         "showlegend": true,
         "type": "scatter",
         "x": [
          1.2668027877807617
         ],
         "xaxis": "x",
         "y": [
          -3.9639642238616943
         ],
         "yaxis": "y"
        },
        {
         "hovertemplate": "<b>%{hovertext}</b><br><br>color=492<br>x1=%{x}<br>x2=%{y}<extra></extra>",
         "hovertext": [
          "harp"
         ],
         "legendgroup": "492",
         "marker": {
          "color": "#FFA15A",
          "symbol": "circle"
         },
         "mode": "markers",
         "name": "492",
         "orientation": "v",
         "showlegend": true,
         "type": "scatter",
         "x": [
          -6.437007904052734
         ],
         "xaxis": "x",
         "y": [
          -2.4866585731506348
         ],
         "yaxis": "y"
        },
        {
         "hovertemplate": "<b>%{hovertext}</b><br><br>color=596<br>x1=%{x}<br>x2=%{y}<extra></extra>",
         "hovertext": [
          "harvester"
         ],
         "legendgroup": "596",
         "marker": {
          "color": "#19d3f3",
          "symbol": "circle"
         },
         "mode": "markers",
         "name": "596",
         "orientation": "v",
         "showlegend": true,
         "type": "scatter",
         "x": [
          -0.4557611346244812
         ],
         "xaxis": "x",
         "y": [
          -1.1771535873413086
         ],
         "yaxis": "y"
        },
        {
         "hovertemplate": "<b>%{hovertext}</b><br><br>color=353<br>x1=%{x}<br>x2=%{y}<extra></extra>",
         "hovertext": [
          "hatchet"
         ],
         "legendgroup": "353",
         "marker": {
          "color": "#FF6692",
          "symbol": "circle"
         },
         "mode": "markers",
         "name": "353",
         "orientation": "v",
         "showlegend": true,
         "type": "scatter",
         "x": [
          -4.480238437652588
         ],
         "xaxis": "x",
         "y": [
          1.071161150932312
         ],
         "yaxis": "y"
        },
        {
         "hovertemplate": "<b>%{hovertext}</b><br><br>color=242<br>x1=%{x}<br>x2=%{y}<extra></extra>",
         "hovertext": [
          "holster"
         ],
         "legendgroup": "242",
         "marker": {
          "color": "#B6E880",
          "symbol": "circle"
         },
         "mode": "markers",
         "name": "242",
         "orientation": "v",
         "showlegend": true,
         "type": "scatter",
         "x": [
          0.2880040109157562
         ],
         "xaxis": "x",
         "y": [
          0.8232461810112
         ],
         "yaxis": "y"
        },
        {
         "hovertemplate": "<b>%{hovertext}</b><br><br>color=293<br>x1=%{x}<br>x2=%{y}<extra></extra>",
         "hovertext": [
          "home theater"
         ],
         "legendgroup": "293",
         "marker": {
          "color": "#FF97FF",
          "symbol": "circle"
         },
         "mode": "markers",
         "name": "293",
         "orientation": "v",
         "showlegend": true,
         "type": "scatter",
         "x": [
          -2.424795389175415
         ],
         "xaxis": "x",
         "y": [
          -0.6900624632835388
         ],
         "yaxis": "y"
        },
        {
         "hovertemplate": "<b>%{hovertext}</b><br><br>color=279<br>x1=%{x}<br>x2=%{y}<extra></extra>",
         "hovertext": [
          "honeycomb"
         ],
         "legendgroup": "279",
         "marker": {
          "color": "#FECB52",
          "symbol": "circle"
         },
         "mode": "markers",
         "name": "279",
         "orientation": "v",
         "showlegend": true,
         "type": "scatter",
         "x": [
          -3.7864177227020264
         ],
         "xaxis": "x",
         "y": [
          2.023200273513794
         ],
         "yaxis": "y"
        },
        {
         "hovertemplate": "<b>%{hovertext}</b><br><br>color=823<br>x1=%{x}<br>x2=%{y}<extra></extra>",
         "hovertext": [
          "hook"
         ],
         "legendgroup": "823",
         "marker": {
          "color": "#636efa",
          "symbol": "circle"
         },
         "mode": "markers",
         "name": "823",
         "orientation": "v",
         "showlegend": true,
         "type": "scatter",
         "x": [
          -1.6848177909851074
         ],
         "xaxis": "x",
         "y": [
          -0.6414828300476074
         ],
         "yaxis": "y"
        },
        {
         "hovertemplate": "<b>%{hovertext}</b><br><br>color=655<br>x1=%{x}<br>x2=%{y}<extra></extra>",
         "hovertext": [
          "hoopskirt"
         ],
         "legendgroup": "655",
         "marker": {
          "color": "#EF553B",
          "symbol": "circle"
         },
         "mode": "markers",
         "name": "655",
         "orientation": "v",
         "showlegend": true,
         "type": "scatter",
         "x": [
          2.998929262161255
         ],
         "xaxis": "x",
         "y": [
          -1.08083975315094
         ],
         "yaxis": "y"
        },
        {
         "hovertemplate": "<b>%{hovertext}</b><br><br>color=310<br>x1=%{x}<br>x2=%{y}<extra></extra>",
         "hovertext": [
          "horizontal bar"
         ],
         "legendgroup": "310",
         "marker": {
          "color": "#00cc96",
          "symbol": "circle"
         },
         "mode": "markers",
         "name": "310",
         "orientation": "v",
         "showlegend": true,
         "type": "scatter",
         "x": [
          -0.6747021675109863
         ],
         "xaxis": "x",
         "y": [
          -0.8544276356697083
         ],
         "yaxis": "y"
        },
        {
         "hovertemplate": "<b>%{hovertext}</b><br><br>color=271<br>x1=%{x}<br>x2=%{y}<extra></extra>",
         "hovertext": [
          "horse cart"
         ],
         "legendgroup": "271",
         "marker": {
          "color": "#ab63fa",
          "symbol": "circle"
         },
         "mode": "markers",
         "name": "271",
         "orientation": "v",
         "showlegend": true,
         "type": "scatter",
         "x": [
          0.04958344250917435
         ],
         "xaxis": "x",
         "y": [
          1.2259347438812256
         ],
         "yaxis": "y"
        },
        {
         "hovertemplate": "<b>%{hovertext}</b><br><br>color=664<br>x1=%{x}<br>x2=%{y}<extra></extra>",
         "hovertext": [
          "hourglass"
         ],
         "legendgroup": "664",
         "marker": {
          "color": "#FFA15A",
          "symbol": "circle"
         },
         "mode": "markers",
         "name": "664",
         "orientation": "v",
         "showlegend": true,
         "type": "scatter",
         "x": [
          -4.147193908691406
         ],
         "xaxis": "x",
         "y": [
          -0.42530396580696106
         ],
         "yaxis": "y"
        },
        {
         "hovertemplate": "<b>%{hovertext}</b><br><br>color=881<br>x1=%{x}<br>x2=%{y}<extra></extra>",
         "hovertext": [
          "iPod"
         ],
         "legendgroup": "881",
         "marker": {
          "color": "#19d3f3",
          "symbol": "circle"
         },
         "mode": "markers",
         "name": "881",
         "orientation": "v",
         "showlegend": true,
         "type": "scatter",
         "x": [
          1.0197175741195679
         ],
         "xaxis": "x",
         "y": [
          -0.7547878623008728
         ],
         "yaxis": "y"
        },
        {
         "hovertemplate": "<b>%{hovertext}</b><br><br>color=681<br>x1=%{x}<br>x2=%{y}<extra></extra>",
         "hovertext": [
          "iron"
         ],
         "legendgroup": "681",
         "marker": {
          "color": "#FF6692",
          "symbol": "circle"
         },
         "mode": "markers",
         "name": "681",
         "orientation": "v",
         "showlegend": true,
         "type": "scatter",
         "x": [
          -1.9263986349105835
         ],
         "xaxis": "x",
         "y": [
          -0.2588759958744049
         ],
         "yaxis": "y"
        },
        {
         "hovertemplate": "<b>%{hovertext}</b><br><br>color=287<br>x1=%{x}<br>x2=%{y}<extra></extra>",
         "hovertext": [
          "jack-o'-lantern"
         ],
         "legendgroup": "287",
         "marker": {
          "color": "#B6E880",
          "symbol": "circle"
         },
         "mode": "markers",
         "name": "287",
         "orientation": "v",
         "showlegend": true,
         "type": "scatter",
         "x": [
          2.1513025760650635
         ],
         "xaxis": "x",
         "y": [
          1.224149465560913
         ],
         "yaxis": "y"
        },
        {
         "hovertemplate": "<b>%{hovertext}</b><br><br>color=414<br>x1=%{x}<br>x2=%{y}<extra></extra>",
         "hovertext": [
          "jean"
         ],
         "legendgroup": "414",
         "marker": {
          "color": "#FF97FF",
          "symbol": "circle"
         },
         "mode": "markers",
         "name": "414",
         "orientation": "v",
         "showlegend": true,
         "type": "scatter",
         "x": [
          4.728643417358398
         ],
         "xaxis": "x",
         "y": [
          -1.2465174198150635
         ],
         "yaxis": "y"
        },
        {
         "hovertemplate": "<b>%{hovertext}</b><br><br>color=652<br>x1=%{x}<br>x2=%{y}<extra></extra>",
         "hovertext": [
          "jeep"
         ],
         "legendgroup": "652",
         "marker": {
          "color": "#FECB52",
          "symbol": "circle"
         },
         "mode": "markers",
         "name": "652",
         "orientation": "v",
         "showlegend": true,
         "type": "scatter",
         "x": [
          -0.02464752085506916
         ],
         "xaxis": "x",
         "y": [
          -1.6873434782028198
         ],
         "yaxis": "y"
        },
        {
         "hovertemplate": "<b>%{hovertext}</b><br><br>color=393<br>x1=%{x}<br>x2=%{y}<extra></extra>",
         "hovertext": [
          "jersey"
         ],
         "legendgroup": "393",
         "marker": {
          "color": "#636efa",
          "symbol": "circle"
         },
         "mode": "markers",
         "name": "393",
         "orientation": "v",
         "showlegend": true,
         "type": "scatter",
         "x": [
          2.8929781913757324
         ],
         "xaxis": "x",
         "y": [
          -1.8446917533874512
         ],
         "yaxis": "y"
        },
        {
         "hovertemplate": "<b>%{hovertext}</b><br><br>color=386<br>x1=%{x}<br>x2=%{y}<extra></extra>",
         "hovertext": [
          "jigsaw puzzle"
         ],
         "legendgroup": "386",
         "marker": {
          "color": "#EF553B",
          "symbol": "circle"
         },
         "mode": "markers",
         "name": "386",
         "orientation": "v",
         "showlegend": true,
         "type": "scatter",
         "x": [
          0.10982275009155273
         ],
         "xaxis": "x",
         "y": [
          -1.4845340251922607
         ],
         "yaxis": "y"
        },
        {
         "hovertemplate": "<b>%{hovertext}</b><br><br>color=330<br>x1=%{x}<br>x2=%{y}<extra></extra>",
         "hovertext": [
          "jinrikisha"
         ],
         "legendgroup": "330",
         "marker": {
          "color": "#00cc96",
          "symbol": "circle"
         },
         "mode": "markers",
         "name": "330",
         "orientation": "v",
         "showlegend": true,
         "type": "scatter",
         "x": [
          4.556586742401123
         ],
         "xaxis": "x",
         "y": [
          -0.8817901611328125
         ],
         "yaxis": "y"
        },
        {
         "hovertemplate": "<b>%{hovertext}</b><br><br>color=650<br>x1=%{x}<br>x2=%{y}<extra></extra>",
         "hovertext": [
          "joystick"
         ],
         "legendgroup": "650",
         "marker": {
          "color": "#ab63fa",
          "symbol": "circle"
         },
         "mode": "markers",
         "name": "650",
         "orientation": "v",
         "showlegend": true,
         "type": "scatter",
         "x": [
          -4.497646808624268
         ],
         "xaxis": "x",
         "y": [
          -2.115846633911133
         ],
         "yaxis": "y"
        },
        {
         "hovertemplate": "<b>%{hovertext}</b><br><br>color=339<br>x1=%{x}<br>x2=%{y}<extra></extra>",
         "hovertext": [
          "kimono"
         ],
         "legendgroup": "339",
         "marker": {
          "color": "#FFA15A",
          "symbol": "circle"
         },
         "mode": "markers",
         "name": "339",
         "orientation": "v",
         "showlegend": true,
         "type": "scatter",
         "x": [
          1.0528889894485474
         ],
         "xaxis": "x",
         "y": [
          0.9288407564163208
         ],
         "yaxis": "y"
        },
        {
         "hovertemplate": "<b>%{hovertext}</b><br><br>color=255<br>x1=%{x}<br>x2=%{y}<extra></extra>",
         "hovertext": [
          "knee pad"
         ],
         "legendgroup": "255",
         "marker": {
          "color": "#19d3f3",
          "symbol": "circle"
         },
         "mode": "markers",
         "name": "255",
         "orientation": "v",
         "showlegend": true,
         "type": "scatter",
         "x": [
          -4.332475662231445
         ],
         "xaxis": "x",
         "y": [
          -0.38094866275787354
         ],
         "yaxis": "y"
        },
        {
         "hovertemplate": "<b>%{hovertext}</b><br><br>color=809<br>x1=%{x}<br>x2=%{y}<extra></extra>",
         "hovertext": [
          "knot"
         ],
         "legendgroup": "809",
         "marker": {
          "color": "#FF6692",
          "symbol": "circle"
         },
         "mode": "markers",
         "name": "809",
         "orientation": "v",
         "showlegend": true,
         "type": "scatter",
         "x": [
          -7.2406535148620605
         ],
         "xaxis": "x",
         "y": [
          -1.6893495321273804
         ],
         "yaxis": "y"
        },
        {
         "hovertemplate": "<b>%{hovertext}</b><br><br>color=150<br>x1=%{x}<br>x2=%{y}<extra></extra>",
         "hovertext": [
          "lab coat"
         ],
         "legendgroup": "150",
         "marker": {
          "color": "#B6E880",
          "symbol": "circle"
         },
         "mode": "markers",
         "name": "150",
         "orientation": "v",
         "showlegend": true,
         "type": "scatter",
         "x": [
          -1.4560233354568481
         ],
         "xaxis": "x",
         "y": [
          -1.3712000846862793
         ],
         "yaxis": "y"
        },
        {
         "hovertemplate": "<b>%{hovertext}</b><br><br>color=722<br>x1=%{x}<br>x2=%{y}<extra></extra>",
         "hovertext": [
          "ladle"
         ],
         "legendgroup": "722",
         "marker": {
          "color": "#FF97FF",
          "symbol": "circle"
         },
         "mode": "markers",
         "name": "722",
         "orientation": "v",
         "showlegend": true,
         "type": "scatter",
         "x": [
          -4.848834991455078
         ],
         "xaxis": "x",
         "y": [
          0.08152259141206741
         ],
         "yaxis": "y"
        },
        {
         "hovertemplate": "<b>%{hovertext}</b><br><br>color=324<br>x1=%{x}<br>x2=%{y}<extra></extra>",
         "hovertext": [
          "lampshade"
         ],
         "legendgroup": "324",
         "marker": {
          "color": "#FECB52",
          "symbol": "circle"
         },
         "mode": "markers",
         "name": "324",
         "orientation": "v",
         "showlegend": true,
         "type": "scatter",
         "x": [
          0.8537096381187439
         ],
         "xaxis": "x",
         "y": [
          -3.207490921020508
         ],
         "yaxis": "y"
        },
        {
         "hovertemplate": "<b>%{hovertext}</b><br><br>color=410<br>x1=%{x}<br>x2=%{y}<extra></extra>",
         "hovertext": [
          "laptop"
         ],
         "legendgroup": "410",
         "marker": {
          "color": "#636efa",
          "symbol": "circle"
         },
         "mode": "markers",
         "name": "410",
         "orientation": "v",
         "showlegend": true,
         "type": "scatter",
         "x": [
          -1.665581226348877
         ],
         "xaxis": "x",
         "y": [
          -2.8991482257843018
         ],
         "yaxis": "y"
        },
        {
         "hovertemplate": "<b>%{hovertext}</b><br><br>color=556<br>x1=%{x}<br>x2=%{y}<extra></extra>",
         "hovertext": [
          "lawn mower"
         ],
         "legendgroup": "556",
         "marker": {
          "color": "#EF553B",
          "symbol": "circle"
         },
         "mode": "markers",
         "name": "556",
         "orientation": "v",
         "showlegend": true,
         "type": "scatter",
         "x": [
          3.051433563232422
         ],
         "xaxis": "x",
         "y": [
          -0.7893673181533813
         ],
         "yaxis": "y"
        },
        {
         "hovertemplate": "<b>%{hovertext}</b><br><br>color=300<br>x1=%{x}<br>x2=%{y}<extra></extra>",
         "hovertext": [
          "lens cap"
         ],
         "legendgroup": "300",
         "marker": {
          "color": "#00cc96",
          "symbol": "circle"
         },
         "mode": "markers",
         "name": "300",
         "orientation": "v",
         "showlegend": true,
         "type": "scatter",
         "x": [
          -0.7812325358390808
         ],
         "xaxis": "x",
         "y": [
          -3.3796751499176025
         ],
         "yaxis": "y"
        },
        {
         "hovertemplate": "<b>%{hovertext}</b><br><br>color=744<br>x1=%{x}<br>x2=%{y}<extra></extra>",
         "hovertext": [
          "letter opener"
         ],
         "legendgroup": "744",
         "marker": {
          "color": "#ab63fa",
          "symbol": "circle"
         },
         "mode": "markers",
         "name": "744",
         "orientation": "v",
         "showlegend": true,
         "type": "scatter",
         "x": [
          4.330608367919922
         ],
         "xaxis": "x",
         "y": [
          -1.5340077877044678
         ],
         "yaxis": "y"
        },
        {
         "hovertemplate": "<b>%{hovertext}</b><br><br>color=218<br>x1=%{x}<br>x2=%{y}<extra></extra>",
         "hovertext": [
          "library"
         ],
         "legendgroup": "218",
         "marker": {
          "color": "#FFA15A",
          "symbol": "circle"
         },
         "mode": "markers",
         "name": "218",
         "orientation": "v",
         "showlegend": true,
         "type": "scatter",
         "x": [
          -6.452132701873779
         ],
         "xaxis": "x",
         "y": [
          0.32505831122398376
         ],
         "yaxis": "y"
        },
        {
         "hovertemplate": "<b>%{hovertext}</b><br><br>color=415<br>x1=%{x}<br>x2=%{y}<extra></extra>",
         "hovertext": [
          "lifeboat"
         ],
         "legendgroup": "415",
         "marker": {
          "color": "#19d3f3",
          "symbol": "circle"
         },
         "mode": "markers",
         "name": "415",
         "orientation": "v",
         "showlegend": true,
         "type": "scatter",
         "x": [
          -3.904452323913574
         ],
         "xaxis": "x",
         "y": [
          -0.9168495535850525
         ],
         "yaxis": "y"
        },
        {
         "hovertemplate": "<b>%{hovertext}</b><br><br>color=504<br>x1=%{x}<br>x2=%{y}<extra></extra>",
         "hovertext": [
          "lighter"
         ],
         "legendgroup": "504",
         "marker": {
          "color": "#FF6692",
          "symbol": "circle"
         },
         "mode": "markers",
         "name": "504",
         "orientation": "v",
         "showlegend": true,
         "type": "scatter",
         "x": [
          3.031303644180298
         ],
         "xaxis": "x",
         "y": [
          -2.6699419021606445
         ],
         "yaxis": "y"
        },
        {
         "hovertemplate": "<b>%{hovertext}</b><br><br>color=811<br>x1=%{x}<br>x2=%{y}<extra></extra>",
         "hovertext": [
          "limousine"
         ],
         "legendgroup": "811",
         "marker": {
          "color": "#B6E880",
          "symbol": "circle"
         },
         "mode": "markers",
         "name": "811",
         "orientation": "v",
         "showlegend": true,
         "type": "scatter",
         "x": [
          2.3232250213623047
         ],
         "xaxis": "x",
         "y": [
          -1.9140827655792236
         ],
         "yaxis": "y"
        },
        {
         "hovertemplate": "<b>%{hovertext}</b><br><br>color=370<br>x1=%{x}<br>x2=%{y}<extra></extra>",
         "hovertext": [
          "liner"
         ],
         "legendgroup": "370",
         "marker": {
          "color": "#FF97FF",
          "symbol": "circle"
         },
         "mode": "markers",
         "name": "370",
         "orientation": "v",
         "showlegend": true,
         "type": "scatter",
         "x": [
          -2.352705478668213
         ],
         "xaxis": "x",
         "y": [
          -0.10744794458150864
         ],
         "yaxis": "y"
        },
        {
         "hovertemplate": "<b>%{hovertext}</b><br><br>color=572<br>x1=%{x}<br>x2=%{y}<extra></extra>",
         "hovertext": [
          "lipstick"
         ],
         "legendgroup": "572",
         "marker": {
          "color": "#FECB52",
          "symbol": "circle"
         },
         "mode": "markers",
         "name": "572",
         "orientation": "v",
         "showlegend": true,
         "type": "scatter",
         "x": [
          2.911717176437378
         ],
         "xaxis": "x",
         "y": [
          -0.3824843168258667
         ],
         "yaxis": "y"
        },
        {
         "hovertemplate": "<b>%{hovertext}</b><br><br>color=184<br>x1=%{x}<br>x2=%{y}<extra></extra>",
         "hovertext": [
          "Loafer"
         ],
         "legendgroup": "184",
         "marker": {
          "color": "#636efa",
          "symbol": "circle"
         },
         "mode": "markers",
         "name": "184",
         "orientation": "v",
         "showlegend": true,
         "type": "scatter",
         "x": [
          -0.28984934091567993
         ],
         "xaxis": "x",
         "y": [
          0.8120739459991455
         ],
         "yaxis": "y"
        },
        {
         "hovertemplate": "<b>%{hovertext}</b><br><br>color=539<br>x1=%{x}<br>x2=%{y}<extra></extra>",
         "hovertext": [
          "lotion"
         ],
         "legendgroup": "539",
         "marker": {
          "color": "#EF553B",
          "symbol": "circle"
         },
         "mode": "markers",
         "name": "539",
         "orientation": "v",
         "showlegend": true,
         "type": "scatter",
         "x": [
          -3.8849074840545654
         ],
         "xaxis": "x",
         "y": [
          -1.5872188806533813
         ],
         "yaxis": "y"
        },
        {
         "hovertemplate": "<b>%{hovertext}</b><br><br>color=428<br>x1=%{x}<br>x2=%{y}<extra></extra>",
         "hovertext": [
          "loudspeaker"
         ],
         "legendgroup": "428",
         "marker": {
          "color": "#00cc96",
          "symbol": "circle"
         },
         "mode": "markers",
         "name": "428",
         "orientation": "v",
         "showlegend": true,
         "type": "scatter",
         "x": [
          6.5378828048706055
         ],
         "xaxis": "x",
         "y": [
          -4.240978717803955
         ],
         "yaxis": "y"
        },
        {
         "hovertemplate": "<b>%{hovertext}</b><br><br>color=243<br>x1=%{x}<br>x2=%{y}<extra></extra>",
         "hovertext": [
          "loupe"
         ],
         "legendgroup": "243",
         "marker": {
          "color": "#ab63fa",
          "symbol": "circle"
         },
         "mode": "markers",
         "name": "243",
         "orientation": "v",
         "showlegend": true,
         "type": "scatter",
         "x": [
          3.2342123985290527
         ],
         "xaxis": "x",
         "y": [
          -0.37077102065086365
         ],
         "yaxis": "y"
        },
        {
         "hovertemplate": "<b>%{hovertext}</b><br><br>color=331<br>x1=%{x}<br>x2=%{y}<extra></extra>",
         "hovertext": [
          "lumbermill"
         ],
         "legendgroup": "331",
         "marker": {
          "color": "#FFA15A",
          "symbol": "circle"
         },
         "mode": "markers",
         "name": "331",
         "orientation": "v",
         "showlegend": true,
         "type": "scatter",
         "x": [
          -0.03536469489336014
         ],
         "xaxis": "x",
         "y": [
          -0.49651962518692017
         ],
         "yaxis": "y"
        },
        {
         "hovertemplate": "<b>%{hovertext}</b><br><br>color=638<br>x1=%{x}<br>x2=%{y}<extra></extra>",
         "hovertext": [
          "magnetic compass"
         ],
         "legendgroup": "638",
         "marker": {
          "color": "#19d3f3",
          "symbol": "circle"
         },
         "mode": "markers",
         "name": "638",
         "orientation": "v",
         "showlegend": true,
         "type": "scatter",
         "x": [
          -4.324652194976807
         ],
         "xaxis": "x",
         "y": [
          -0.11041729152202606
         ],
         "yaxis": "y"
        },
        {
         "hovertemplate": "<b>%{hovertext}</b><br><br>color=277<br>x1=%{x}<br>x2=%{y}<extra></extra>",
         "hovertext": [
          "mailbag"
         ],
         "legendgroup": "277",
         "marker": {
          "color": "#FF6692",
          "symbol": "circle"
         },
         "mode": "markers",
         "name": "277",
         "orientation": "v",
         "showlegend": true,
         "type": "scatter",
         "x": [
          -1.5906257629394531
         ],
         "xaxis": "x",
         "y": [
          -0.3488830327987671
         ],
         "yaxis": "y"
        },
        {
         "hovertemplate": "<b>%{hovertext}</b><br><br>color=404<br>x1=%{x}<br>x2=%{y}<extra></extra>",
         "hovertext": [
          "mailbox"
         ],
         "legendgroup": "404",
         "marker": {
          "color": "#B6E880",
          "symbol": "circle"
         },
         "mode": "markers",
         "name": "404",
         "orientation": "v",
         "showlegend": true,
         "type": "scatter",
         "x": [
          -0.6225525736808777
         ],
         "xaxis": "x",
         "y": [
          -2.1968111991882324
         ],
         "yaxis": "y"
        },
        {
         "hovertemplate": "<b>%{hovertext}</b><br><br>color=217<br>x1=%{x}<br>x2=%{y}<extra></extra>",
         "hovertext": [
          "maillot"
         ],
         "legendgroup": "217",
         "marker": {
          "color": "#FF97FF",
          "symbol": "circle"
         },
         "mode": "markers",
         "name": "217",
         "orientation": "v",
         "showlegend": true,
         "type": "scatter",
         "x": [
          -4.7329230308532715
         ],
         "xaxis": "x",
         "y": [
          0.9138370156288147
         ],
         "yaxis": "y"
        },
        {
         "hovertemplate": "<b>%{hovertext}</b><br><br>color=694<br>x1=%{x}<br>x2=%{y}<extra></extra>",
         "hovertext": [
          "maillot"
         ],
         "legendgroup": "694",
         "marker": {
          "color": "#FECB52",
          "symbol": "circle"
         },
         "mode": "markers",
         "name": "694",
         "orientation": "v",
         "showlegend": true,
         "type": "scatter",
         "x": [
          -1.8118200302124023
         ],
         "xaxis": "x",
         "y": [
          -0.6144957542419434
         ],
         "yaxis": "y"
        },
        {
         "hovertemplate": "<b>%{hovertext}</b><br><br>color=625<br>x1=%{x}<br>x2=%{y}<extra></extra>",
         "hovertext": [
          "manhole cover"
         ],
         "legendgroup": "625",
         "marker": {
          "color": "#636efa",
          "symbol": "circle"
         },
         "mode": "markers",
         "name": "625",
         "orientation": "v",
         "showlegend": true,
         "type": "scatter",
         "x": [
          -2.449845790863037
         ],
         "xaxis": "x",
         "y": [
          -0.7782573699951172
         ],
         "yaxis": "y"
        },
        {
         "hovertemplate": "<b>%{hovertext}</b><br><br>color=375<br>x1=%{x}<br>x2=%{y}<extra></extra>",
         "hovertext": [
          "maraca"
         ],
         "legendgroup": "375",
         "marker": {
          "color": "#EF553B",
          "symbol": "circle"
         },
         "mode": "markers",
         "name": "375",
         "orientation": "v",
         "showlegend": true,
         "type": "scatter",
         "x": [
          -0.3868338465690613
         ],
         "xaxis": "x",
         "y": [
          4.370567798614502
         ],
         "yaxis": "y"
        },
        {
         "hovertemplate": "<b>%{hovertext}</b><br><br>color=312<br>x1=%{x}<br>x2=%{y}<extra></extra>",
         "hovertext": [
          "marimba"
         ],
         "legendgroup": "312",
         "marker": {
          "color": "#00cc96",
          "symbol": "circle"
         },
         "mode": "markers",
         "name": "312",
         "orientation": "v",
         "showlegend": true,
         "type": "scatter",
         "x": [
          4.523427486419678
         ],
         "xaxis": "x",
         "y": [
          -1.4539422988891602
         ],
         "yaxis": "y"
        },
        {
         "hovertemplate": "<b>%{hovertext}</b><br><br>color=288<br>x1=%{x}<br>x2=%{y}<extra></extra>",
         "hovertext": [
          "mask"
         ],
         "legendgroup": "288",
         "marker": {
          "color": "#ab63fa",
          "symbol": "circle"
         },
         "mode": "markers",
         "name": "288",
         "orientation": "v",
         "showlegend": true,
         "type": "scatter",
         "x": [
          -7.214034080505371
         ],
         "xaxis": "x",
         "y": [
          -1.0301094055175781
         ],
         "yaxis": "y"
        },
        {
         "hovertemplate": "<b>%{hovertext}</b><br><br>color=536<br>x1=%{x}<br>x2=%{y}<extra></extra>",
         "hovertext": [
          "matchstick"
         ],
         "legendgroup": "536",
         "marker": {
          "color": "#FFA15A",
          "symbol": "circle"
         },
         "mode": "markers",
         "name": "536",
         "orientation": "v",
         "showlegend": true,
         "type": "scatter",
         "x": [
          -4.659891128540039
         ],
         "xaxis": "x",
         "y": [
          -1.1967157125473022
         ],
         "yaxis": "y"
        },
        {
         "hovertemplate": "<b>%{hovertext}</b><br><br>color=700<br>x1=%{x}<br>x2=%{y}<extra></extra>",
         "hovertext": [
          "maypole"
         ],
         "legendgroup": "700",
         "marker": {
          "color": "#19d3f3",
          "symbol": "circle"
         },
         "mode": "markers",
         "name": "700",
         "orientation": "v",
         "showlegend": true,
         "type": "scatter",
         "x": [
          -4.245938301086426
         ],
         "xaxis": "x",
         "y": [
          0.032289277762174606
         ],
         "yaxis": "y"
        },
        {
         "hovertemplate": "<b>%{hovertext}</b><br><br>color=716<br>x1=%{x}<br>x2=%{y}<extra></extra>",
         "hovertext": [
          "maze"
         ],
         "legendgroup": "716",
         "marker": {
          "color": "#FF6692",
          "symbol": "circle"
         },
         "mode": "markers",
         "name": "716",
         "orientation": "v",
         "showlegend": true,
         "type": "scatter",
         "x": [
          -1.2364405393600464
         ],
         "xaxis": "x",
         "y": [
          0.543803334236145
         ],
         "yaxis": "y"
        },
        {
         "hovertemplate": "<b>%{hovertext}</b><br><br>color=444<br>x1=%{x}<br>x2=%{y}<extra></extra>",
         "hovertext": [
          "measuring cup"
         ],
         "legendgroup": "444",
         "marker": {
          "color": "#B6E880",
          "symbol": "circle"
         },
         "mode": "markers",
         "name": "444",
         "orientation": "v",
         "showlegend": true,
         "type": "scatter",
         "x": [
          -5.321261405944824
         ],
         "xaxis": "x",
         "y": [
          2.744713306427002
         ],
         "yaxis": "y"
        },
        {
         "hovertemplate": "<b>%{hovertext}</b><br><br>color=629<br>x1=%{x}<br>x2=%{y}<extra></extra>",
         "hovertext": [
          "medicine chest"
         ],
         "legendgroup": "629",
         "marker": {
          "color": "#FF97FF",
          "symbol": "circle"
         },
         "mode": "markers",
         "name": "629",
         "orientation": "v",
         "showlegend": true,
         "type": "scatter",
         "x": [
          -1.9041295051574707
         ],
         "xaxis": "x",
         "y": [
          -2.8670568466186523
         ],
         "yaxis": "y"
        },
        {
         "hovertemplate": "<b>%{hovertext}</b><br><br>color=507<br>x1=%{x}<br>x2=%{y}<extra></extra>",
         "hovertext": [
          "megalith"
         ],
         "legendgroup": "507",
         "marker": {
          "color": "#FECB52",
          "symbol": "circle"
         },
         "mode": "markers",
         "name": "507",
         "orientation": "v",
         "showlegend": true,
         "type": "scatter",
         "x": [
          3.682781219482422
         ],
         "xaxis": "x",
         "y": [
          0.3247525095939636
         ],
         "yaxis": "y"
        },
        {
         "hovertemplate": "<b>%{hovertext}</b><br><br>color=190<br>x1=%{x}<br>x2=%{y}<extra></extra>",
         "hovertext": [
          "microphone"
         ],
         "legendgroup": "190",
         "marker": {
          "color": "#636efa",
          "symbol": "circle"
         },
         "mode": "markers",
         "name": "190",
         "orientation": "v",
         "showlegend": true,
         "type": "scatter",
         "x": [
          -0.2591250538825989
         ],
         "xaxis": "x",
         "y": [
          -1.854156732559204
         ],
         "yaxis": "y"
        },
        {
         "hovertemplate": "<b>%{hovertext}</b><br><br>color=508<br>x1=%{x}<br>x2=%{y}<extra></extra>",
         "hovertext": [
          "microwave"
         ],
         "legendgroup": "508",
         "marker": {
          "color": "#EF553B",
          "symbol": "circle"
         },
         "mode": "markers",
         "name": "508",
         "orientation": "v",
         "showlegend": true,
         "type": "scatter",
         "x": [
          -2.3293657302856445
         ],
         "xaxis": "x",
         "y": [
          -2.6271941661834717
         ],
         "yaxis": "y"
        },
        {
         "hovertemplate": "<b>%{hovertext}</b><br><br>color=371<br>x1=%{x}<br>x2=%{y}<extra></extra>",
         "hovertext": [
          "military uniform"
         ],
         "legendgroup": "371",
         "marker": {
          "color": "#00cc96",
          "symbol": "circle"
         },
         "mode": "markers",
         "name": "371",
         "orientation": "v",
         "showlegend": true,
         "type": "scatter",
         "x": [
          -4.430428504943848
         ],
         "xaxis": "x",
         "y": [
          -0.8140828013420105
         ],
         "yaxis": "y"
        },
        {
         "hovertemplate": "<b>%{hovertext}</b><br><br>color=475<br>x1=%{x}<br>x2=%{y}<extra></extra>",
         "hovertext": [
          "milk can"
         ],
         "legendgroup": "475",
         "marker": {
          "color": "#ab63fa",
          "symbol": "circle"
         },
         "mode": "markers",
         "name": "475",
         "orientation": "v",
         "showlegend": true,
         "type": "scatter",
         "x": [
          -5.136874198913574
         ],
         "xaxis": "x",
         "y": [
          -0.7317795753479004
         ],
         "yaxis": "y"
        },
        {
         "hovertemplate": "<b>%{hovertext}</b><br><br>color=405<br>x1=%{x}<br>x2=%{y}<extra></extra>",
         "hovertext": [
          "minibus"
         ],
         "legendgroup": "405",
         "marker": {
          "color": "#FFA15A",
          "symbol": "circle"
         },
         "mode": "markers",
         "name": "405",
         "orientation": "v",
         "showlegend": true,
         "type": "scatter",
         "x": [
          -3.6225173473358154
         ],
         "xaxis": "x",
         "y": [
          0.9146764874458313
         ],
         "yaxis": "y"
        },
        {
         "hovertemplate": "<b>%{hovertext}</b><br><br>color=254<br>x1=%{x}<br>x2=%{y}<extra></extra>",
         "hovertext": [
          "miniskirt"
         ],
         "legendgroup": "254",
         "marker": {
          "color": "#19d3f3",
          "symbol": "circle"
         },
         "mode": "markers",
         "name": "254",
         "orientation": "v",
         "showlegend": true,
         "type": "scatter",
         "x": [
          0.8565546870231628
         ],
         "xaxis": "x",
         "y": [
          -1.6246089935302734
         ],
         "yaxis": "y"
        },
        {
         "hovertemplate": "<b>%{hovertext}</b><br><br>color=276<br>x1=%{x}<br>x2=%{y}<extra></extra>",
         "hovertext": [
          "minivan"
         ],
         "legendgroup": "276",
         "marker": {
          "color": "#FF6692",
          "symbol": "circle"
         },
         "mode": "markers",
         "name": "276",
         "orientation": "v",
         "showlegend": true,
         "type": "scatter",
         "x": [
          -3.5252320766448975
         ],
         "xaxis": "x",
         "y": [
          -0.29413920640945435
         ],
         "yaxis": "y"
        },
        {
         "hovertemplate": "<b>%{hovertext}</b><br><br>color=223<br>x1=%{x}<br>x2=%{y}<extra></extra>",
         "hovertext": [
          "missile"
         ],
         "legendgroup": "223",
         "marker": {
          "color": "#B6E880",
          "symbol": "circle"
         },
         "mode": "markers",
         "name": "223",
         "orientation": "v",
         "showlegend": true,
         "type": "scatter",
         "x": [
          -6.234182834625244
         ],
         "xaxis": "x",
         "y": [
          -0.45307737588882446
         ],
         "yaxis": "y"
        },
        {
         "hovertemplate": "<b>%{hovertext}</b><br><br>color=844<br>x1=%{x}<br>x2=%{y}<extra></extra>",
         "hovertext": [
          "mitten"
         ],
         "legendgroup": "844",
         "marker": {
          "color": "#FF97FF",
          "symbol": "circle"
         },
         "mode": "markers",
         "name": "844",
         "orientation": "v",
         "showlegend": true,
         "type": "scatter",
         "x": [
          -5.049492835998535
         ],
         "xaxis": "x",
         "y": [
          -0.2007090002298355
         ],
         "yaxis": "y"
        },
        {
         "hovertemplate": "<b>%{hovertext}</b><br><br>color=656<br>x1=%{x}<br>x2=%{y}<extra></extra>",
         "hovertext": [
          "mixing bowl"
         ],
         "legendgroup": "656",
         "marker": {
          "color": "#FECB52",
          "symbol": "circle"
         },
         "mode": "markers",
         "name": "656",
         "orientation": "v",
         "showlegend": true,
         "type": "scatter",
         "x": [
          -5.148468494415283
         ],
         "xaxis": "x",
         "y": [
          0.18240080773830414
         ],
         "yaxis": "y"
        },
        {
         "hovertemplate": "<b>%{hovertext}</b><br><br>color=267<br>x1=%{x}<br>x2=%{y}<extra></extra>",
         "hovertext": [
          "mobile home"
         ],
         "legendgroup": "267",
         "marker": {
          "color": "#636efa",
          "symbol": "circle"
         },
         "mode": "markers",
         "name": "267",
         "orientation": "v",
         "showlegend": true,
         "type": "scatter",
         "x": [
          -1.6503053903579712
         ],
         "xaxis": "x",
         "y": [
          -1.9931206703186035
         ],
         "yaxis": "y"
        },
        {
         "hovertemplate": "<b>%{hovertext}</b><br><br>color=298<br>x1=%{x}<br>x2=%{y}<extra></extra>",
         "hovertext": [
          "Model T"
         ],
         "legendgroup": "298",
         "marker": {
          "color": "#EF553B",
          "symbol": "circle"
         },
         "mode": "markers",
         "name": "298",
         "orientation": "v",
         "showlegend": true,
         "type": "scatter",
         "x": [
          -3.102954387664795
         ],
         "xaxis": "x",
         "y": [
          -1.3576500415802002
         ],
         "yaxis": "y"
        },
        {
         "hovertemplate": "<b>%{hovertext}</b><br><br>color=316<br>x1=%{x}<br>x2=%{y}<extra></extra>",
         "hovertext": [
          "modem"
         ],
         "legendgroup": "316",
         "marker": {
          "color": "#00cc96",
          "symbol": "circle"
         },
         "mode": "markers",
         "name": "316",
         "orientation": "v",
         "showlegend": true,
         "type": "scatter",
         "x": [
          -4.104995250701904
         ],
         "xaxis": "x",
         "y": [
          0.14259803295135498
         ],
         "yaxis": "y"
        },
        {
         "hovertemplate": "<b>%{hovertext}</b><br><br>color=481<br>x1=%{x}<br>x2=%{y}<extra></extra>",
         "hovertext": [
          "monastery"
         ],
         "legendgroup": "481",
         "marker": {
          "color": "#ab63fa",
          "symbol": "circle"
         },
         "mode": "markers",
         "name": "481",
         "orientation": "v",
         "showlegend": true,
         "type": "scatter",
         "x": [
          -6.213207721710205
         ],
         "xaxis": "x",
         "y": [
          0.19097357988357544
         ],
         "yaxis": "y"
        },
        {
         "hovertemplate": "<b>%{hovertext}</b><br><br>color=171<br>x1=%{x}<br>x2=%{y}<extra></extra>",
         "hovertext": [
          "monitor"
         ],
         "legendgroup": "171",
         "marker": {
          "color": "#FFA15A",
          "symbol": "circle"
         },
         "mode": "markers",
         "name": "171",
         "orientation": "v",
         "showlegend": true,
         "type": "scatter",
         "x": [
          -6.962846279144287
         ],
         "xaxis": "x",
         "y": [
          0.20860916376113892
         ],
         "yaxis": "y"
        },
        {
         "hovertemplate": "<b>%{hovertext}</b><br><br>color=412<br>x1=%{x}<br>x2=%{y}<extra></extra>",
         "hovertext": [
          "moped"
         ],
         "legendgroup": "412",
         "marker": {
          "color": "#19d3f3",
          "symbol": "circle"
         },
         "mode": "markers",
         "name": "412",
         "orientation": "v",
         "showlegend": true,
         "type": "scatter",
         "x": [
          -4.977363109588623
         ],
         "xaxis": "x",
         "y": [
          -0.12051838636398315
         ],
         "yaxis": "y"
        },
        {
         "hovertemplate": "<b>%{hovertext}</b><br><br>color=474<br>x1=%{x}<br>x2=%{y}<extra></extra>",
         "hovertext": [
          "mortar"
         ],
         "legendgroup": "474",
         "marker": {
          "color": "#FF6692",
          "symbol": "circle"
         },
         "mode": "markers",
         "name": "474",
         "orientation": "v",
         "showlegend": true,
         "type": "scatter",
         "x": [
          -7.287040710449219
         ],
         "xaxis": "x",
         "y": [
          -1.4034024477005005
         ],
         "yaxis": "y"
        },
        {
         "hovertemplate": "<b>%{hovertext}</b><br><br>color=730<br>x1=%{x}<br>x2=%{y}<extra></extra>",
         "hovertext": [
          "mortarboard"
         ],
         "legendgroup": "730",
         "marker": {
          "color": "#B6E880",
          "symbol": "circle"
         },
         "mode": "markers",
         "name": "730",
         "orientation": "v",
         "showlegend": true,
         "type": "scatter",
         "x": [
          -4.581063747406006
         ],
         "xaxis": "x",
         "y": [
          -0.026369556784629822
         ],
         "yaxis": "y"
        },
        {
         "hovertemplate": "<b>%{hovertext}</b><br><br>color=870<br>x1=%{x}<br>x2=%{y}<extra></extra>",
         "hovertext": [
          "mosque"
         ],
         "legendgroup": "870",
         "marker": {
          "color": "#FF97FF",
          "symbol": "circle"
         },
         "mode": "markers",
         "name": "870",
         "orientation": "v",
         "showlegend": true,
         "type": "scatter",
         "x": [
          -6.329168796539307
         ],
         "xaxis": "x",
         "y": [
          0.006929091177880764
         ],
         "yaxis": "y"
        },
        {
         "hovertemplate": "<b>%{hovertext}</b><br><br>color=297<br>x1=%{x}<br>x2=%{y}<extra></extra>",
         "hovertext": [
          "mosquito net"
         ],
         "legendgroup": "297",
         "marker": {
          "color": "#FECB52",
          "symbol": "circle"
         },
         "mode": "markers",
         "name": "297",
         "orientation": "v",
         "showlegend": true,
         "type": "scatter",
         "x": [
          1.1798087358474731
         ],
         "xaxis": "x",
         "y": [
          1.7324583530426025
         ],
         "yaxis": "y"
        },
        {
         "hovertemplate": "<b>%{hovertext}</b><br><br>color=541<br>x1=%{x}<br>x2=%{y}<extra></extra>",
         "hovertext": [
          "motor scooter"
         ],
         "legendgroup": "541",
         "marker": {
          "color": "#636efa",
          "symbol": "circle"
         },
         "mode": "markers",
         "name": "541",
         "orientation": "v",
         "showlegend": true,
         "type": "scatter",
         "x": [
          2.9249258041381836
         ],
         "xaxis": "x",
         "y": [
          0.3192169964313507
         ],
         "yaxis": "y"
        },
        {
         "hovertemplate": "<b>%{hovertext}</b><br><br>color=318<br>x1=%{x}<br>x2=%{y}<extra></extra>",
         "hovertext": [
          "mountain bike"
         ],
         "legendgroup": "318",
         "marker": {
          "color": "#EF553B",
          "symbol": "circle"
         },
         "mode": "markers",
         "name": "318",
         "orientation": "v",
         "showlegend": true,
         "type": "scatter",
         "x": [
          4.336671829223633
         ],
         "xaxis": "x",
         "y": [
          -2.815965175628662
         ],
         "yaxis": "y"
        },
        {
         "hovertemplate": "<b>%{hovertext}</b><br><br>color=327<br>x1=%{x}<br>x2=%{y}<extra></extra>",
         "hovertext": [
          "mountain tent"
         ],
         "legendgroup": "327",
         "marker": {
          "color": "#00cc96",
          "symbol": "circle"
         },
         "mode": "markers",
         "name": "327",
         "orientation": "v",
         "showlegend": true,
         "type": "scatter",
         "x": [
          -5.566599369049072
         ],
         "xaxis": "x",
         "y": [
          1.2700765132904053
         ],
         "yaxis": "y"
        },
        {
         "hovertemplate": "<b>%{hovertext}</b><br><br>color=411<br>x1=%{x}<br>x2=%{y}<extra></extra>",
         "hovertext": [
          "mouse"
         ],
         "legendgroup": "411",
         "marker": {
          "color": "#ab63fa",
          "symbol": "circle"
         },
         "mode": "markers",
         "name": "411",
         "orientation": "v",
         "showlegend": true,
         "type": "scatter",
         "x": [
          -1.3651009798049927
         ],
         "xaxis": "x",
         "y": [
          -2.2949044704437256
         ],
         "yaxis": "y"
        },
        {
         "hovertemplate": "<b>%{hovertext}</b><br><br>color=684<br>x1=%{x}<br>x2=%{y}<extra></extra>",
         "hovertext": [
          "mousetrap"
         ],
         "legendgroup": "684",
         "marker": {
          "color": "#FFA15A",
          "symbol": "circle"
         },
         "mode": "markers",
         "name": "684",
         "orientation": "v",
         "showlegend": true,
         "type": "scatter",
         "x": [
          1.5848034620285034
         ],
         "xaxis": "x",
         "y": [
          0.3975670337677002
         ],
         "yaxis": "y"
        },
        {
         "hovertemplate": "<b>%{hovertext}</b><br><br>color=251<br>x1=%{x}<br>x2=%{y}<extra></extra>",
         "hovertext": [
          "moving van"
         ],
         "legendgroup": "251",
         "marker": {
          "color": "#19d3f3",
          "symbol": "circle"
         },
         "mode": "markers",
         "name": "251",
         "orientation": "v",
         "showlegend": true,
         "type": "scatter",
         "x": [
          -5.432162761688232
         ],
         "xaxis": "x",
         "y": [
          -0.5781568288803101
         ],
         "yaxis": "y"
        },
        {
         "hovertemplate": "<b>%{hovertext}</b><br><br>color=202<br>x1=%{x}<br>x2=%{y}<extra></extra>",
         "hovertext": [
          "muzzle"
         ],
         "legendgroup": "202",
         "marker": {
          "color": "#FF6692",
          "symbol": "circle"
         },
         "mode": "markers",
         "name": "202",
         "orientation": "v",
         "showlegend": true,
         "type": "scatter",
         "x": [
          -6.328222274780273
         ],
         "xaxis": "x",
         "y": [
          -0.6266605257987976
         ],
         "yaxis": "y"
        },
        {
         "hovertemplate": "<b>%{hovertext}</b><br><br>color=356<br>x1=%{x}<br>x2=%{y}<extra></extra>",
         "hovertext": [
          "nail"
         ],
         "legendgroup": "356",
         "marker": {
          "color": "#B6E880",
          "symbol": "circle"
         },
         "mode": "markers",
         "name": "356",
         "orientation": "v",
         "showlegend": true,
         "type": "scatter",
         "x": [
          -7.390078067779541
         ],
         "xaxis": "x",
         "y": [
          -0.431650847196579
         ],
         "yaxis": "y"
        },
        {
         "hovertemplate": "<b>%{hovertext}</b><br><br>color=643<br>x1=%{x}<br>x2=%{y}<extra></extra>",
         "hovertext": [
          "neck brace"
         ],
         "legendgroup": "643",
         "marker": {
          "color": "#FF97FF",
          "symbol": "circle"
         },
         "mode": "markers",
         "name": "643",
         "orientation": "v",
         "showlegend": true,
         "type": "scatter",
         "x": [
          -4.296533107757568
         ],
         "xaxis": "x",
         "y": [
          -2.1651909351348877
         ],
         "yaxis": "y"
        },
        {
         "hovertemplate": "<b>%{hovertext}</b><br><br>color=433<br>x1=%{x}<br>x2=%{y}<extra></extra>",
         "hovertext": [
          "necklace"
         ],
         "legendgroup": "433",
         "marker": {
          "color": "#FECB52",
          "symbol": "circle"
         },
         "mode": "markers",
         "name": "433",
         "orientation": "v",
         "showlegend": true,
         "type": "scatter",
         "x": [
          -6.7765655517578125
         ],
         "xaxis": "x",
         "y": [
          0.36523231863975525
         ],
         "yaxis": "y"
        },
        {
         "hovertemplate": "<b>%{hovertext}</b><br><br>color=847<br>x1=%{x}<br>x2=%{y}<extra></extra>",
         "hovertext": [
          "nipple"
         ],
         "legendgroup": "847",
         "marker": {
          "color": "#636efa",
          "symbol": "circle"
         },
         "mode": "markers",
         "name": "847",
         "orientation": "v",
         "showlegend": true,
         "type": "scatter",
         "x": [
          -7.2328410148620605
         ],
         "xaxis": "x",
         "y": [
          -0.20956750214099884
         ],
         "yaxis": "y"
        },
        {
         "hovertemplate": "<b>%{hovertext}</b><br><br>color=149<br>x1=%{x}<br>x2=%{y}<extra></extra>",
         "hovertext": [
          "notebook"
         ],
         "legendgroup": "149",
         "marker": {
          "color": "#EF553B",
          "symbol": "circle"
         },
         "mode": "markers",
         "name": "149",
         "orientation": "v",
         "showlegend": true,
         "type": "scatter",
         "x": [
          -2.515657424926758
         ],
         "xaxis": "x",
         "y": [
          -2.980909824371338
         ],
         "yaxis": "y"
        },
        {
         "hovertemplate": "<b>%{hovertext}</b><br><br>color=278<br>x1=%{x}<br>x2=%{y}<extra></extra>",
         "hovertext": [
          "obelisk"
         ],
         "legendgroup": "278",
         "marker": {
          "color": "#00cc96",
          "symbol": "circle"
         },
         "mode": "markers",
         "name": "278",
         "orientation": "v",
         "showlegend": true,
         "type": "scatter",
         "x": [
          2.079447031021118
         ],
         "xaxis": "x",
         "y": [
          1.6764971017837524
         ],
         "yaxis": "y"
        },
        {
         "hovertemplate": "<b>%{hovertext}</b><br><br>color=882<br>x1=%{x}<br>x2=%{y}<extra></extra>",
         "hovertext": [
          "oboe"
         ],
         "legendgroup": "882",
         "marker": {
          "color": "#ab63fa",
          "symbol": "circle"
         },
         "mode": "markers",
         "name": "882",
         "orientation": "v",
         "showlegend": true,
         "type": "scatter",
         "x": [
          4.726065635681152
         ],
         "xaxis": "x",
         "y": [
          -2.5874063968658447
         ],
         "yaxis": "y"
        },
        {
         "hovertemplate": "<b>%{hovertext}</b><br><br>color=357<br>x1=%{x}<br>x2=%{y}<extra></extra>",
         "hovertext": [
          "ocarina"
         ],
         "legendgroup": "357",
         "marker": {
          "color": "#FFA15A",
          "symbol": "circle"
         },
         "mode": "markers",
         "name": "357",
         "orientation": "v",
         "showlegend": true,
         "type": "scatter",
         "x": [
          1.6956883668899536
         ],
         "xaxis": "x",
         "y": [
          0.6632174849510193
         ],
         "yaxis": "y"
        },
        {
         "hovertemplate": "<b>%{hovertext}</b><br><br>color=368<br>x1=%{x}<br>x2=%{y}<extra></extra>",
         "hovertext": [
          "odometer"
         ],
         "legendgroup": "368",
         "marker": {
          "color": "#19d3f3",
          "symbol": "circle"
         },
         "mode": "markers",
         "name": "368",
         "orientation": "v",
         "showlegend": true,
         "type": "scatter",
         "x": [
          4.479635238647461
         ],
         "xaxis": "x",
         "y": [
          -3.2707064151763916
         ],
         "yaxis": "y"
        },
        {
         "hovertemplate": "<b>%{hovertext}</b><br><br>color=214<br>x1=%{x}<br>x2=%{y}<extra></extra>",
         "hovertext": [
          "oil filter"
         ],
         "legendgroup": "214",
         "marker": {
          "color": "#FF6692",
          "symbol": "circle"
         },
         "mode": "markers",
         "name": "214",
         "orientation": "v",
         "showlegend": true,
         "type": "scatter",
         "x": [
          -4.805525779724121
         ],
         "xaxis": "x",
         "y": [
          0.28892040252685547
         ],
         "yaxis": "y"
        },
        {
         "hovertemplate": "<b>%{hovertext}</b><br><br>color=542<br>x1=%{x}<br>x2=%{y}<extra></extra>",
         "hovertext": [
          "organ"
         ],
         "legendgroup": "542",
         "marker": {
          "color": "#B6E880",
          "symbol": "circle"
         },
         "mode": "markers",
         "name": "542",
         "orientation": "v",
         "showlegend": true,
         "type": "scatter",
         "x": [
          -1.6499277353286743
         ],
         "xaxis": "x",
         "y": [
          -4.278564929962158
         ],
         "yaxis": "y"
        },
        {
         "hovertemplate": "<b>%{hovertext}</b><br><br>color=701<br>x1=%{x}<br>x2=%{y}<extra></extra>",
         "hovertext": [
          "oscilloscope"
         ],
         "legendgroup": "701",
         "marker": {
          "color": "#FF97FF",
          "symbol": "circle"
         },
         "mode": "markers",
         "name": "701",
         "orientation": "v",
         "showlegend": true,
         "type": "scatter",
         "x": [
          10.301789283752441
         ],
         "xaxis": "x",
         "y": [
          -2.0026376247406006
         ],
         "yaxis": "y"
        },
        {
         "hovertemplate": "<b>%{hovertext}</b><br><br>color=461<br>x1=%{x}<br>x2=%{y}<extra></extra>",
         "hovertext": [
          "overskirt"
         ],
         "legendgroup": "461",
         "marker": {
          "color": "#FECB52",
          "symbol": "circle"
         },
         "mode": "markers",
         "name": "461",
         "orientation": "v",
         "showlegend": true,
         "type": "scatter",
         "x": [
          0.10241272300481796
         ],
         "xaxis": "x",
         "y": [
          -0.26552337408065796
         ],
         "yaxis": "y"
        },
        {
         "hovertemplate": "<b>%{hovertext}</b><br><br>color=348<br>x1=%{x}<br>x2=%{y}<extra></extra>",
         "hovertext": [
          "oxcart"
         ],
         "legendgroup": "348",
         "marker": {
          "color": "#636efa",
          "symbol": "circle"
         },
         "mode": "markers",
         "name": "348",
         "orientation": "v",
         "showlegend": true,
         "type": "scatter",
         "x": [
          0.0974620059132576
         ],
         "xaxis": "x",
         "y": [
          1.3378318548202515
         ],
         "yaxis": "y"
        },
        {
         "hovertemplate": "<b>%{hovertext}</b><br><br>color=176<br>x1=%{x}<br>x2=%{y}<extra></extra>",
         "hovertext": [
          "oxygen mask"
         ],
         "legendgroup": "176",
         "marker": {
          "color": "#EF553B",
          "symbol": "circle"
         },
         "mode": "markers",
         "name": "176",
         "orientation": "v",
         "showlegend": true,
         "type": "scatter",
         "x": [
          -4.86104679107666
         ],
         "xaxis": "x",
         "y": [
          -1.8812532424926758
         ],
         "yaxis": "y"
        },
        {
         "hovertemplate": "<b>%{hovertext}</b><br><br>color=854<br>x1=%{x}<br>x2=%{y}<extra></extra>",
         "hovertext": [
          "packet"
         ],
         "legendgroup": "854",
         "marker": {
          "color": "#00cc96",
          "symbol": "circle"
         },
         "mode": "markers",
         "name": "854",
         "orientation": "v",
         "showlegend": true,
         "type": "scatter",
         "x": [
          -6.939206123352051
         ],
         "xaxis": "x",
         "y": [
          -0.33242377638816833
         ],
         "yaxis": "y"
        },
        {
         "hovertemplate": "<b>%{hovertext}</b><br><br>color=272<br>x1=%{x}<br>x2=%{y}<extra></extra>",
         "hovertext": [
          "paddle"
         ],
         "legendgroup": "272",
         "marker": {
          "color": "#ab63fa",
          "symbol": "circle"
         },
         "mode": "markers",
         "name": "272",
         "orientation": "v",
         "showlegend": true,
         "type": "scatter",
         "x": [
          -3.0972955226898193
         ],
         "xaxis": "x",
         "y": [
          -1.3539087772369385
         ],
         "yaxis": "y"
        },
        {
         "hovertemplate": "<b>%{hovertext}</b><br><br>color=421<br>x1=%{x}<br>x2=%{y}<extra></extra>",
         "hovertext": [
          "paddlewheel"
         ],
         "legendgroup": "421",
         "marker": {
          "color": "#FFA15A",
          "symbol": "circle"
         },
         "mode": "markers",
         "name": "421",
         "orientation": "v",
         "showlegend": true,
         "type": "scatter",
         "x": [
          -1.3740885257720947
         ],
         "xaxis": "x",
         "y": [
          -2.4386487007141113
         ],
         "yaxis": "y"
        },
        {
         "hovertemplate": "<b>%{hovertext}</b><br><br>color=196<br>x1=%{x}<br>x2=%{y}<extra></extra>",
         "hovertext": [
          "padlock"
         ],
         "legendgroup": "196",
         "marker": {
          "color": "#19d3f3",
          "symbol": "circle"
         },
         "mode": "markers",
         "name": "196",
         "orientation": "v",
         "showlegend": true,
         "type": "scatter",
         "x": [
          -4.250646114349365
         ],
         "xaxis": "x",
         "y": [
          0.42845484614372253
         ],
         "yaxis": "y"
        },
        {
         "hovertemplate": "<b>%{hovertext}</b><br><br>color=127<br>x1=%{x}<br>x2=%{y}<extra></extra>",
         "hovertext": [
          "paintbrush"
         ],
         "legendgroup": "127",
         "marker": {
          "color": "#FF6692",
          "symbol": "circle"
         },
         "mode": "markers",
         "name": "127",
         "orientation": "v",
         "showlegend": true,
         "type": "scatter",
         "x": [
          -3.71661376953125
         ],
         "xaxis": "x",
         "y": [
          -1.9690520763397217
         ],
         "yaxis": "y"
        },
        {
         "hovertemplate": "<b>%{hovertext}</b><br><br>color=263<br>x1=%{x}<br>x2=%{y}<extra></extra>",
         "hovertext": [
          "pajama"
         ],
         "legendgroup": "263",
         "marker": {
          "color": "#B6E880",
          "symbol": "circle"
         },
         "mode": "markers",
         "name": "263",
         "orientation": "v",
         "showlegend": true,
         "type": "scatter",
         "x": [
          5.85725212097168
         ],
         "xaxis": "x",
         "y": [
          -2.320812225341797
         ],
         "yaxis": "y"
        },
        {
         "hovertemplate": "<b>%{hovertext}</b><br><br>color=434<br>x1=%{x}<br>x2=%{y}<extra></extra>",
         "hovertext": [
          "palace"
         ],
         "legendgroup": "434",
         "marker": {
          "color": "#FF97FF",
          "symbol": "circle"
         },
         "mode": "markers",
         "name": "434",
         "orientation": "v",
         "showlegend": true,
         "type": "scatter",
         "x": [
          -6.6523003578186035
         ],
         "xaxis": "x",
         "y": [
          1.018433928489685
         ],
         "yaxis": "y"
        },
        {
         "hovertemplate": "<b>%{hovertext}</b><br><br>color=350<br>x1=%{x}<br>x2=%{y}<extra></extra>",
         "hovertext": [
          "panpipe"
         ],
         "legendgroup": "350",
         "marker": {
          "color": "#FECB52",
          "symbol": "circle"
         },
         "mode": "markers",
         "name": "350",
         "orientation": "v",
         "showlegend": true,
         "type": "scatter",
         "x": [
          5.076812744140625
         ],
         "xaxis": "x",
         "y": [
          -3.1242148876190186
         ],
         "yaxis": "y"
        },
        {
         "hovertemplate": "<b>%{hovertext}</b><br><br>color=245<br>x1=%{x}<br>x2=%{y}<extra></extra>",
         "hovertext": [
          "paper towel"
         ],
         "legendgroup": "245",
         "marker": {
          "color": "#636efa",
          "symbol": "circle"
         },
         "mode": "markers",
         "name": "245",
         "orientation": "v",
         "showlegend": true,
         "type": "scatter",
         "x": [
          -4.841114044189453
         ],
         "xaxis": "x",
         "y": [
          0.04161563888192177
         ],
         "yaxis": "y"
        },
        {
         "hovertemplate": "<b>%{hovertext}</b><br><br>color=165<br>x1=%{x}<br>x2=%{y}<extra></extra>",
         "hovertext": [
          "parachute"
         ],
         "legendgroup": "165",
         "marker": {
          "color": "#EF553B",
          "symbol": "circle"
         },
         "mode": "markers",
         "name": "165",
         "orientation": "v",
         "showlegend": true,
         "type": "scatter",
         "x": [
          -1.5954833030700684
         ],
         "xaxis": "x",
         "y": [
          -1.3894176483154297
         ],
         "yaxis": "y"
        },
        {
         "hovertemplate": "<b>%{hovertext}</b><br><br>color=74<br>x1=%{x}<br>x2=%{y}<extra></extra>",
         "hovertext": [
          "parallel bars"
         ],
         "legendgroup": "74",
         "marker": {
          "color": "#00cc96",
          "symbol": "circle"
         },
         "mode": "markers",
         "name": "74",
         "orientation": "v",
         "showlegend": true,
         "type": "scatter",
         "x": [
          -1.165222406387329
         ],
         "xaxis": "x",
         "y": [
          -2.3418426513671875
         ],
         "yaxis": "y"
        },
        {
         "hovertemplate": "<b>%{hovertext}</b><br><br>color=125<br>x1=%{x}<br>x2=%{y}<extra></extra>",
         "hovertext": [
          "park bench"
         ],
         "legendgroup": "125",
         "marker": {
          "color": "#ab63fa",
          "symbol": "circle"
         },
         "mode": "markers",
         "name": "125",
         "orientation": "v",
         "showlegend": true,
         "type": "scatter",
         "x": [
          -4.5501251220703125
         ],
         "xaxis": "x",
         "y": [
          -2.314460277557373
         ],
         "yaxis": "y"
        },
        {
         "hovertemplate": "<b>%{hovertext}</b><br><br>color=189<br>x1=%{x}<br>x2=%{y}<extra></extra>",
         "hovertext": [
          "parking meter"
         ],
         "legendgroup": "189",
         "marker": {
          "color": "#FFA15A",
          "symbol": "circle"
         },
         "mode": "markers",
         "name": "189",
         "orientation": "v",
         "showlegend": true,
         "type": "scatter",
         "x": [
          -4.621150016784668
         ],
         "xaxis": "x",
         "y": [
          -2.0293588638305664
         ],
         "yaxis": "y"
        },
        {
         "hovertemplate": "<b>%{hovertext}</b><br><br>color=136<br>x1=%{x}<br>x2=%{y}<extra></extra>",
         "hovertext": [
          "passenger car"
         ],
         "legendgroup": "136",
         "marker": {
          "color": "#19d3f3",
          "symbol": "circle"
         },
         "mode": "markers",
         "name": "136",
         "orientation": "v",
         "showlegend": true,
         "type": "scatter",
         "x": [
          -0.6995071768760681
         ],
         "xaxis": "x",
         "y": [
          -2.3334569931030273
         ],
         "yaxis": "y"
        },
        {
         "hovertemplate": "<b>%{hovertext}</b><br><br>color=849<br>x1=%{x}<br>x2=%{y}<extra></extra>",
         "hovertext": [
          "patio"
         ],
         "legendgroup": "849",
         "marker": {
          "color": "#FF6692",
          "symbol": "circle"
         },
         "mode": "markers",
         "name": "849",
         "orientation": "v",
         "showlegend": true,
         "type": "scatter",
         "x": [
          -3.51945161819458
         ],
         "xaxis": "x",
         "y": [
          -1.0483044385910034
         ],
         "yaxis": "y"
        },
        {
         "hovertemplate": "<b>%{hovertext}</b><br><br>color=307<br>x1=%{x}<br>x2=%{y}<extra></extra>",
         "hovertext": [
          "pay-phone"
         ],
         "legendgroup": "307",
         "marker": {
          "color": "#B6E880",
          "symbol": "circle"
         },
         "mode": "markers",
         "name": "307",
         "orientation": "v",
         "showlegend": true,
         "type": "scatter",
         "x": [
          0.9384592771530151
         ],
         "xaxis": "x",
         "y": [
          -1.401878833770752
         ],
         "yaxis": "y"
        },
        {
         "hovertemplate": "<b>%{hovertext}</b><br><br>color=133<br>x1=%{x}<br>x2=%{y}<extra></extra>",
         "hovertext": [
          "pedestal"
         ],
         "legendgroup": "133",
         "marker": {
          "color": "#FF97FF",
          "symbol": "circle"
         },
         "mode": "markers",
         "name": "133",
         "orientation": "v",
         "showlegend": true,
         "type": "scatter",
         "x": [
          3.6352028846740723
         ],
         "xaxis": "x",
         "y": [
          -1.7460957765579224
         ],
         "yaxis": "y"
        },
        {
         "hovertemplate": "<b>%{hovertext}</b><br><br>color=341<br>x1=%{x}<br>x2=%{y}<extra></extra>",
         "hovertext": [
          "pencil box"
         ],
         "legendgroup": "341",
         "marker": {
          "color": "#FECB52",
          "symbol": "circle"
         },
         "mode": "markers",
         "name": "341",
         "orientation": "v",
         "showlegend": true,
         "type": "scatter",
         "x": [
          -1.2356128692626953
         ],
         "xaxis": "x",
         "y": [
          -3.451444149017334
         ],
         "yaxis": "y"
        },
        {
         "hovertemplate": "<b>%{hovertext}</b><br><br>color=584<br>x1=%{x}<br>x2=%{y}<extra></extra>",
         "hovertext": [
          "pencil sharpener"
         ],
         "legendgroup": "584",
         "marker": {
          "color": "#636efa",
          "symbol": "circle"
         },
         "mode": "markers",
         "name": "584",
         "orientation": "v",
         "showlegend": true,
         "type": "scatter",
         "x": [
          -2.2313036918640137
         ],
         "xaxis": "x",
         "y": [
          -1.5540443658828735
         ],
         "yaxis": "y"
        },
        {
         "hovertemplate": "<b>%{hovertext}</b><br><br>color=294<br>x1=%{x}<br>x2=%{y}<extra></extra>",
         "hovertext": [
          "perfume"
         ],
         "legendgroup": "294",
         "marker": {
          "color": "#EF553B",
          "symbol": "circle"
         },
         "mode": "markers",
         "name": "294",
         "orientation": "v",
         "showlegend": true,
         "type": "scatter",
         "x": [
          -3.466156005859375
         ],
         "xaxis": "x",
         "y": [
          -0.5390552878379822
         ],
         "yaxis": "y"
        },
        {
         "hovertemplate": "<b>%{hovertext}</b><br><br>color=285<br>x1=%{x}<br>x2=%{y}<extra></extra>",
         "hovertext": [
          "Petri dish"
         ],
         "legendgroup": "285",
         "marker": {
          "color": "#00cc96",
          "symbol": "circle"
         },
         "mode": "markers",
         "name": "285",
         "orientation": "v",
         "showlegend": true,
         "type": "scatter",
         "x": [
          -1.0815333127975464
         ],
         "xaxis": "x",
         "y": [
          1.0832010507583618
         ],
         "yaxis": "y"
        },
        {
         "hovertemplate": "<b>%{hovertext}</b><br><br>color=249<br>x1=%{x}<br>x2=%{y}<extra></extra>",
         "hovertext": [
          "photocopier"
         ],
         "legendgroup": "249",
         "marker": {
          "color": "#ab63fa",
          "symbol": "circle"
         },
         "mode": "markers",
         "name": "249",
         "orientation": "v",
         "showlegend": true,
         "type": "scatter",
         "x": [
          0.9470979571342468
         ],
         "xaxis": "x",
         "y": [
          0.16959509253501892
         ],
         "yaxis": "y"
        },
        {
         "hovertemplate": "<b>%{hovertext}</b><br><br>color=349<br>x1=%{x}<br>x2=%{y}<extra></extra>",
         "hovertext": [
          "pick"
         ],
         "legendgroup": "349",
         "marker": {
          "color": "#FFA15A",
          "symbol": "circle"
         },
         "mode": "markers",
         "name": "349",
         "orientation": "v",
         "showlegend": true,
         "type": "scatter",
         "x": [
          3.0313310623168945
         ],
         "xaxis": "x",
         "y": [
          0.0706789642572403
         ],
         "yaxis": "y"
        },
        {
         "hovertemplate": "<b>%{hovertext}</b><br><br>color=236<br>x1=%{x}<br>x2=%{y}<extra></extra>",
         "hovertext": [
          "pickelhaube"
         ],
         "legendgroup": "236",
         "marker": {
          "color": "#19d3f3",
          "symbol": "circle"
         },
         "mode": "markers",
         "name": "236",
         "orientation": "v",
         "showlegend": true,
         "type": "scatter",
         "x": [
          0.21981754899024963
         ],
         "xaxis": "x",
         "y": [
          1.7258853912353516
         ],
         "yaxis": "y"
        },
        {
         "hovertemplate": "<b>%{hovertext}</b><br><br>color=321<br>x1=%{x}<br>x2=%{y}<extra></extra>",
         "hovertext": [
          "picket fence"
         ],
         "legendgroup": "321",
         "marker": {
          "color": "#FF6692",
          "symbol": "circle"
         },
         "mode": "markers",
         "name": "321",
         "orientation": "v",
         "showlegend": true,
         "type": "scatter",
         "x": [
          2.1539857387542725
         ],
         "xaxis": "x",
         "y": [
          -0.5673243403434753
         ],
         "yaxis": "y"
        },
        {
         "hovertemplate": "<b>%{hovertext}</b><br><br>color=325<br>x1=%{x}<br>x2=%{y}<extra></extra>",
         "hovertext": [
          "pickup"
         ],
         "legendgroup": "325",
         "marker": {
          "color": "#B6E880",
          "symbol": "circle"
         },
         "mode": "markers",
         "name": "325",
         "orientation": "v",
         "showlegend": true,
         "type": "scatter",
         "x": [
          -2.2379536628723145
         ],
         "xaxis": "x",
         "y": [
          -1.3576953411102295
         ],
         "yaxis": "y"
        },
        {
         "hovertemplate": "<b>%{hovertext}</b><br><br>color=94<br>x1=%{x}<br>x2=%{y}<extra></extra>",
         "hovertext": [
          "pier"
         ],
         "legendgroup": "94",
         "marker": {
          "color": "#FF97FF",
          "symbol": "circle"
         },
         "mode": "markers",
         "name": "94",
         "orientation": "v",
         "showlegend": true,
         "type": "scatter",
         "x": [
          -6.72204065322876
         ],
         "xaxis": "x",
         "y": [
          0.07268350571393967
         ],
         "yaxis": "y"
        },
        {
         "hovertemplate": "<b>%{hovertext}</b><br><br>color=157<br>x1=%{x}<br>x2=%{y}<extra></extra>",
         "hovertext": [
          "piggy bank"
         ],
         "legendgroup": "157",
         "marker": {
          "color": "#FECB52",
          "symbol": "circle"
         },
         "mode": "markers",
         "name": "157",
         "orientation": "v",
         "showlegend": true,
         "type": "scatter",
         "x": [
          -0.6833721399307251
         ],
         "xaxis": "x",
         "y": [
          -0.792414128780365
         ],
         "yaxis": "y"
        },
        {
         "hovertemplate": "<b>%{hovertext}</b><br><br>color=220<br>x1=%{x}<br>x2=%{y}<extra></extra>",
         "hovertext": [
          "pill bottle"
         ],
         "legendgroup": "220",
         "marker": {
          "color": "#636efa",
          "symbol": "circle"
         },
         "mode": "markers",
         "name": "220",
         "orientation": "v",
         "showlegend": true,
         "type": "scatter",
         "x": [
          -5.379092216491699
         ],
         "xaxis": "x",
         "y": [
          0.18142075836658478
         ],
         "yaxis": "y"
        },
        {
         "hovertemplate": "<b>%{hovertext}</b><br><br>color=472<br>x1=%{x}<br>x2=%{y}<extra></extra>",
         "hovertext": [
          "pillow"
         ],
         "legendgroup": "472",
         "marker": {
          "color": "#EF553B",
          "symbol": "circle"
         },
         "mode": "markers",
         "name": "472",
         "orientation": "v",
         "showlegend": true,
         "type": "scatter",
         "x": [
          -6.2761969566345215
         ],
         "xaxis": "x",
         "y": [
          -1.4740445613861084
         ],
         "yaxis": "y"
        },
        {
         "hovertemplate": "<b>%{hovertext}</b><br><br>color=291<br>x1=%{x}<br>x2=%{y}<extra></extra>",
         "hovertext": [
          "ping-pong ball"
         ],
         "legendgroup": "291",
         "marker": {
          "color": "#00cc96",
          "symbol": "circle"
         },
         "mode": "markers",
         "name": "291",
         "orientation": "v",
         "showlegend": true,
         "type": "scatter",
         "x": [
          4.996695041656494
         ],
         "xaxis": "x",
         "y": [
          0.34627673029899597
         ],
         "yaxis": "y"
        },
        {
         "hovertemplate": "<b>%{hovertext}</b><br><br>color=483<br>x1=%{x}<br>x2=%{y}<extra></extra>",
         "hovertext": [
          "pinwheel"
         ],
         "legendgroup": "483",
         "marker": {
          "color": "#ab63fa",
          "symbol": "circle"
         },
         "mode": "markers",
         "name": "483",
         "orientation": "v",
         "showlegend": true,
         "type": "scatter",
         "x": [
          -4.626357555389404
         ],
         "xaxis": "x",
         "y": [
          0.13330447673797607
         ],
         "yaxis": "y"
        },
        {
         "hovertemplate": "<b>%{hovertext}</b><br><br>color=144<br>x1=%{x}<br>x2=%{y}<extra></extra>",
         "hovertext": [
          "pirate"
         ],
         "legendgroup": "144",
         "marker": {
          "color": "#FFA15A",
          "symbol": "circle"
         },
         "mode": "markers",
         "name": "144",
         "orientation": "v",
         "showlegend": true,
         "type": "scatter",
         "x": [
          -2.626105785369873
         ],
         "xaxis": "x",
         "y": [
          -0.4949469566345215
         ],
         "yaxis": "y"
        },
        {
         "hovertemplate": "<b>%{hovertext}</b><br><br>color=269<br>x1=%{x}<br>x2=%{y}<extra></extra>",
         "hovertext": [
          "pitcher"
         ],
         "legendgroup": "269",
         "marker": {
          "color": "#19d3f3",
          "symbol": "circle"
         },
         "mode": "markers",
         "name": "269",
         "orientation": "v",
         "showlegend": true,
         "type": "scatter",
         "x": [
          -2.4677586555480957
         ],
         "xaxis": "x",
         "y": [
          -0.4260808527469635
         ],
         "yaxis": "y"
        },
        {
         "hovertemplate": "<b>%{hovertext}</b><br><br>color=308<br>x1=%{x}<br>x2=%{y}<extra></extra>",
         "hovertext": [
          "plane"
         ],
         "legendgroup": "308",
         "marker": {
          "color": "#FF6692",
          "symbol": "circle"
         },
         "mode": "markers",
         "name": "308",
         "orientation": "v",
         "showlegend": true,
         "type": "scatter",
         "x": [
          2.899738073348999
         ],
         "xaxis": "x",
         "y": [
          -1.9139795303344727
         ],
         "yaxis": "y"
        },
        {
         "hovertemplate": "<b>%{hovertext}</b><br><br>color=390<br>x1=%{x}<br>x2=%{y}<extra></extra>",
         "hovertext": [
          "planetarium"
         ],
         "legendgroup": "390",
         "marker": {
          "color": "#B6E880",
          "symbol": "circle"
         },
         "mode": "markers",
         "name": "390",
         "orientation": "v",
         "showlegend": true,
         "type": "scatter",
         "x": [
          -3.2597391605377197
         ],
         "xaxis": "x",
         "y": [
          1.1707390546798706
         ],
         "yaxis": "y"
        },
        {
         "hovertemplate": "<b>%{hovertext}</b><br><br>color=145<br>x1=%{x}<br>x2=%{y}<extra></extra>",
         "hovertext": [
          "plastic bag"
         ],
         "legendgroup": "145",
         "marker": {
          "color": "#FF97FF",
          "symbol": "circle"
         },
         "mode": "markers",
         "name": "145",
         "orientation": "v",
         "showlegend": true,
         "type": "scatter",
         "x": [
          -5.5873003005981445
         ],
         "xaxis": "x",
         "y": [
          0.08557706326246262
         ],
         "yaxis": "y"
        },
        {
         "hovertemplate": "<b>%{hovertext}</b><br><br>color=164<br>x1=%{x}<br>x2=%{y}<extra></extra>",
         "hovertext": [
          "plate rack"
         ],
         "legendgroup": "164",
         "marker": {
          "color": "#FECB52",
          "symbol": "circle"
         },
         "mode": "markers",
         "name": "164",
         "orientation": "v",
         "showlegend": true,
         "type": "scatter",
         "x": [
          -4.832754135131836
         ],
         "xaxis": "x",
         "y": [
          -0.7587377429008484
         ],
         "yaxis": "y"
        },
        {
         "hovertemplate": "<b>%{hovertext}</b><br><br>color=422<br>x1=%{x}<br>x2=%{y}<extra></extra>",
         "hovertext": [
          "plow"
         ],
         "legendgroup": "422",
         "marker": {
          "color": "#636efa",
          "symbol": "circle"
         },
         "mode": "markers",
         "name": "422",
         "orientation": "v",
         "showlegend": true,
         "type": "scatter",
         "x": [
          0.34744054079055786
         ],
         "xaxis": "x",
         "y": [
          0.5152838826179504
         ],
         "yaxis": "y"
        },
        {
         "hovertemplate": "<b>%{hovertext}</b><br><br>color=340<br>x1=%{x}<br>x2=%{y}<extra></extra>",
         "hovertext": [
          "plunger"
         ],
         "legendgroup": "340",
         "marker": {
          "color": "#EF553B",
          "symbol": "circle"
         },
         "mode": "markers",
         "name": "340",
         "orientation": "v",
         "showlegend": true,
         "type": "scatter",
         "x": [
          3.085543155670166
         ],
         "xaxis": "x",
         "y": [
          -1.3902723789215088
         ],
         "yaxis": "y"
        },
        {
         "hovertemplate": "<b>%{hovertext}</b><br><br>color=142<br>x1=%{x}<br>x2=%{y}<extra></extra>",
         "hovertext": [
          "Polaroid camera"
         ],
         "legendgroup": "142",
         "marker": {
          "color": "#00cc96",
          "symbol": "circle"
         },
         "mode": "markers",
         "name": "142",
         "orientation": "v",
         "showlegend": true,
         "type": "scatter",
         "x": [
          1.2138404846191406
         ],
         "xaxis": "x",
         "y": [
          -1.8808835744857788
         ],
         "yaxis": "y"
        },
        {
         "hovertemplate": "<b>%{hovertext}</b><br><br>color=319<br>x1=%{x}<br>x2=%{y}<extra></extra>",
         "hovertext": [
          "pole"
         ],
         "legendgroup": "319",
         "marker": {
          "color": "#ab63fa",
          "symbol": "circle"
         },
         "mode": "markers",
         "name": "319",
         "orientation": "v",
         "showlegend": true,
         "type": "scatter",
         "x": [
          -4.089979648590088
         ],
         "xaxis": "x",
         "y": [
          -2.660599946975708
         ],
         "yaxis": "y"
        },
        {
         "hovertemplate": "<b>%{hovertext}</b><br><br>color=167<br>x1=%{x}<br>x2=%{y}<extra></extra>",
         "hovertext": [
          "police van"
         ],
         "legendgroup": "167",
         "marker": {
          "color": "#FFA15A",
          "symbol": "circle"
         },
         "mode": "markers",
         "name": "167",
         "orientation": "v",
         "showlegend": true,
         "type": "scatter",
         "x": [
          3.6828575134277344
         ],
         "xaxis": "x",
         "y": [
          -1.72703218460083
         ],
         "yaxis": "y"
        },
        {
         "hovertemplate": "<b>%{hovertext}</b><br><br>color=309<br>x1=%{x}<br>x2=%{y}<extra></extra>",
         "hovertext": [
          "poncho"
         ],
         "legendgroup": "309",
         "marker": {
          "color": "#19d3f3",
          "symbol": "circle"
         },
         "mode": "markers",
         "name": "309",
         "orientation": "v",
         "showlegend": true,
         "type": "scatter",
         "x": [
          -0.17165619134902954
         ],
         "xaxis": "x",
         "y": [
          2.420388698577881
         ],
         "yaxis": "y"
        },
        {
         "hovertemplate": "<b>%{hovertext}</b><br><br>color=138<br>x1=%{x}<br>x2=%{y}<extra></extra>",
         "hovertext": [
          "pool table"
         ],
         "legendgroup": "138",
         "marker": {
          "color": "#FF6692",
          "symbol": "circle"
         },
         "mode": "markers",
         "name": "138",
         "orientation": "v",
         "showlegend": true,
         "type": "scatter",
         "x": [
          5.968489646911621
         ],
         "xaxis": "x",
         "y": [
          -1.956538438796997
         ],
         "yaxis": "y"
        },
        {
         "hovertemplate": "<b>%{hovertext}</b><br><br>color=143<br>x1=%{x}<br>x2=%{y}<extra></extra>",
         "hovertext": [
          "pop bottle"
         ],
         "legendgroup": "143",
         "marker": {
          "color": "#B6E880",
          "symbol": "circle"
         },
         "mode": "markers",
         "name": "143",
         "orientation": "v",
         "showlegend": true,
         "type": "scatter",
         "x": [
          -1.3177310228347778
         ],
         "xaxis": "x",
         "y": [
          -3.310330867767334
         ],
         "yaxis": "y"
        },
        {
         "hovertemplate": "<b>%{hovertext}</b><br><br>color=284<br>x1=%{x}<br>x2=%{y}<extra></extra>",
         "hovertext": [
          "pot"
         ],
         "legendgroup": "284",
         "marker": {
          "color": "#FF97FF",
          "symbol": "circle"
         },
         "mode": "markers",
         "name": "284",
         "orientation": "v",
         "showlegend": true,
         "type": "scatter",
         "x": [
          -1.5351248979568481
         ],
         "xaxis": "x",
         "y": [
          -1.0900311470031738
         ],
         "yaxis": "y"
        },
        {
         "hovertemplate": "<b>%{hovertext}</b><br><br>color=654<br>x1=%{x}<br>x2=%{y}<extra></extra>",
         "hovertext": [
          "potter's wheel"
         ],
         "legendgroup": "654",
         "marker": {
          "color": "#FECB52",
          "symbol": "circle"
         },
         "mode": "markers",
         "name": "654",
         "orientation": "v",
         "showlegend": true,
         "type": "scatter",
         "x": [
          -0.005795792676508427
         ],
         "xaxis": "x",
         "y": [
          0.6963279247283936
         ],
         "yaxis": "y"
        },
        {
         "hovertemplate": "<b>%{hovertext}</b><br><br>color=420<br>x1=%{x}<br>x2=%{y}<extra></extra>",
         "hovertext": [
          "power drill"
         ],
         "legendgroup": "420",
         "marker": {
          "color": "#636efa",
          "symbol": "circle"
         },
         "mode": "markers",
         "name": "420",
         "orientation": "v",
         "showlegend": true,
         "type": "scatter",
         "x": [
          -4.705709934234619
         ],
         "xaxis": "x",
         "y": [
          -0.6683705449104309
         ],
         "yaxis": "y"
        },
        {
         "hovertemplate": "<b>%{hovertext}</b><br><br>color=657<br>x1=%{x}<br>x2=%{y}<extra></extra>",
         "hovertext": [
          "prayer rug"
         ],
         "legendgroup": "657",
         "marker": {
          "color": "#EF553B",
          "symbol": "circle"
         },
         "mode": "markers",
         "name": "657",
         "orientation": "v",
         "showlegend": true,
         "type": "scatter",
         "x": [
          -1.1609575748443604
         ],
         "xaxis": "x",
         "y": [
          -0.49450287222862244
         ],
         "yaxis": "y"
        },
        {
         "hovertemplate": "<b>%{hovertext}</b><br><br>color=624<br>x1=%{x}<br>x2=%{y}<extra></extra>",
         "hovertext": [
          "printer"
         ],
         "legendgroup": "624",
         "marker": {
          "color": "#00cc96",
          "symbol": "circle"
         },
         "mode": "markers",
         "name": "624",
         "orientation": "v",
         "showlegend": true,
         "type": "scatter",
         "x": [
          -8.37987232208252
         ],
         "xaxis": "x",
         "y": [
          -1.424689531326294
         ],
         "yaxis": "y"
        },
        {
         "hovertemplate": "<b>%{hovertext}</b><br><br>color=231<br>x1=%{x}<br>x2=%{y}<extra></extra>",
         "hovertext": [
          "prison"
         ],
         "legendgroup": "231",
         "marker": {
          "color": "#ab63fa",
          "symbol": "circle"
         },
         "mode": "markers",
         "name": "231",
         "orientation": "v",
         "showlegend": true,
         "type": "scatter",
         "x": [
          -2.971895694732666
         ],
         "xaxis": "x",
         "y": [
          -0.1919887363910675
         ],
         "yaxis": "y"
        },
        {
         "hovertemplate": "<b>%{hovertext}</b><br><br>color=154<br>x1=%{x}<br>x2=%{y}<extra></extra>",
         "hovertext": [
          "projectile"
         ],
         "legendgroup": "154",
         "marker": {
          "color": "#FFA15A",
          "symbol": "circle"
         },
         "mode": "markers",
         "name": "154",
         "orientation": "v",
         "showlegend": true,
         "type": "scatter",
         "x": [
          -1.893776535987854
         ],
         "xaxis": "x",
         "y": [
          -2.2474544048309326
         ],
         "yaxis": "y"
        },
        {
         "hovertemplate": "<b>%{hovertext}</b><br><br>color=213<br>x1=%{x}<br>x2=%{y}<extra></extra>",
         "hovertext": [
          "projector"
         ],
         "legendgroup": "213",
         "marker": {
          "color": "#19d3f3",
          "symbol": "circle"
         },
         "mode": "markers",
         "name": "213",
         "orientation": "v",
         "showlegend": true,
         "type": "scatter",
         "x": [
          -5.271126747131348
         ],
         "xaxis": "x",
         "y": [
          -1.6312941312789917
         ],
         "yaxis": "y"
        },
        {
         "hovertemplate": "<b>%{hovertext}</b><br><br>color=158<br>x1=%{x}<br>x2=%{y}<extra></extra>",
         "hovertext": [
          "puck"
         ],
         "legendgroup": "158",
         "marker": {
          "color": "#FF6692",
          "symbol": "circle"
         },
         "mode": "markers",
         "name": "158",
         "orientation": "v",
         "showlegend": true,
         "type": "scatter",
         "x": [
          0.32029545307159424
         ],
         "xaxis": "x",
         "y": [
          -1.6079235076904297
         ],
         "yaxis": "y"
        },
        {
         "hovertemplate": "<b>%{hovertext}</b><br><br>color=389<br>x1=%{x}<br>x2=%{y}<extra></extra>",
         "hovertext": [
          "punching bag"
         ],
         "legendgroup": "389",
         "marker": {
          "color": "#B6E880",
          "symbol": "circle"
         },
         "mode": "markers",
         "name": "389",
         "orientation": "v",
         "showlegend": true,
         "type": "scatter",
         "x": [
          2.0153088569641113
         ],
         "xaxis": "x",
         "y": [
          -3.163039445877075
         ],
         "yaxis": "y"
        },
        {
         "hovertemplate": "<b>%{hovertext}</b><br><br>color=462<br>x1=%{x}<br>x2=%{y}<extra></extra>",
         "hovertext": [
          "purse"
         ],
         "legendgroup": "462",
         "marker": {
          "color": "#FF97FF",
          "symbol": "circle"
         },
         "mode": "markers",
         "name": "462",
         "orientation": "v",
         "showlegend": true,
         "type": "scatter",
         "x": [
          -7.488259315490723
         ],
         "xaxis": "x",
         "y": [
          -0.9154074788093567
         ],
         "yaxis": "y"
        },
        {
         "hovertemplate": "<b>%{hovertext}</b><br><br>color=347<br>x1=%{x}<br>x2=%{y}<extra></extra>",
         "hovertext": [
          "quill"
         ],
         "legendgroup": "347",
         "marker": {
          "color": "#FECB52",
          "symbol": "circle"
         },
         "mode": "markers",
         "name": "347",
         "orientation": "v",
         "showlegend": true,
         "type": "scatter",
         "x": [
          2.503023862838745
         ],
         "xaxis": "x",
         "y": [
          -2.5197882652282715
         ],
         "yaxis": "y"
        },
        {
         "hovertemplate": "<b>%{hovertext}</b><br><br>color=476<br>x1=%{x}<br>x2=%{y}<extra></extra>",
         "hovertext": [
          "quilt"
         ],
         "legendgroup": "476",
         "marker": {
          "color": "#636efa",
          "symbol": "circle"
         },
         "mode": "markers",
         "name": "476",
         "orientation": "v",
         "showlegend": true,
         "type": "scatter",
         "x": [
          2.773576259613037
         ],
         "xaxis": "x",
         "y": [
          -1.7113430500030518
         ],
         "yaxis": "y"
        },
        {
         "hovertemplate": "<b>%{hovertext}</b><br><br>color=122<br>x1=%{x}<br>x2=%{y}<extra></extra>",
         "hovertext": [
          "racer"
         ],
         "legendgroup": "122",
         "marker": {
          "color": "#EF553B",
          "symbol": "circle"
         },
         "mode": "markers",
         "name": "122",
         "orientation": "v",
         "showlegend": true,
         "type": "scatter",
         "x": [
          -0.10986553877592087
         ],
         "xaxis": "x",
         "y": [
          -2.1332526206970215
         ],
         "yaxis": "y"
        },
        {
         "hovertemplate": "<b>%{hovertext}</b><br><br>color=207<br>x1=%{x}<br>x2=%{y}<extra></extra>",
         "hovertext": [
          "racket"
         ],
         "legendgroup": "207",
         "marker": {
          "color": "#00cc96",
          "symbol": "circle"
         },
         "mode": "markers",
         "name": "207",
         "orientation": "v",
         "showlegend": true,
         "type": "scatter",
         "x": [
          1.6656603813171387
         ],
         "xaxis": "x",
         "y": [
          -0.09916392713785172
         ],
         "yaxis": "y"
        },
        {
         "hovertemplate": "<b>%{hovertext}</b><br><br>color=351<br>x1=%{x}<br>x2=%{y}<extra></extra>",
         "hovertext": [
          "radiator"
         ],
         "legendgroup": "351",
         "marker": {
          "color": "#ab63fa",
          "symbol": "circle"
         },
         "mode": "markers",
         "name": "351",
         "orientation": "v",
         "showlegend": true,
         "type": "scatter",
         "x": [
          -0.3409369885921478
         ],
         "xaxis": "x",
         "y": [
          0.10132863372564316
         ],
         "yaxis": "y"
        },
        {
         "hovertemplate": "<b>%{hovertext}</b><br><br>color=185<br>x1=%{x}<br>x2=%{y}<extra></extra>",
         "hovertext": [
          "radio"
         ],
         "legendgroup": "185",
         "marker": {
          "color": "#FFA15A",
          "symbol": "circle"
         },
         "mode": "markers",
         "name": "185",
         "orientation": "v",
         "showlegend": true,
         "type": "scatter",
         "x": [
          -3.73225474357605
         ],
         "xaxis": "x",
         "y": [
          -3.066079616546631
         ],
         "yaxis": "y"
        },
        {
         "hovertemplate": "<b>%{hovertext}</b><br><br>color=346<br>x1=%{x}<br>x2=%{y}<extra></extra>",
         "hovertext": [
          "radio telescope"
         ],
         "legendgroup": "346",
         "marker": {
          "color": "#19d3f3",
          "symbol": "circle"
         },
         "mode": "markers",
         "name": "346",
         "orientation": "v",
         "showlegend": true,
         "type": "scatter",
         "x": [
          0.20850273966789246
         ],
         "xaxis": "x",
         "y": [
          -2.3878817558288574
         ],
         "yaxis": "y"
        },
        {
         "hovertemplate": "<b>%{hovertext}</b><br><br>color=378<br>x1=%{x}<br>x2=%{y}<extra></extra>",
         "hovertext": [
          "rain barrel"
         ],
         "legendgroup": "378",
         "marker": {
          "color": "#FF6692",
          "symbol": "circle"
         },
         "mode": "markers",
         "name": "378",
         "orientation": "v",
         "showlegend": true,
         "type": "scatter",
         "x": [
          -5.522172451019287
         ],
         "xaxis": "x",
         "y": [
          -0.8796462416648865
         ],
         "yaxis": "y"
        },
        {
         "hovertemplate": "<b>%{hovertext}</b><br><br>color=148<br>x1=%{x}<br>x2=%{y}<extra></extra>",
         "hovertext": [
          "recreational vehicle"
         ],
         "legendgroup": "148",
         "marker": {
          "color": "#B6E880",
          "symbol": "circle"
         },
         "mode": "markers",
         "name": "148",
         "orientation": "v",
         "showlegend": true,
         "type": "scatter",
         "x": [
          1.744014859199524
         ],
         "xaxis": "x",
         "y": [
          -2.0974643230438232
         ],
         "yaxis": "y"
        },
        {
         "hovertemplate": "<b>%{hovertext}</b><br><br>color=426<br>x1=%{x}<br>x2=%{y}<extra></extra>",
         "hovertext": [
          "reel"
         ],
         "legendgroup": "426",
         "marker": {
          "color": "#FF97FF",
          "symbol": "circle"
         },
         "mode": "markers",
         "name": "426",
         "orientation": "v",
         "showlegend": true,
         "type": "scatter",
         "x": [
          -7.19110631942749
         ],
         "xaxis": "x",
         "y": [
          -1.3307636976242065
         ],
         "yaxis": "y"
        },
        {
         "hovertemplate": "<b>%{hovertext}</b><br><br>color=124<br>x1=%{x}<br>x2=%{y}<extra></extra>",
         "hovertext": [
          "reflex camera"
         ],
         "legendgroup": "124",
         "marker": {
          "color": "#FECB52",
          "symbol": "circle"
         },
         "mode": "markers",
         "name": "124",
         "orientation": "v",
         "showlegend": true,
         "type": "scatter",
         "x": [
          -4.886055946350098
         ],
         "xaxis": "x",
         "y": [
          -0.8122550845146179
         ],
         "yaxis": "y"
        },
        {
         "hovertemplate": "<b>%{hovertext}</b><br><br>color=423<br>x1=%{x}<br>x2=%{y}<extra></extra>",
         "hovertext": [
          "refrigerator"
         ],
         "legendgroup": "423",
         "marker": {
          "color": "#636efa",
          "symbol": "circle"
         },
         "mode": "markers",
         "name": "423",
         "orientation": "v",
         "showlegend": true,
         "type": "scatter",
         "x": [
          -1.1369093656539917
         ],
         "xaxis": "x",
         "y": [
          -3.6376137733459473
         ],
         "yaxis": "y"
        },
        {
         "hovertemplate": "<b>%{hovertext}</b><br><br>color=352<br>x1=%{x}<br>x2=%{y}<extra></extra>",
         "hovertext": [
          "remote control"
         ],
         "legendgroup": "352",
         "marker": {
          "color": "#EF553B",
          "symbol": "circle"
         },
         "mode": "markers",
         "name": "352",
         "orientation": "v",
         "showlegend": true,
         "type": "scatter",
         "x": [
          -2.269335985183716
         ],
         "xaxis": "x",
         "y": [
          -3.4776527881622314
         ],
         "yaxis": "y"
        },
        {
         "hovertemplate": "<b>%{hovertext}</b><br><br>color=186<br>x1=%{x}<br>x2=%{y}<extra></extra>",
         "hovertext": [
          "restaurant"
         ],
         "legendgroup": "186",
         "marker": {
          "color": "#00cc96",
          "symbol": "circle"
         },
         "mode": "markers",
         "name": "186",
         "orientation": "v",
         "showlegend": true,
         "type": "scatter",
         "x": [
          1.8116130828857422
         ],
         "xaxis": "x",
         "y": [
          -1.679017186164856
         ],
         "yaxis": "y"
        },
        {
         "hovertemplate": "<b>%{hovertext}</b><br><br>color=359<br>x1=%{x}<br>x2=%{y}<extra></extra>",
         "hovertext": [
          "revolver"
         ],
         "legendgroup": "359",
         "marker": {
          "color": "#ab63fa",
          "symbol": "circle"
         },
         "mode": "markers",
         "name": "359",
         "orientation": "v",
         "showlegend": true,
         "type": "scatter",
         "x": [
          2.246290683746338
         ],
         "xaxis": "x",
         "y": [
          -2.082881212234497
         ],
         "yaxis": "y"
        },
        {
         "hovertemplate": "<b>%{hovertext}</b><br><br>color=362<br>x1=%{x}<br>x2=%{y}<extra></extra>",
         "hovertext": [
          "rifle"
         ],
         "legendgroup": "362",
         "marker": {
          "color": "#FFA15A",
          "symbol": "circle"
         },
         "mode": "markers",
         "name": "362",
         "orientation": "v",
         "showlegend": true,
         "type": "scatter",
         "x": [
          -5.843691825866699
         ],
         "xaxis": "x",
         "y": [
          -0.8023965954780579
         ],
         "yaxis": "y"
        },
        {
         "hovertemplate": "<b>%{hovertext}</b><br><br>color=361<br>x1=%{x}<br>x2=%{y}<extra></extra>",
         "hovertext": [
          "rocking chair"
         ],
         "legendgroup": "361",
         "marker": {
          "color": "#19d3f3",
          "symbol": "circle"
         },
         "mode": "markers",
         "name": "361",
         "orientation": "v",
         "showlegend": true,
         "type": "scatter",
         "x": [
          1.1193745136260986
         ],
         "xaxis": "x",
         "y": [
          -2.530144214630127
         ],
         "yaxis": "y"
        },
        {
         "hovertemplate": "<b>%{hovertext}</b><br><br>color=458<br>x1=%{x}<br>x2=%{y}<extra></extra>",
         "hovertext": [
          "rotisserie"
         ],
         "legendgroup": "458",
         "marker": {
          "color": "#FF6692",
          "symbol": "circle"
         },
         "mode": "markers",
         "name": "458",
         "orientation": "v",
         "showlegend": true,
         "type": "scatter",
         "x": [
          -1.2326037883758545
         ],
         "xaxis": "x",
         "y": [
          1.5192548036575317
         ],
         "yaxis": "y"
        },
        {
         "hovertemplate": "<b>%{hovertext}</b><br><br>color=203<br>x1=%{x}<br>x2=%{y}<extra></extra>",
         "hovertext": [
          "rubber eraser"
         ],
         "legendgroup": "203",
         "marker": {
          "color": "#B6E880",
          "symbol": "circle"
         },
         "mode": "markers",
         "name": "203",
         "orientation": "v",
         "showlegend": true,
         "type": "scatter",
         "x": [
          2.0527610778808594
         ],
         "xaxis": "x",
         "y": [
          -2.641925811767578
         ],
         "yaxis": "y"
        },
        {
         "hovertemplate": "<b>%{hovertext}</b><br><br>color=360<br>x1=%{x}<br>x2=%{y}<extra></extra>",
         "hovertext": [
          "rugby ball"
         ],
         "legendgroup": "360",
         "marker": {
          "color": "#FF97FF",
          "symbol": "circle"
         },
         "mode": "markers",
         "name": "360",
         "orientation": "v",
         "showlegend": true,
         "type": "scatter",
         "x": [
          -3.7517991065979004
         ],
         "xaxis": "x",
         "y": [
          1.1723803281784058
         ],
         "yaxis": "y"
        },
        {
         "hovertemplate": "<b>%{hovertext}</b><br><br>color=498<br>x1=%{x}<br>x2=%{y}<extra></extra>",
         "hovertext": [
          "rule"
         ],
         "legendgroup": "498",
         "marker": {
          "color": "#FECB52",
          "symbol": "circle"
         },
         "mode": "markers",
         "name": "498",
         "orientation": "v",
         "showlegend": true,
         "type": "scatter",
         "x": [
          -2.5547549724578857
         ],
         "xaxis": "x",
         "y": [
          -0.08347652107477188
         ],
         "yaxis": "y"
        },
        {
         "hovertemplate": "<b>%{hovertext}</b><br><br>color=161<br>x1=%{x}<br>x2=%{y}<extra></extra>",
         "hovertext": [
          "running shoe"
         ],
         "legendgroup": "161",
         "marker": {
          "color": "#636efa",
          "symbol": "circle"
         },
         "mode": "markers",
         "name": "161",
         "orientation": "v",
         "showlegend": true,
         "type": "scatter",
         "x": [
          -4.872499465942383
         ],
         "xaxis": "x",
         "y": [
          0.7367561459541321
         ],
         "yaxis": "y"
        },
        {
         "hovertemplate": "<b>%{hovertext}</b><br><br>color=212<br>x1=%{x}<br>x2=%{y}<extra></extra>",
         "hovertext": [
          "safe"
         ],
         "legendgroup": "212",
         "marker": {
          "color": "#EF553B",
          "symbol": "circle"
         },
         "mode": "markers",
         "name": "212",
         "orientation": "v",
         "showlegend": true,
         "type": "scatter",
         "x": [
          -6.591738700866699
         ],
         "xaxis": "x",
         "y": [
          -1.9099857807159424
         ],
         "yaxis": "y"
        },
        {
         "hovertemplate": "<b>%{hovertext}</b><br><br>color=180<br>x1=%{x}<br>x2=%{y}<extra></extra>",
         "hovertext": [
          "safety pin"
         ],
         "legendgroup": "180",
         "marker": {
          "color": "#00cc96",
          "symbol": "circle"
         },
         "mode": "markers",
         "name": "180",
         "orientation": "v",
         "showlegend": true,
         "type": "scatter",
         "x": [
          -4.825379848480225
         ],
         "xaxis": "x",
         "y": [
          -1.8268325328826904
         ],
         "yaxis": "y"
        },
        {
         "hovertemplate": "<b>%{hovertext}</b><br><br>color=454<br>x1=%{x}<br>x2=%{y}<extra></extra>",
         "hovertext": [
          "saltshaker"
         ],
         "legendgroup": "454",
         "marker": {
          "color": "#ab63fa",
          "symbol": "circle"
         },
         "mode": "markers",
         "name": "454",
         "orientation": "v",
         "showlegend": true,
         "type": "scatter",
         "x": [
          0.8090640902519226
         ],
         "xaxis": "x",
         "y": [
          -2.1729965209960938
         ],
         "yaxis": "y"
        },
        {
         "hovertemplate": "<b>%{hovertext}</b><br><br>color=403<br>x1=%{x}<br>x2=%{y}<extra></extra>",
         "hovertext": [
          "sandal"
         ],
         "legendgroup": "403",
         "marker": {
          "color": "#FFA15A",
          "symbol": "circle"
         },
         "mode": "markers",
         "name": "403",
         "orientation": "v",
         "showlegend": true,
         "type": "scatter",
         "x": [
          -4.801548004150391
         ],
         "xaxis": "x",
         "y": [
          0.7165820598602295
         ],
         "yaxis": "y"
        },
        {
         "hovertemplate": "<b>%{hovertext}</b><br><br>color=384<br>x1=%{x}<br>x2=%{y}<extra></extra>",
         "hovertext": [
          "sarong"
         ],
         "legendgroup": "384",
         "marker": {
          "color": "#19d3f3",
          "symbol": "circle"
         },
         "mode": "markers",
         "name": "384",
         "orientation": "v",
         "showlegend": true,
         "type": "scatter",
         "x": [
          -3.0871598720550537
         ],
         "xaxis": "x",
         "y": [
          1.958842396736145
         ],
         "yaxis": "y"
        },
        {
         "hovertemplate": "<b>%{hovertext}</b><br><br>color=179<br>x1=%{x}<br>x2=%{y}<extra></extra>",
         "hovertext": [
          "sax"
         ],
         "legendgroup": "179",
         "marker": {
          "color": "#FF6692",
          "symbol": "circle"
         },
         "mode": "markers",
         "name": "179",
         "orientation": "v",
         "showlegend": true,
         "type": "scatter",
         "x": [
          0.4284711480140686
         ],
         "xaxis": "x",
         "y": [
          -2.8036022186279297
         ],
         "yaxis": "y"
        },
        {
         "hovertemplate": "<b>%{hovertext}</b><br><br>color=270<br>x1=%{x}<br>x2=%{y}<extra></extra>",
         "hovertext": [
          "scabbard"
         ],
         "legendgroup": "270",
         "marker": {
          "color": "#B6E880",
          "symbol": "circle"
         },
         "mode": "markers",
         "name": "270",
         "orientation": "v",
         "showlegend": true,
         "type": "scatter",
         "x": [
          2.1191139221191406
         ],
         "xaxis": "x",
         "y": [
          2.197411298751831
         ],
         "yaxis": "y"
        },
        {
         "hovertemplate": "<b>%{hovertext}</b><br><br>color=467<br>x1=%{x}<br>x2=%{y}<extra></extra>",
         "hovertext": [
          "scale"
         ],
         "legendgroup": "467",
         "marker": {
          "color": "#FF97FF",
          "symbol": "circle"
         },
         "mode": "markers",
         "name": "467",
         "orientation": "v",
         "showlegend": true,
         "type": "scatter",
         "x": [
          -2.8949742317199707
         ],
         "xaxis": "x",
         "y": [
          -1.4959598779678345
         ],
         "yaxis": "y"
        },
        {
         "hovertemplate": "<b>%{hovertext}</b><br><br>color=471<br>x1=%{x}<br>x2=%{y}<extra></extra>",
         "hovertext": [
          "school bus"
         ],
         "legendgroup": "471",
         "marker": {
          "color": "#FECB52",
          "symbol": "circle"
         },
         "mode": "markers",
         "name": "471",
         "orientation": "v",
         "showlegend": true,
         "type": "scatter",
         "x": [
          -3.686358690261841
         ],
         "xaxis": "x",
         "y": [
          0.44099143147468567
         ],
         "yaxis": "y"
        },
        {
         "hovertemplate": "<b>%{hovertext}</b><br><br>color=328<br>x1=%{x}<br>x2=%{y}<extra></extra>",
         "hovertext": [
          "schooner"
         ],
         "legendgroup": "328",
         "marker": {
          "color": "#636efa",
          "symbol": "circle"
         },
         "mode": "markers",
         "name": "328",
         "orientation": "v",
         "showlegend": true,
         "type": "scatter",
         "x": [
          -6.9857683181762695
         ],
         "xaxis": "x",
         "y": [
          -0.14921529591083527
         ],
         "yaxis": "y"
        },
        {
         "hovertemplate": "<b>%{hovertext}</b><br><br>color=388<br>x1=%{x}<br>x2=%{y}<extra></extra>",
         "hovertext": [
          "scoreboard"
         ],
         "legendgroup": "388",
         "marker": {
          "color": "#EF553B",
          "symbol": "circle"
         },
         "mode": "markers",
         "name": "388",
         "orientation": "v",
         "showlegend": true,
         "type": "scatter",
         "x": [
          -1.6147016286849976
         ],
         "xaxis": "x",
         "y": [
          -1.784517765045166
         ],
         "yaxis": "y"
        },
        {
         "hovertemplate": "<b>%{hovertext}</b><br><br>color=71<br>x1=%{x}<br>x2=%{y}<extra></extra>",
         "hovertext": [
          "screen"
         ],
         "legendgroup": "71",
         "marker": {
          "color": "#00cc96",
          "symbol": "circle"
         },
         "mode": "markers",
         "name": "71",
         "orientation": "v",
         "showlegend": true,
         "type": "scatter",
         "x": [
          -0.6003278493881226
         ],
         "xaxis": "x",
         "y": [
          -1.07594633102417
         ],
         "yaxis": "y"
        },
        {
         "hovertemplate": "<b>%{hovertext}</b><br><br>color=210<br>x1=%{x}<br>x2=%{y}<extra></extra>",
         "hovertext": [
          "screw"
         ],
         "legendgroup": "210",
         "marker": {
          "color": "#ab63fa",
          "symbol": "circle"
         },
         "mode": "markers",
         "name": "210",
         "orientation": "v",
         "showlegend": true,
         "type": "scatter",
         "x": [
          -7.561928749084473
         ],
         "xaxis": "x",
         "y": [
          -0.542869508266449
         ],
         "yaxis": "y"
        },
        {
         "hovertemplate": "<b>%{hovertext}</b><br><br>color=78<br>x1=%{x}<br>x2=%{y}<extra></extra>",
         "hovertext": [
          "screwdriver"
         ],
         "legendgroup": "78",
         "marker": {
          "color": "#FFA15A",
          "symbol": "circle"
         },
         "mode": "markers",
         "name": "78",
         "orientation": "v",
         "showlegend": true,
         "type": "scatter",
         "x": [
          -0.25991877913475037
         ],
         "xaxis": "x",
         "y": [
          0.8722248673439026
         ],
         "yaxis": "y"
        },
        {
         "hovertemplate": "<b>%{hovertext}</b><br><br>color=175<br>x1=%{x}<br>x2=%{y}<extra></extra>",
         "hovertext": [
          "seat belt"
         ],
         "legendgroup": "175",
         "marker": {
          "color": "#19d3f3",
          "symbol": "circle"
         },
         "mode": "markers",
         "name": "175",
         "orientation": "v",
         "showlegend": true,
         "type": "scatter",
         "x": [
          0.5487762689590454
         ],
         "xaxis": "x",
         "y": [
          -1.9087883234024048
         ],
         "yaxis": "y"
        },
        {
         "hovertemplate": "<b>%{hovertext}</b><br><br>color=459<br>x1=%{x}<br>x2=%{y}<extra></extra>",
         "hovertext": [
          "sewing machine"
         ],
         "legendgroup": "459",
         "marker": {
          "color": "#FF6692",
          "symbol": "circle"
         },
         "mode": "markers",
         "name": "459",
         "orientation": "v",
         "showlegend": true,
         "type": "scatter",
         "x": [
          -5.137528419494629
         ],
         "xaxis": "x",
         "y": [
          0.1333177536725998
         ],
         "yaxis": "y"
        },
        {
         "hovertemplate": "<b>%{hovertext}</b><br><br>color=229<br>x1=%{x}<br>x2=%{y}<extra></extra>",
         "hovertext": [
          "shield"
         ],
         "legendgroup": "229",
         "marker": {
          "color": "#B6E880",
          "symbol": "circle"
         },
         "mode": "markers",
         "name": "229",
         "orientation": "v",
         "showlegend": true,
         "type": "scatter",
         "x": [
          0.6655842661857605
         ],
         "xaxis": "x",
         "y": [
          -0.35068458318710327
         ],
         "yaxis": "y"
        },
        {
         "hovertemplate": "<b>%{hovertext}</b><br><br>color=413<br>x1=%{x}<br>x2=%{y}<extra></extra>",
         "hovertext": [
          "shoe shop"
         ],
         "legendgroup": "413",
         "marker": {
          "color": "#FF97FF",
          "symbol": "circle"
         },
         "mode": "markers",
         "name": "413",
         "orientation": "v",
         "showlegend": true,
         "type": "scatter",
         "x": [
          1.589392900466919
         ],
         "xaxis": "x",
         "y": [
          -2.8953328132629395
         ],
         "yaxis": "y"
        },
        {
         "hovertemplate": "<b>%{hovertext}</b><br><br>color=391<br>x1=%{x}<br>x2=%{y}<extra></extra>",
         "hovertext": [
          "shoji"
         ],
         "legendgroup": "391",
         "marker": {
          "color": "#FECB52",
          "symbol": "circle"
         },
         "mode": "markers",
         "name": "391",
         "orientation": "v",
         "showlegend": true,
         "type": "scatter",
         "x": [
          -0.4932660758495331
         ],
         "xaxis": "x",
         "y": [
          1.2281177043914795
         ],
         "yaxis": "y"
        },
        {
         "hovertemplate": "<b>%{hovertext}</b><br><br>color=216<br>x1=%{x}<br>x2=%{y}<extra></extra>",
         "hovertext": [
          "shopping basket"
         ],
         "legendgroup": "216",
         "marker": {
          "color": "#636efa",
          "symbol": "circle"
         },
         "mode": "markers",
         "name": "216",
         "orientation": "v",
         "showlegend": true,
         "type": "scatter",
         "x": [
          -4.807436943054199
         ],
         "xaxis": "x",
         "y": [
          -0.44150882959365845
         ],
         "yaxis": "y"
        },
        {
         "hovertemplate": "<b>%{hovertext}</b><br><br>color=235<br>x1=%{x}<br>x2=%{y}<extra></extra>",
         "hovertext": [
          "shopping cart"
         ],
         "legendgroup": "235",
         "marker": {
          "color": "#EF553B",
          "symbol": "circle"
         },
         "mode": "markers",
         "name": "235",
         "orientation": "v",
         "showlegend": true,
         "type": "scatter",
         "x": [
          -4.107337474822998
         ],
         "xaxis": "x",
         "y": [
          -0.43701618909835815
         ],
         "yaxis": "y"
        },
        {
         "hovertemplate": "<b>%{hovertext}</b><br><br>color=258<br>x1=%{x}<br>x2=%{y}<extra></extra>",
         "hovertext": [
          "shovel"
         ],
         "legendgroup": "258",
         "marker": {
          "color": "#00cc96",
          "symbol": "circle"
         },
         "mode": "markers",
         "name": "258",
         "orientation": "v",
         "showlegend": true,
         "type": "scatter",
         "x": [
          -4.824637413024902
         ],
         "xaxis": "x",
         "y": [
          -0.703259289264679
         ],
         "yaxis": "y"
        },
        {
         "hovertemplate": "<b>%{hovertext}</b><br><br>color=440<br>x1=%{x}<br>x2=%{y}<extra></extra>",
         "hovertext": [
          "shower cap"
         ],
         "legendgroup": "440",
         "marker": {
          "color": "#ab63fa",
          "symbol": "circle"
         },
         "mode": "markers",
         "name": "440",
         "orientation": "v",
         "showlegend": true,
         "type": "scatter",
         "x": [
          -4.552104949951172
         ],
         "xaxis": "x",
         "y": [
          -1.666045904159546
         ],
         "yaxis": "y"
        },
        {
         "hovertemplate": "<b>%{hovertext}</b><br><br>color=366<br>x1=%{x}<br>x2=%{y}<extra></extra>",
         "hovertext": [
          "shower curtain"
         ],
         "legendgroup": "366",
         "marker": {
          "color": "#FFA15A",
          "symbol": "circle"
         },
         "mode": "markers",
         "name": "366",
         "orientation": "v",
         "showlegend": true,
         "type": "scatter",
         "x": [
          -4.701598644256592
         ],
         "xaxis": "x",
         "y": [
          -1.1992100477218628
         ],
         "yaxis": "y"
        },
        {
         "hovertemplate": "<b>%{hovertext}</b><br><br>color=163<br>x1=%{x}<br>x2=%{y}<extra></extra>",
         "hovertext": [
          "ski"
         ],
         "legendgroup": "163",
         "marker": {
          "color": "#19d3f3",
          "symbol": "circle"
         },
         "mode": "markers",
         "name": "163",
         "orientation": "v",
         "showlegend": true,
         "type": "scatter",
         "x": [
          -6.158478260040283
         ],
         "xaxis": "x",
         "y": [
          -1.295986294746399
         ],
         "yaxis": "y"
        },
        {
         "hovertemplate": "<b>%{hovertext}</b><br><br>color=610<br>x1=%{x}<br>x2=%{y}<extra></extra>",
         "hovertext": [
          "ski mask"
         ],
         "legendgroup": "610",
         "marker": {
          "color": "#FF6692",
          "symbol": "circle"
         },
         "mode": "markers",
         "name": "610",
         "orientation": "v",
         "showlegend": true,
         "type": "scatter",
         "x": [
          -4.974054336547852
         ],
         "xaxis": "x",
         "y": [
          -1.3242210149765015
         ],
         "yaxis": "y"
        },
        {
         "hovertemplate": "<b>%{hovertext}</b><br><br>color=111<br>x1=%{x}<br>x2=%{y}<extra></extra>",
         "hovertext": [
          "sleeping bag"
         ],
         "legendgroup": "111",
         "marker": {
          "color": "#B6E880",
          "symbol": "circle"
         },
         "mode": "markers",
         "name": "111",
         "orientation": "v",
         "showlegend": true,
         "type": "scatter",
         "x": [
          -4.120386123657227
         ],
         "xaxis": "x",
         "y": [
          0.7193742990493774
         ],
         "yaxis": "y"
        },
        {
         "hovertemplate": "<b>%{hovertext}</b><br><br>color=234<br>x1=%{x}<br>x2=%{y}<extra></extra>",
         "hovertext": [
          "slide rule"
         ],
         "legendgroup": "234",
         "marker": {
          "color": "#FF97FF",
          "symbol": "circle"
         },
         "mode": "markers",
         "name": "234",
         "orientation": "v",
         "showlegend": true,
         "type": "scatter",
         "x": [
          -2.1674351692199707
         ],
         "xaxis": "x",
         "y": [
          -2.755934953689575
         ],
         "yaxis": "y"
        },
        {
         "hovertemplate": "<b>%{hovertext}</b><br><br>color=172<br>x1=%{x}<br>x2=%{y}<extra></extra>",
         "hovertext": [
          "sliding door"
         ],
         "legendgroup": "172",
         "marker": {
          "color": "#FECB52",
          "symbol": "circle"
         },
         "mode": "markers",
         "name": "172",
         "orientation": "v",
         "showlegend": true,
         "type": "scatter",
         "x": [
          -4.027860641479492
         ],
         "xaxis": "x",
         "y": [
          -0.1984262615442276
         ],
         "yaxis": "y"
        },
        {
         "hovertemplate": "<b>%{hovertext}</b><br><br>color=275<br>x1=%{x}<br>x2=%{y}<extra></extra>",
         "hovertext": [
          "slot"
         ],
         "legendgroup": "275",
         "marker": {
          "color": "#636efa",
          "symbol": "circle"
         },
         "mode": "markers",
         "name": "275",
         "orientation": "v",
         "showlegend": true,
         "type": "scatter",
         "x": [
          1.7219257354736328
         ],
         "xaxis": "x",
         "y": [
          0.6536785364151001
         ],
         "yaxis": "y"
        },
        {
         "hovertemplate": "<b>%{hovertext}</b><br><br>color=134<br>x1=%{x}<br>x2=%{y}<extra></extra>",
         "hovertext": [
          "snorkel"
         ],
         "legendgroup": "134",
         "marker": {
          "color": "#EF553B",
          "symbol": "circle"
         },
         "mode": "markers",
         "name": "134",
         "orientation": "v",
         "showlegend": true,
         "type": "scatter",
         "x": [
          -1.6981923580169678
         ],
         "xaxis": "x",
         "y": [
          0.7332730889320374
         ],
         "yaxis": "y"
        },
        {
         "hovertemplate": "<b>%{hovertext}</b><br><br>color=304<br>x1=%{x}<br>x2=%{y}<extra></extra>",
         "hovertext": [
          "snowmobile"
         ],
         "legendgroup": "304",
         "marker": {
          "color": "#00cc96",
          "symbol": "circle"
         },
         "mode": "markers",
         "name": "304",
         "orientation": "v",
         "showlegend": true,
         "type": "scatter",
         "x": [
          -4.395118236541748
         ],
         "xaxis": "x",
         "y": [
          -0.9680695533752441
         ],
         "yaxis": "y"
        },
        {
         "hovertemplate": "<b>%{hovertext}</b><br><br>color=793<br>x1=%{x}<br>x2=%{y}<extra></extra>",
         "hovertext": [
          "snowplow"
         ],
         "legendgroup": "793",
         "marker": {
          "color": "#ab63fa",
          "symbol": "circle"
         },
         "mode": "markers",
         "name": "793",
         "orientation": "v",
         "showlegend": true,
         "type": "scatter",
         "x": [
          1.749060869216919
         ],
         "xaxis": "x",
         "y": [
          -0.9863186478614807
         ],
         "yaxis": "y"
        },
        {
         "hovertemplate": "<b>%{hovertext}</b><br><br>color=280<br>x1=%{x}<br>x2=%{y}<extra></extra>",
         "hovertext": [
          "soap dispenser"
         ],
         "legendgroup": "280",
         "marker": {
          "color": "#FFA15A",
          "symbol": "circle"
         },
         "mode": "markers",
         "name": "280",
         "orientation": "v",
         "showlegend": true,
         "type": "scatter",
         "x": [
          -0.4203701615333557
         ],
         "xaxis": "x",
         "y": [
          1.0254878997802734
         ],
         "yaxis": "y"
        },
        {
         "hovertemplate": "<b>%{hovertext}</b><br><br>color=396<br>x1=%{x}<br>x2=%{y}<extra></extra>",
         "hovertext": [
          "soccer ball"
         ],
         "legendgroup": "396",
         "marker": {
          "color": "#19d3f3",
          "symbol": "circle"
         },
         "mode": "markers",
         "name": "396",
         "orientation": "v",
         "showlegend": true,
         "type": "scatter",
         "x": [
          -5.000619411468506
         ],
         "xaxis": "x",
         "y": [
          1.2500145435333252
         ],
         "yaxis": "y"
        },
        {
         "hovertemplate": "<b>%{hovertext}</b><br><br>color=399<br>x1=%{x}<br>x2=%{y}<extra></extra>",
         "hovertext": [
          "sock"
         ],
         "legendgroup": "399",
         "marker": {
          "color": "#FF6692",
          "symbol": "circle"
         },
         "mode": "markers",
         "name": "399",
         "orientation": "v",
         "showlegend": true,
         "type": "scatter",
         "x": [
          -5.376598358154297
         ],
         "xaxis": "x",
         "y": [
          0.9582270383834839
         ],
         "yaxis": "y"
        },
        {
         "hovertemplate": "<b>%{hovertext}</b><br><br>color=219<br>x1=%{x}<br>x2=%{y}<extra></extra>",
         "hovertext": [
          "solar dish"
         ],
         "legendgroup": "219",
         "marker": {
          "color": "#B6E880",
          "symbol": "circle"
         },
         "mode": "markers",
         "name": "219",
         "orientation": "v",
         "showlegend": true,
         "type": "scatter",
         "x": [
          0.28092706203460693
         ],
         "xaxis": "x",
         "y": [
          -2.3705365657806396
         ],
         "yaxis": "y"
        },
        {
         "hovertemplate": "<b>%{hovertext}</b><br><br>color=177<br>x1=%{x}<br>x2=%{y}<extra></extra>",
         "hovertext": [
          "sombrero"
         ],
         "legendgroup": "177",
         "marker": {
          "color": "#FF97FF",
          "symbol": "circle"
         },
         "mode": "markers",
         "name": "177",
         "orientation": "v",
         "showlegend": true,
         "type": "scatter",
         "x": [
          -0.5763672590255737
         ],
         "xaxis": "x",
         "y": [
          2.980938196182251
         ],
         "yaxis": "y"
        },
        {
         "hovertemplate": "<b>%{hovertext}</b><br><br>color=228<br>x1=%{x}<br>x2=%{y}<extra></extra>",
         "hovertext": [
          "soup bowl"
         ],
         "legendgroup": "228",
         "marker": {
          "color": "#FECB52",
          "symbol": "circle"
         },
         "mode": "markers",
         "name": "228",
         "orientation": "v",
         "showlegend": true,
         "type": "scatter",
         "x": [
          -5.112748622894287
         ],
         "xaxis": "x",
         "y": [
          -0.2421162873506546
         ],
         "yaxis": "y"
        },
        {
         "hovertemplate": "<b>%{hovertext}</b><br><br>color=215<br>x1=%{x}<br>x2=%{y}<extra></extra>",
         "hovertext": [
          "space bar"
         ],
         "legendgroup": "215",
         "marker": {
          "color": "#636efa",
          "symbol": "circle"
         },
         "mode": "markers",
         "name": "215",
         "orientation": "v",
         "showlegend": true,
         "type": "scatter",
         "x": [
          -4.705963611602783
         ],
         "xaxis": "x",
         "y": [
          0.7135676741600037
         ],
         "yaxis": "y"
        },
        {
         "hovertemplate": "<b>%{hovertext}</b><br><br>color=237<br>x1=%{x}<br>x2=%{y}<extra></extra>",
         "hovertext": [
          "space heater"
         ],
         "legendgroup": "237",
         "marker": {
          "color": "#EF553B",
          "symbol": "circle"
         },
         "mode": "markers",
         "name": "237",
         "orientation": "v",
         "showlegend": true,
         "type": "scatter",
         "x": [
          -2.4037322998046875
         ],
         "xaxis": "x",
         "y": [
          0.48052507638931274
         ],
         "yaxis": "y"
        },
        {
         "hovertemplate": "<b>%{hovertext}</b><br><br>color=248<br>x1=%{x}<br>x2=%{y}<extra></extra>",
         "hovertext": [
          "space shuttle"
         ],
         "legendgroup": "248",
         "marker": {
          "color": "#00cc96",
          "symbol": "circle"
         },
         "mode": "markers",
         "name": "248",
         "orientation": "v",
         "showlegend": true,
         "type": "scatter",
         "x": [
          -4.019643783569336
         ],
         "xaxis": "x",
         "y": [
          3.889526128768921
         ],
         "yaxis": "y"
        },
        {
         "hovertemplate": "<b>%{hovertext}</b><br><br>color=646<br>x1=%{x}<br>x2=%{y}<extra></extra>",
         "hovertext": [
          "spatula"
         ],
         "legendgroup": "646",
         "marker": {
          "color": "#ab63fa",
          "symbol": "circle"
         },
         "mode": "markers",
         "name": "646",
         "orientation": "v",
         "showlegend": true,
         "type": "scatter",
         "x": [
          -2.966921329498291
         ],
         "xaxis": "x",
         "y": [
          3.0678272247314453
         ],
         "yaxis": "y"
        },
        {
         "hovertemplate": "<b>%{hovertext}</b><br><br>color=358<br>x1=%{x}<br>x2=%{y}<extra></extra>",
         "hovertext": [
          "speedboat"
         ],
         "legendgroup": "358",
         "marker": {
          "color": "#FFA15A",
          "symbol": "circle"
         },
         "mode": "markers",
         "name": "358",
         "orientation": "v",
         "showlegend": true,
         "type": "scatter",
         "x": [
          -2.6935577392578125
         ],
         "xaxis": "x",
         "y": [
          -0.8624644875526428
         ],
         "yaxis": "y"
        },
        {
         "hovertemplate": "<b>%{hovertext}</b><br><br>color=468<br>x1=%{x}<br>x2=%{y}<extra></extra>",
         "hovertext": [
          "spider web"
         ],
         "legendgroup": "468",
         "marker": {
          "color": "#19d3f3",
          "symbol": "circle"
         },
         "mode": "markers",
         "name": "468",
         "orientation": "v",
         "showlegend": true,
         "type": "scatter",
         "x": [
          2.1225156784057617
         ],
         "xaxis": "x",
         "y": [
          0.6333566904067993
         ],
         "yaxis": "y"
        },
        {
         "hovertemplate": "<b>%{hovertext}</b><br><br>color=283<br>x1=%{x}<br>x2=%{y}<extra></extra>",
         "hovertext": [
          "spindle"
         ],
         "legendgroup": "283",
         "marker": {
          "color": "#FF6692",
          "symbol": "circle"
         },
         "mode": "markers",
         "name": "283",
         "orientation": "v",
         "showlegend": true,
         "type": "scatter",
         "x": [
          -3.453781843185425
         ],
         "xaxis": "x",
         "y": [
          1.1236296892166138
         ],
         "yaxis": "y"
        },
        {
         "hovertemplate": "<b>%{hovertext}</b><br><br>color=241<br>x1=%{x}<br>x2=%{y}<extra></extra>",
         "hovertext": [
          "sports car"
         ],
         "legendgroup": "241",
         "marker": {
          "color": "#B6E880",
          "symbol": "circle"
         },
         "mode": "markers",
         "name": "241",
         "orientation": "v",
         "showlegend": true,
         "type": "scatter",
         "x": [
          -1.0752620697021484
         ],
         "xaxis": "x",
         "y": [
          -0.5640408992767334
         ],
         "yaxis": "y"
        },
        {
         "hovertemplate": "<b>%{hovertext}</b><br><br>color=322<br>x1=%{x}<br>x2=%{y}<extra></extra>",
         "hovertext": [
          "spotlight"
         ],
         "legendgroup": "322",
         "marker": {
          "color": "#FF97FF",
          "symbol": "circle"
         },
         "mode": "markers",
         "name": "322",
         "orientation": "v",
         "showlegend": true,
         "type": "scatter",
         "x": [
          -3.9358057975769043
         ],
         "xaxis": "x",
         "y": [
          -1.691535234451294
         ],
         "yaxis": "y"
        },
        {
         "hovertemplate": "<b>%{hovertext}</b><br><br>color=169<br>x1=%{x}<br>x2=%{y}<extra></extra>",
         "hovertext": [
          "stage"
         ],
         "legendgroup": "169",
         "marker": {
          "color": "#FECB52",
          "symbol": "circle"
         },
         "mode": "markers",
         "name": "169",
         "orientation": "v",
         "showlegend": true,
         "type": "scatter",
         "x": [
          -5.117160320281982
         ],
         "xaxis": "x",
         "y": [
          -0.44319429993629456
         ],
         "yaxis": "y"
        },
        {
         "hovertemplate": "<b>%{hovertext}</b><br><br>color=170<br>x1=%{x}<br>x2=%{y}<extra></extra>",
         "hovertext": [
          "steam locomotive"
         ],
         "legendgroup": "170",
         "marker": {
          "color": "#636efa",
          "symbol": "circle"
         },
         "mode": "markers",
         "name": "170",
         "orientation": "v",
         "showlegend": true,
         "type": "scatter",
         "x": [
          -3.9611713886260986
         ],
         "xaxis": "x",
         "y": [
          1.685099482536316
         ],
         "yaxis": "y"
        },
        {
         "hovertemplate": "<b>%{hovertext}</b><br><br>color=85<br>x1=%{x}<br>x2=%{y}<extra></extra>",
         "hovertext": [
          "steel arch bridge"
         ],
         "legendgroup": "85",
         "marker": {
          "color": "#EF553B",
          "symbol": "circle"
         },
         "mode": "markers",
         "name": "85",
         "orientation": "v",
         "showlegend": true,
         "type": "scatter",
         "x": [
          -2.393427848815918
         ],
         "xaxis": "x",
         "y": [
          1.4353275299072266
         ],
         "yaxis": "y"
        },
        {
         "hovertemplate": "<b>%{hovertext}</b><br><br>color=73<br>x1=%{x}<br>x2=%{y}<extra></extra>",
         "hovertext": [
          "steel drum"
         ],
         "legendgroup": "73",
         "marker": {
          "color": "#00cc96",
          "symbol": "circle"
         },
         "mode": "markers",
         "name": "73",
         "orientation": "v",
         "showlegend": true,
         "type": "scatter",
         "x": [
          -5.072445869445801
         ],
         "xaxis": "x",
         "y": [
          -1.6571630239486694
         ],
         "yaxis": "y"
        },
        {
         "hovertemplate": "<b>%{hovertext}</b><br><br>color=205<br>x1=%{x}<br>x2=%{y}<extra></extra>",
         "hovertext": [
          "stethoscope"
         ],
         "legendgroup": "205",
         "marker": {
          "color": "#ab63fa",
          "symbol": "circle"
         },
         "mode": "markers",
         "name": "205",
         "orientation": "v",
         "showlegend": true,
         "type": "scatter",
         "x": [
          2.9351108074188232
         ],
         "xaxis": "x",
         "y": [
          0.9823316931724548
         ],
         "yaxis": "y"
        },
        {
         "hovertemplate": "<b>%{hovertext}</b><br><br>color=89<br>x1=%{x}<br>x2=%{y}<extra></extra>",
         "hovertext": [
          "stole"
         ],
         "legendgroup": "89",
         "marker": {
          "color": "#FFA15A",
          "symbol": "circle"
         },
         "mode": "markers",
         "name": "89",
         "orientation": "v",
         "showlegend": true,
         "type": "scatter",
         "x": [
          -7.7573418617248535
         ],
         "xaxis": "x",
         "y": [
          0.6776140928268433
         ],
         "yaxis": "y"
        },
        {
         "hovertemplate": "<b>%{hovertext}</b><br><br>color=516<br>x1=%{x}<br>x2=%{y}<extra></extra>",
         "hovertext": [
          "stone wall"
         ],
         "legendgroup": "516",
         "marker": {
          "color": "#19d3f3",
          "symbol": "circle"
         },
         "mode": "markers",
         "name": "516",
         "orientation": "v",
         "showlegend": true,
         "type": "scatter",
         "x": [
          -4.25060510635376
         ],
         "xaxis": "x",
         "y": [
          1.9976820945739746
         ],
         "yaxis": "y"
        },
        {
         "hovertemplate": "<b>%{hovertext}</b><br><br>color=233<br>x1=%{x}<br>x2=%{y}<extra></extra>",
         "hovertext": [
          "stopwatch"
         ],
         "legendgroup": "233",
         "marker": {
          "color": "#FF6692",
          "symbol": "circle"
         },
         "mode": "markers",
         "name": "233",
         "orientation": "v",
         "showlegend": true,
         "type": "scatter",
         "x": [
          -0.9919636249542236
         ],
         "xaxis": "x",
         "y": [
          -2.314192295074463
         ],
         "yaxis": "y"
        },
        {
         "hovertemplate": "<b>%{hovertext}</b><br><br>color=209<br>x1=%{x}<br>x2=%{y}<extra></extra>",
         "hovertext": [
          "stove"
         ],
         "legendgroup": "209",
         "marker": {
          "color": "#B6E880",
          "symbol": "circle"
         },
         "mode": "markers",
         "name": "209",
         "orientation": "v",
         "showlegend": true,
         "type": "scatter",
         "x": [
          -7.279691696166992
         ],
         "xaxis": "x",
         "y": [
          -1.7577155828475952
         ],
         "yaxis": "y"
        },
        {
         "hovertemplate": "<b>%{hovertext}</b><br><br>color=320<br>x1=%{x}<br>x2=%{y}<extra></extra>",
         "hovertext": [
          "strainer"
         ],
         "legendgroup": "320",
         "marker": {
          "color": "#FF97FF",
          "symbol": "circle"
         },
         "mode": "markers",
         "name": "320",
         "orientation": "v",
         "showlegend": true,
         "type": "scatter",
         "x": [
          -5.3224568367004395
         ],
         "xaxis": "x",
         "y": [
          -0.6392568349838257
         ],
         "yaxis": "y"
        },
        {
         "hovertemplate": "<b>%{hovertext}</b><br><br>color=92<br>x1=%{x}<br>x2=%{y}<extra></extra>",
         "hovertext": [
          "streetcar"
         ],
         "legendgroup": "92",
         "marker": {
          "color": "#FECB52",
          "symbol": "circle"
         },
         "mode": "markers",
         "name": "92",
         "orientation": "v",
         "showlegend": true,
         "type": "scatter",
         "x": [
          2.055732250213623
         ],
         "xaxis": "x",
         "y": [
          -2.6411550045013428
         ],
         "yaxis": "y"
        },
        {
         "hovertemplate": "<b>%{hovertext}</b><br><br>color=106<br>x1=%{x}<br>x2=%{y}<extra></extra>",
         "hovertext": [
          "stretcher"
         ],
         "legendgroup": "106",
         "marker": {
          "color": "#636efa",
          "symbol": "circle"
         },
         "mode": "markers",
         "name": "106",
         "orientation": "v",
         "showlegend": true,
         "type": "scatter",
         "x": [
          -4.154688358306885
         ],
         "xaxis": "x",
         "y": [
          -1.3043161630630493
         ],
         "yaxis": "y"
        },
        {
         "hovertemplate": "<b>%{hovertext}</b><br><br>color=81<br>x1=%{x}<br>x2=%{y}<extra></extra>",
         "hovertext": [
          "studio couch"
         ],
         "legendgroup": "81",
         "marker": {
          "color": "#EF553B",
          "symbol": "circle"
         },
         "mode": "markers",
         "name": "81",
         "orientation": "v",
         "showlegend": true,
         "type": "scatter",
         "x": [
          -1.7094289064407349
         ],
         "xaxis": "x",
         "y": [
          -1.9427660703659058
         ],
         "yaxis": "y"
        },
        {
         "hovertemplate": "<b>%{hovertext}</b><br><br>color=113<br>x1=%{x}<br>x2=%{y}<extra></extra>",
         "hovertext": [
          "stupa"
         ],
         "legendgroup": "113",
         "marker": {
          "color": "#00cc96",
          "symbol": "circle"
         },
         "mode": "markers",
         "name": "113",
         "orientation": "v",
         "showlegend": true,
         "type": "scatter",
         "x": [
          0.31135573983192444
         ],
         "xaxis": "x",
         "y": [
          -0.5653756260871887
         ],
         "yaxis": "y"
        },
        {
         "hovertemplate": "<b>%{hovertext}</b><br><br>color=226<br>x1=%{x}<br>x2=%{y}<extra></extra>",
         "hovertext": [
          "submarine"
         ],
         "legendgroup": "226",
         "marker": {
          "color": "#ab63fa",
          "symbol": "circle"
         },
         "mode": "markers",
         "name": "226",
         "orientation": "v",
         "showlegend": true,
         "type": "scatter",
         "x": [
          3.533238172531128
         ],
         "xaxis": "x",
         "y": [
          -1.4850934743881226
         ],
         "yaxis": "y"
        },
        {
         "hovertemplate": "<b>%{hovertext}</b><br><br>color=135<br>x1=%{x}<br>x2=%{y}<extra></extra>",
         "hovertext": [
          "suit"
         ],
         "legendgroup": "135",
         "marker": {
          "color": "#FFA15A",
          "symbol": "circle"
         },
         "mode": "markers",
         "name": "135",
         "orientation": "v",
         "showlegend": true,
         "type": "scatter",
         "x": [
          0.20062440633773804
         ],
         "xaxis": "x",
         "y": [
          -1.7658158540725708
         ],
         "yaxis": "y"
        },
        {
         "hovertemplate": "<b>%{hovertext}</b><br><br>color=174<br>x1=%{x}<br>x2=%{y}<extra></extra>",
         "hovertext": [
          "sundial"
         ],
         "legendgroup": "174",
         "marker": {
          "color": "#19d3f3",
          "symbol": "circle"
         },
         "mode": "markers",
         "name": "174",
         "orientation": "v",
         "showlegend": true,
         "type": "scatter",
         "x": [
          -3.0875959396362305
         ],
         "xaxis": "x",
         "y": [
          -0.7747510075569153
         ],
         "yaxis": "y"
        },
        {
         "hovertemplate": "<b>%{hovertext}</b><br><br>color=230<br>x1=%{x}<br>x2=%{y}<extra></extra>",
         "hovertext": [
          "sunglass"
         ],
         "legendgroup": "230",
         "marker": {
          "color": "#FF6692",
          "symbol": "circle"
         },
         "mode": "markers",
         "name": "230",
         "orientation": "v",
         "showlegend": true,
         "type": "scatter",
         "x": [
          -4.247632026672363
         ],
         "xaxis": "x",
         "y": [
          -0.6099746823310852
         ],
         "yaxis": "y"
        },
        {
         "hovertemplate": "<b>%{hovertext}</b><br><br>color=87<br>x1=%{x}<br>x2=%{y}<extra></extra>",
         "hovertext": [
          "sunglasses"
         ],
         "legendgroup": "87",
         "marker": {
          "color": "#B6E880",
          "symbol": "circle"
         },
         "mode": "markers",
         "name": "87",
         "orientation": "v",
         "showlegend": true,
         "type": "scatter",
         "x": [
          -0.4263007342815399
         ],
         "xaxis": "x",
         "y": [
          -3.7164907455444336
         ],
         "yaxis": "y"
        },
        {
         "hovertemplate": "<b>%{hovertext}</b><br><br>color=131<br>x1=%{x}<br>x2=%{y}<extra></extra>",
         "hovertext": [
          "sunscreen"
         ],
         "legendgroup": "131",
         "marker": {
          "color": "#FF97FF",
          "symbol": "circle"
         },
         "mode": "markers",
         "name": "131",
         "orientation": "v",
         "showlegend": true,
         "type": "scatter",
         "x": [
          2.018693685531616
         ],
         "xaxis": "x",
         "y": [
          -1.488937497138977
         ],
         "yaxis": "y"
        },
        {
         "hovertemplate": "<b>%{hovertext}</b><br><br>color=109<br>x1=%{x}<br>x2=%{y}<extra></extra>",
         "hovertext": [
          "suspension bridge"
         ],
         "legendgroup": "109",
         "marker": {
          "color": "#FECB52",
          "symbol": "circle"
         },
         "mode": "markers",
         "name": "109",
         "orientation": "v",
         "showlegend": true,
         "type": "scatter",
         "x": [
          -3.3801815509796143
         ],
         "xaxis": "x",
         "y": [
          1.3869928121566772
         ],
         "yaxis": "y"
        },
        {
         "hovertemplate": "<b>%{hovertext}</b><br><br>color=103<br>x1=%{x}<br>x2=%{y}<extra></extra>",
         "hovertext": [
          "swab"
         ],
         "legendgroup": "103",
         "marker": {
          "color": "#636efa",
          "symbol": "circle"
         },
         "mode": "markers",
         "name": "103",
         "orientation": "v",
         "showlegend": true,
         "type": "scatter",
         "x": [
          3.7221872806549072
         ],
         "xaxis": "x",
         "y": [
          -0.7614147067070007
         ],
         "yaxis": "y"
        },
        {
         "hovertemplate": "<b>%{hovertext}</b><br><br>color=173<br>x1=%{x}<br>x2=%{y}<extra></extra>",
         "hovertext": [
          "sweatshirt"
         ],
         "legendgroup": "173",
         "marker": {
          "color": "#EF553B",
          "symbol": "circle"
         },
         "mode": "markers",
         "name": "173",
         "orientation": "v",
         "showlegend": true,
         "type": "scatter",
         "x": [
          -5.78419828414917
         ],
         "xaxis": "x",
         "y": [
          -2.496865749359131
         ],
         "yaxis": "y"
        },
        {
         "hovertemplate": "<b>%{hovertext}</b><br><br>color=257<br>x1=%{x}<br>x2=%{y}<extra></extra>",
         "hovertext": [
          "swimming trunks"
         ],
         "legendgroup": "257",
         "marker": {
          "color": "#00cc96",
          "symbol": "circle"
         },
         "mode": "markers",
         "name": "257",
         "orientation": "v",
         "showlegend": true,
         "type": "scatter",
         "x": [
          -0.5782955288887024
         ],
         "xaxis": "x",
         "y": [
          -2.004176616668701
         ],
         "yaxis": "y"
        },
        {
         "hovertemplate": "<b>%{hovertext}</b><br><br>color=160<br>x1=%{x}<br>x2=%{y}<extra></extra>",
         "hovertext": [
          "swing"
         ],
         "legendgroup": "160",
         "marker": {
          "color": "#ab63fa",
          "symbol": "circle"
         },
         "mode": "markers",
         "name": "160",
         "orientation": "v",
         "showlegend": true,
         "type": "scatter",
         "x": [
          -7.095405578613281
         ],
         "xaxis": "x",
         "y": [
          0.795204222202301
         ],
         "yaxis": "y"
        },
        {
         "hovertemplate": "<b>%{hovertext}</b><br><br>color=141<br>x1=%{x}<br>x2=%{y}<extra></extra>",
         "hovertext": [
          "switch"
         ],
         "legendgroup": "141",
         "marker": {
          "color": "#FFA15A",
          "symbol": "circle"
         },
         "mode": "markers",
         "name": "141",
         "orientation": "v",
         "showlegend": true,
         "type": "scatter",
         "x": [
          -0.10908789932727814
         ],
         "xaxis": "x",
         "y": [
          -2.080350875854492
         ],
         "yaxis": "y"
        },
        {
         "hovertemplate": "<b>%{hovertext}</b><br><br>color=70<br>x1=%{x}<br>x2=%{y}<extra></extra>",
         "hovertext": [
          "syringe"
         ],
         "legendgroup": "70",
         "marker": {
          "color": "#19d3f3",
          "symbol": "circle"
         },
         "mode": "markers",
         "name": "70",
         "orientation": "v",
         "showlegend": true,
         "type": "scatter",
         "x": [
          -0.4305543005466461
         ],
         "xaxis": "x",
         "y": [
          0.33981913328170776
         ],
         "yaxis": "y"
        },
        {
         "hovertemplate": "<b>%{hovertext}</b><br><br>color=178<br>x1=%{x}<br>x2=%{y}<extra></extra>",
         "hovertext": [
          "table lamp"
         ],
         "legendgroup": "178",
         "marker": {
          "color": "#FF6692",
          "symbol": "circle"
         },
         "mode": "markers",
         "name": "178",
         "orientation": "v",
         "showlegend": true,
         "type": "scatter",
         "x": [
          -4.464139461517334
         ],
         "xaxis": "x",
         "y": [
          -1.3790557384490967
         ],
         "yaxis": "y"
        },
        {
         "hovertemplate": "<b>%{hovertext}</b><br><br>color=146<br>x1=%{x}<br>x2=%{y}<extra></extra>",
         "hovertext": [
          "tank"
         ],
         "legendgroup": "146",
         "marker": {
          "color": "#B6E880",
          "symbol": "circle"
         },
         "mode": "markers",
         "name": "146",
         "orientation": "v",
         "showlegend": true,
         "type": "scatter",
         "x": [
          1.9178624153137207
         ],
         "xaxis": "x",
         "y": [
          -1.0697942972183228
         ],
         "yaxis": "y"
        },
        {
         "hovertemplate": "<b>%{hovertext}</b><br><br>color=192<br>x1=%{x}<br>x2=%{y}<extra></extra>",
         "hovertext": [
          "tape player"
         ],
         "legendgroup": "192",
         "marker": {
          "color": "#FF97FF",
          "symbol": "circle"
         },
         "mode": "markers",
         "name": "192",
         "orientation": "v",
         "showlegend": true,
         "type": "scatter",
         "x": [
          -4.8598761558532715
         ],
         "xaxis": "x",
         "y": [
          -1.4187668561935425
         ],
         "yaxis": "y"
        },
        {
         "hovertemplate": "<b>%{hovertext}</b><br><br>color=187<br>x1=%{x}<br>x2=%{y}<extra></extra>",
         "hovertext": [
          "teapot"
         ],
         "legendgroup": "187",
         "marker": {
          "color": "#FECB52",
          "symbol": "circle"
         },
         "mode": "markers",
         "name": "187",
         "orientation": "v",
         "showlegend": true,
         "type": "scatter",
         "x": [
          -4.817901134490967
         ],
         "xaxis": "x",
         "y": [
          -0.212066188454628
         ],
         "yaxis": "y"
        },
        {
         "hovertemplate": "<b>%{hovertext}</b><br><br>color=116<br>x1=%{x}<br>x2=%{y}<extra></extra>",
         "hovertext": [
          "teddy"
         ],
         "legendgroup": "116",
         "marker": {
          "color": "#636efa",
          "symbol": "circle"
         },
         "mode": "markers",
         "name": "116",
         "orientation": "v",
         "showlegend": true,
         "type": "scatter",
         "x": [
          1.5267634391784668
         ],
         "xaxis": "x",
         "y": [
          -0.20192670822143555
         ],
         "yaxis": "y"
        },
        {
         "hovertemplate": "<b>%{hovertext}</b><br><br>color=240<br>x1=%{x}<br>x2=%{y}<extra></extra>",
         "hovertext": [
          "television"
         ],
         "legendgroup": "240",
         "marker": {
          "color": "#EF553B",
          "symbol": "circle"
         },
         "mode": "markers",
         "name": "240",
         "orientation": "v",
         "showlegend": true,
         "type": "scatter",
         "x": [
          -2.8419878482818604
         ],
         "xaxis": "x",
         "y": [
          -2.7577028274536133
         ],
         "yaxis": "y"
        },
        {
         "hovertemplate": "<b>%{hovertext}</b><br><br>color=183<br>x1=%{x}<br>x2=%{y}<extra></extra>",
         "hovertext": [
          "tennis ball"
         ],
         "legendgroup": "183",
         "marker": {
          "color": "#00cc96",
          "symbol": "circle"
         },
         "mode": "markers",
         "name": "183",
         "orientation": "v",
         "showlegend": true,
         "type": "scatter",
         "x": [
          -4.318915367126465
         ],
         "xaxis": "x",
         "y": [
          -0.6922967433929443
         ],
         "yaxis": "y"
        },
        {
         "hovertemplate": "<b>%{hovertext}</b><br><br>color=201<br>x1=%{x}<br>x2=%{y}<extra></extra>",
         "hovertext": [
          "thatch"
         ],
         "legendgroup": "201",
         "marker": {
          "color": "#ab63fa",
          "symbol": "circle"
         },
         "mode": "markers",
         "name": "201",
         "orientation": "v",
         "showlegend": true,
         "type": "scatter",
         "x": [
          1.6872577667236328
         ],
         "xaxis": "x",
         "y": [
          -1.1608142852783203
         ],
         "yaxis": "y"
        },
        {
         "hovertemplate": "<b>%{hovertext}</b><br><br>color=401<br>x1=%{x}<br>x2=%{y}<extra></extra>",
         "hovertext": [
          "theater curtain"
         ],
         "legendgroup": "401",
         "marker": {
          "color": "#FFA15A",
          "symbol": "circle"
         },
         "mode": "markers",
         "name": "401",
         "orientation": "v",
         "showlegend": true,
         "type": "scatter",
         "x": [
          -2.0626864433288574
         ],
         "xaxis": "x",
         "y": [
          -1.154624342918396
         ],
         "yaxis": "y"
        },
        {
         "hovertemplate": "<b>%{hovertext}</b><br><br>color=65<br>x1=%{x}<br>x2=%{y}<extra></extra>",
         "hovertext": [
          "thimble"
         ],
         "legendgroup": "65",
         "marker": {
          "color": "#19d3f3",
          "symbol": "circle"
         },
         "mode": "markers",
         "name": "65",
         "orientation": "v",
         "showlegend": true,
         "type": "scatter",
         "x": [
          -1.3997777700424194
         ],
         "xaxis": "x",
         "y": [
          1.9114726781845093
         ],
         "yaxis": "y"
        },
        {
         "hovertemplate": "<b>%{hovertext}</b><br><br>color=166<br>x1=%{x}<br>x2=%{y}<extra></extra>",
         "hovertext": [
          "thresher"
         ],
         "legendgroup": "166",
         "marker": {
          "color": "#FF6692",
          "symbol": "circle"
         },
         "mode": "markers",
         "name": "166",
         "orientation": "v",
         "showlegend": true,
         "type": "scatter",
         "x": [
          4.267264366149902
         ],
         "xaxis": "x",
         "y": [
          -2.445214033126831
         ],
         "yaxis": "y"
        },
        {
         "hovertemplate": "<b>%{hovertext}</b><br><br>color=194<br>x1=%{x}<br>x2=%{y}<extra></extra>",
         "hovertext": [
          "throne"
         ],
         "legendgroup": "194",
         "marker": {
          "color": "#B6E880",
          "symbol": "circle"
         },
         "mode": "markers",
         "name": "194",
         "orientation": "v",
         "showlegend": true,
         "type": "scatter",
         "x": [
          -6.471940040588379
         ],
         "xaxis": "x",
         "y": [
          0.8908766508102417
         ],
         "yaxis": "y"
        },
        {
         "hovertemplate": "<b>%{hovertext}</b><br><br>color=193<br>x1=%{x}<br>x2=%{y}<extra></extra>",
         "hovertext": [
          "tile roof"
         ],
         "legendgroup": "193",
         "marker": {
          "color": "#FF97FF",
          "symbol": "circle"
         },
         "mode": "markers",
         "name": "193",
         "orientation": "v",
         "showlegend": true,
         "type": "scatter",
         "x": [
          -3.9378793239593506
         ],
         "xaxis": "x",
         "y": [
          -0.701525092124939
         ],
         "yaxis": "y"
        },
        {
         "hovertemplate": "<b>%{hovertext}</b><br><br>color=139<br>x1=%{x}<br>x2=%{y}<extra></extra>",
         "hovertext": [
          "toaster"
         ],
         "legendgroup": "139",
         "marker": {
          "color": "#FECB52",
          "symbol": "circle"
         },
         "mode": "markers",
         "name": "139",
         "orientation": "v",
         "showlegend": true,
         "type": "scatter",
         "x": [
          -4.490952014923096
         ],
         "xaxis": "x",
         "y": [
          -2.2594070434570312
         ],
         "yaxis": "y"
        },
        {
         "hovertemplate": "<b>%{hovertext}</b><br><br>color=121<br>x1=%{x}<br>x2=%{y}<extra></extra>",
         "hovertext": [
          "tobacco shop"
         ],
         "legendgroup": "121",
         "marker": {
          "color": "#636efa",
          "symbol": "circle"
         },
         "mode": "markers",
         "name": "121",
         "orientation": "v",
         "showlegend": true,
         "type": "scatter",
         "x": [
          1.4005296230316162
         ],
         "xaxis": "x",
         "y": [
          -2.1558914184570312
         ],
         "yaxis": "y"
        },
        {
         "hovertemplate": "<b>%{hovertext}</b><br><br>color=303<br>x1=%{x}<br>x2=%{y}<extra></extra>",
         "hovertext": [
          "toilet seat"
         ],
         "legendgroup": "303",
         "marker": {
          "color": "#EF553B",
          "symbol": "circle"
         },
         "mode": "markers",
         "name": "303",
         "orientation": "v",
         "showlegend": true,
         "type": "scatter",
         "x": [
          -4.275200843811035
         ],
         "xaxis": "x",
         "y": [
          -1.662146806716919
         ],
         "yaxis": "y"
        },
        {
         "hovertemplate": "<b>%{hovertext}</b><br><br>color=200<br>x1=%{x}<br>x2=%{y}<extra></extra>",
         "hovertext": [
          "torch"
         ],
         "legendgroup": "200",
         "marker": {
          "color": "#00cc96",
          "symbol": "circle"
         },
         "mode": "markers",
         "name": "200",
         "orientation": "v",
         "showlegend": true,
         "type": "scatter",
         "x": [
          -6.244987964630127
         ],
         "xaxis": "x",
         "y": [
          -0.42210519313812256
         ],
         "yaxis": "y"
        },
        {
         "hovertemplate": "<b>%{hovertext}</b><br><br>color=159<br>x1=%{x}<br>x2=%{y}<extra></extra>",
         "hovertext": [
          "totem pole"
         ],
         "legendgroup": "159",
         "marker": {
          "color": "#ab63fa",
          "symbol": "circle"
         },
         "mode": "markers",
         "name": "159",
         "orientation": "v",
         "showlegend": true,
         "type": "scatter",
         "x": [
          -2.360027551651001
         ],
         "xaxis": "x",
         "y": [
          0.6952089071273804
         ],
         "yaxis": "y"
        },
        {
         "hovertemplate": "<b>%{hovertext}</b><br><br>color=108<br>x1=%{x}<br>x2=%{y}<extra></extra>",
         "hovertext": [
          "tow truck"
         ],
         "legendgroup": "108",
         "marker": {
          "color": "#FFA15A",
          "symbol": "circle"
         },
         "mode": "markers",
         "name": "108",
         "orientation": "v",
         "showlegend": true,
         "type": "scatter",
         "x": [
          0.23304034769535065
         ],
         "xaxis": "x",
         "y": [
          -2.3389618396759033
         ],
         "yaxis": "y"
        },
        {
         "hovertemplate": "<b>%{hovertext}</b><br><br>color=199<br>x1=%{x}<br>x2=%{y}<extra></extra>",
         "hovertext": [
          "toyshop"
         ],
         "legendgroup": "199",
         "marker": {
          "color": "#19d3f3",
          "symbol": "circle"
         },
         "mode": "markers",
         "name": "199",
         "orientation": "v",
         "showlegend": true,
         "type": "scatter",
         "x": [
          -4.951287269592285
         ],
         "xaxis": "x",
         "y": [
          -1.7549041509628296
         ],
         "yaxis": "y"
        },
        {
         "hovertemplate": "<b>%{hovertext}</b><br><br>color=107<br>x1=%{x}<br>x2=%{y}<extra></extra>",
         "hovertext": [
          "tractor"
         ],
         "legendgroup": "107",
         "marker": {
          "color": "#FF6692",
          "symbol": "circle"
         },
         "mode": "markers",
         "name": "107",
         "orientation": "v",
         "showlegend": true,
         "type": "scatter",
         "x": [
          -7.644392967224121
         ],
         "xaxis": "x",
         "y": [
          -0.3995089530944824
         ],
         "yaxis": "y"
        },
        {
         "hovertemplate": "<b>%{hovertext}</b><br><br>color=114<br>x1=%{x}<br>x2=%{y}<extra></extra>",
         "hovertext": [
          "trailer truck"
         ],
         "legendgroup": "114",
         "marker": {
          "color": "#B6E880",
          "symbol": "circle"
         },
         "mode": "markers",
         "name": "114",
         "orientation": "v",
         "showlegend": true,
         "type": "scatter",
         "x": [
          3.9623491764068604
         ],
         "xaxis": "x",
         "y": [
          -2.920419931411743
         ],
         "yaxis": "y"
        },
        {
         "hovertemplate": "<b>%{hovertext}</b><br><br>color=364<br>x1=%{x}<br>x2=%{y}<extra></extra>",
         "hovertext": [
          "tray"
         ],
         "legendgroup": "364",
         "marker": {
          "color": "#FF97FF",
          "symbol": "circle"
         },
         "mode": "markers",
         "name": "364",
         "orientation": "v",
         "showlegend": true,
         "type": "scatter",
         "x": [
          -7.303467273712158
         ],
         "xaxis": "x",
         "y": [
          -0.10813587158918381
         ],
         "yaxis": "y"
        },
        {
         "hovertemplate": "<b>%{hovertext}</b><br><br>color=66<br>x1=%{x}<br>x2=%{y}<extra></extra>",
         "hovertext": [
          "trench coat"
         ],
         "legendgroup": "66",
         "marker": {
          "color": "#FECB52",
          "symbol": "circle"
         },
         "mode": "markers",
         "name": "66",
         "orientation": "v",
         "showlegend": true,
         "type": "scatter",
         "x": [
          -5.178980827331543
         ],
         "xaxis": "x",
         "y": [
          -0.3384466767311096
         ],
         "yaxis": "y"
        },
        {
         "hovertemplate": "<b>%{hovertext}</b><br><br>color=326<br>x1=%{x}<br>x2=%{y}<extra></extra>",
         "hovertext": [
          "tricycle"
         ],
         "legendgroup": "326",
         "marker": {
          "color": "#636efa",
          "symbol": "circle"
         },
         "mode": "markers",
         "name": "326",
         "orientation": "v",
         "showlegend": true,
         "type": "scatter",
         "x": [
          5.2878642082214355
         ],
         "xaxis": "x",
         "y": [
          -1.398652195930481
         ],
         "yaxis": "y"
        },
        {
         "hovertemplate": "<b>%{hovertext}</b><br><br>color=153<br>x1=%{x}<br>x2=%{y}<extra></extra>",
         "hovertext": [
          "trimaran"
         ],
         "legendgroup": "153",
         "marker": {
          "color": "#EF553B",
          "symbol": "circle"
         },
         "mode": "markers",
         "name": "153",
         "orientation": "v",
         "showlegend": true,
         "type": "scatter",
         "x": [
          -5.03623104095459
         ],
         "xaxis": "x",
         "y": [
          -0.45290854573249817
         ],
         "yaxis": "y"
        },
        {
         "hovertemplate": "<b>%{hovertext}</b><br><br>color=99<br>x1=%{x}<br>x2=%{y}<extra></extra>",
         "hovertext": [
          "tripod"
         ],
         "legendgroup": "99",
         "marker": {
          "color": "#00cc96",
          "symbol": "circle"
         },
         "mode": "markers",
         "name": "99",
         "orientation": "v",
         "showlegend": true,
         "type": "scatter",
         "x": [
          -4.1410112380981445
         ],
         "xaxis": "x",
         "y": [
          -0.06662607938051224
         ],
         "yaxis": "y"
        },
        {
         "hovertemplate": "<b>%{hovertext}</b><br><br>color=253<br>x1=%{x}<br>x2=%{y}<extra></extra>",
         "hovertext": [
          "triumphal arch"
         ],
         "legendgroup": "253",
         "marker": {
          "color": "#ab63fa",
          "symbol": "circle"
         },
         "mode": "markers",
         "name": "253",
         "orientation": "v",
         "showlegend": true,
         "type": "scatter",
         "x": [
          -1.810375690460205
         ],
         "xaxis": "x",
         "y": [
          1.454742670059204
         ],
         "yaxis": "y"
        },
        {
         "hovertemplate": "<b>%{hovertext}</b><br><br>color=67<br>x1=%{x}<br>x2=%{y}<extra></extra>",
         "hovertext": [
          "trolleybus"
         ],
         "legendgroup": "67",
         "marker": {
          "color": "#FFA15A",
          "symbol": "circle"
         },
         "mode": "markers",
         "name": "67",
         "orientation": "v",
         "showlegend": true,
         "type": "scatter",
         "x": [
          1.728056788444519
         ],
         "xaxis": "x",
         "y": [
          -1.5930688381195068
         ],
         "yaxis": "y"
        },
        {
         "hovertemplate": "<b>%{hovertext}</b><br><br>color=225<br>x1=%{x}<br>x2=%{y}<extra></extra>",
         "hovertext": [
          "trombone"
         ],
         "legendgroup": "225",
         "marker": {
          "color": "#19d3f3",
          "symbol": "circle"
         },
         "mode": "markers",
         "name": "225",
         "orientation": "v",
         "showlegend": true,
         "type": "scatter",
         "x": [
          -6.646816253662109
         ],
         "xaxis": "x",
         "y": [
          -2.18701171875
         ],
         "yaxis": "y"
        },
        {
         "hovertemplate": "<b>%{hovertext}</b><br><br>color=313<br>x1=%{x}<br>x2=%{y}<extra></extra>",
         "hovertext": [
          "tub"
         ],
         "legendgroup": "313",
         "marker": {
          "color": "#FF6692",
          "symbol": "circle"
         },
         "mode": "markers",
         "name": "313",
         "orientation": "v",
         "showlegend": true,
         "type": "scatter",
         "x": [
          -0.6056299805641174
         ],
         "xaxis": "x",
         "y": [
          -1.5983288288116455
         ],
         "yaxis": "y"
        },
        {
         "hovertemplate": "<b>%{hovertext}</b><br><br>color=195<br>x1=%{x}<br>x2=%{y}<extra></extra>",
         "hovertext": [
          "turnstile"
         ],
         "legendgroup": "195",
         "marker": {
          "color": "#B6E880",
          "symbol": "circle"
         },
         "mode": "markers",
         "name": "195",
         "orientation": "v",
         "showlegend": true,
         "type": "scatter",
         "x": [
          -3.262111186981201
         ],
         "xaxis": "x",
         "y": [
          -2.3429811000823975
         ],
         "yaxis": "y"
        },
        {
         "hovertemplate": "<b>%{hovertext}</b><br><br>color=123<br>x1=%{x}<br>x2=%{y}<extra></extra>",
         "hovertext": [
          "typewriter keyboard"
         ],
         "legendgroup": "123",
         "marker": {
          "color": "#FF97FF",
          "symbol": "circle"
         },
         "mode": "markers",
         "name": "123",
         "orientation": "v",
         "showlegend": true,
         "type": "scatter",
         "x": [
          -1.504094123840332
         ],
         "xaxis": "x",
         "y": [
          -2.220231056213379
         ],
         "yaxis": "y"
        },
        {
         "hovertemplate": "<b>%{hovertext}</b><br><br>color=311<br>x1=%{x}<br>x2=%{y}<extra></extra>",
         "hovertext": [
          "umbrella"
         ],
         "legendgroup": "311",
         "marker": {
          "color": "#FECB52",
          "symbol": "circle"
         },
         "mode": "markers",
         "name": "311",
         "orientation": "v",
         "showlegend": true,
         "type": "scatter",
         "x": [
          -6.756825923919678
         ],
         "xaxis": "x",
         "y": [
          -0.8531693816184998
         ],
         "yaxis": "y"
        },
        {
         "hovertemplate": "<b>%{hovertext}</b><br><br>color=152<br>x1=%{x}<br>x2=%{y}<extra></extra>",
         "hovertext": [
          "unicycle"
         ],
         "legendgroup": "152",
         "marker": {
          "color": "#636efa",
          "symbol": "circle"
         },
         "mode": "markers",
         "name": "152",
         "orientation": "v",
         "showlegend": true,
         "type": "scatter",
         "x": [
          2.5890567302703857
         ],
         "xaxis": "x",
         "y": [
          -1.1001229286193848
         ],
         "yaxis": "y"
        },
        {
         "hovertemplate": "<b>%{hovertext}</b><br><br>color=60<br>x1=%{x}<br>x2=%{y}<extra></extra>",
         "hovertext": [
          "upright"
         ],
         "legendgroup": "60",
         "marker": {
          "color": "#EF553B",
          "symbol": "circle"
         },
         "mode": "markers",
         "name": "60",
         "orientation": "v",
         "showlegend": true,
         "type": "scatter",
         "x": [
          -2.0330684185028076
         ],
         "xaxis": "x",
         "y": [
          -3.552644729614258
         ],
         "yaxis": "y"
        },
        {
         "hovertemplate": "<b>%{hovertext}</b><br><br>color=100<br>x1=%{x}<br>x2=%{y}<extra></extra>",
         "hovertext": [
          "vacuum"
         ],
         "legendgroup": "100",
         "marker": {
          "color": "#00cc96",
          "symbol": "circle"
         },
         "mode": "markers",
         "name": "100",
         "orientation": "v",
         "showlegend": true,
         "type": "scatter",
         "x": [
          -2.676269054412842
         ],
         "xaxis": "x",
         "y": [
          -1.4835442304611206
         ],
         "yaxis": "y"
        },
        {
         "hovertemplate": "<b>%{hovertext}</b><br><br>color=221<br>x1=%{x}<br>x2=%{y}<extra></extra>",
         "hovertext": [
          "vase"
         ],
         "legendgroup": "221",
         "marker": {
          "color": "#ab63fa",
          "symbol": "circle"
         },
         "mode": "markers",
         "name": "221",
         "orientation": "v",
         "showlegend": true,
         "type": "scatter",
         "x": [
          -7.68047571182251
         ],
         "xaxis": "x",
         "y": [
          -1.3193881511688232
         ],
         "yaxis": "y"
        },
        {
         "hovertemplate": "<b>%{hovertext}</b><br><br>color=140<br>x1=%{x}<br>x2=%{y}<extra></extra>",
         "hovertext": [
          "vault"
         ],
         "legendgroup": "140",
         "marker": {
          "color": "#FFA15A",
          "symbol": "circle"
         },
         "mode": "markers",
         "name": "140",
         "orientation": "v",
         "showlegend": true,
         "type": "scatter",
         "x": [
          -5.3381428718566895
         ],
         "xaxis": "x",
         "y": [
          -1.287287712097168
         ],
         "yaxis": "y"
        },
        {
         "hovertemplate": "<b>%{hovertext}</b><br><br>color=188<br>x1=%{x}<br>x2=%{y}<extra></extra>",
         "hovertext": [
          "velvet"
         ],
         "legendgroup": "188",
         "marker": {
          "color": "#19d3f3",
          "symbol": "circle"
         },
         "mode": "markers",
         "name": "188",
         "orientation": "v",
         "showlegend": true,
         "type": "scatter",
         "x": [
          -7.027742385864258
         ],
         "xaxis": "x",
         "y": [
          -1.8001916408538818
         ],
         "yaxis": "y"
        },
        {
         "hovertemplate": "<b>%{hovertext}</b><br><br>color=126<br>x1=%{x}<br>x2=%{y}<extra></extra>",
         "hovertext": [
          "vending machine"
         ],
         "legendgroup": "126",
         "marker": {
          "color": "#FF6692",
          "symbol": "circle"
         },
         "mode": "markers",
         "name": "126",
         "orientation": "v",
         "showlegend": true,
         "type": "scatter",
         "x": [
          -0.3020468056201935
         ],
         "xaxis": "x",
         "y": [
          1.638710856437683
         ],
         "yaxis": "y"
        },
        {
         "hovertemplate": "<b>%{hovertext}</b><br><br>color=119<br>x1=%{x}<br>x2=%{y}<extra></extra>",
         "hovertext": [
          "vestment"
         ],
         "legendgroup": "119",
         "marker": {
          "color": "#B6E880",
          "symbol": "circle"
         },
         "mode": "markers",
         "name": "119",
         "orientation": "v",
         "showlegend": true,
         "type": "scatter",
         "x": [
          -3.9631547927856445
         ],
         "xaxis": "x",
         "y": [
          -1.8864613771438599
         ],
         "yaxis": "y"
        },
        {
         "hovertemplate": "<b>%{hovertext}</b><br><br>color=112<br>x1=%{x}<br>x2=%{y}<extra></extra>",
         "hovertext": [
          "viaduct"
         ],
         "legendgroup": "112",
         "marker": {
          "color": "#FF97FF",
          "symbol": "circle"
         },
         "mode": "markers",
         "name": "112",
         "orientation": "v",
         "showlegend": true,
         "type": "scatter",
         "x": [
          -2.7858760356903076
         ],
         "xaxis": "x",
         "y": [
          1.347139596939087
         ],
         "yaxis": "y"
        },
        {
         "hovertemplate": "<b>%{hovertext}</b><br><br>color=86<br>x1=%{x}<br>x2=%{y}<extra></extra>",
         "hovertext": [
          "violin"
         ],
         "legendgroup": "86",
         "marker": {
          "color": "#FECB52",
          "symbol": "circle"
         },
         "mode": "markers",
         "name": "86",
         "orientation": "v",
         "showlegend": true,
         "type": "scatter",
         "x": [
          -2.193199634552002
         ],
         "xaxis": "x",
         "y": [
          -3.3718481063842773
         ],
         "yaxis": "y"
        },
        {
         "hovertemplate": "<b>%{hovertext}</b><br><br>color=204<br>x1=%{x}<br>x2=%{y}<extra></extra>",
         "hovertext": [
          "volleyball"
         ],
         "legendgroup": "204",
         "marker": {
          "color": "#636efa",
          "symbol": "circle"
         },
         "mode": "markers",
         "name": "204",
         "orientation": "v",
         "showlegend": true,
         "type": "scatter",
         "x": [
          -4.695872783660889
         ],
         "xaxis": "x",
         "y": [
          -0.2331143617630005
         ],
         "yaxis": "y"
        },
        {
         "hovertemplate": "<b>%{hovertext}</b><br><br>color=155<br>x1=%{x}<br>x2=%{y}<extra></extra>",
         "hovertext": [
          "waffle iron"
         ],
         "legendgroup": "155",
         "marker": {
          "color": "#EF553B",
          "symbol": "circle"
         },
         "mode": "markers",
         "name": "155",
         "orientation": "v",
         "showlegend": true,
         "type": "scatter",
         "x": [
          -1.439133882522583
         ],
         "xaxis": "x",
         "y": [
          -0.17258015275001526
         ],
         "yaxis": "y"
        },
        {
         "hovertemplate": "<b>%{hovertext}</b><br><br>color=84<br>x1=%{x}<br>x2=%{y}<extra></extra>",
         "hovertext": [
          "wall clock"
         ],
         "legendgroup": "84",
         "marker": {
          "color": "#00cc96",
          "symbol": "circle"
         },
         "mode": "markers",
         "name": "84",
         "orientation": "v",
         "showlegend": true,
         "type": "scatter",
         "x": [
          -4.283544540405273
         ],
         "xaxis": "x",
         "y": [
          -1.3098058700561523
         ],
         "yaxis": "y"
        },
        {
         "hovertemplate": "<b>%{hovertext}</b><br><br>color=182<br>x1=%{x}<br>x2=%{y}<extra></extra>",
         "hovertext": [
          "wallet"
         ],
         "legendgroup": "182",
         "marker": {
          "color": "#ab63fa",
          "symbol": "circle"
         },
         "mode": "markers",
         "name": "182",
         "orientation": "v",
         "showlegend": true,
         "type": "scatter",
         "x": [
          2.4638988971710205
         ],
         "xaxis": "x",
         "y": [
          -3.3083441257476807
         ],
         "yaxis": "y"
        },
        {
         "hovertemplate": "<b>%{hovertext}</b><br><br>color=197<br>x1=%{x}<br>x2=%{y}<extra></extra>",
         "hovertext": [
          "wardrobe"
         ],
         "legendgroup": "197",
         "marker": {
          "color": "#FFA15A",
          "symbol": "circle"
         },
         "mode": "markers",
         "name": "197",
         "orientation": "v",
         "showlegend": true,
         "type": "scatter",
         "x": [
          -1.300047516822815
         ],
         "xaxis": "x",
         "y": [
          -3.139787435531616
         ],
         "yaxis": "y"
        },
        {
         "hovertemplate": "<b>%{hovertext}</b><br><br>color=314<br>x1=%{x}<br>x2=%{y}<extra></extra>",
         "hovertext": [
          "warplane"
         ],
         "legendgroup": "314",
         "marker": {
          "color": "#19d3f3",
          "symbol": "circle"
         },
         "mode": "markers",
         "name": "314",
         "orientation": "v",
         "showlegend": true,
         "type": "scatter",
         "x": [
          -1.3764348030090332
         ],
         "xaxis": "x",
         "y": [
          -0.3762734532356262
         ],
         "yaxis": "y"
        },
        {
         "hovertemplate": "<b>%{hovertext}</b><br><br>color=198<br>x1=%{x}<br>x2=%{y}<extra></extra>",
         "hovertext": [
          "washbasin"
         ],
         "legendgroup": "198",
         "marker": {
          "color": "#FF6692",
          "symbol": "circle"
         },
         "mode": "markers",
         "name": "198",
         "orientation": "v",
         "showlegend": true,
         "type": "scatter",
         "x": [
          6.223770618438721
         ],
         "xaxis": "x",
         "y": [
          -3.8527748584747314
         ],
         "yaxis": "y"
        },
        {
         "hovertemplate": "<b>%{hovertext}</b><br><br>color=91<br>x1=%{x}<br>x2=%{y}<extra></extra>",
         "hovertext": [
          "washer"
         ],
         "legendgroup": "91",
         "marker": {
          "color": "#B6E880",
          "symbol": "circle"
         },
         "mode": "markers",
         "name": "91",
         "orientation": "v",
         "showlegend": true,
         "type": "scatter",
         "x": [
          1.8979551792144775
         ],
         "xaxis": "x",
         "y": [
          -3.6962344646453857
         ],
         "yaxis": "y"
        },
        {
         "hovertemplate": "<b>%{hovertext}</b><br><br>color=88<br>x1=%{x}<br>x2=%{y}<extra></extra>",
         "hovertext": [
          "water bottle"
         ],
         "legendgroup": "88",
         "marker": {
          "color": "#FF97FF",
          "symbol": "circle"
         },
         "mode": "markers",
         "name": "88",
         "orientation": "v",
         "showlegend": true,
         "type": "scatter",
         "x": [
          -4.809582710266113
         ],
         "xaxis": "x",
         "y": [
          -2.654341697692871
         ],
         "yaxis": "y"
        },
        {
         "hovertemplate": "<b>%{hovertext}</b><br><br>color=162<br>x1=%{x}<br>x2=%{y}<extra></extra>",
         "hovertext": [
          "water jug"
         ],
         "legendgroup": "162",
         "marker": {
          "color": "#FECB52",
          "symbol": "circle"
         },
         "mode": "markers",
         "name": "162",
         "orientation": "v",
         "showlegend": true,
         "type": "scatter",
         "x": [
          -1.8141969442367554
         ],
         "xaxis": "x",
         "y": [
          0.19074779748916626
         ],
         "yaxis": "y"
        },
        {
         "hovertemplate": "<b>%{hovertext}</b><br><br>color=97<br>x1=%{x}<br>x2=%{y}<extra></extra>",
         "hovertext": [
          "water tower"
         ],
         "legendgroup": "97",
         "marker": {
          "color": "#636efa",
          "symbol": "circle"
         },
         "mode": "markers",
         "name": "97",
         "orientation": "v",
         "showlegend": true,
         "type": "scatter",
         "x": [
          -3.9794936180114746
         ],
         "xaxis": "x",
         "y": [
          -0.5850366353988647
         ],
         "yaxis": "y"
        },
        {
         "hovertemplate": "<b>%{hovertext}</b><br><br>color=98<br>x1=%{x}<br>x2=%{y}<extra></extra>",
         "hovertext": [
          "whiskey jug"
         ],
         "legendgroup": "98",
         "marker": {
          "color": "#EF553B",
          "symbol": "circle"
         },
         "mode": "markers",
         "name": "98",
         "orientation": "v",
         "showlegend": true,
         "type": "scatter",
         "x": [
          -2.588827610015869
         ],
         "xaxis": "x",
         "y": [
          0.6263822317123413
         ],
         "yaxis": "y"
        },
        {
         "hovertemplate": "<b>%{hovertext}</b><br><br>color=93<br>x1=%{x}<br>x2=%{y}<extra></extra>",
         "hovertext": [
          "whistle"
         ],
         "legendgroup": "93",
         "marker": {
          "color": "#00cc96",
          "symbol": "circle"
         },
         "mode": "markers",
         "name": "93",
         "orientation": "v",
         "showlegend": true,
         "type": "scatter",
         "x": [
          -6.6781229972839355
         ],
         "xaxis": "x",
         "y": [
          -0.7696946263313293
         ],
         "yaxis": "y"
        },
        {
         "hovertemplate": "<b>%{hovertext}</b><br><br>color=72<br>x1=%{x}<br>x2=%{y}<extra></extra>",
         "hovertext": [
          "wig"
         ],
         "legendgroup": "72",
         "marker": {
          "color": "#ab63fa",
          "symbol": "circle"
         },
         "mode": "markers",
         "name": "72",
         "orientation": "v",
         "showlegend": true,
         "type": "scatter",
         "x": [
          -4.641153812408447
         ],
         "xaxis": "x",
         "y": [
          0.6392661333084106
         ],
         "yaxis": "y"
        },
        {
         "hovertemplate": "<b>%{hovertext}</b><br><br>color=118<br>x1=%{x}<br>x2=%{y}<extra></extra>",
         "hovertext": [
          "window screen"
         ],
         "legendgroup": "118",
         "marker": {
          "color": "#FFA15A",
          "symbol": "circle"
         },
         "mode": "markers",
         "name": "118",
         "orientation": "v",
         "showlegend": true,
         "type": "scatter",
         "x": [
          -4.601360321044922
         ],
         "xaxis": "x",
         "y": [
          -0.136970654129982
         ],
         "yaxis": "y"
        },
        {
         "hovertemplate": "<b>%{hovertext}</b><br><br>color=120<br>x1=%{x}<br>x2=%{y}<extra></extra>",
         "hovertext": [
          "window shade"
         ],
         "legendgroup": "120",
         "marker": {
          "color": "#19d3f3",
          "symbol": "circle"
         },
         "mode": "markers",
         "name": "120",
         "orientation": "v",
         "showlegend": true,
         "type": "scatter",
         "x": [
          -4.006130695343018
         ],
         "xaxis": "x",
         "y": [
          -1.1720972061157227
         ],
         "yaxis": "y"
        },
        {
         "hovertemplate": "<b>%{hovertext}</b><br><br>color=59<br>x1=%{x}<br>x2=%{y}<extra></extra>",
         "hovertext": [
          "Windsor tie"
         ],
         "legendgroup": "59",
         "marker": {
          "color": "#FF6692",
          "symbol": "circle"
         },
         "mode": "markers",
         "name": "59",
         "orientation": "v",
         "showlegend": true,
         "type": "scatter",
         "x": [
          -3.094413995742798
         ],
         "xaxis": "x",
         "y": [
          -0.0858386754989624
         ],
         "yaxis": "y"
        },
        {
         "hovertemplate": "<b>%{hovertext}</b><br><br>color=53<br>x1=%{x}<br>x2=%{y}<extra></extra>",
         "hovertext": [
          "wine bottle"
         ],
         "legendgroup": "53",
         "marker": {
          "color": "#B6E880",
          "symbol": "circle"
         },
         "mode": "markers",
         "name": "53",
         "orientation": "v",
         "showlegend": true,
         "type": "scatter",
         "x": [
          -5.4837493896484375
         ],
         "xaxis": "x",
         "y": [
          -0.965843915939331
         ],
         "yaxis": "y"
        },
        {
         "hovertemplate": "<b>%{hovertext}</b><br><br>color=36<br>x1=%{x}<br>x2=%{y}<extra></extra>",
         "hovertext": [
          "wing"
         ],
         "legendgroup": "36",
         "marker": {
          "color": "#FF97FF",
          "symbol": "circle"
         },
         "mode": "markers",
         "name": "36",
         "orientation": "v",
         "showlegend": true,
         "type": "scatter",
         "x": [
          -5.279382228851318
         ],
         "xaxis": "x",
         "y": [
          0.9991666674613953
         ],
         "yaxis": "y"
        },
        {
         "hovertemplate": "<b>%{hovertext}</b><br><br>color=83<br>x1=%{x}<br>x2=%{y}<extra></extra>",
         "hovertext": [
          "wok"
         ],
         "legendgroup": "83",
         "marker": {
          "color": "#FECB52",
          "symbol": "circle"
         },
         "mode": "markers",
         "name": "83",
         "orientation": "v",
         "showlegend": true,
         "type": "scatter",
         "x": [
          -4.36202335357666
         ],
         "xaxis": "x",
         "y": [
          0.39613625407218933
         ],
         "yaxis": "y"
        },
        {
         "hovertemplate": "<b>%{hovertext}</b><br><br>color=151<br>x1=%{x}<br>x2=%{y}<extra></extra>",
         "hovertext": [
          "wooden spoon"
         ],
         "legendgroup": "151",
         "marker": {
          "color": "#636efa",
          "symbol": "circle"
         },
         "mode": "markers",
         "name": "151",
         "orientation": "v",
         "showlegend": true,
         "type": "scatter",
         "x": [
          -3.958998203277588
         ],
         "xaxis": "x",
         "y": [
          -0.598538875579834
         ],
         "yaxis": "y"
        },
        {
         "hovertemplate": "<b>%{hovertext}</b><br><br>color=29<br>x1=%{x}<br>x2=%{y}<extra></extra>",
         "hovertext": [
          "wool"
         ],
         "legendgroup": "29",
         "marker": {
          "color": "#EF553B",
          "symbol": "circle"
         },
         "mode": "markers",
         "name": "29",
         "orientation": "v",
         "showlegend": true,
         "type": "scatter",
         "x": [
          -0.2269904911518097
         ],
         "xaxis": "x",
         "y": [
          -1.638480544090271
         ],
         "yaxis": "y"
        },
        {
         "hovertemplate": "<b>%{hovertext}</b><br><br>color=115<br>x1=%{x}<br>x2=%{y}<extra></extra>",
         "hovertext": [
          "worm fence"
         ],
         "legendgroup": "115",
         "marker": {
          "color": "#00cc96",
          "symbol": "circle"
         },
         "mode": "markers",
         "name": "115",
         "orientation": "v",
         "showlegend": true,
         "type": "scatter",
         "x": [
          2.4290266036987305
         ],
         "xaxis": "x",
         "y": [
          -0.31678593158721924
         ],
         "yaxis": "y"
        },
        {
         "hovertemplate": "<b>%{hovertext}</b><br><br>color=101<br>x1=%{x}<br>x2=%{y}<extra></extra>",
         "hovertext": [
          "wreck"
         ],
         "legendgroup": "101",
         "marker": {
          "color": "#ab63fa",
          "symbol": "circle"
         },
         "mode": "markers",
         "name": "101",
         "orientation": "v",
         "showlegend": true,
         "type": "scatter",
         "x": [
          -7.213293075561523
         ],
         "xaxis": "x",
         "y": [
          -1.1991041898727417
         ],
         "yaxis": "y"
        },
        {
         "hovertemplate": "<b>%{hovertext}</b><br><br>color=82<br>x1=%{x}<br>x2=%{y}<extra></extra>",
         "hovertext": [
          "yawl"
         ],
         "legendgroup": "82",
         "marker": {
          "color": "#FFA15A",
          "symbol": "circle"
         },
         "mode": "markers",
         "name": "82",
         "orientation": "v",
         "showlegend": true,
         "type": "scatter",
         "x": [
          -2.921109914779663
         ],
         "xaxis": "x",
         "y": [
          1.7238510847091675
         ],
         "yaxis": "y"
        },
        {
         "hovertemplate": "<b>%{hovertext}</b><br><br>color=156<br>x1=%{x}<br>x2=%{y}<extra></extra>",
         "hovertext": [
          "yurt"
         ],
         "legendgroup": "156",
         "marker": {
          "color": "#19d3f3",
          "symbol": "circle"
         },
         "mode": "markers",
         "name": "156",
         "orientation": "v",
         "showlegend": true,
         "type": "scatter",
         "x": [
          -3.924008369445801
         ],
         "xaxis": "x",
         "y": [
          0.5911040306091309
         ],
         "yaxis": "y"
        },
        {
         "hovertemplate": "<b>%{hovertext}</b><br><br>color=61<br>x1=%{x}<br>x2=%{y}<extra></extra>",
         "hovertext": [
          "web site"
         ],
         "legendgroup": "61",
         "marker": {
          "color": "#FF6692",
          "symbol": "circle"
         },
         "mode": "markers",
         "name": "61",
         "orientation": "v",
         "showlegend": true,
         "type": "scatter",
         "x": [
          2.7950215339660645
         ],
         "xaxis": "x",
         "y": [
          -2.567929983139038
         ],
         "yaxis": "y"
        },
        {
         "hovertemplate": "<b>%{hovertext}</b><br><br>color=62<br>x1=%{x}<br>x2=%{y}<extra></extra>",
         "hovertext": [
          "comic book"
         ],
         "legendgroup": "62",
         "marker": {
          "color": "#B6E880",
          "symbol": "circle"
         },
         "mode": "markers",
         "name": "62",
         "orientation": "v",
         "showlegend": true,
         "type": "scatter",
         "x": [
          -4.280022144317627
         ],
         "xaxis": "x",
         "y": [
          -0.6469200253486633
         ],
         "yaxis": "y"
        },
        {
         "hovertemplate": "<b>%{hovertext}</b><br><br>color=222<br>x1=%{x}<br>x2=%{y}<extra></extra>",
         "hovertext": [
          "crossword puzzle"
         ],
         "legendgroup": "222",
         "marker": {
          "color": "#FF97FF",
          "symbol": "circle"
         },
         "mode": "markers",
         "name": "222",
         "orientation": "v",
         "showlegend": true,
         "type": "scatter",
         "x": [
          0.14192746579647064
         ],
         "xaxis": "x",
         "y": [
          -1.2223656177520752
         ],
         "yaxis": "y"
        },
        {
         "hovertemplate": "<b>%{hovertext}</b><br><br>color=181<br>x1=%{x}<br>x2=%{y}<extra></extra>",
         "hovertext": [
          "street sign"
         ],
         "legendgroup": "181",
         "marker": {
          "color": "#FECB52",
          "symbol": "circle"
         },
         "mode": "markers",
         "name": "181",
         "orientation": "v",
         "showlegend": true,
         "type": "scatter",
         "x": [
          -3.9714932441711426
         ],
         "xaxis": "x",
         "y": [
          0.4937945604324341
         ],
         "yaxis": "y"
        },
        {
         "hovertemplate": "<b>%{hovertext}</b><br><br>color=80<br>x1=%{x}<br>x2=%{y}<extra></extra>",
         "hovertext": [
          "traffic light"
         ],
         "legendgroup": "80",
         "marker": {
          "color": "#636efa",
          "symbol": "circle"
         },
         "mode": "markers",
         "name": "80",
         "orientation": "v",
         "showlegend": true,
         "type": "scatter",
         "x": [
          2.2183377742767334
         ],
         "xaxis": "x",
         "y": [
          -2.059272527694702
         ],
         "yaxis": "y"
        },
        {
         "hovertemplate": "<b>%{hovertext}</b><br><br>color=104<br>x1=%{x}<br>x2=%{y}<extra></extra>",
         "hovertext": [
          "book jacket"
         ],
         "legendgroup": "104",
         "marker": {
          "color": "#EF553B",
          "symbol": "circle"
         },
         "mode": "markers",
         "name": "104",
         "orientation": "v",
         "showlegend": true,
         "type": "scatter",
         "x": [
          3.3340535163879395
         ],
         "xaxis": "x",
         "y": [
          -3.2102577686309814
         ],
         "yaxis": "y"
        },
        {
         "hovertemplate": "<b>%{hovertext}</b><br><br>color=55<br>x1=%{x}<br>x2=%{y}<extra></extra>",
         "hovertext": [
          "menu"
         ],
         "legendgroup": "55",
         "marker": {
          "color": "#00cc96",
          "symbol": "circle"
         },
         "mode": "markers",
         "name": "55",
         "orientation": "v",
         "showlegend": true,
         "type": "scatter",
         "x": [
          -6.1140618324279785
         ],
         "xaxis": "x",
         "y": [
          -1.1379183530807495
         ],
         "yaxis": "y"
        },
        {
         "hovertemplate": "<b>%{hovertext}</b><br><br>color=206<br>x1=%{x}<br>x2=%{y}<extra></extra>",
         "hovertext": [
          "plate"
         ],
         "legendgroup": "206",
         "marker": {
          "color": "#ab63fa",
          "symbol": "circle"
         },
         "mode": "markers",
         "name": "206",
         "orientation": "v",
         "showlegend": true,
         "type": "scatter",
         "x": [
          -7.4644856452941895
         ],
         "xaxis": "x",
         "y": [
          0.3407208323478699
         ],
         "yaxis": "y"
        },
        {
         "hovertemplate": "<b>%{hovertext}</b><br><br>color=90<br>x1=%{x}<br>x2=%{y}<extra></extra>",
         "hovertext": [
          "guacamole"
         ],
         "legendgroup": "90",
         "marker": {
          "color": "#FFA15A",
          "symbol": "circle"
         },
         "mode": "markers",
         "name": "90",
         "orientation": "v",
         "showlegend": true,
         "type": "scatter",
         "x": [
          2.3430001735687256
         ],
         "xaxis": "x",
         "y": [
          1.7880580425262451
         ],
         "yaxis": "y"
        },
        {
         "hovertemplate": "<b>%{hovertext}</b><br><br>color=30<br>x1=%{x}<br>x2=%{y}<extra></extra>",
         "hovertext": [
          "consomme"
         ],
         "legendgroup": "30",
         "marker": {
          "color": "#19d3f3",
          "symbol": "circle"
         },
         "mode": "markers",
         "name": "30",
         "orientation": "v",
         "showlegend": true,
         "type": "scatter",
         "x": [
          -1.5995465517044067
         ],
         "xaxis": "x",
         "y": [
          1.2337790727615356
         ],
         "yaxis": "y"
        },
        {
         "hovertemplate": "<b>%{hovertext}</b><br><br>color=128<br>x1=%{x}<br>x2=%{y}<extra></extra>",
         "hovertext": [
          "hot pot"
         ],
         "legendgroup": "128",
         "marker": {
          "color": "#FF6692",
          "symbol": "circle"
         },
         "mode": "markers",
         "name": "128",
         "orientation": "v",
         "showlegend": true,
         "type": "scatter",
         "x": [
          -1.0733108520507812
         ],
         "xaxis": "x",
         "y": [
          -2.281240463256836
         ],
         "yaxis": "y"
        },
        {
         "hovertemplate": "<b>%{hovertext}</b><br><br>color=43<br>x1=%{x}<br>x2=%{y}<extra></extra>",
         "hovertext": [
          "trifle"
         ],
         "legendgroup": "43",
         "marker": {
          "color": "#B6E880",
          "symbol": "circle"
         },
         "mode": "markers",
         "name": "43",
         "orientation": "v",
         "showlegend": true,
         "type": "scatter",
         "x": [
          0.007695712149143219
         ],
         "xaxis": "x",
         "y": [
          1.113875150680542
         ],
         "yaxis": "y"
        },
        {
         "hovertemplate": "<b>%{hovertext}</b><br><br>color=40<br>x1=%{x}<br>x2=%{y}<extra></extra>",
         "hovertext": [
          "ice cream"
         ],
         "legendgroup": "40",
         "marker": {
          "color": "#FF97FF",
          "symbol": "circle"
         },
         "mode": "markers",
         "name": "40",
         "orientation": "v",
         "showlegend": true,
         "type": "scatter",
         "x": [
          2.0845558643341064
         ],
         "xaxis": "x",
         "y": [
          -1.338865041732788
         ],
         "yaxis": "y"
        },
        {
         "hovertemplate": "<b>%{hovertext}</b><br><br>color=32<br>x1=%{x}<br>x2=%{y}<extra></extra>",
         "hovertext": [
          "ice lolly"
         ],
         "legendgroup": "32",
         "marker": {
          "color": "#FECB52",
          "symbol": "circle"
         },
         "mode": "markers",
         "name": "32",
         "orientation": "v",
         "showlegend": true,
         "type": "scatter",
         "x": [
          7.017679691314697
         ],
         "xaxis": "x",
         "y": [
          0.2332778424024582
         ],
         "yaxis": "y"
        },
        {
         "hovertemplate": "<b>%{hovertext}</b><br><br>color=79<br>x1=%{x}<br>x2=%{y}<extra></extra>",
         "hovertext": [
          "French loaf"
         ],
         "legendgroup": "79",
         "marker": {
          "color": "#636efa",
          "symbol": "circle"
         },
         "mode": "markers",
         "name": "79",
         "orientation": "v",
         "showlegend": true,
         "type": "scatter",
         "x": [
          0.059040918946266174
         ],
         "xaxis": "x",
         "y": [
          1.1229259967803955
         ],
         "yaxis": "y"
        },
        {
         "hovertemplate": "<b>%{hovertext}</b><br><br>color=424<br>x1=%{x}<br>x2=%{y}<extra></extra>",
         "hovertext": [
          "bagel"
         ],
         "legendgroup": "424",
         "marker": {
          "color": "#EF553B",
          "symbol": "circle"
         },
         "mode": "markers",
         "name": "424",
         "orientation": "v",
         "showlegend": true,
         "type": "scatter",
         "x": [
          0.7145455479621887
         ],
         "xaxis": "x",
         "y": [
          0.6544176340103149
         ],
         "yaxis": "y"
        },
        {
         "hovertemplate": "<b>%{hovertext}</b><br><br>color=39<br>x1=%{x}<br>x2=%{y}<extra></extra>",
         "hovertext": [
          "pretzel"
         ],
         "legendgroup": "39",
         "marker": {
          "color": "#00cc96",
          "symbol": "circle"
         },
         "mode": "markers",
         "name": "39",
         "orientation": "v",
         "showlegend": true,
         "type": "scatter",
         "x": [
          0.605400800704956
         ],
         "xaxis": "x",
         "y": [
          0.867569088935852
         ],
         "yaxis": "y"
        },
        {
         "hovertemplate": "<b>%{hovertext}</b><br><br>color=211<br>x1=%{x}<br>x2=%{y}<extra></extra>",
         "hovertext": [
          "cheeseburger"
         ],
         "legendgroup": "211",
         "marker": {
          "color": "#ab63fa",
          "symbol": "circle"
         },
         "mode": "markers",
         "name": "211",
         "orientation": "v",
         "showlegend": true,
         "type": "scatter",
         "x": [
          -0.7034623622894287
         ],
         "xaxis": "x",
         "y": [
          0.8276069760322571
         ],
         "yaxis": "y"
        },
        {
         "hovertemplate": "<b>%{hovertext}</b><br><br>color=69<br>x1=%{x}<br>x2=%{y}<extra></extra>",
         "hovertext": [
          "hotdog"
         ],
         "legendgroup": "69",
         "marker": {
          "color": "#FFA15A",
          "symbol": "circle"
         },
         "mode": "markers",
         "name": "69",
         "orientation": "v",
         "showlegend": true,
         "type": "scatter",
         "x": [
          2.7096800804138184
         ],
         "xaxis": "x",
         "y": [
          -1.1374828815460205
         ],
         "yaxis": "y"
        },
        {
         "hovertemplate": "<b>%{hovertext}</b><br><br>color=48<br>x1=%{x}<br>x2=%{y}<extra></extra>",
         "hovertext": [
          "mashed potato"
         ],
         "legendgroup": "48",
         "marker": {
          "color": "#19d3f3",
          "symbol": "circle"
         },
         "mode": "markers",
         "name": "48",
         "orientation": "v",
         "showlegend": true,
         "type": "scatter",
         "x": [
          -2.2520740032196045
         ],
         "xaxis": "x",
         "y": [
          -1.4357584714889526
         ],
         "yaxis": "y"
        },
        {
         "hovertemplate": "<b>%{hovertext}</b><br><br>color=191<br>x1=%{x}<br>x2=%{y}<extra></extra>",
         "hovertext": [
          "head cabbage"
         ],
         "legendgroup": "191",
         "marker": {
          "color": "#FF6692",
          "symbol": "circle"
         },
         "mode": "markers",
         "name": "191",
         "orientation": "v",
         "showlegend": true,
         "type": "scatter",
         "x": [
          -1.6854827404022217
         ],
         "xaxis": "x",
         "y": [
          3.708005428314209
         ],
         "yaxis": "y"
        },
        {
         "hovertemplate": "<b>%{hovertext}</b><br><br>color=56<br>x1=%{x}<br>x2=%{y}<extra></extra>",
         "hovertext": [
          "broccoli"
         ],
         "legendgroup": "56",
         "marker": {
          "color": "#B6E880",
          "symbol": "circle"
         },
         "mode": "markers",
         "name": "56",
         "orientation": "v",
         "showlegend": true,
         "type": "scatter",
         "x": [
          1.3258641958236694
         ],
         "xaxis": "x",
         "y": [
          2.4485397338867188
         ],
         "yaxis": "y"
        },
        {
         "hovertemplate": "<b>%{hovertext}</b><br><br>color=75<br>x1=%{x}<br>x2=%{y}<extra></extra>",
         "hovertext": [
          "cauliflower"
         ],
         "legendgroup": "75",
         "marker": {
          "color": "#FF97FF",
          "symbol": "circle"
         },
         "mode": "markers",
         "name": "75",
         "orientation": "v",
         "showlegend": true,
         "type": "scatter",
         "x": [
          0.39312943816185
         ],
         "xaxis": "x",
         "y": [
          2.4141814708709717
         ],
         "yaxis": "y"
        },
        {
         "hovertemplate": "<b>%{hovertext}</b><br><br>color=95<br>x1=%{x}<br>x2=%{y}<extra></extra>",
         "hovertext": [
          "zucchini"
         ],
         "legendgroup": "95",
         "marker": {
          "color": "#FECB52",
          "symbol": "circle"
         },
         "mode": "markers",
         "name": "95",
         "orientation": "v",
         "showlegend": true,
         "type": "scatter",
         "x": [
          2.5664548873901367
         ],
         "xaxis": "x",
         "y": [
          -0.3458613157272339
         ],
         "yaxis": "y"
        },
        {
         "hovertemplate": "<b>%{hovertext}</b><br><br>color=35<br>x1=%{x}<br>x2=%{y}<extra></extra>",
         "hovertext": [
          "spaghetti squash"
         ],
         "legendgroup": "35",
         "marker": {
          "color": "#636efa",
          "symbol": "circle"
         },
         "mode": "markers",
         "name": "35",
         "orientation": "v",
         "showlegend": true,
         "type": "scatter",
         "x": [
          2.4281506538391113
         ],
         "xaxis": "x",
         "y": [
          1.2749967575073242
         ],
         "yaxis": "y"
        },
        {
         "hovertemplate": "<b>%{hovertext}</b><br><br>color=34<br>x1=%{x}<br>x2=%{y}<extra></extra>",
         "hovertext": [
          "acorn squash"
         ],
         "legendgroup": "34",
         "marker": {
          "color": "#EF553B",
          "symbol": "circle"
         },
         "mode": "markers",
         "name": "34",
         "orientation": "v",
         "showlegend": true,
         "type": "scatter",
         "x": [
          -1.0864213705062866
         ],
         "xaxis": "x",
         "y": [
          1.3278394937515259
         ],
         "yaxis": "y"
        },
        {
         "hovertemplate": "<b>%{hovertext}</b><br><br>color=49<br>x1=%{x}<br>x2=%{y}<extra></extra>",
         "hovertext": [
          "butternut squash"
         ],
         "legendgroup": "49",
         "marker": {
          "color": "#00cc96",
          "symbol": "circle"
         },
         "mode": "markers",
         "name": "49",
         "orientation": "v",
         "showlegend": true,
         "type": "scatter",
         "x": [
          -1.4738798141479492
         ],
         "xaxis": "x",
         "y": [
          1.3535254001617432
         ],
         "yaxis": "y"
        },
        {
         "hovertemplate": "<b>%{hovertext}</b><br><br>color=14<br>x1=%{x}<br>x2=%{y}<extra></extra>",
         "hovertext": [
          "cucumber"
         ],
         "legendgroup": "14",
         "marker": {
          "color": "#ab63fa",
          "symbol": "circle"
         },
         "mode": "markers",
         "name": "14",
         "orientation": "v",
         "showlegend": true,
         "type": "scatter",
         "x": [
          1.3919861316680908
         ],
         "xaxis": "x",
         "y": [
          0.6199033260345459
         ],
         "yaxis": "y"
        },
        {
         "hovertemplate": "<b>%{hovertext}</b><br><br>color=45<br>x1=%{x}<br>x2=%{y}<extra></extra>",
         "hovertext": [
          "artichoke"
         ],
         "legendgroup": "45",
         "marker": {
          "color": "#FFA15A",
          "symbol": "circle"
         },
         "mode": "markers",
         "name": "45",
         "orientation": "v",
         "showlegend": true,
         "type": "scatter",
         "x": [
          3.654877185821533
         ],
         "xaxis": "x",
         "y": [
          1.1165770292282104
         ],
         "yaxis": "y"
        },
        {
         "hovertemplate": "<b>%{hovertext}</b><br><br>color=117<br>x1=%{x}<br>x2=%{y}<extra></extra>",
         "hovertext": [
          "bell pepper"
         ],
         "legendgroup": "117",
         "marker": {
          "color": "#19d3f3",
          "symbol": "circle"
         },
         "mode": "markers",
         "name": "117",
         "orientation": "v",
         "showlegend": true,
         "type": "scatter",
         "x": [
          -3.79180908203125
         ],
         "xaxis": "x",
         "y": [
          -0.723601222038269
         ],
         "yaxis": "y"
        },
        {
         "hovertemplate": "<b>%{hovertext}</b><br><br>color=77<br>x1=%{x}<br>x2=%{y}<extra></extra>",
         "hovertext": [
          "cardoon"
         ],
         "legendgroup": "77",
         "marker": {
          "color": "#FF6692",
          "symbol": "circle"
         },
         "mode": "markers",
         "name": "77",
         "orientation": "v",
         "showlegend": true,
         "type": "scatter",
         "x": [
          -4.031700611114502
         ],
         "xaxis": "x",
         "y": [
          -0.6140854954719543
         ],
         "yaxis": "y"
        },
        {
         "hovertemplate": "<b>%{hovertext}</b><br><br>color=58<br>x1=%{x}<br>x2=%{y}<extra></extra>",
         "hovertext": [
          "mushroom"
         ],
         "legendgroup": "58",
         "marker": {
          "color": "#B6E880",
          "symbol": "circle"
         },
         "mode": "markers",
         "name": "58",
         "orientation": "v",
         "showlegend": true,
         "type": "scatter",
         "x": [
          -6.949381351470947
         ],
         "xaxis": "x",
         "y": [
          1.0583773851394653
         ],
         "yaxis": "y"
        },
        {
         "hovertemplate": "<b>%{hovertext}</b><br><br>color=110<br>x1=%{x}<br>x2=%{y}<extra></extra>",
         "hovertext": [
          "Granny Smith"
         ],
         "legendgroup": "110",
         "marker": {
          "color": "#FF97FF",
          "symbol": "circle"
         },
         "mode": "markers",
         "name": "110",
         "orientation": "v",
         "showlegend": true,
         "type": "scatter",
         "x": [
          -3.255756139755249
         ],
         "xaxis": "x",
         "y": [
          0.6114948987960815
         ],
         "yaxis": "y"
        },
        {
         "hovertemplate": "<b>%{hovertext}</b><br><br>color=137<br>x1=%{x}<br>x2=%{y}<extra></extra>",
         "hovertext": [
          "strawberry"
         ],
         "legendgroup": "137",
         "marker": {
          "color": "#FECB52",
          "symbol": "circle"
         },
         "mode": "markers",
         "name": "137",
         "orientation": "v",
         "showlegend": true,
         "type": "scatter",
         "x": [
          -3.4855873584747314
         ],
         "xaxis": "x",
         "y": [
          2.70139741897583
         ],
         "yaxis": "y"
        },
        {
         "hovertemplate": "<b>%{hovertext}</b><br><br>color=41<br>x1=%{x}<br>x2=%{y}<extra></extra>",
         "hovertext": [
          "orange"
         ],
         "legendgroup": "41",
         "marker": {
          "color": "#636efa",
          "symbol": "circle"
         },
         "mode": "markers",
         "name": "41",
         "orientation": "v",
         "showlegend": true,
         "type": "scatter",
         "x": [
          -7.382232189178467
         ],
         "xaxis": "x",
         "y": [
          0.4085129201412201
         ],
         "yaxis": "y"
        },
        {
         "hovertemplate": "<b>%{hovertext}</b><br><br>color=102<br>x1=%{x}<br>x2=%{y}<extra></extra>",
         "hovertext": [
          "lemon"
         ],
         "legendgroup": "102",
         "marker": {
          "color": "#EF553B",
          "symbol": "circle"
         },
         "mode": "markers",
         "name": "102",
         "orientation": "v",
         "showlegend": true,
         "type": "scatter",
         "x": [
          -6.821940898895264
         ],
         "xaxis": "x",
         "y": [
          0.4327993392944336
         ],
         "yaxis": "y"
        },
        {
         "hovertemplate": "<b>%{hovertext}</b><br><br>color=105<br>x1=%{x}<br>x2=%{y}<extra></extra>",
         "hovertext": [
          "fig"
         ],
         "legendgroup": "105",
         "marker": {
          "color": "#00cc96",
          "symbol": "circle"
         },
         "mode": "markers",
         "name": "105",
         "orientation": "v",
         "showlegend": true,
         "type": "scatter",
         "x": [
          -2.244276285171509
         ],
         "xaxis": "x",
         "y": [
          -0.6601995825767517
         ],
         "yaxis": "y"
        },
        {
         "hovertemplate": "<b>%{hovertext}</b><br><br>color=57<br>x1=%{x}<br>x2=%{y}<extra></extra>",
         "hovertext": [
          "pineapple"
         ],
         "legendgroup": "57",
         "marker": {
          "color": "#ab63fa",
          "symbol": "circle"
         },
         "mode": "markers",
         "name": "57",
         "orientation": "v",
         "showlegend": true,
         "type": "scatter",
         "x": [
          2.8363876342773438
         ],
         "xaxis": "x",
         "y": [
          0.12225892394781113
         ],
         "yaxis": "y"
        },
        {
         "hovertemplate": "<b>%{hovertext}</b><br><br>color=76<br>x1=%{x}<br>x2=%{y}<extra></extra>",
         "hovertext": [
          "banana"
         ],
         "legendgroup": "76",
         "marker": {
          "color": "#FFA15A",
          "symbol": "circle"
         },
         "mode": "markers",
         "name": "76",
         "orientation": "v",
         "showlegend": true,
         "type": "scatter",
         "x": [
          -7.087294101715088
         ],
         "xaxis": "x",
         "y": [
          2.38258695602417
         ],
         "yaxis": "y"
        },
        {
         "hovertemplate": "<b>%{hovertext}</b><br><br>color=96<br>x1=%{x}<br>x2=%{y}<extra></extra>",
         "hovertext": [
          "jackfruit"
         ],
         "legendgroup": "96",
         "marker": {
          "color": "#19d3f3",
          "symbol": "circle"
         },
         "mode": "markers",
         "name": "96",
         "orientation": "v",
         "showlegend": true,
         "type": "scatter",
         "x": [
          3.7709991931915283
         ],
         "xaxis": "x",
         "y": [
          -0.7516428232192993
         ],
         "yaxis": "y"
        },
        {
         "hovertemplate": "<b>%{hovertext}</b><br><br>color=51<br>x1=%{x}<br>x2=%{y}<extra></extra>",
         "hovertext": [
          "custard apple"
         ],
         "legendgroup": "51",
         "marker": {
          "color": "#FF6692",
          "symbol": "circle"
         },
         "mode": "markers",
         "name": "51",
         "orientation": "v",
         "showlegend": true,
         "type": "scatter",
         "x": [
          1.0910167694091797
         ],
         "xaxis": "x",
         "y": [
          1.4228276014328003
         ],
         "yaxis": "y"
        },
        {
         "hovertemplate": "<b>%{hovertext}</b><br><br>color=130<br>x1=%{x}<br>x2=%{y}<extra></extra>",
         "hovertext": [
          "pomegranate"
         ],
         "legendgroup": "130",
         "marker": {
          "color": "#B6E880",
          "symbol": "circle"
         },
         "mode": "markers",
         "name": "130",
         "orientation": "v",
         "showlegend": true,
         "type": "scatter",
         "x": [
          1.8874359130859375
         ],
         "xaxis": "x",
         "y": [
          3.7012670040130615
         ],
         "yaxis": "y"
        },
        {
         "hovertemplate": "<b>%{hovertext}</b><br><br>color=52<br>x1=%{x}<br>x2=%{y}<extra></extra>",
         "hovertext": [
          "hay"
         ],
         "legendgroup": "52",
         "marker": {
          "color": "#FF97FF",
          "symbol": "circle"
         },
         "mode": "markers",
         "name": "52",
         "orientation": "v",
         "showlegend": true,
         "type": "scatter",
         "x": [
          -7.433017730712891
         ],
         "xaxis": "x",
         "y": [
          0.004953496158123016
         ],
         "yaxis": "y"
        },
        {
         "hovertemplate": "<b>%{hovertext}</b><br><br>color=47<br>x1=%{x}<br>x2=%{y}<extra></extra>",
         "hovertext": [
          "carbonara"
         ],
         "legendgroup": "47",
         "marker": {
          "color": "#FECB52",
          "symbol": "circle"
         },
         "mode": "markers",
         "name": "47",
         "orientation": "v",
         "showlegend": true,
         "type": "scatter",
         "x": [
          -2.6719446182250977
         ],
         "xaxis": "x",
         "y": [
          2.864861249923706
         ],
         "yaxis": "y"
        },
        {
         "hovertemplate": "<b>%{hovertext}</b><br><br>color=63<br>x1=%{x}<br>x2=%{y}<extra></extra>",
         "hovertext": [
          "chocolate sauce"
         ],
         "legendgroup": "63",
         "marker": {
          "color": "#636efa",
          "symbol": "circle"
         },
         "mode": "markers",
         "name": "63",
         "orientation": "v",
         "showlegend": true,
         "type": "scatter",
         "x": [
          -0.6008395552635193
         ],
         "xaxis": "x",
         "y": [
          -0.4627005159854889
         ],
         "yaxis": "y"
        },
        {
         "hovertemplate": "<b>%{hovertext}</b><br><br>color=27<br>x1=%{x}<br>x2=%{y}<extra></extra>",
         "hovertext": [
          "dough"
         ],
         "legendgroup": "27",
         "marker": {
          "color": "#EF553B",
          "symbol": "circle"
         },
         "mode": "markers",
         "name": "27",
         "orientation": "v",
         "showlegend": true,
         "type": "scatter",
         "x": [
          -6.031728267669678
         ],
         "xaxis": "x",
         "y": [
          -0.7006086707115173
         ],
         "yaxis": "y"
        },
        {
         "hovertemplate": "<b>%{hovertext}</b><br><br>color=54<br>x1=%{x}<br>x2=%{y}<extra></extra>",
         "hovertext": [
          "meat loaf"
         ],
         "legendgroup": "54",
         "marker": {
          "color": "#00cc96",
          "symbol": "circle"
         },
         "mode": "markers",
         "name": "54",
         "orientation": "v",
         "showlegend": true,
         "type": "scatter",
         "x": [
          3.318918466567993
         ],
         "xaxis": "x",
         "y": [
          -0.9598100185394287
         ],
         "yaxis": "y"
        },
        {
         "hovertemplate": "<b>%{hovertext}</b><br><br>color=38<br>x1=%{x}<br>x2=%{y}<extra></extra>",
         "hovertext": [
          "pizza"
         ],
         "legendgroup": "38",
         "marker": {
          "color": "#ab63fa",
          "symbol": "circle"
         },
         "mode": "markers",
         "name": "38",
         "orientation": "v",
         "showlegend": true,
         "type": "scatter",
         "x": [
          -1.7057926654815674
         ],
         "xaxis": "x",
         "y": [
          -0.6904593110084534
         ],
         "yaxis": "y"
        },
        {
         "hovertemplate": "<b>%{hovertext}</b><br><br>color=37<br>x1=%{x}<br>x2=%{y}<extra></extra>",
         "hovertext": [
          "potpie"
         ],
         "legendgroup": "37",
         "marker": {
          "color": "#FFA15A",
          "symbol": "circle"
         },
         "mode": "markers",
         "name": "37",
         "orientation": "v",
         "showlegend": true,
         "type": "scatter",
         "x": [
          -4.8750319480896
         ],
         "xaxis": "x",
         "y": [
          -0.37310606241226196
         ],
         "yaxis": "y"
        },
        {
         "hovertemplate": "<b>%{hovertext}</b><br><br>color=17<br>x1=%{x}<br>x2=%{y}<extra></extra>",
         "hovertext": [
          "burrito"
         ],
         "legendgroup": "17",
         "marker": {
          "color": "#19d3f3",
          "symbol": "circle"
         },
         "mode": "markers",
         "name": "17",
         "orientation": "v",
         "showlegend": true,
         "type": "scatter",
         "x": [
          -0.17643123865127563
         ],
         "xaxis": "x",
         "y": [
          2.6979732513427734
         ],
         "yaxis": "y"
        },
        {
         "hovertemplate": "<b>%{hovertext}</b><br><br>color=46<br>x1=%{x}<br>x2=%{y}<extra></extra>",
         "hovertext": [
          "red wine"
         ],
         "legendgroup": "46",
         "marker": {
          "color": "#FF6692",
          "symbol": "circle"
         },
         "mode": "markers",
         "name": "46",
         "orientation": "v",
         "showlegend": true,
         "type": "scatter",
         "x": [
          -4.261662483215332
         ],
         "xaxis": "x",
         "y": [
          1.6784472465515137
         ],
         "yaxis": "y"
        },
        {
         "hovertemplate": "<b>%{hovertext}</b><br><br>color=42<br>x1=%{x}<br>x2=%{y}<extra></extra>",
         "hovertext": [
          "espresso"
         ],
         "legendgroup": "42",
         "marker": {
          "color": "#B6E880",
          "symbol": "circle"
         },
         "mode": "markers",
         "name": "42",
         "orientation": "v",
         "showlegend": true,
         "type": "scatter",
         "x": [
          -0.8403550982475281
         ],
         "xaxis": "x",
         "y": [
          0.7165464758872986
         ],
         "yaxis": "y"
        },
        {
         "hovertemplate": "<b>%{hovertext}</b><br><br>color=44<br>x1=%{x}<br>x2=%{y}<extra></extra>",
         "hovertext": [
          "cup"
         ],
         "legendgroup": "44",
         "marker": {
          "color": "#FF97FF",
          "symbol": "circle"
         },
         "mode": "markers",
         "name": "44",
         "orientation": "v",
         "showlegend": true,
         "type": "scatter",
         "x": [
          -6.873385906219482
         ],
         "xaxis": "x",
         "y": [
          0.21512803435325623
         ],
         "yaxis": "y"
        },
        {
         "hovertemplate": "<b>%{hovertext}</b><br><br>color=50<br>x1=%{x}<br>x2=%{y}<extra></extra>",
         "hovertext": [
          "eggnog"
         ],
         "legendgroup": "50",
         "marker": {
          "color": "#FECB52",
          "symbol": "circle"
         },
         "mode": "markers",
         "name": "50",
         "orientation": "v",
         "showlegend": true,
         "type": "scatter",
         "x": [
          -0.015020385384559631
         ],
         "xaxis": "x",
         "y": [
          0.9689821600914001
         ],
         "yaxis": "y"
        },
        {
         "hovertemplate": "<b>%{hovertext}</b><br><br>color=64<br>x1=%{x}<br>x2=%{y}<extra></extra>",
         "hovertext": [
          "alp"
         ],
         "legendgroup": "64",
         "marker": {
          "color": "#636efa",
          "symbol": "circle"
         },
         "mode": "markers",
         "name": "64",
         "orientation": "v",
         "showlegend": true,
         "type": "scatter",
         "x": [
          -3.2710039615631104
         ],
         "xaxis": "x",
         "y": [
          0.6240825057029724
         ],
         "yaxis": "y"
        },
        {
         "hovertemplate": "<b>%{hovertext}</b><br><br>color=23<br>x1=%{x}<br>x2=%{y}<extra></extra>",
         "hovertext": [
          "bubble"
         ],
         "legendgroup": "23",
         "marker": {
          "color": "#EF553B",
          "symbol": "circle"
         },
         "mode": "markers",
         "name": "23",
         "orientation": "v",
         "showlegend": true,
         "type": "scatter",
         "x": [
          -7.161451816558838
         ],
         "xaxis": "x",
         "y": [
          0.06868144124746323
         ],
         "yaxis": "y"
        },
        {
         "hovertemplate": "<b>%{hovertext}</b><br><br>color=68<br>x1=%{x}<br>x2=%{y}<extra></extra>",
         "hovertext": [
          "cliff"
         ],
         "legendgroup": "68",
         "marker": {
          "color": "#00cc96",
          "symbol": "circle"
         },
         "mode": "markers",
         "name": "68",
         "orientation": "v",
         "showlegend": true,
         "type": "scatter",
         "x": [
          0.44260674715042114
         ],
         "xaxis": "x",
         "y": [
          -0.7623195648193359
         ],
         "yaxis": "y"
        },
        {
         "hovertemplate": "<b>%{hovertext}</b><br><br>color=24<br>x1=%{x}<br>x2=%{y}<extra></extra>",
         "hovertext": [
          "coral reef"
         ],
         "legendgroup": "24",
         "marker": {
          "color": "#ab63fa",
          "symbol": "circle"
         },
         "mode": "markers",
         "name": "24",
         "orientation": "v",
         "showlegend": true,
         "type": "scatter",
         "x": [
          -2.748478412628174
         ],
         "xaxis": "x",
         "y": [
          1.5450433492660522
         ],
         "yaxis": "y"
        },
        {
         "hovertemplate": "<b>%{hovertext}</b><br><br>color=22<br>x1=%{x}<br>x2=%{y}<extra></extra>",
         "hovertext": [
          "geyser"
         ],
         "legendgroup": "22",
         "marker": {
          "color": "#FFA15A",
          "symbol": "circle"
         },
         "mode": "markers",
         "name": "22",
         "orientation": "v",
         "showlegend": true,
         "type": "scatter",
         "x": [
          -0.04832185059785843
         ],
         "xaxis": "x",
         "y": [
          2.500426769256592
         ],
         "yaxis": "y"
        },
        {
         "hovertemplate": "<b>%{hovertext}</b><br><br>color=25<br>x1=%{x}<br>x2=%{y}<extra></extra>",
         "hovertext": [
          "lakeside"
         ],
         "legendgroup": "25",
         "marker": {
          "color": "#19d3f3",
          "symbol": "circle"
         },
         "mode": "markers",
         "name": "25",
         "orientation": "v",
         "showlegend": true,
         "type": "scatter",
         "x": [
          -0.5786643028259277
         ],
         "xaxis": "x",
         "y": [
          -1.51222825050354
         ],
         "yaxis": "y"
        },
        {
         "hovertemplate": "<b>%{hovertext}</b><br><br>color=31<br>x1=%{x}<br>x2=%{y}<extra></extra>",
         "hovertext": [
          "promontory"
         ],
         "legendgroup": "31",
         "marker": {
          "color": "#FF6692",
          "symbol": "circle"
         },
         "mode": "markers",
         "name": "31",
         "orientation": "v",
         "showlegend": true,
         "type": "scatter",
         "x": [
          5.3952436447143555
         ],
         "xaxis": "x",
         "y": [
          -0.6195539236068726
         ],
         "yaxis": "y"
        },
        {
         "hovertemplate": "<b>%{hovertext}</b><br><br>color=28<br>x1=%{x}<br>x2=%{y}<extra></extra>",
         "hovertext": [
          "sandbar"
         ],
         "legendgroup": "28",
         "marker": {
          "color": "#B6E880",
          "symbol": "circle"
         },
         "mode": "markers",
         "name": "28",
         "orientation": "v",
         "showlegend": true,
         "type": "scatter",
         "x": [
          -0.603710949420929
         ],
         "xaxis": "x",
         "y": [
          -0.1895597279071808
         ],
         "yaxis": "y"
        },
        {
         "hovertemplate": "<b>%{hovertext}</b><br><br>color=33<br>x1=%{x}<br>x2=%{y}<extra></extra>",
         "hovertext": [
          "seashore"
         ],
         "legendgroup": "33",
         "marker": {
          "color": "#FF97FF",
          "symbol": "circle"
         },
         "mode": "markers",
         "name": "33",
         "orientation": "v",
         "showlegend": true,
         "type": "scatter",
         "x": [
          3.6375961303710938
         ],
         "xaxis": "x",
         "y": [
          -1.185044527053833
         ],
         "yaxis": "y"
        },
        {
         "hovertemplate": "<b>%{hovertext}</b><br><br>color=26<br>x1=%{x}<br>x2=%{y}<extra></extra>",
         "hovertext": [
          "valley"
         ],
         "legendgroup": "26",
         "marker": {
          "color": "#FECB52",
          "symbol": "circle"
         },
         "mode": "markers",
         "name": "26",
         "orientation": "v",
         "showlegend": true,
         "type": "scatter",
         "x": [
          -1.259472370147705
         ],
         "xaxis": "x",
         "y": [
          1.503235101699829
         ],
         "yaxis": "y"
        },
        {
         "hovertemplate": "<b>%{hovertext}</b><br><br>color=20<br>x1=%{x}<br>x2=%{y}<extra></extra>",
         "hovertext": [
          "volcano"
         ],
         "legendgroup": "20",
         "marker": {
          "color": "#636efa",
          "symbol": "circle"
         },
         "mode": "markers",
         "name": "20",
         "orientation": "v",
         "showlegend": true,
         "type": "scatter",
         "x": [
          -6.642632007598877
         ],
         "xaxis": "x",
         "y": [
          1.057844638824463
         ],
         "yaxis": "y"
        },
        {
         "hovertemplate": "<b>%{hovertext}</b><br><br>color=21<br>x1=%{x}<br>x2=%{y}<extra></extra>",
         "hovertext": [
          "ballplayer"
         ],
         "legendgroup": "21",
         "marker": {
          "color": "#EF553B",
          "symbol": "circle"
         },
         "mode": "markers",
         "name": "21",
         "orientation": "v",
         "showlegend": true,
         "type": "scatter",
         "x": [
          2.232264995574951
         ],
         "xaxis": "x",
         "y": [
          -2.4189445972442627
         ],
         "yaxis": "y"
        },
        {
         "hovertemplate": "<b>%{hovertext}</b><br><br>color=18<br>x1=%{x}<br>x2=%{y}<extra></extra>",
         "hovertext": [
          "groom"
         ],
         "legendgroup": "18",
         "marker": {
          "color": "#00cc96",
          "symbol": "circle"
         },
         "mode": "markers",
         "name": "18",
         "orientation": "v",
         "showlegend": true,
         "type": "scatter",
         "x": [
          2.7458672523498535
         ],
         "xaxis": "x",
         "y": [
          -0.8321429491043091
         ],
         "yaxis": "y"
        },
        {
         "hovertemplate": "<b>%{hovertext}</b><br><br>color=16<br>x1=%{x}<br>x2=%{y}<extra></extra>",
         "hovertext": [
          "scuba diver"
         ],
         "legendgroup": "16",
         "marker": {
          "color": "#ab63fa",
          "symbol": "circle"
         },
         "mode": "markers",
         "name": "16",
         "orientation": "v",
         "showlegend": true,
         "type": "scatter",
         "x": [
          1.3398725986480713
         ],
         "xaxis": "x",
         "y": [
          2.597569227218628
         ],
         "yaxis": "y"
        },
        {
         "hovertemplate": "<b>%{hovertext}</b><br><br>color=15<br>x1=%{x}<br>x2=%{y}<extra></extra>",
         "hovertext": [
          "rapeseed"
         ],
         "legendgroup": "15",
         "marker": {
          "color": "#FFA15A",
          "symbol": "circle"
         },
         "mode": "markers",
         "name": "15",
         "orientation": "v",
         "showlegend": true,
         "type": "scatter",
         "x": [
          -0.6114409565925598
         ],
         "xaxis": "x",
         "y": [
          2.6363425254821777
         ],
         "yaxis": "y"
        },
        {
         "hovertemplate": "<b>%{hovertext}</b><br><br>color=12<br>x1=%{x}<br>x2=%{y}<extra></extra>",
         "hovertext": [
          "daisy"
         ],
         "legendgroup": "12",
         "marker": {
          "color": "#19d3f3",
          "symbol": "circle"
         },
         "mode": "markers",
         "name": "12",
         "orientation": "v",
         "showlegend": true,
         "type": "scatter",
         "x": [
          0.105940081179142
         ],
         "xaxis": "x",
         "y": [
          2.462308168411255
         ],
         "yaxis": "y"
        },
        {
         "hovertemplate": "<b>%{hovertext}</b><br><br>color=19<br>x1=%{x}<br>x2=%{y}<extra></extra>",
         "hovertext": [
          "yellow lady's slipper"
         ],
         "legendgroup": "19",
         "marker": {
          "color": "#FF6692",
          "symbol": "circle"
         },
         "mode": "markers",
         "name": "19",
         "orientation": "v",
         "showlegend": true,
         "type": "scatter",
         "x": [
          12.745677947998047
         ],
         "xaxis": "x",
         "y": [
          -0.8690320253372192
         ],
         "yaxis": "y"
        },
        {
         "hovertemplate": "<b>%{hovertext}</b><br><br>color=11<br>x1=%{x}<br>x2=%{y}<extra></extra>",
         "hovertext": [
          "corn"
         ],
         "legendgroup": "11",
         "marker": {
          "color": "#B6E880",
          "symbol": "circle"
         },
         "mode": "markers",
         "name": "11",
         "orientation": "v",
         "showlegend": true,
         "type": "scatter",
         "x": [
          -6.762938976287842
         ],
         "xaxis": "x",
         "y": [
          0.670381486415863
         ],
         "yaxis": "y"
        },
        {
         "hovertemplate": "<b>%{hovertext}</b><br><br>color=9<br>x1=%{x}<br>x2=%{y}<extra></extra>",
         "hovertext": [
          "acorn"
         ],
         "legendgroup": "9",
         "marker": {
          "color": "#FF97FF",
          "symbol": "circle"
         },
         "mode": "markers",
         "name": "9",
         "orientation": "v",
         "showlegend": true,
         "type": "scatter",
         "x": [
          -5.175473690032959
         ],
         "xaxis": "x",
         "y": [
          -0.27198153734207153
         ],
         "yaxis": "y"
        },
        {
         "hovertemplate": "<b>%{hovertext}</b><br><br>color=13<br>x1=%{x}<br>x2=%{y}<extra></extra>",
         "hovertext": [
          "hip"
         ],
         "legendgroup": "13",
         "marker": {
          "color": "#FECB52",
          "symbol": "circle"
         },
         "mode": "markers",
         "name": "13",
         "orientation": "v",
         "showlegend": true,
         "type": "scatter",
         "x": [
          0.4252977669239044
         ],
         "xaxis": "x",
         "y": [
          -0.5872735977172852
         ],
         "yaxis": "y"
        },
        {
         "hovertemplate": "<b>%{hovertext}</b><br><br>color=7<br>x1=%{x}<br>x2=%{y}<extra></extra>",
         "hovertext": [
          "buckeye"
         ],
         "legendgroup": "7",
         "marker": {
          "color": "#636efa",
          "symbol": "circle"
         },
         "mode": "markers",
         "name": "7",
         "orientation": "v",
         "showlegend": true,
         "type": "scatter",
         "x": [
          2.747300148010254
         ],
         "xaxis": "x",
         "y": [
          -0.0005915649235248566
         ],
         "yaxis": "y"
        },
        {
         "hovertemplate": "<b>%{hovertext}</b><br><br>color=10<br>x1=%{x}<br>x2=%{y}<extra></extra>",
         "hovertext": [
          "coral fungus"
         ],
         "legendgroup": "10",
         "marker": {
          "color": "#EF553B",
          "symbol": "circle"
         },
         "mode": "markers",
         "name": "10",
         "orientation": "v",
         "showlegend": true,
         "type": "scatter",
         "x": [
          -4.799745082855225
         ],
         "xaxis": "x",
         "y": [
          2.1633949279785156
         ],
         "yaxis": "y"
        },
        {
         "hovertemplate": "<b>%{hovertext}</b><br><br>color=5<br>x1=%{x}<br>x2=%{y}<extra></extra>",
         "hovertext": [
          "agaric"
         ],
         "legendgroup": "5",
         "marker": {
          "color": "#00cc96",
          "symbol": "circle"
         },
         "mode": "markers",
         "name": "5",
         "orientation": "v",
         "showlegend": true,
         "type": "scatter",
         "x": [
          -1.1764624118804932
         ],
         "xaxis": "x",
         "y": [
          2.078812837600708
         ],
         "yaxis": "y"
        },
        {
         "hovertemplate": "<b>%{hovertext}</b><br><br>color=6<br>x1=%{x}<br>x2=%{y}<extra></extra>",
         "hovertext": [
          "gyromitra"
         ],
         "legendgroup": "6",
         "marker": {
          "color": "#ab63fa",
          "symbol": "circle"
         },
         "mode": "markers",
         "name": "6",
         "orientation": "v",
         "showlegend": true,
         "type": "scatter",
         "x": [
          0.34494805335998535
         ],
         "xaxis": "x",
         "y": [
          1.8843317031860352
         ],
         "yaxis": "y"
        },
        {
         "hovertemplate": "<b>%{hovertext}</b><br><br>color=8<br>x1=%{x}<br>x2=%{y}<extra></extra>",
         "hovertext": [
          "stinkhorn"
         ],
         "legendgroup": "8",
         "marker": {
          "color": "#FFA15A",
          "symbol": "circle"
         },
         "mode": "markers",
         "name": "8",
         "orientation": "v",
         "showlegend": true,
         "type": "scatter",
         "x": [
          3.955043315887451
         ],
         "xaxis": "x",
         "y": [
          0.450479120016098
         ],
         "yaxis": "y"
        },
        {
         "hovertemplate": "<b>%{hovertext}</b><br><br>color=3<br>x1=%{x}<br>x2=%{y}<extra></extra>",
         "hovertext": [
          "earthstar"
         ],
         "legendgroup": "3",
         "marker": {
          "color": "#19d3f3",
          "symbol": "circle"
         },
         "mode": "markers",
         "name": "3",
         "orientation": "v",
         "showlegend": true,
         "type": "scatter",
         "x": [
          -4.468829154968262
         ],
         "xaxis": "x",
         "y": [
          0.0030452206265181303
         ],
         "yaxis": "y"
        },
        {
         "hovertemplate": "<b>%{hovertext}</b><br><br>color=2<br>x1=%{x}<br>x2=%{y}<extra></extra>",
         "hovertext": [
          "hen-of-the-woods"
         ],
         "legendgroup": "2",
         "marker": {
          "color": "#FF6692",
          "symbol": "circle"
         },
         "mode": "markers",
         "name": "2",
         "orientation": "v",
         "showlegend": true,
         "type": "scatter",
         "x": [
          10.894830703735352
         ],
         "xaxis": "x",
         "y": [
          -1.092664122581482
         ],
         "yaxis": "y"
        },
        {
         "hovertemplate": "<b>%{hovertext}</b><br><br>color=4<br>x1=%{x}<br>x2=%{y}<extra></extra>",
         "hovertext": [
          "bolete"
         ],
         "legendgroup": "4",
         "marker": {
          "color": "#B6E880",
          "symbol": "circle"
         },
         "mode": "markers",
         "name": "4",
         "orientation": "v",
         "showlegend": true,
         "type": "scatter",
         "x": [
          -0.05490667745471001
         ],
         "xaxis": "x",
         "y": [
          3.45815110206604
         ],
         "yaxis": "y"
        },
        {
         "hovertemplate": "<b>%{hovertext}</b><br><br>color=1<br>x1=%{x}<br>x2=%{y}<extra></extra>",
         "hovertext": [
          "ear"
         ],
         "legendgroup": "1",
         "marker": {
          "color": "#FF97FF",
          "symbol": "circle"
         },
         "mode": "markers",
         "name": "1",
         "orientation": "v",
         "showlegend": true,
         "type": "scatter",
         "x": [
          3.285153865814209
         ],
         "xaxis": "x",
         "y": [
          0.7272176742553711
         ],
         "yaxis": "y"
        },
        {
         "hovertemplate": "<b>%{hovertext}</b><br><br>color=0<br>x1=%{x}<br>x2=%{y}<extra></extra>",
         "hovertext": [
          "toilet tissue"
         ],
         "legendgroup": "0",
         "marker": {
          "color": "#FECB52",
          "symbol": "circle"
         },
         "mode": "markers",
         "name": "0",
         "orientation": "v",
         "showlegend": true,
         "type": "scatter",
         "x": [
          0.9670833349227905
         ],
         "xaxis": "x",
         "y": [
          -2.9956116676330566
         ],
         "yaxis": "y"
        }
       ],
       "layout": {
        "height": 600,
        "legend": {
         "title": {
          "text": "color"
         },
         "tracegroupgap": 0
        },
        "margin": {
         "t": 60
        },
        "template": {
         "data": {
          "bar": [
           {
            "error_x": {
             "color": "#2a3f5f"
            },
            "error_y": {
             "color": "#2a3f5f"
            },
            "marker": {
             "line": {
              "color": "#E5ECF6",
              "width": 0.5
             },
             "pattern": {
              "fillmode": "overlay",
              "size": 10,
              "solidity": 0.2
             }
            },
            "type": "bar"
           }
          ],
          "barpolar": [
           {
            "marker": {
             "line": {
              "color": "#E5ECF6",
              "width": 0.5
             },
             "pattern": {
              "fillmode": "overlay",
              "size": 10,
              "solidity": 0.2
             }
            },
            "type": "barpolar"
           }
          ],
          "carpet": [
           {
            "aaxis": {
             "endlinecolor": "#2a3f5f",
             "gridcolor": "white",
             "linecolor": "white",
             "minorgridcolor": "white",
             "startlinecolor": "#2a3f5f"
            },
            "baxis": {
             "endlinecolor": "#2a3f5f",
             "gridcolor": "white",
             "linecolor": "white",
             "minorgridcolor": "white",
             "startlinecolor": "#2a3f5f"
            },
            "type": "carpet"
           }
          ],
          "choropleth": [
           {
            "colorbar": {
             "outlinewidth": 0,
             "ticks": ""
            },
            "type": "choropleth"
           }
          ],
          "contour": [
           {
            "colorbar": {
             "outlinewidth": 0,
             "ticks": ""
            },
            "colorscale": [
             [
              0,
              "#0d0887"
             ],
             [
              0.1111111111111111,
              "#46039f"
             ],
             [
              0.2222222222222222,
              "#7201a8"
             ],
             [
              0.3333333333333333,
              "#9c179e"
             ],
             [
              0.4444444444444444,
              "#bd3786"
             ],
             [
              0.5555555555555556,
              "#d8576b"
             ],
             [
              0.6666666666666666,
              "#ed7953"
             ],
             [
              0.7777777777777778,
              "#fb9f3a"
             ],
             [
              0.8888888888888888,
              "#fdca26"
             ],
             [
              1,
              "#f0f921"
             ]
            ],
            "type": "contour"
           }
          ],
          "contourcarpet": [
           {
            "colorbar": {
             "outlinewidth": 0,
             "ticks": ""
            },
            "type": "contourcarpet"
           }
          ],
          "heatmap": [
           {
            "colorbar": {
             "outlinewidth": 0,
             "ticks": ""
            },
            "colorscale": [
             [
              0,
              "#0d0887"
             ],
             [
              0.1111111111111111,
              "#46039f"
             ],
             [
              0.2222222222222222,
              "#7201a8"
             ],
             [
              0.3333333333333333,
              "#9c179e"
             ],
             [
              0.4444444444444444,
              "#bd3786"
             ],
             [
              0.5555555555555556,
              "#d8576b"
             ],
             [
              0.6666666666666666,
              "#ed7953"
             ],
             [
              0.7777777777777778,
              "#fb9f3a"
             ],
             [
              0.8888888888888888,
              "#fdca26"
             ],
             [
              1,
              "#f0f921"
             ]
            ],
            "type": "heatmap"
           }
          ],
          "heatmapgl": [
           {
            "colorbar": {
             "outlinewidth": 0,
             "ticks": ""
            },
            "colorscale": [
             [
              0,
              "#0d0887"
             ],
             [
              0.1111111111111111,
              "#46039f"
             ],
             [
              0.2222222222222222,
              "#7201a8"
             ],
             [
              0.3333333333333333,
              "#9c179e"
             ],
             [
              0.4444444444444444,
              "#bd3786"
             ],
             [
              0.5555555555555556,
              "#d8576b"
             ],
             [
              0.6666666666666666,
              "#ed7953"
             ],
             [
              0.7777777777777778,
              "#fb9f3a"
             ],
             [
              0.8888888888888888,
              "#fdca26"
             ],
             [
              1,
              "#f0f921"
             ]
            ],
            "type": "heatmapgl"
           }
          ],
          "histogram": [
           {
            "marker": {
             "pattern": {
              "fillmode": "overlay",
              "size": 10,
              "solidity": 0.2
             }
            },
            "type": "histogram"
           }
          ],
          "histogram2d": [
           {
            "colorbar": {
             "outlinewidth": 0,
             "ticks": ""
            },
            "colorscale": [
             [
              0,
              "#0d0887"
             ],
             [
              0.1111111111111111,
              "#46039f"
             ],
             [
              0.2222222222222222,
              "#7201a8"
             ],
             [
              0.3333333333333333,
              "#9c179e"
             ],
             [
              0.4444444444444444,
              "#bd3786"
             ],
             [
              0.5555555555555556,
              "#d8576b"
             ],
             [
              0.6666666666666666,
              "#ed7953"
             ],
             [
              0.7777777777777778,
              "#fb9f3a"
             ],
             [
              0.8888888888888888,
              "#fdca26"
             ],
             [
              1,
              "#f0f921"
             ]
            ],
            "type": "histogram2d"
           }
          ],
          "histogram2dcontour": [
           {
            "colorbar": {
             "outlinewidth": 0,
             "ticks": ""
            },
            "colorscale": [
             [
              0,
              "#0d0887"
             ],
             [
              0.1111111111111111,
              "#46039f"
             ],
             [
              0.2222222222222222,
              "#7201a8"
             ],
             [
              0.3333333333333333,
              "#9c179e"
             ],
             [
              0.4444444444444444,
              "#bd3786"
             ],
             [
              0.5555555555555556,
              "#d8576b"
             ],
             [
              0.6666666666666666,
              "#ed7953"
             ],
             [
              0.7777777777777778,
              "#fb9f3a"
             ],
             [
              0.8888888888888888,
              "#fdca26"
             ],
             [
              1,
              "#f0f921"
             ]
            ],
            "type": "histogram2dcontour"
           }
          ],
          "mesh3d": [
           {
            "colorbar": {
             "outlinewidth": 0,
             "ticks": ""
            },
            "type": "mesh3d"
           }
          ],
          "parcoords": [
           {
            "line": {
             "colorbar": {
              "outlinewidth": 0,
              "ticks": ""
             }
            },
            "type": "parcoords"
           }
          ],
          "pie": [
           {
            "automargin": true,
            "type": "pie"
           }
          ],
          "scatter": [
           {
            "fillpattern": {
             "fillmode": "overlay",
             "size": 10,
             "solidity": 0.2
            },
            "type": "scatter"
           }
          ],
          "scatter3d": [
           {
            "line": {
             "colorbar": {
              "outlinewidth": 0,
              "ticks": ""
             }
            },
            "marker": {
             "colorbar": {
              "outlinewidth": 0,
              "ticks": ""
             }
            },
            "type": "scatter3d"
           }
          ],
          "scattercarpet": [
           {
            "marker": {
             "colorbar": {
              "outlinewidth": 0,
              "ticks": ""
             }
            },
            "type": "scattercarpet"
           }
          ],
          "scattergeo": [
           {
            "marker": {
             "colorbar": {
              "outlinewidth": 0,
              "ticks": ""
             }
            },
            "type": "scattergeo"
           }
          ],
          "scattergl": [
           {
            "marker": {
             "colorbar": {
              "outlinewidth": 0,
              "ticks": ""
             }
            },
            "type": "scattergl"
           }
          ],
          "scattermapbox": [
           {
            "marker": {
             "colorbar": {
              "outlinewidth": 0,
              "ticks": ""
             }
            },
            "type": "scattermapbox"
           }
          ],
          "scatterpolar": [
           {
            "marker": {
             "colorbar": {
              "outlinewidth": 0,
              "ticks": ""
             }
            },
            "type": "scatterpolar"
           }
          ],
          "scatterpolargl": [
           {
            "marker": {
             "colorbar": {
              "outlinewidth": 0,
              "ticks": ""
             }
            },
            "type": "scatterpolargl"
           }
          ],
          "scatterternary": [
           {
            "marker": {
             "colorbar": {
              "outlinewidth": 0,
              "ticks": ""
             }
            },
            "type": "scatterternary"
           }
          ],
          "surface": [
           {
            "colorbar": {
             "outlinewidth": 0,
             "ticks": ""
            },
            "colorscale": [
             [
              0,
              "#0d0887"
             ],
             [
              0.1111111111111111,
              "#46039f"
             ],
             [
              0.2222222222222222,
              "#7201a8"
             ],
             [
              0.3333333333333333,
              "#9c179e"
             ],
             [
              0.4444444444444444,
              "#bd3786"
             ],
             [
              0.5555555555555556,
              "#d8576b"
             ],
             [
              0.6666666666666666,
              "#ed7953"
             ],
             [
              0.7777777777777778,
              "#fb9f3a"
             ],
             [
              0.8888888888888888,
              "#fdca26"
             ],
             [
              1,
              "#f0f921"
             ]
            ],
            "type": "surface"
           }
          ],
          "table": [
           {
            "cells": {
             "fill": {
              "color": "#EBF0F8"
             },
             "line": {
              "color": "white"
             }
            },
            "header": {
             "fill": {
              "color": "#C8D4E3"
             },
             "line": {
              "color": "white"
             }
            },
            "type": "table"
           }
          ]
         },
         "layout": {
          "annotationdefaults": {
           "arrowcolor": "#2a3f5f",
           "arrowhead": 0,
           "arrowwidth": 1
          },
          "autotypenumbers": "strict",
          "coloraxis": {
           "colorbar": {
            "outlinewidth": 0,
            "ticks": ""
           }
          },
          "colorscale": {
           "diverging": [
            [
             0,
             "#8e0152"
            ],
            [
             0.1,
             "#c51b7d"
            ],
            [
             0.2,
             "#de77ae"
            ],
            [
             0.3,
             "#f1b6da"
            ],
            [
             0.4,
             "#fde0ef"
            ],
            [
             0.5,
             "#f7f7f7"
            ],
            [
             0.6,
             "#e6f5d0"
            ],
            [
             0.7,
             "#b8e186"
            ],
            [
             0.8,
             "#7fbc41"
            ],
            [
             0.9,
             "#4d9221"
            ],
            [
             1,
             "#276419"
            ]
           ],
           "sequential": [
            [
             0,
             "#0d0887"
            ],
            [
             0.1111111111111111,
             "#46039f"
            ],
            [
             0.2222222222222222,
             "#7201a8"
            ],
            [
             0.3333333333333333,
             "#9c179e"
            ],
            [
             0.4444444444444444,
             "#bd3786"
            ],
            [
             0.5555555555555556,
             "#d8576b"
            ],
            [
             0.6666666666666666,
             "#ed7953"
            ],
            [
             0.7777777777777778,
             "#fb9f3a"
            ],
            [
             0.8888888888888888,
             "#fdca26"
            ],
            [
             1,
             "#f0f921"
            ]
           ],
           "sequentialminus": [
            [
             0,
             "#0d0887"
            ],
            [
             0.1111111111111111,
             "#46039f"
            ],
            [
             0.2222222222222222,
             "#7201a8"
            ],
            [
             0.3333333333333333,
             "#9c179e"
            ],
            [
             0.4444444444444444,
             "#bd3786"
            ],
            [
             0.5555555555555556,
             "#d8576b"
            ],
            [
             0.6666666666666666,
             "#ed7953"
            ],
            [
             0.7777777777777778,
             "#fb9f3a"
            ],
            [
             0.8888888888888888,
             "#fdca26"
            ],
            [
             1,
             "#f0f921"
            ]
           ]
          },
          "colorway": [
           "#636efa",
           "#EF553B",
           "#00cc96",
           "#ab63fa",
           "#FFA15A",
           "#19d3f3",
           "#FF6692",
           "#B6E880",
           "#FF97FF",
           "#FECB52"
          ],
          "font": {
           "color": "#2a3f5f"
          },
          "geo": {
           "bgcolor": "white",
           "lakecolor": "white",
           "landcolor": "#E5ECF6",
           "showlakes": true,
           "showland": true,
           "subunitcolor": "white"
          },
          "hoverlabel": {
           "align": "left"
          },
          "hovermode": "closest",
          "mapbox": {
           "style": "light"
          },
          "paper_bgcolor": "white",
          "plot_bgcolor": "#E5ECF6",
          "polar": {
           "angularaxis": {
            "gridcolor": "white",
            "linecolor": "white",
            "ticks": ""
           },
           "bgcolor": "#E5ECF6",
           "radialaxis": {
            "gridcolor": "white",
            "linecolor": "white",
            "ticks": ""
           }
          },
          "scene": {
           "xaxis": {
            "backgroundcolor": "#E5ECF6",
            "gridcolor": "white",
            "gridwidth": 2,
            "linecolor": "white",
            "showbackground": true,
            "ticks": "",
            "zerolinecolor": "white"
           },
           "yaxis": {
            "backgroundcolor": "#E5ECF6",
            "gridcolor": "white",
            "gridwidth": 2,
            "linecolor": "white",
            "showbackground": true,
            "ticks": "",
            "zerolinecolor": "white"
           },
           "zaxis": {
            "backgroundcolor": "#E5ECF6",
            "gridcolor": "white",
            "gridwidth": 2,
            "linecolor": "white",
            "showbackground": true,
            "ticks": "",
            "zerolinecolor": "white"
           }
          },
          "shapedefaults": {
           "line": {
            "color": "#2a3f5f"
           }
          },
          "ternary": {
           "aaxis": {
            "gridcolor": "white",
            "linecolor": "white",
            "ticks": ""
           },
           "baxis": {
            "gridcolor": "white",
            "linecolor": "white",
            "ticks": ""
           },
           "bgcolor": "#E5ECF6",
           "caxis": {
            "gridcolor": "white",
            "linecolor": "white",
            "ticks": ""
           }
          },
          "title": {
           "x": 0.05
          },
          "xaxis": {
           "automargin": true,
           "gridcolor": "white",
           "linecolor": "white",
           "ticks": "",
           "title": {
            "standoff": 15
           },
           "zerolinecolor": "white",
           "zerolinewidth": 2
          },
          "yaxis": {
           "automargin": true,
           "gridcolor": "white",
           "linecolor": "white",
           "ticks": "",
           "title": {
            "standoff": 15
           },
           "zerolinecolor": "white",
           "zerolinewidth": 2
          }
         }
        },
        "width": 800,
        "xaxis": {
         "anchor": "y",
         "domain": [
          0,
          1
         ],
         "title": {
          "text": "x1"
         }
        },
        "yaxis": {
         "anchor": "x",
         "domain": [
          0,
          1
         ],
         "title": {
          "text": "x2"
         }
        }
       }
      }
     },
     "metadata": {},
     "output_type": "display_data"
    }
   ],
   "source": [
    "import plotly.express as px\n",
    "\n",
    "fig = px.scatter( emb_2d, x='x1', y='x2', color='color',\n",
    "                  hover_name=\"short_name\", width=800, height=600)\n",
    "\n",
    "fig.show()"
   ]
  },
  {
   "cell_type": "code",
   "execution_count": null,
   "metadata": {},
   "outputs": [],
   "source": []
  }
 ],
 "metadata": {
  "kernelspec": {
   "display_name": "venv_cource_de_ad_and_m_2023",
   "language": "python",
   "name": "python3"
  },
  "language_info": {
   "codemirror_mode": {
    "name": "ipython",
    "version": 3
   },
   "file_extension": ".py",
   "mimetype": "text/x-python",
   "name": "python",
   "nbconvert_exporter": "python",
   "pygments_lexer": "ipython3",
   "version": "3.10.6"
  }
 },
 "nbformat": 4,
 "nbformat_minor": 2
}
